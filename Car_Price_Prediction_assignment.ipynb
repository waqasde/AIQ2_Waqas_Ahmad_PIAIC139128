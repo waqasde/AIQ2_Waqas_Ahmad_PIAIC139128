{
  "nbformat": 4,
  "nbformat_minor": 0,
  "metadata": {
    "kernelspec": {
      "display_name": "Python 3",
      "language": "python",
      "name": "python3"
    },
    "language_info": {
      "codemirror_mode": {
        "name": "ipython",
        "version": 3
      },
      "file_extension": ".py",
      "mimetype": "text/x-python",
      "name": "python",
      "nbconvert_exporter": "python",
      "pygments_lexer": "ipython3",
      "version": "3.7.3"
    },
    "colab": {
      "name": "Car Price Prediction assignment.ipynb",
      "provenance": [],
      "collapsed_sections": []
    }
  },
  "cells": [
    {
      "cell_type": "markdown",
      "metadata": {
        "id": "b59Zhcgr4xDW"
      },
      "source": [
        "# Car Price Prediction::"
      ]
    },
    {
      "cell_type": "markdown",
      "metadata": {
        "id": "t5cYoduO4xDe"
      },
      "source": [
        "Download dataset from this link:\n",
        "\n",
        "https://www.kaggle.com/hellbuoy/car-price-prediction"
      ]
    },
    {
      "cell_type": "markdown",
      "metadata": {
        "id": "P1uGOJE24xDe"
      },
      "source": [
        "# Problem Statement::"
      ]
    },
    {
      "cell_type": "markdown",
      "metadata": {
        "id": "EZ1L4ucg4xDf"
      },
      "source": [
        "A Chinese automobile company Geely Auto aspires to enter the US market by setting up their manufacturing unit there and producing cars locally to give competition to their US and European counterparts.\n",
        "\n",
        "They have contracted an automobile consulting company to understand the factors on which the pricing of cars depends. Specifically, they want to understand the factors affecting the pricing of cars in the American market, since those may be very different from the Chinese market. The company wants to know:\n",
        "\n",
        "Which variables are significant in predicting the price of a car\n",
        "How well those variables describe the price of a car\n",
        "Based on various market surveys, the consulting firm has gathered a large data set of different types of cars across the America market.\n",
        "\n",
        "# task::\n",
        "We are required to model the price of cars with the available independent variables. It will be used by the management to understand how exactly the prices vary with the independent variables. They can accordingly manipulate the design of the cars, the business strategy etc. to meet certain price levels. Further, the model will be a good way for management to understand the pricing dynamics of a new market."
      ]
    },
    {
      "cell_type": "markdown",
      "metadata": {
        "id": "VX2tTcyO4xDf"
      },
      "source": [
        "# WORKFLOW ::"
      ]
    },
    {
      "cell_type": "markdown",
      "metadata": {
        "id": "m7NlBwar4xDg"
      },
      "source": [
        "1.Load Data\n",
        "\n",
        "2.Check Missing Values ( If Exist ; Fill each record with mean of its feature )\n",
        "\n",
        "3.Split into 50% Training(Samples,Labels) , 30% Test(Samples,Labels) and 20% Validation Data(Samples,Labels).\n",
        "\n",
        "4.Model : input Layer (No. of features ), 3 hidden layers including 10,8,6 unit & Output Layer with activation function relu/tanh (check by experiment).\n",
        "\n",
        "5.Compilation Step (Note : Its a Regression problem , select loss , metrics according to it)\n",
        "6.Train the Model with Epochs (100) and validate it\n",
        "\n",
        "7.If the model gets overfit tune your model by changing the units , No. of layers , activation function , epochs , add dropout layer or add Regularizer according to the need .\n",
        "\n",
        "8.Evaluation Step\n",
        "\n",
        "9.Prediction"
      ]
    },
    {
      "cell_type": "code",
      "metadata": {
        "id": "7IAEHuc_4xDg",
        "colab": {
          "resources": {
            "http://localhost:8080/nbextensions/google.colab/files.js": {
              "data": "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",
              "ok": true,
              "headers": [
                [
                  "content-type",
                  "application/javascript"
                ]
              ],
              "status": 200,
              "status_text": ""
            }
          },
          "base_uri": "https://localhost:8080/",
          "height": 73
        },
        "outputId": "e226070e-b6e0-48d2-a96c-033adfa1dd80"
      },
      "source": [
        "import pandas as pd\n",
        "import numpy as np\n",
        "# Make numpy values easier to read.\n",
        "np.set_printoptions(precision=3, suppress=True)\n",
        "import seaborn as sns\n",
        "import matplotlib.pyplot as plt\n",
        "import seaborn as sns\n",
        "import matplotlib.pyplot as plt\n",
        "from tensorflow.keras.models import Sequential\n",
        "from tensorflow.keras.layers import Dense \n",
        "from tensorflow.keras.optimizers import Adam, SGD\n",
        "import tensorflow as tf\n",
        "from tensorflow.keras import layers\n",
        "from tensorflow.keras.layers.experimental import preprocessing\n",
        "import io\n",
        "from google.colab import files\n",
        "#i tried my best but am only able to make upload file work all other ways were not working on google colab even though credit card file is big it take 10 min to upload\n",
        "uploaded = files.upload()"
      ],
      "execution_count": 25,
      "outputs": [
        {
          "output_type": "display_data",
          "data": {
            "text/html": [
              "\n",
              "     <input type=\"file\" id=\"files-529c7787-c9c6-4063-be62-ace151af8850\" name=\"files[]\" multiple disabled\n",
              "        style=\"border:none\" />\n",
              "     <output id=\"result-529c7787-c9c6-4063-be62-ace151af8850\">\n",
              "      Upload widget is only available when the cell has been executed in the\n",
              "      current browser session. Please rerun this cell to enable.\n",
              "      </output>\n",
              "      <script src=\"/nbextensions/google.colab/files.js\"></script> "
            ],
            "text/plain": [
              "<IPython.core.display.HTML object>"
            ]
          },
          "metadata": {
            "tags": []
          }
        },
        {
          "output_type": "stream",
          "text": [
            "Saving CarPrice_Assignment.csv to CarPrice_Assignment (1).csv\n"
          ],
          "name": "stdout"
        }
      ]
    },
    {
      "cell_type": "code",
      "metadata": {
        "id": "m0meFbT24xDh",
        "colab": {
          "base_uri": "https://localhost:8080/"
        },
        "outputId": "0c8695e4-367f-42e8-9d0c-98d9dc1c20d3"
      },
      "source": [
        "car_price_predicton_train = pd.read_csv(io.BytesIO(uploaded['CarPrice_Assignment.csv']))\n",
        "\n",
        "car_price_predicton_train.head()\n",
        "car_price_predicton_train.shape"
      ],
      "execution_count": 26,
      "outputs": [
        {
          "output_type": "execute_result",
          "data": {
            "text/plain": [
              "(205, 26)"
            ]
          },
          "metadata": {
            "tags": []
          },
          "execution_count": 26
        }
      ]
    },
    {
      "cell_type": "code",
      "metadata": {
        "id": "OG8mgSGE4xDh",
        "colab": {
          "base_uri": "https://localhost:8080/"
        },
        "outputId": "062dad25-f786-4dae-d25c-20ec4c6c708b"
      },
      "source": [
        " car_price_predicton_train.values"
      ],
      "execution_count": 27,
      "outputs": [
        {
          "output_type": "execute_result",
          "data": {
            "text/plain": [
              "array([[1, 3, 'alfa-romero giulia', ..., 21, 27, 13495.0],\n",
              "       [2, 3, 'alfa-romero stelvio', ..., 21, 27, 16500.0],\n",
              "       [3, 1, 'alfa-romero Quadrifoglio', ..., 19, 26, 16500.0],\n",
              "       ...,\n",
              "       [203, -1, 'volvo 244dl', ..., 18, 23, 21485.0],\n",
              "       [204, -1, 'volvo 246', ..., 26, 27, 22470.0],\n",
              "       [205, -1, 'volvo 264gl', ..., 19, 25, 22625.0]], dtype=object)"
            ]
          },
          "metadata": {
            "tags": []
          },
          "execution_count": 27
        }
      ]
    },
    {
      "cell_type": "code",
      "metadata": {
        "id": "MQdyoLfG4xDh",
        "colab": {
          "base_uri": "https://localhost:8080/"
        },
        "outputId": "59255038-0d07-432a-a075-c9652a52bf9b"
      },
      "source": [
        "\n",
        "car_price_predicton_train.values"
      ],
      "execution_count": 28,
      "outputs": [
        {
          "output_type": "execute_result",
          "data": {
            "text/plain": [
              "array([[1, 3, 'alfa-romero giulia', ..., 21, 27, 13495.0],\n",
              "       [2, 3, 'alfa-romero stelvio', ..., 21, 27, 16500.0],\n",
              "       [3, 1, 'alfa-romero Quadrifoglio', ..., 19, 26, 16500.0],\n",
              "       ...,\n",
              "       [203, -1, 'volvo 244dl', ..., 18, 23, 21485.0],\n",
              "       [204, -1, 'volvo 246', ..., 26, 27, 22470.0],\n",
              "       [205, -1, 'volvo 264gl', ..., 19, 25, 22625.0]], dtype=object)"
            ]
          },
          "metadata": {
            "tags": []
          },
          "execution_count": 28
        }
      ]
    },
    {
      "cell_type": "code",
      "metadata": {
        "id": "hjGRWUSP4xDh",
        "colab": {
          "base_uri": "https://localhost:8080/"
        },
        "outputId": "2ede9cf6-948d-4802-93d5-d55ff1346fe0"
      },
      "source": [
        "car_price_predicton_train.isnull().sum()\n",
        "#no Missing value so we are not filling anything"
      ],
      "execution_count": 29,
      "outputs": [
        {
          "output_type": "execute_result",
          "data": {
            "text/plain": [
              "car_ID              0\n",
              "symboling           0\n",
              "CarName             0\n",
              "fueltype            0\n",
              "aspiration          0\n",
              "doornumber          0\n",
              "carbody             0\n",
              "drivewheel          0\n",
              "enginelocation      0\n",
              "wheelbase           0\n",
              "carlength           0\n",
              "carwidth            0\n",
              "carheight           0\n",
              "curbweight          0\n",
              "enginetype          0\n",
              "cylindernumber      0\n",
              "enginesize          0\n",
              "fuelsystem          0\n",
              "boreratio           0\n",
              "stroke              0\n",
              "compressionratio    0\n",
              "horsepower          0\n",
              "peakrpm             0\n",
              "citympg             0\n",
              "highwaympg          0\n",
              "price               0\n",
              "dtype: int64"
            ]
          },
          "metadata": {
            "tags": []
          },
          "execution_count": 29
        }
      ]
    },
    {
      "cell_type": "code",
      "metadata": {
        "id": "O0zl97lzWC_h"
      },
      "source": [
        "from sklearn.preprocessing import LabelEncoder\n",
        "labelencoder = LabelEncoder()\n",
        "car_price_predicton_train['fueltype'] = labelencoder.fit_transform(car_price_predicton_train['fueltype'])\n",
        "car_price_predicton_train['aspiration'] = labelencoder.fit_transform(car_price_predicton_train['aspiration'])\n",
        "car_price_predicton_train['carbody'] = labelencoder.fit_transform(car_price_predicton_train['carbody'])\n",
        "car_price_predicton_train['drivewheel'] = labelencoder.fit_transform(car_price_predicton_train['drivewheel'])\n",
        "car_price_predicton_train['enginelocation'] = labelencoder.fit_transform(car_price_predicton_train['enginelocation'])\n",
        "car_price_predicton_train['fuelsystem'] = labelencoder.fit_transform(car_price_predicton_train['enginelocation'])\n",
        "car_price_predicton_train['doornumber'] = car_price_predicton_train['doornumber'].map({'two':2,'four':4})"
      ],
      "execution_count": 30,
      "outputs": []
    },
    {
      "cell_type": "code",
      "metadata": {
        "id": "y7AGcDwt4xDi",
        "colab": {
          "base_uri": "https://localhost:8080/"
        },
        "outputId": "70ed72e0-c6b7-47a6-c2be-4cb766a8eec9"
      },
      "source": [
        "data1 = car_price_predicton_train[['horsepower','boreratio','enginesize','curbweight','carwidth','carlength',\n",
        "              'wheelbase','drivewheel','price','enginelocation'] ]\n",
        "print(data1.shape)\n",
        "data1.values"
      ],
      "execution_count": 31,
      "outputs": [
        {
          "output_type": "stream",
          "text": [
            "(205, 10)\n"
          ],
          "name": "stdout"
        },
        {
          "output_type": "execute_result",
          "data": {
            "text/plain": [
              "array([[  111.  ,     3.47,   130.  , ...,     2.  , 13495.  ,     0.  ],\n",
              "       [  111.  ,     3.47,   130.  , ...,     2.  , 16500.  ,     0.  ],\n",
              "       [  154.  ,     2.68,   152.  , ...,     2.  , 16500.  ,     0.  ],\n",
              "       ...,\n",
              "       [  134.  ,     3.58,   173.  , ...,     2.  , 21485.  ,     0.  ],\n",
              "       [  106.  ,     3.01,   145.  , ...,     2.  , 22470.  ,     0.  ],\n",
              "       [  114.  ,     3.78,   141.  , ...,     2.  , 22625.  ,     0.  ]])"
            ]
          },
          "metadata": {
            "tags": []
          },
          "execution_count": 31
        }
      ]
    },
    {
      "cell_type": "code",
      "metadata": {
        "colab": {
          "base_uri": "https://localhost:8080/"
        },
        "id": "_WZAKkVrILeO",
        "outputId": "19e6cf98-76a1-4cdc-8f85-ba30ef4423b4"
      },
      "source": [
        "\n",
        "x = (data1.loc[:, data1.columns != 'price'])\n",
        "y = (data1.loc[:, data1.columns == 'price'])\n",
        "train_ratio = 0.5\n",
        "validation_ratio = 0.20\n",
        "test_ratio = 0.30\n",
        "from sklearn.model_selection import train_test_split\n",
        "# train is now 50% of the entire data set\n",
        "# the _junk suffix means that we drop that variable completely\n",
        "x_train, x_test, y_train, y_test = train_test_split(x, y, test_size=1 - train_ratio)\n",
        "\n",
        "x_val, x_test, y_val, y_test = train_test_split(x_test, y_test, test_size=test_ratio/(test_ratio + validation_ratio)) \n",
        "print(\"train\")\n",
        "print(x_train)\n",
        "print(\"test\")\n",
        "print(x_test)\n",
        "print(\"validation\")\n",
        "print( x_val )\n",
        "\n",
        "#x_train = x_train.astype(np.float32)\n",
        "#y_train = y_train.astype(np.float32)\n"
      ],
      "execution_count": 32,
      "outputs": [
        {
          "output_type": "stream",
          "text": [
            "train\n",
            "     horsepower  boreratio  enginesize  ...  wheelbase  drivewheel  enginelocation\n",
            "165         112       3.24          98  ...       94.5           2               0\n",
            "62           84       3.39         122  ...       98.8           1               0\n",
            "53           68       3.03          91  ...       93.1           1               0\n",
            "1           111       3.47         130  ...       88.6           2               0\n",
            "145         111       3.62         108  ...       97.0           0               0\n",
            "..          ...        ...         ...  ...        ...         ...             ...\n",
            "131          90       3.46         132  ...       96.1           1               0\n",
            "115          97       3.46         120  ...      107.9           2               0\n",
            "58          135       3.33          80  ...       95.3           2               0\n",
            "151          62       3.05          92  ...       95.7           1               0\n",
            "99           97       3.33         120  ...       97.2           1               0\n",
            "\n",
            "[102 rows x 9 columns]\n",
            "test\n",
            "     horsepower  boreratio  enginesize  ...  wheelbase  drivewheel  enginelocation\n",
            "55          101       3.33          70  ...       95.3           2               0\n",
            "119         102       3.03          98  ...       93.7           1               0\n",
            "188         100       3.19         109  ...       97.3           1               0\n",
            "122          68       2.97          98  ...       93.7           1               0\n",
            "177          92       3.31         122  ...      102.4           1               0\n",
            "..          ...        ...         ...  ...        ...         ...             ...\n",
            "201         160       3.78         141  ...      109.1           2               0\n",
            "176          92       3.31         122  ...      102.4           1               0\n",
            "197         114       3.78         141  ...      104.3           2               0\n",
            "101         152       3.43         181  ...      100.4           1               0\n",
            "29          145       3.60         156  ...       95.9           1               0\n",
            "\n",
            "[62 rows x 9 columns]\n",
            "validation\n",
            "     horsepower  boreratio  enginesize  ...  wheelbase  drivewheel  enginelocation\n",
            "132         110       3.54         121  ...       99.1           1               0\n",
            "85           88       3.35         122  ...       96.3           1               0\n",
            "92           69       3.15          97  ...       94.5           1               0\n",
            "26           68       2.97          90  ...       93.7           1               0\n",
            "56          101       3.33          70  ...       95.3           2               0\n",
            "137         160       3.54         121  ...       99.1           1               0\n",
            "143          94       3.62         108  ...       97.2           1               0\n",
            "110          95       3.70         152  ...      114.2           2               0\n",
            "124         145       3.59         156  ...       95.9           2               0\n",
            "181         156       3.27         161  ...      104.5           2               0\n",
            "20           70       3.03          90  ...       94.5           1               0\n",
            "104         160       3.43         181  ...       91.3           2               0\n",
            "97           69       3.15          97  ...       94.5           1               0\n",
            "172         116       3.62         146  ...       98.4           2               0\n",
            "43           78       3.31         111  ...       94.3           2               0\n",
            "126         207       3.74         194  ...       89.5           2               1\n",
            "130          90       3.46         132  ...       96.1           1               0\n",
            "138          69       3.62          97  ...       93.7           1               0\n",
            "193          88       3.19         109  ...      100.4           1               0\n",
            "60           84       3.39         122  ...       98.8           1               0\n",
            "21           68       2.97          90  ...       93.7           1               0\n",
            "153          62       3.05          92  ...       95.7           1               0\n",
            "174          73       3.27         110  ...      102.4           1               0\n",
            "134         110       2.54         121  ...       99.1           1               0\n",
            "69          123       3.58         183  ...      106.7           2               0\n",
            "170         116       3.62         146  ...       98.4           2               0\n",
            "167         116       3.62         146  ...       98.4           2               0\n",
            "46           90       3.43         119  ...       96.0           2               0\n",
            "51           68       3.03          91  ...       93.1           1               0\n",
            "50           68       3.03          91  ...       93.1           1               0\n",
            "164          70       3.19          98  ...       94.5           2               0\n",
            "196         114       3.78         141  ...      104.3           2               0\n",
            "91           69       3.15          97  ...       94.5           1               0\n",
            "155          62       3.05          92  ...       95.7           0               0\n",
            "86           88       3.35         122  ...       96.3           1               0\n",
            "77           68       2.97          92  ...       93.7           1               0\n",
            "142          82       3.62         108  ...       97.2           1               0\n",
            "19           70       3.03          90  ...       94.5           1               0\n",
            "185          85       3.19         109  ...       97.3           1               0\n",
            "61           84       3.39         122  ...       98.8           1               0\n",
            "89           69       3.15          97  ...       94.5           1               0\n",
            "\n",
            "[41 rows x 9 columns]\n"
          ],
          "name": "stdout"
        }
      ]
    },
    {
      "cell_type": "code",
      "metadata": {
        "id": "sjy2D0Q2RErI"
      },
      "source": [
        "from tensorflow.keras import models\n",
        "from tensorflow.keras import layers\n",
        "\n",
        "def build_model():\n",
        "    model = models.Sequential()\n",
        "    model.add(layers.Dense(10, activation='relu',\n",
        "                          input_shape =(9,)))\n",
        "    model.add(layers.Dense(8, activation='relu'))\n",
        "    model.add(layers.Dense(6, activation='relu'))\n",
        "    model.add(layers.Dense(1))\n",
        "    model.compile(optimizer='rmsprop', loss='mse', metrics=['mae'])\n",
        "    return model"
      ],
      "execution_count": 52,
      "outputs": []
    },
    {
      "cell_type": "code",
      "metadata": {
        "id": "AWiiu0UUSZd_"
      },
      "source": [
        "model=build_model()"
      ],
      "execution_count": 53,
      "outputs": []
    },
    {
      "cell_type": "code",
      "metadata": {
        "colab": {
          "base_uri": "https://localhost:8080/"
        },
        "id": "0-Np9sPbS06q",
        "outputId": "6114cd0e-ac0c-4ec3-eade-a7e7cdb76585"
      },
      "source": [
        "history=model.fit(x_train,y_train,epochs=100,validation_data=(x_val, y_val))"
      ],
      "execution_count": 54,
      "outputs": [
        {
          "output_type": "stream",
          "text": [
            "Epoch 1/100\n",
            "4/4 [==============================] - 1s 62ms/step - loss: 282692780.8000 - mae: 14570.6895 - val_loss: 155283024.0000 - val_mae: 11035.5410\n",
            "Epoch 2/100\n",
            "4/4 [==============================] - 0s 13ms/step - loss: 255300435.2000 - mae: 13859.0373 - val_loss: 153802672.0000 - val_mae: 10972.4619\n",
            "Epoch 3/100\n",
            "4/4 [==============================] - 0s 14ms/step - loss: 249492707.2000 - mae: 13777.6426 - val_loss: 152600240.0000 - val_mae: 10921.0967\n",
            "Epoch 4/100\n",
            "4/4 [==============================] - 0s 21ms/step - loss: 259903596.8000 - mae: 13972.5773 - val_loss: 151701888.0000 - val_mae: 10882.6270\n",
            "Epoch 5/100\n",
            "4/4 [==============================] - 0s 15ms/step - loss: 259764204.8000 - mae: 14104.3531 - val_loss: 150801888.0000 - val_mae: 10843.9727\n",
            "Epoch 6/100\n",
            "4/4 [==============================] - 0s 15ms/step - loss: 303854425.6000 - mae: 14814.8582 - val_loss: 150012896.0000 - val_mae: 10810.7705\n",
            "Epoch 7/100\n",
            "4/4 [==============================] - 0s 15ms/step - loss: 256052083.2000 - mae: 13921.3297 - val_loss: 149808064.0000 - val_mae: 10802.0156\n",
            "Epoch 8/100\n",
            "4/4 [==============================] - 0s 15ms/step - loss: 267957782.4000 - mae: 14172.1678 - val_loss: 149615184.0000 - val_mae: 10793.7588\n",
            "Epoch 9/100\n",
            "4/4 [==============================] - 0s 13ms/step - loss: 255521033.6000 - mae: 13810.1662 - val_loss: 149396160.0000 - val_mae: 10784.3535\n",
            "Epoch 10/100\n",
            "4/4 [==============================] - 0s 14ms/step - loss: 261919136.0000 - mae: 14122.8486 - val_loss: 149203648.0000 - val_mae: 10776.0410\n",
            "Epoch 11/100\n",
            "4/4 [==============================] - 0s 14ms/step - loss: 269872966.4000 - mae: 14191.8365 - val_loss: 149001392.0000 - val_mae: 10767.2969\n",
            "Epoch 12/100\n",
            "4/4 [==============================] - 0s 16ms/step - loss: 285517830.4000 - mae: 14607.6270 - val_loss: 148785856.0000 - val_mae: 10757.9697\n",
            "Epoch 13/100\n",
            "4/4 [==============================] - 0s 13ms/step - loss: 245706176.0000 - mae: 13770.2961 - val_loss: 148531520.0000 - val_mae: 10746.9492\n",
            "Epoch 14/100\n",
            "4/4 [==============================] - 0s 14ms/step - loss: 310376870.4000 - mae: 15092.9615 - val_loss: 148319232.0000 - val_mae: 10737.7451\n",
            "Epoch 15/100\n",
            "4/4 [==============================] - 0s 14ms/step - loss: 281153497.6000 - mae: 14319.7947 - val_loss: 148093728.0000 - val_mae: 10727.9580\n",
            "Epoch 16/100\n",
            "4/4 [==============================] - 0s 14ms/step - loss: 289084620.8000 - mae: 14669.0830 - val_loss: 147838256.0000 - val_mae: 10716.8545\n",
            "Epoch 17/100\n",
            "4/4 [==============================] - 0s 14ms/step - loss: 259525267.2000 - mae: 13795.5900 - val_loss: 147568480.0000 - val_mae: 10705.1201\n",
            "Epoch 18/100\n",
            "4/4 [==============================] - 0s 14ms/step - loss: 271029852.8000 - mae: 14267.2918 - val_loss: 147279696.0000 - val_mae: 10692.5400\n",
            "Epoch 19/100\n",
            "4/4 [==============================] - 0s 14ms/step - loss: 276580044.8000 - mae: 14392.9016 - val_loss: 146976016.0000 - val_mae: 10679.2988\n",
            "Epoch 20/100\n",
            "4/4 [==============================] - 0s 14ms/step - loss: 281489676.8000 - mae: 14323.9521 - val_loss: 146647936.0000 - val_mae: 10664.9756\n",
            "Epoch 21/100\n",
            "4/4 [==============================] - 0s 18ms/step - loss: 271658112.0000 - mae: 14188.4229 - val_loss: 146290656.0000 - val_mae: 10649.3496\n",
            "Epoch 22/100\n",
            "4/4 [==============================] - 0s 14ms/step - loss: 278689036.8000 - mae: 14300.4813 - val_loss: 145916752.0000 - val_mae: 10632.9727\n",
            "Epoch 23/100\n",
            "4/4 [==============================] - 0s 14ms/step - loss: 232956492.8000 - mae: 13176.1064 - val_loss: 145467728.0000 - val_mae: 10613.2725\n",
            "Epoch 24/100\n",
            "4/4 [==============================] - 0s 14ms/step - loss: 242251340.8000 - mae: 13587.6762 - val_loss: 145111424.0000 - val_mae: 10597.6133\n",
            "Epoch 25/100\n",
            "4/4 [==============================] - 0s 15ms/step - loss: 281970019.2000 - mae: 14318.0305 - val_loss: 144713312.0000 - val_mae: 10580.0859\n",
            "Epoch 26/100\n",
            "4/4 [==============================] - 0s 14ms/step - loss: 247719670.4000 - mae: 13518.8594 - val_loss: 144272448.0000 - val_mae: 10560.6445\n",
            "Epoch 27/100\n",
            "4/4 [==============================] - 0s 14ms/step - loss: 269527158.4000 - mae: 14248.8197 - val_loss: 143840432.0000 - val_mae: 10541.5576\n",
            "Epoch 28/100\n",
            "4/4 [==============================] - 0s 16ms/step - loss: 243351376.0000 - mae: 13502.1590 - val_loss: 143358832.0000 - val_mae: 10520.2393\n",
            "Epoch 29/100\n",
            "4/4 [==============================] - 0s 15ms/step - loss: 280651312.0000 - mae: 14154.1283 - val_loss: 142887968.0000 - val_mae: 10499.3555\n",
            "Epoch 30/100\n",
            "4/4 [==============================] - 0s 17ms/step - loss: 241903705.6000 - mae: 13587.8529 - val_loss: 142363168.0000 - val_mae: 10476.0293\n",
            "Epoch 31/100\n",
            "4/4 [==============================] - 0s 14ms/step - loss: 250371651.2000 - mae: 13574.4166 - val_loss: 141853696.0000 - val_mae: 10453.3350\n",
            "Epoch 32/100\n",
            "4/4 [==============================] - 0s 14ms/step - loss: 242334633.6000 - mae: 13460.6324 - val_loss: 141296464.0000 - val_mae: 10428.4600\n",
            "Epoch 33/100\n",
            "4/4 [==============================] - 0s 14ms/step - loss: 250269414.4000 - mae: 13456.1701 - val_loss: 140706128.0000 - val_mae: 10402.0410\n",
            "Epoch 34/100\n",
            "4/4 [==============================] - 0s 13ms/step - loss: 267753251.2000 - mae: 13912.5412 - val_loss: 140161856.0000 - val_mae: 10377.6250\n",
            "Epoch 35/100\n",
            "4/4 [==============================] - 0s 14ms/step - loss: 255672883.2000 - mae: 13700.9229 - val_loss: 139506032.0000 - val_mae: 10348.1309\n",
            "Epoch 36/100\n",
            "4/4 [==============================] - 0s 14ms/step - loss: 236085808.0000 - mae: 13285.9525 - val_loss: 138892320.0000 - val_mae: 10320.4561\n",
            "Epoch 37/100\n",
            "4/4 [==============================] - 0s 15ms/step - loss: 261509542.4000 - mae: 14055.5346 - val_loss: 138232576.0000 - val_mae: 10290.6240\n",
            "Epoch 38/100\n",
            "4/4 [==============================] - 0s 15ms/step - loss: 246503193.6000 - mae: 13619.6461 - val_loss: 137684512.0000 - val_mae: 10265.7754\n",
            "Epoch 39/100\n",
            "4/4 [==============================] - 0s 15ms/step - loss: 256010806.4000 - mae: 13746.7025 - val_loss: 137064960.0000 - val_mae: 10237.6152\n",
            "Epoch 40/100\n",
            "4/4 [==============================] - 0s 17ms/step - loss: 247079968.0000 - mae: 13443.0857 - val_loss: 136386160.0000 - val_mae: 10206.6758\n",
            "Epoch 41/100\n",
            "4/4 [==============================] - 0s 15ms/step - loss: 238196400.0000 - mae: 13200.8969 - val_loss: 135675792.0000 - val_mae: 10174.1816\n",
            "Epoch 42/100\n",
            "4/4 [==============================] - 0s 15ms/step - loss: 244381814.4000 - mae: 13500.8982 - val_loss: 135004304.0000 - val_mae: 10143.3906\n",
            "Epoch 43/100\n",
            "4/4 [==============================] - 0s 14ms/step - loss: 253082582.4000 - mae: 13612.5949 - val_loss: 134225680.0000 - val_mae: 10107.5303\n",
            "Epoch 44/100\n",
            "4/4 [==============================] - 0s 16ms/step - loss: 232478185.6000 - mae: 13039.2670 - val_loss: 133348880.0000 - val_mae: 10067.1084\n",
            "Epoch 45/100\n",
            "4/4 [==============================] - 0s 15ms/step - loss: 254538889.6000 - mae: 13639.4596 - val_loss: 132653544.0000 - val_mae: 10034.8965\n",
            "Epoch 46/100\n",
            "4/4 [==============================] - 0s 15ms/step - loss: 220917971.2000 - mae: 12825.5311 - val_loss: 131905608.0000 - val_mae: 10000.1133\n",
            "Epoch 47/100\n",
            "4/4 [==============================] - 0s 14ms/step - loss: 255150416.0000 - mae: 13668.7920 - val_loss: 131145040.0000 - val_mae: 9964.6631\n",
            "Epoch 48/100\n",
            "4/4 [==============================] - 0s 16ms/step - loss: 244603724.8000 - mae: 13299.6789 - val_loss: 130306408.0000 - val_mae: 9925.4111\n",
            "Epoch 49/100\n",
            "4/4 [==============================] - 0s 15ms/step - loss: 259234102.4000 - mae: 13733.4162 - val_loss: 129418592.0000 - val_mae: 9883.6816\n",
            "Epoch 50/100\n",
            "4/4 [==============================] - 0s 14ms/step - loss: 255492064.0000 - mae: 13617.3535 - val_loss: 128530232.0000 - val_mae: 9841.7295\n",
            "Epoch 51/100\n",
            "4/4 [==============================] - 0s 13ms/step - loss: 241338252.8000 - mae: 13310.3641 - val_loss: 127551200.0000 - val_mae: 9795.3818\n",
            "Epoch 52/100\n",
            "4/4 [==============================] - 0s 14ms/step - loss: 253770048.0000 - mae: 13611.2725 - val_loss: 126688280.0000 - val_mae: 9754.3105\n",
            "Epoch 53/100\n",
            "4/4 [==============================] - 0s 14ms/step - loss: 226769660.8000 - mae: 12827.9424 - val_loss: 125697960.0000 - val_mae: 9706.9707\n",
            "Epoch 54/100\n",
            "4/4 [==============================] - 0s 18ms/step - loss: 229748521.6000 - mae: 12862.3250 - val_loss: 124719912.0000 - val_mae: 9659.9961\n",
            "Epoch 55/100\n",
            "4/4 [==============================] - 0s 14ms/step - loss: 236888067.2000 - mae: 12912.7764 - val_loss: 123692456.0000 - val_mae: 9610.4082\n",
            "Epoch 56/100\n",
            "4/4 [==============================] - 0s 14ms/step - loss: 238577360.0000 - mae: 12971.8350 - val_loss: 122679904.0000 - val_mae: 9561.3018\n",
            "Epoch 57/100\n",
            "4/4 [==============================] - 0s 15ms/step - loss: 254810614.4000 - mae: 13435.4027 - val_loss: 121601488.0000 - val_mae: 9508.7305\n",
            "Epoch 58/100\n",
            "4/4 [==============================] - 0s 14ms/step - loss: 217535657.6000 - mae: 12393.7953 - val_loss: 120439384.0000 - val_mae: 9451.7646\n",
            "Epoch 59/100\n",
            "4/4 [==============================] - 0s 15ms/step - loss: 225301488.0000 - mae: 12693.6465 - val_loss: 119275496.0000 - val_mae: 9394.3799\n",
            "Epoch 60/100\n",
            "4/4 [==============================] - 0s 18ms/step - loss: 255893078.4000 - mae: 13469.5141 - val_loss: 118134912.0000 - val_mae: 9337.8125\n",
            "Epoch 61/100\n",
            "4/4 [==============================] - 0s 14ms/step - loss: 220554380.8000 - mae: 12594.9174 - val_loss: 116867200.0000 - val_mae: 9274.5469\n",
            "Epoch 62/100\n",
            "4/4 [==============================] - 0s 13ms/step - loss: 225140560.0000 - mae: 12574.8277 - val_loss: 115589896.0000 - val_mae: 9210.3975\n",
            "Epoch 63/100\n",
            "4/4 [==============================] - 0s 15ms/step - loss: 221491344.0000 - mae: 12481.9297 - val_loss: 114299176.0000 - val_mae: 9144.9150\n",
            "Epoch 64/100\n",
            "4/4 [==============================] - 0s 15ms/step - loss: 208193654.4000 - mae: 12185.0551 - val_loss: 113010800.0000 - val_mae: 9079.5264\n",
            "Epoch 65/100\n",
            "4/4 [==============================] - 0s 15ms/step - loss: 204408076.8000 - mae: 12046.3672 - val_loss: 111762360.0000 - val_mae: 9015.4922\n",
            "Epoch 66/100\n",
            "4/4 [==============================] - 0s 15ms/step - loss: 227543430.4000 - mae: 12736.8529 - val_loss: 110587320.0000 - val_mae: 8954.8066\n",
            "Epoch 67/100\n",
            "4/4 [==============================] - 0s 16ms/step - loss: 231041449.6000 - mae: 12813.5561 - val_loss: 109301808.0000 - val_mae: 8887.9883\n",
            "Epoch 68/100\n",
            "4/4 [==============================] - 0s 16ms/step - loss: 222555577.6000 - mae: 12408.7732 - val_loss: 107928816.0000 - val_mae: 8816.0957\n",
            "Epoch 69/100\n",
            "4/4 [==============================] - 0s 17ms/step - loss: 189649859.2000 - mae: 11419.9107 - val_loss: 106631656.0000 - val_mae: 8747.6602\n",
            "Epoch 70/100\n",
            "4/4 [==============================] - 0s 14ms/step - loss: 194443977.6000 - mae: 11573.5045 - val_loss: 105054080.0000 - val_mae: 8663.7412\n",
            "Epoch 71/100\n",
            "4/4 [==============================] - 0s 14ms/step - loss: 169808428.8000 - mae: 10871.9742 - val_loss: 103520696.0000 - val_mae: 8581.4209\n",
            "Epoch 72/100\n",
            "4/4 [==============================] - 0s 15ms/step - loss: 202942720.0000 - mae: 11766.2451 - val_loss: 102045328.0000 - val_mae: 8501.4971\n",
            "Epoch 73/100\n",
            "4/4 [==============================] - 0s 14ms/step - loss: 183296633.6000 - mae: 11401.4715 - val_loss: 100575144.0000 - val_mae: 8421.1299\n",
            "Epoch 74/100\n",
            "4/4 [==============================] - 0s 14ms/step - loss: 192650352.0000 - mae: 11455.6930 - val_loss: 99001912.0000 - val_mae: 8334.3174\n",
            "Epoch 75/100\n",
            "4/4 [==============================] - 0s 14ms/step - loss: 184863977.6000 - mae: 11279.3563 - val_loss: 97667224.0000 - val_mae: 8259.9756\n",
            "Epoch 76/100\n",
            "4/4 [==============================] - 0s 16ms/step - loss: 203163683.2000 - mae: 11870.6318 - val_loss: 96338184.0000 - val_mae: 8185.3081\n",
            "Epoch 77/100\n",
            "4/4 [==============================] - 0s 15ms/step - loss: 188405190.4000 - mae: 11272.5025 - val_loss: 94693904.0000 - val_mae: 8092.0273\n",
            "Epoch 78/100\n",
            "4/4 [==============================] - 0s 15ms/step - loss: 191053532.8000 - mae: 11353.4967 - val_loss: 93183016.0000 - val_mae: 8005.4004\n",
            "Epoch 79/100\n",
            "4/4 [==============================] - 0s 16ms/step - loss: 176788102.4000 - mae: 11150.1703 - val_loss: 91583216.0000 - val_mae: 7912.6973\n",
            "Epoch 80/100\n",
            "4/4 [==============================] - 0s 14ms/step - loss: 184535945.6000 - mae: 11110.3162 - val_loss: 90032952.0000 - val_mae: 7821.8618\n",
            "Epoch 81/100\n",
            "4/4 [==============================] - 0s 15ms/step - loss: 188198892.8000 - mae: 11044.5057 - val_loss: 88513944.0000 - val_mae: 7731.8735\n",
            "Epoch 82/100\n",
            "4/4 [==============================] - 0s 15ms/step - loss: 168708019.2000 - mae: 10714.9398 - val_loss: 86681528.0000 - val_mae: 7621.9785\n",
            "Epoch 83/100\n",
            "4/4 [==============================] - 0s 16ms/step - loss: 174552816.0000 - mae: 10861.9932 - val_loss: 85152192.0000 - val_mae: 7529.0947\n",
            "Epoch 84/100\n",
            "4/4 [==============================] - 0s 16ms/step - loss: 173851603.2000 - mae: 10447.1070 - val_loss: 83561144.0000 - val_mae: 7431.2944\n",
            "Epoch 85/100\n",
            "4/4 [==============================] - 0s 14ms/step - loss: 185038937.6000 - mae: 10909.1363 - val_loss: 81883448.0000 - val_mae: 7326.8286\n",
            "Epoch 86/100\n",
            "4/4 [==============================] - 0s 14ms/step - loss: 165270908.8000 - mae: 10404.2391 - val_loss: 80098224.0000 - val_mae: 7214.0928\n",
            "Epoch 87/100\n",
            "4/4 [==============================] - 0s 14ms/step - loss: 183593027.2000 - mae: 10753.7209 - val_loss: 78225248.0000 - val_mae: 7094.0015\n",
            "Epoch 88/100\n",
            "4/4 [==============================] - 0s 14ms/step - loss: 163113920.0000 - mae: 10187.7111 - val_loss: 76621664.0000 - val_mae: 6989.6099\n",
            "Epoch 89/100\n",
            "4/4 [==============================] - 0s 15ms/step - loss: 175889660.8000 - mae: 10566.6904 - val_loss: 74866104.0000 - val_mae: 6873.6382\n",
            "Epoch 90/100\n",
            "4/4 [==============================] - 0s 18ms/step - loss: 150728883.2000 - mae: 9984.1111 - val_loss: 73204568.0000 - val_mae: 6762.1357\n",
            "Epoch 91/100\n",
            "4/4 [==============================] - 0s 16ms/step - loss: 157417046.4000 - mae: 9945.1508 - val_loss: 71488584.0000 - val_mae: 6645.0161\n",
            "Epoch 92/100\n",
            "4/4 [==============================] - 0s 14ms/step - loss: 159425264.0000 - mae: 9983.8955 - val_loss: 69453544.0000 - val_mae: 6503.7896\n",
            "Epoch 93/100\n",
            "4/4 [==============================] - 0s 14ms/step - loss: 156685187.2000 - mae: 9805.2225 - val_loss: 67879256.0000 - val_mae: 6392.4678\n",
            "Epoch 94/100\n",
            "4/4 [==============================] - 0s 15ms/step - loss: 159016896.0000 - mae: 9892.7826 - val_loss: 66267548.0000 - val_mae: 6276.5557\n",
            "Epoch 95/100\n",
            "4/4 [==============================] - 0s 15ms/step - loss: 147689321.6000 - mae: 9577.1494 - val_loss: 64434352.0000 - val_mae: 6142.2197\n",
            "Epoch 96/100\n",
            "4/4 [==============================] - 0s 16ms/step - loss: 151705948.8000 - mae: 9365.3141 - val_loss: 62696460.0000 - val_mae: 6012.2842\n",
            "Epoch 97/100\n",
            "4/4 [==============================] - 0s 15ms/step - loss: 132794491.2000 - mae: 8721.7500 - val_loss: 60662960.0000 - val_mae: 5856.8325\n",
            "Epoch 98/100\n",
            "4/4 [==============================] - 0s 16ms/step - loss: 124314452.8000 - mae: 8725.0223 - val_loss: 58754084.0000 - val_mae: 5707.2959\n",
            "Epoch 99/100\n",
            "4/4 [==============================] - 0s 17ms/step - loss: 132832816.0000 - mae: 8819.6318 - val_loss: 57082220.0000 - val_mae: 5573.2769\n",
            "Epoch 100/100\n",
            "4/4 [==============================] - 0s 18ms/step - loss: 121501712.0000 - mae: 8313.2189 - val_loss: 55320868.0000 - val_mae: 5428.7368\n"
          ],
          "name": "stdout"
        }
      ]
    },
    {
      "cell_type": "code",
      "metadata": {
        "colab": {
          "base_uri": "https://localhost:8080/"
        },
        "id": "XGUN_7YR59nG",
        "outputId": "b8674519-394b-47f4-fc1b-2ea8e217565d"
      },
      "source": [
        "historyTest=model.fit(x_test,y_test,epochs=100,validation_data=(x_val, y_val))"
      ],
      "execution_count": 55,
      "outputs": [
        {
          "output_type": "stream",
          "text": [
            "Epoch 1/100\n",
            "2/2 [==============================] - 0s 106ms/step - loss: 117568672.0000 - mae: 7928.9849 - val_loss: 54489568.0000 - val_mae: 5359.2681\n",
            "Epoch 2/100\n",
            "2/2 [==============================] - 0s 40ms/step - loss: 116272064.0000 - mae: 7853.8862 - val_loss: 53664208.0000 - val_mae: 5289.4580\n",
            "Epoch 3/100\n",
            "2/2 [==============================] - 0s 45ms/step - loss: 114928264.0000 - mae: 7783.5674 - val_loss: 52816616.0000 - val_mae: 5216.8657\n",
            "Epoch 4/100\n",
            "2/2 [==============================] - 0s 37ms/step - loss: 113583952.0000 - mae: 7711.3560 - val_loss: 51953032.0000 - val_mae: 5141.9282\n",
            "Epoch 5/100\n",
            "2/2 [==============================] - 0s 47ms/step - loss: 112202640.0000 - mae: 7626.7598 - val_loss: 51116200.0000 - val_mae: 5068.3325\n",
            "Epoch 6/100\n",
            "2/2 [==============================] - 0s 40ms/step - loss: 110862160.0000 - mae: 7548.2852 - val_loss: 50281436.0000 - val_mae: 4993.9199\n",
            "Epoch 7/100\n",
            "2/2 [==============================] - 0s 42ms/step - loss: 109495264.0000 - mae: 7472.1348 - val_loss: 49436772.0000 - val_mae: 4917.5674\n",
            "Epoch 8/100\n",
            "2/2 [==============================] - 0s 40ms/step - loss: 108130992.0000 - mae: 7390.5684 - val_loss: 48597128.0000 - val_mae: 4840.5693\n",
            "Epoch 9/100\n",
            "2/2 [==============================] - 0s 37ms/step - loss: 106751832.0000 - mae: 7316.4551 - val_loss: 47736564.0000 - val_mae: 4760.4644\n",
            "Epoch 10/100\n",
            "2/2 [==============================] - 0s 42ms/step - loss: 105405288.0000 - mae: 7224.2383 - val_loss: 46932572.0000 - val_mae: 4684.4785\n",
            "Epoch 11/100\n",
            "2/2 [==============================] - 0s 45ms/step - loss: 104011016.0000 - mae: 7151.4702 - val_loss: 46093664.0000 - val_mae: 4606.6533\n",
            "Epoch 12/100\n",
            "2/2 [==============================] - 0s 41ms/step - loss: 102631760.0000 - mae: 7063.7314 - val_loss: 45271360.0000 - val_mae: 4529.7632\n",
            "Epoch 13/100\n",
            "2/2 [==============================] - 0s 45ms/step - loss: 101258496.0000 - mae: 6984.1924 - val_loss: 44435248.0000 - val_mae: 4450.2803\n",
            "Epoch 14/100\n",
            "2/2 [==============================] - 0s 45ms/step - loss: 99883728.0000 - mae: 6889.9482 - val_loss: 43635172.0000 - val_mae: 4372.9263\n",
            "Epoch 15/100\n",
            "2/2 [==============================] - 0s 42ms/step - loss: 98530696.0000 - mae: 6807.7842 - val_loss: 42841892.0000 - val_mae: 4294.9209\n",
            "Epoch 16/100\n",
            "2/2 [==============================] - 0s 40ms/step - loss: 97176632.0000 - mae: 6722.4331 - val_loss: 42041320.0000 - val_mae: 4214.7993\n",
            "Epoch 17/100\n",
            "2/2 [==============================] - 0s 40ms/step - loss: 95804424.0000 - mae: 6635.7417 - val_loss: 41240332.0000 - val_mae: 4133.1572\n",
            "Epoch 18/100\n",
            "2/2 [==============================] - 0s 41ms/step - loss: 94445976.0000 - mae: 6552.7739 - val_loss: 40434024.0000 - val_mae: 4051.9226\n",
            "Epoch 19/100\n",
            "2/2 [==============================] - 0s 40ms/step - loss: 93053488.0000 - mae: 6454.6221 - val_loss: 39661972.0000 - val_mae: 3973.3926\n",
            "Epoch 20/100\n",
            "2/2 [==============================] - 0s 41ms/step - loss: 91741416.0000 - mae: 6362.1479 - val_loss: 38910228.0000 - val_mae: 3895.4185\n",
            "Epoch 21/100\n",
            "2/2 [==============================] - 0s 45ms/step - loss: 90382640.0000 - mae: 6278.6079 - val_loss: 38142340.0000 - val_mae: 3814.1401\n",
            "Epoch 22/100\n",
            "2/2 [==============================] - 0s 47ms/step - loss: 89029752.0000 - mae: 6187.5986 - val_loss: 37378580.0000 - val_mae: 3733.8445\n",
            "Epoch 23/100\n",
            "2/2 [==============================] - 0s 50ms/step - loss: 87679008.0000 - mae: 6095.5522 - val_loss: 36624420.0000 - val_mae: 3662.1582\n",
            "Epoch 24/100\n",
            "2/2 [==============================] - 0s 45ms/step - loss: 86356992.0000 - mae: 5992.8726 - val_loss: 35909736.0000 - val_mae: 3598.4128\n",
            "Epoch 25/100\n",
            "2/2 [==============================] - 0s 40ms/step - loss: 85037456.0000 - mae: 5903.7896 - val_loss: 35189848.0000 - val_mae: 3535.9844\n",
            "Epoch 26/100\n",
            "2/2 [==============================] - 0s 42ms/step - loss: 83737616.0000 - mae: 5807.0781 - val_loss: 34486480.0000 - val_mae: 3473.5232\n",
            "Epoch 27/100\n",
            "2/2 [==============================] - 0s 49ms/step - loss: 82425280.0000 - mae: 5717.6006 - val_loss: 33779220.0000 - val_mae: 3412.5742\n",
            "Epoch 28/100\n",
            "2/2 [==============================] - 0s 41ms/step - loss: 81110832.0000 - mae: 5619.4927 - val_loss: 33084192.0000 - val_mae: 3351.9177\n",
            "Epoch 29/100\n",
            "2/2 [==============================] - 0s 48ms/step - loss: 79807232.0000 - mae: 5519.7905 - val_loss: 32404840.0000 - val_mae: 3291.0312\n",
            "Epoch 30/100\n",
            "2/2 [==============================] - 0s 41ms/step - loss: 78520224.0000 - mae: 5420.6226 - val_loss: 31740350.0000 - val_mae: 3234.4832\n",
            "Epoch 31/100\n",
            "2/2 [==============================] - 0s 39ms/step - loss: 77254696.0000 - mae: 5321.7905 - val_loss: 31094806.0000 - val_mae: 3180.6541\n",
            "Epoch 32/100\n",
            "2/2 [==============================] - 0s 38ms/step - loss: 76012232.0000 - mae: 5226.9741 - val_loss: 30467656.0000 - val_mae: 3126.8181\n",
            "Epoch 33/100\n",
            "2/2 [==============================] - 0s 45ms/step - loss: 74772440.0000 - mae: 5134.2085 - val_loss: 29852008.0000 - val_mae: 3072.6064\n",
            "Epoch 34/100\n",
            "2/2 [==============================] - 0s 43ms/step - loss: 73537696.0000 - mae: 5043.1655 - val_loss: 29247398.0000 - val_mae: 3024.8030\n",
            "Epoch 35/100\n",
            "2/2 [==============================] - 0s 45ms/step - loss: 72367832.0000 - mae: 4957.7417 - val_loss: 28676924.0000 - val_mae: 2979.4258\n",
            "Epoch 36/100\n",
            "2/2 [==============================] - 0s 39ms/step - loss: 71134984.0000 - mae: 4877.1772 - val_loss: 28098032.0000 - val_mae: 2936.8069\n",
            "Epoch 37/100\n",
            "2/2 [==============================] - 0s 42ms/step - loss: 69929176.0000 - mae: 4793.7993 - val_loss: 27538042.0000 - val_mae: 2901.6206\n",
            "Epoch 38/100\n",
            "2/2 [==============================] - 0s 44ms/step - loss: 68749232.0000 - mae: 4716.8506 - val_loss: 26994216.0000 - val_mae: 2867.1946\n",
            "Epoch 39/100\n",
            "2/2 [==============================] - 0s 41ms/step - loss: 67617792.0000 - mae: 4639.1646 - val_loss: 26489100.0000 - val_mae: 2842.6646\n",
            "Epoch 40/100\n",
            "2/2 [==============================] - 0s 43ms/step - loss: 66462628.0000 - mae: 4575.1646 - val_loss: 25978496.0000 - val_mae: 2819.9734\n",
            "Epoch 41/100\n",
            "2/2 [==============================] - 0s 44ms/step - loss: 65344100.0000 - mae: 4507.4795 - val_loss: 25503710.0000 - val_mae: 2800.9397\n",
            "Epoch 42/100\n",
            "2/2 [==============================] - 0s 45ms/step - loss: 64237936.0000 - mae: 4455.0015 - val_loss: 25039500.0000 - val_mae: 2783.6458\n",
            "Epoch 43/100\n",
            "2/2 [==============================] - 0s 52ms/step - loss: 63141868.0000 - mae: 4390.4497 - val_loss: 24589562.0000 - val_mae: 2769.5781\n",
            "Epoch 44/100\n",
            "2/2 [==============================] - 0s 42ms/step - loss: 62055468.0000 - mae: 4341.5264 - val_loss: 24155494.0000 - val_mae: 2758.9163\n",
            "Epoch 45/100\n",
            "2/2 [==============================] - 0s 47ms/step - loss: 61010676.0000 - mae: 4297.0347 - val_loss: 23751864.0000 - val_mae: 2750.4919\n",
            "Epoch 46/100\n",
            "2/2 [==============================] - 0s 42ms/step - loss: 59957044.0000 - mae: 4264.4414 - val_loss: 23358190.0000 - val_mae: 2745.6548\n",
            "Epoch 47/100\n",
            "2/2 [==============================] - 0s 54ms/step - loss: 58953508.0000 - mae: 4229.5957 - val_loss: 22995286.0000 - val_mae: 2741.2732\n",
            "Epoch 48/100\n",
            "2/2 [==============================] - 0s 41ms/step - loss: 57938276.0000 - mae: 4200.7832 - val_loss: 22643926.0000 - val_mae: 2739.5686\n",
            "Epoch 49/100\n",
            "2/2 [==============================] - 0s 43ms/step - loss: 57001636.0000 - mae: 4179.1743 - val_loss: 22310930.0000 - val_mae: 2739.4006\n",
            "Epoch 50/100\n",
            "2/2 [==============================] - 0s 45ms/step - loss: 55969324.0000 - mae: 4158.2627 - val_loss: 22009004.0000 - val_mae: 2739.2368\n",
            "Epoch 51/100\n",
            "2/2 [==============================] - 0s 39ms/step - loss: 55046116.0000 - mae: 4136.6016 - val_loss: 21725436.0000 - val_mae: 2739.0710\n",
            "Epoch 52/100\n",
            "2/2 [==============================] - 0s 38ms/step - loss: 54148276.0000 - mae: 4122.0425 - val_loss: 21476324.0000 - val_mae: 2742.9580\n",
            "Epoch 53/100\n",
            "2/2 [==============================] - 0s 46ms/step - loss: 53261224.0000 - mae: 4107.9077 - val_loss: 21239028.0000 - val_mae: 2755.7202\n",
            "Epoch 54/100\n",
            "2/2 [==============================] - 0s 42ms/step - loss: 52398500.0000 - mae: 4090.6858 - val_loss: 21022392.0000 - val_mae: 2770.6831\n",
            "Epoch 55/100\n",
            "2/2 [==============================] - 0s 44ms/step - loss: 51556576.0000 - mae: 4078.9832 - val_loss: 20836832.0000 - val_mae: 2788.7397\n",
            "Epoch 56/100\n",
            "2/2 [==============================] - 0s 43ms/step - loss: 50855356.0000 - mae: 4067.5876 - val_loss: 20670144.0000 - val_mae: 2810.6885\n",
            "Epoch 57/100\n",
            "2/2 [==============================] - 0s 44ms/step - loss: 49991808.0000 - mae: 4049.7078 - val_loss: 20534862.0000 - val_mae: 2832.7424\n",
            "Epoch 58/100\n",
            "2/2 [==============================] - 0s 40ms/step - loss: 49231724.0000 - mae: 4042.7793 - val_loss: 20413200.0000 - val_mae: 2860.0881\n",
            "Epoch 59/100\n",
            "2/2 [==============================] - 0s 48ms/step - loss: 48495332.0000 - mae: 4040.4121 - val_loss: 20313374.0000 - val_mae: 2889.5613\n",
            "Epoch 60/100\n",
            "2/2 [==============================] - 0s 46ms/step - loss: 47755300.0000 - mae: 4041.1218 - val_loss: 20238314.0000 - val_mae: 2921.3342\n",
            "Epoch 61/100\n",
            "2/2 [==============================] - 0s 48ms/step - loss: 47065016.0000 - mae: 4040.0071 - val_loss: 20188910.0000 - val_mae: 2958.9043\n",
            "Epoch 62/100\n",
            "2/2 [==============================] - 0s 49ms/step - loss: 46408780.0000 - mae: 4044.2576 - val_loss: 20162368.0000 - val_mae: 3003.0640\n",
            "Epoch 63/100\n",
            "2/2 [==============================] - 0s 50ms/step - loss: 45730096.0000 - mae: 4054.0942 - val_loss: 20161370.0000 - val_mae: 3049.2183\n",
            "Epoch 64/100\n",
            "2/2 [==============================] - 0s 43ms/step - loss: 45137204.0000 - mae: 4056.0708 - val_loss: 20185360.0000 - val_mae: 3096.7026\n",
            "Epoch 65/100\n",
            "2/2 [==============================] - 0s 40ms/step - loss: 44504412.0000 - mae: 4078.5615 - val_loss: 20233624.0000 - val_mae: 3143.1228\n",
            "Epoch 66/100\n",
            "2/2 [==============================] - 0s 46ms/step - loss: 44074212.0000 - mae: 4103.0732 - val_loss: 20295992.0000 - val_mae: 3183.8096\n",
            "Epoch 67/100\n",
            "2/2 [==============================] - 0s 40ms/step - loss: 43482352.0000 - mae: 4109.8955 - val_loss: 20384524.0000 - val_mae: 3227.7588\n",
            "Epoch 68/100\n",
            "2/2 [==============================] - 0s 42ms/step - loss: 43000344.0000 - mae: 4127.4370 - val_loss: 20494888.0000 - val_mae: 3271.6704\n",
            "Epoch 69/100\n",
            "2/2 [==============================] - 0s 42ms/step - loss: 42526276.0000 - mae: 4138.8027 - val_loss: 20635126.0000 - val_mae: 3321.5693\n",
            "Epoch 70/100\n",
            "2/2 [==============================] - 0s 46ms/step - loss: 42070256.0000 - mae: 4157.8804 - val_loss: 20798914.0000 - val_mae: 3373.2031\n",
            "Epoch 71/100\n",
            "2/2 [==============================] - 0s 40ms/step - loss: 41650176.0000 - mae: 4170.3101 - val_loss: 20984448.0000 - val_mae: 3424.2180\n",
            "Epoch 72/100\n",
            "2/2 [==============================] - 0s 46ms/step - loss: 41224484.0000 - mae: 4189.5308 - val_loss: 21184850.0000 - val_mae: 3473.2227\n",
            "Epoch 73/100\n",
            "2/2 [==============================] - 0s 46ms/step - loss: 40947064.0000 - mae: 4219.1636 - val_loss: 21379302.0000 - val_mae: 3517.5325\n",
            "Epoch 74/100\n",
            "2/2 [==============================] - 0s 46ms/step - loss: 40575160.0000 - mae: 4230.4102 - val_loss: 21605476.0000 - val_mae: 3573.9424\n",
            "Epoch 75/100\n",
            "2/2 [==============================] - 0s 40ms/step - loss: 40293988.0000 - mae: 4247.8232 - val_loss: 21863598.0000 - val_mae: 3633.4346\n",
            "Epoch 76/100\n",
            "2/2 [==============================] - 0s 44ms/step - loss: 40009808.0000 - mae: 4270.9487 - val_loss: 22133870.0000 - val_mae: 3691.0769\n",
            "Epoch 77/100\n",
            "2/2 [==============================] - 0s 44ms/step - loss: 39821584.0000 - mae: 4318.9463 - val_loss: 22360154.0000 - val_mae: 3736.3936\n",
            "Epoch 78/100\n",
            "2/2 [==============================] - 0s 40ms/step - loss: 39560488.0000 - mae: 4330.4678 - val_loss: 22610984.0000 - val_mae: 3783.9680\n",
            "Epoch 79/100\n",
            "2/2 [==============================] - 0s 49ms/step - loss: 39350396.0000 - mae: 4341.1875 - val_loss: 22897908.0000 - val_mae: 3835.4814\n",
            "Epoch 80/100\n",
            "2/2 [==============================] - 0s 43ms/step - loss: 39372144.0000 - mae: 4360.2148 - val_loss: 23161010.0000 - val_mae: 3880.4082\n",
            "Epoch 81/100\n",
            "2/2 [==============================] - 0s 48ms/step - loss: 39101400.0000 - mae: 4400.9214 - val_loss: 23374582.0000 - val_mae: 3915.4587\n",
            "Epoch 82/100\n",
            "2/2 [==============================] - 0s 50ms/step - loss: 38922672.0000 - mae: 4409.5518 - val_loss: 23636640.0000 - val_mae: 3956.8936\n",
            "Epoch 83/100\n",
            "2/2 [==============================] - 0s 40ms/step - loss: 38852260.0000 - mae: 4444.8706 - val_loss: 23665562.0000 - val_mae: 3961.4153\n",
            "Epoch 84/100\n",
            "2/2 [==============================] - 0s 50ms/step - loss: 38754228.0000 - mae: 4441.2114 - val_loss: 24132532.0000 - val_mae: 4031.2473\n",
            "Epoch 85/100\n",
            "2/2 [==============================] - 0s 44ms/step - loss: 38636088.0000 - mae: 4483.1265 - val_loss: 24380970.0000 - val_mae: 4066.7566\n",
            "Epoch 86/100\n",
            "2/2 [==============================] - 0s 41ms/step - loss: 38559356.0000 - mae: 4504.9072 - val_loss: 24636256.0000 - val_mae: 4102.1694\n",
            "Epoch 87/100\n",
            "2/2 [==============================] - 0s 39ms/step - loss: 38583804.0000 - mae: 4541.7471 - val_loss: 24823354.0000 - val_mae: 4127.5098\n",
            "Epoch 88/100\n",
            "2/2 [==============================] - 0s 46ms/step - loss: 38461576.0000 - mae: 4540.8477 - val_loss: 25034116.0000 - val_mae: 4155.4434\n",
            "Epoch 89/100\n",
            "2/2 [==============================] - 0s 47ms/step - loss: 38613228.0000 - mae: 4575.1494 - val_loss: 25099158.0000 - val_mae: 4163.9912\n",
            "Epoch 90/100\n",
            "2/2 [==============================] - 0s 43ms/step - loss: 38392580.0000 - mae: 4563.8584 - val_loss: 25353762.0000 - val_mae: 4198.4541\n",
            "Epoch 91/100\n",
            "2/2 [==============================] - 0s 46ms/step - loss: 38396860.0000 - mae: 4571.8262 - val_loss: 25561168.0000 - val_mae: 4227.1343\n",
            "Epoch 92/100\n",
            "2/2 [==============================] - 0s 40ms/step - loss: 38363176.0000 - mae: 4605.8218 - val_loss: 25667474.0000 - val_mae: 4241.6968\n",
            "Epoch 93/100\n",
            "2/2 [==============================] - 0s 39ms/step - loss: 38421756.0000 - mae: 4592.7471 - val_loss: 25838658.0000 - val_mae: 4264.7539\n",
            "Epoch 94/100\n",
            "2/2 [==============================] - 0s 39ms/step - loss: 38299304.0000 - mae: 4620.2974 - val_loss: 25934542.0000 - val_mae: 4277.5835\n",
            "Epoch 95/100\n",
            "2/2 [==============================] - 0s 39ms/step - loss: 38313868.0000 - mae: 4618.5210 - val_loss: 26081242.0000 - val_mae: 4296.9292\n",
            "Epoch 96/100\n",
            "2/2 [==============================] - 0s 42ms/step - loss: 38318696.0000 - mae: 4622.1006 - val_loss: 26215002.0000 - val_mae: 4314.3706\n",
            "Epoch 97/100\n",
            "2/2 [==============================] - 0s 42ms/step - loss: 38373896.0000 - mae: 4669.6895 - val_loss: 26214356.0000 - val_mae: 4314.4248\n",
            "Epoch 98/100\n",
            "2/2 [==============================] - 0s 46ms/step - loss: 38578316.0000 - mae: 4704.7974 - val_loss: 26260170.0000 - val_mae: 4320.4053\n",
            "Epoch 99/100\n",
            "2/2 [==============================] - 0s 45ms/step - loss: 38320396.0000 - mae: 4640.0962 - val_loss: 26342522.0000 - val_mae: 4331.0298\n",
            "Epoch 100/100\n",
            "2/2 [==============================] - 0s 40ms/step - loss: 38258432.0000 - mae: 4662.1138 - val_loss: 26340690.0000 - val_mae: 4330.9175\n"
          ],
          "name": "stdout"
        }
      ]
    },
    {
      "cell_type": "code",
      "metadata": {
        "colab": {
          "base_uri": "https://localhost:8080/"
        },
        "id": "Qag0owfvUKaR",
        "outputId": "343d95e6-3f12-4bd5-c772-ebd9580a31dd"
      },
      "source": [
        "# evaluate the keras model\n",
        "# evaluate the model\n",
        "scores = model.evaluate(x_train, y_train)\n",
        "print( (model.metrics_names[1], scores[1]))\n",
        "# evaluate the model\n",
        "scores = model.evaluate(x_test, y_test)\n",
        "print(  (model.metrics_names[1], scores[1]))"
      ],
      "execution_count": 56,
      "outputs": [
        {
          "output_type": "stream",
          "text": [
            "4/4 [==============================] - 0s 2ms/step - loss: 34995764.0000 - mae: 4329.1929\n",
            "('mae', 4329.19287109375)\n",
            "2/2 [==============================] - 0s 5ms/step - loss: 38234676.0000 - mae: 4655.5410\n",
            "('mae', 4655.541015625)\n"
          ],
          "name": "stdout"
        }
      ]
    },
    {
      "cell_type": "code",
      "metadata": {
        "colab": {
          "base_uri": "https://localhost:8080/"
        },
        "id": "YLgwpjkZTC8h",
        "outputId": "c4d04d99-e535-40af-8ab8-9a45f7715a3e"
      },
      "source": [
        "y_pred = model.predict(x_train)\n",
        "print(y_pred)"
      ],
      "execution_count": 57,
      "outputs": [
        {
          "output_type": "stream",
          "text": [
            "[[12688.925]\n",
            " [13444.866]\n",
            " [10926.711]\n",
            " [14190.928]\n",
            " [13969.137]\n",
            " [16921.014]\n",
            " [10555.874]\n",
            " [14094.809]\n",
            " [11368.13 ]\n",
            " [17599.414]\n",
            " [10308.934]\n",
            " [15165.141]\n",
            " [13262.754]\n",
            " [10902.857]\n",
            " [18095.38 ]\n",
            " [12267.636]\n",
            " [16928.195]\n",
            " [12511.188]\n",
            " [13440.168]\n",
            " [13521.376]\n",
            " [12713.487]\n",
            " [12680.398]\n",
            " [11025.406]\n",
            " [ 9676.82 ]\n",
            " [10775.476]\n",
            " [12633.678]\n",
            " [22505.479]\n",
            " [14684.9  ]\n",
            " [11283.514]\n",
            " [15664.812]\n",
            " [15814.061]\n",
            " [16653.281]\n",
            " [20709.188]\n",
            " [11862.298]\n",
            " [16272.577]\n",
            " [13442.952]\n",
            " [15445.676]\n",
            " [16804.383]\n",
            " [20391.072]\n",
            " [12592.466]\n",
            " [12431.387]\n",
            " [17555.734]\n",
            " [12376.848]\n",
            " [11858.003]\n",
            " [14969.812]\n",
            " [17326.541]\n",
            " [14035.14 ]\n",
            " [13379.791]\n",
            " [16857.305]\n",
            " [10561.249]\n",
            " [14217.021]\n",
            " [15126.278]\n",
            " [16155.142]\n",
            " [17492.283]\n",
            " [15659.248]\n",
            " [12781.522]\n",
            " [13440.168]\n",
            " [10781.739]\n",
            " [11353.303]\n",
            " [13216.159]\n",
            " [11077.031]\n",
            " [16288.448]\n",
            " [16376.208]\n",
            " [12907.03 ]\n",
            " [18868.889]\n",
            " [10734.395]\n",
            " [14190.928]\n",
            " [18276.8  ]\n",
            " [16951.145]\n",
            " [15291.149]\n",
            " [13379.791]\n",
            " [13272.575]\n",
            " [13565.733]\n",
            " [17715.865]\n",
            " [16777.418]\n",
            " [17095.305]\n",
            " [13653.095]\n",
            " [13490.803]\n",
            " [11114.383]\n",
            " [13207.444]\n",
            " [15766.968]\n",
            " [12042.139]\n",
            " [18003.559]\n",
            " [16262.946]\n",
            " [10975.019]\n",
            " [11137.62 ]\n",
            " [20846.059]\n",
            " [20574.623]\n",
            " [19375.977]\n",
            " [22241.693]\n",
            " [19535.232]\n",
            " [12839.154]\n",
            " [12031.163]\n",
            " [12534.967]\n",
            " [12868.766]\n",
            " [17438.322]\n",
            " [12550.269]\n",
            " [13729.834]\n",
            " [16905.807]\n",
            " [13906.937]\n",
            " [11394.916]\n",
            " [13019.243]]\n"
          ],
          "name": "stdout"
        }
      ]
    },
    {
      "cell_type": "code",
      "metadata": {
        "colab": {
          "base_uri": "https://localhost:8080/",
          "height": 573
        },
        "id": "6FzyceXXaG1y",
        "outputId": "a74c5518-4b3b-4bc4-9a1b-6e667a399b1d"
      },
      "source": [
        "import matplotlib.pyplot as plt\n",
        "history_dict = history.history\n",
        "loss_values = history_dict['loss']\n",
        "val_loss_values = history_dict['val_loss']\n",
        "epochs = range(1, (100) + 1)\n",
        "plt.plot(epochs, loss_values, 'bo', label='Training loss')\n",
        "plt.plot(epochs, val_loss_values, 'b', label='Validation loss')\n",
        "plt.title('Training and validation loss')\n",
        "plt.xlabel('Epochs')\n",
        "plt.ylabel('Loss')\n",
        "plt.legend()\n",
        "plt.show()\n",
        "import matplotlib.pyplot as plt\n",
        "history_dict = historyTest.history\n",
        "loss_values = history_dict['loss']\n",
        "val_loss_values = history_dict['val_loss']\n",
        "epochs = range(1, (100) + 1)\n",
        "plt.plot(epochs, loss_values, 'bo', label='Testing loss')\n",
        "plt.plot(epochs, val_loss_values, 'b', label='Validation loss')\n",
        "plt.title('Testing and validation loss')\n",
        "plt.xlabel('Epochs')\n",
        "plt.ylabel('Loss')\n",
        "plt.legend()\n",
        "plt.show()"
      ],
      "execution_count": 58,
      "outputs": [
        {
          "output_type": "display_data",
          "data": {
            "image/png": "[encoded data removed]",
            "text/plain": [
              "<Figure size 432x288 with 1 Axes>"
            ]
          },
          "metadata": {
            "tags": [],
            "needs_background": "light"
          }
        },
        {
          "output_type": "display_data",
          "data": {
            "image/png": "[encoded data removed]",
            "text/plain": [
              "<Figure size 432x288 with 1 Axes>"
            ]
          },
          "metadata": {
            "tags": [],
            "needs_background": "light"
          }
        }
      ]
    },
    {
      "cell_type": "code",
      "metadata": {
        "colab": {
          "base_uri": "https://localhost:8080/",
          "height": 573
        },
        "id": "feMc8vSY6TKd",
        "outputId": "21da17d0-4c6c-4f36-9103-fbb5400ea0e2"
      },
      "source": [
        "#Plotting the training and validation accuracy\n",
        "plt.clf()\n",
        "acc = history.history['mae']\n",
        "val_acc = history.history['val_mae']\n",
        "plt.plot(epochs, acc, 'bo', label='Training acc')\n",
        "plt.plot(epochs, val_acc, 'b', label='Validation acc')\n",
        "plt.title('Training and validation accuracy')\n",
        "plt.xlabel('Epochs')\n",
        "plt.ylabel('Loss')\n",
        "plt.legend()\n",
        "plt.show()\n",
        "#Plotting the Testing and validation accuracy\n",
        "plt.clf()\n",
        "acc = historyTest.history['mae']\n",
        "val_acc = historyTest.history['val_mae']\n",
        "plt.plot(epochs, acc, 'bo', label='Testing acc')\n",
        "plt.plot(epochs, val_acc, 'b', label='Validation acc')\n",
        "plt.title('Testing and validation accuracy')\n",
        "plt.xlabel('Epochs')\n",
        "plt.ylabel('Loss')\n",
        "plt.legend()\n",
        "plt.show()"
      ],
      "execution_count": 59,
      "outputs": [
        {
          "output_type": "display_data",
          "data": {
            "image/png": "[encoded data removed]",
            "text/plain": [
              "<Figure size 432x288 with 1 Axes>"
            ]
          },
          "metadata": {
            "tags": [],
            "needs_background": "light"
          }
        },
        {
          "output_type": "display_data",
          "data": {
            "image/png": "[encoded data removed]",
            "text/plain": [
              "<Figure size 432x288 with 1 Axes>"
            ]
          },
          "metadata": {
            "tags": [],
            "needs_background": "light"
          }
        }
      ]
    }
  ]
}