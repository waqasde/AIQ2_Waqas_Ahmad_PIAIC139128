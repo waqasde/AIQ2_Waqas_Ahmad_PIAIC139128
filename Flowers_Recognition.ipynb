{
  "nbformat": 4,
  "nbformat_minor": 0,
  "metadata": {
    "colab": {
      "name": "Flowers_Recognition.ipynb",
      "provenance": [],
      "collapsed_sections": []
    },
    "kernelspec": {
      "name": "python3",
      "display_name": "Python 3"
    }
  },
  "cells": [
    {
      "cell_type": "markdown",
      "metadata": {
        "id": "BXgJ6uT1NydQ"
      },
      "source": [
        "Assignment: Flowers Recognition <br>\n",
        "Dataset Description:<br>\n",
        "\n",
        "This dataset contains 4242 images of flowers.<br>\n",
        "The data collection is based on the data flicr, google images, yandex images.<br>\n",
        "You can use this datastet to recognize plants from the photo.<br>\n",
        "\n",
        "Attribute Information:<br>\n",
        "The pictures are divided into five classes: chamomile, tulip, rose, sunflower, dandelion.<br>\n",
        "For each class there are about 800 photos. Photos are not high resolution, about 320x240 pixels. <br>\n",
        "<b>Also explore how to resize images in tensorflow and then resize all the images to a same size. </b> <br>\n",
        "This is a Multiclass Classification Problem.<br>\n",
        "\n",
        "\n"
      ]
    },
    {
      "cell_type": "markdown",
      "metadata": {
        "id": "T7vy-ktuOKJH"
      },
      "source": [
        "WORKFLOW : <br>\n",
        "Load Data <br>\n",
        "Split into 60 and 40 ratio.<br>\n",
        "Encode labels.<br>\n",
        "Create Model<br>\n",
        "Compilation Step (Note : Its a Multiclass Classification problem , select loss , metrics according to it)<br>\n",
        "Train the Model.<br>\n",
        "If the model gets overfit tune your model by changing the units , No. of layers , epochs , add dropout layer or add Regularizer according to the need .<br>\n",
        "Prediction should be > 85%<br>\n",
        "Evaluation Step<br>\n",
        "Prediction<br>\n",
        "\n",
        "\n"
      ]
    },
    {
      "cell_type": "markdown",
      "metadata": {
        "id": "ri3Bg5qfPRic"
      },
      "source": [
        "Data : <br>\n",
        "https://drive.google.com/file/d/1-OX6wn5gA-bJpjPNfSyaYQLz-A-AB_uj/view?usp=sharing"
      ]
    },
    {
      "cell_type": "code",
      "metadata": {
        "id": "1Xy3AC8tyjfi"
      },
      "source": [
        "import glob\n",
        "import pandas as pd\n",
        "from keras import models\n",
        "from keras import layers\n",
        "from keras import regularizers\n",
        "import numpy as np\n",
        "import random\n",
        "import zipfile\n",
        "import matplotlib.image as mpimg\n",
        "import matplotlib.pyplot as plt\n",
        "from sklearn.model_selection import train_test_split\n",
        "from tensorflow.keras.utils import to_categorical\n",
        "import os\n",
        "import zipfile\n",
        "from shutil import copyfile\n",
        "from keras.preprocessing import image\n",
        "import tensorflow as tf\n",
        "from google.colab import files\n"
      ],
      "execution_count": 1,
      "outputs": []
    },
    {
      "cell_type": "code",
      "metadata": {
        "colab": {
          "base_uri": "https://localhost:8080/"
        },
        "id": "tTcD4zH8La9A",
        "outputId": "400d9abb-1e1d-4f2b-cb37-509d01b6d895"
      },
      "source": [
        "\n",
        "from google.colab import drive\n",
        "drive.mount(\"/content/drive\")"
      ],
      "execution_count": 2,
      "outputs": [
        {
          "output_type": "stream",
          "text": [
            "Mounted at /content/drive\n"
          ],
          "name": "stdout"
        }
      ]
    },
    {
      "cell_type": "code",
      "metadata": {
        "id": "UOA8mk9Gy3oZ"
      },
      "source": [
        "def UpdateImage(source, label):\n",
        "  fname = os.listdir(source)\n",
        "  images= None\n",
        "  \n",
        "  for i,value in enumerate(fname):\n",
        "    source_path = os.path.join(source, fname[i])\n",
        "    if os.path.getsize(source_path)==0:\n",
        "      print(\"file has zero size\")\n",
        "    else:\n",
        "      img=image.load_img(source_path, target_size=(320, 240)) \n",
        "      x=image.img_to_array(img)                               \n",
        "      x=tf.image.rgb_to_grayscale(x)                          \n",
        "      x=np.expand_dims(x, axis=0)\n",
        "      if images is None:\n",
        "        images = x\n",
        "      else:\n",
        "        images = np.vstack((images, x))\n",
        "  images=images.reshape(images.shape[0], 320*240*1)\n",
        "  label_in = np.ones((len(fname), 1))\n",
        "  label_in.fill(label)\n",
        "  images_new=np.hstack((images,label_in))\n",
        "  print(images_new.shape)\n",
        "  return images_new"
      ],
      "execution_count": 41,
      "outputs": []
    },
    {
      "cell_type": "code",
      "metadata": {
        "colab": {
          "base_uri": "https://localhost:8080/"
        },
        "id": "3PocoYEkyd78",
        "outputId": "1cb2814a-7b2d-4a4c-f5af-84a0400968c0"
      },
      "source": [
        "daisy = UpdateImage(\"/content/drive/MyDrive/Colab Notebooks/flowers/daisy\", 0)\n",
        "dandelion = UpdateImage(\"/content/drive/MyDrive/Colab Notebooks/flowers/dandelion\", 1)\n",
        "rose = UpdateImage(\"/content/drive/MyDrive/Colab Notebooks/flowers/rose\", 2)\n",
        "sunflower = UpdateImage(\"/content/drive/MyDrive/Colab Notebooks/flowers/sunflower\", 3)\n",
        "tulip = UpdateImage(\"/content/drive/MyDrive/Colab Notebooks/flowers/tulip\", 4)"
      ],
      "execution_count": 42,
      "outputs": [
        {
          "output_type": "stream",
          "text": [
            "(769, 76801)\n",
            "(1052, 76801)\n",
            "(784, 76801)\n",
            "(734, 76801)\n",
            "(984, 76801)\n"
          ],
          "name": "stdout"
        }
      ]
    },
    {
      "cell_type": "code",
      "metadata": {
        "id": "I8eG5N-66F4-"
      },
      "source": [
        "data_array = np.vstack((daisy, dandelion, rose, sunflower, tulip))\n",
        "np.random.shuffle(data_array)"
      ],
      "execution_count": 43,
      "outputs": []
    },
    {
      "cell_type": "code",
      "metadata": {
        "id": "FvKgOzZi6Oas"
      },
      "source": [
        "train_data, test_data, train_labels, test_labels=train_test_split(data_array[0:,:-1], data_array[:,-1], test_size=0.4)\n"
      ],
      "execution_count": 44,
      "outputs": []
    },
    {
      "cell_type": "code",
      "metadata": {
        "id": "0AFT9G826S-k"
      },
      "source": [
        "train_labels = to_categorical(train_labels)\n",
        "test_labels = to_categorical(test_labels)\n",
        "np.unique(test_labels)\n",
        "train_data=train_data.astype(\"float32\")/255\n",
        "test_data = test_data.astype(\"float32\")/255"
      ],
      "execution_count": 45,
      "outputs": []
    },
    {
      "cell_type": "code",
      "metadata": {
        "id": "W7Uu4jsx7M5d"
      },
      "source": [
        "def build_model():\n",
        "  model=models.Sequential()\n",
        "  model.add(layers.Dense(64, activation=\"relu\", input_shape=(76800,)))\n",
        "  model.add(layers.Dense(32, activation=\"relu\"))\n",
        "  model.add(layers.Dense(5, activation=\"softmax\"))\n",
        "  model.compile(optimizer=\"adam\", loss = \"categorical_crossentropy\", metrics=[\"accuracy\"])\n",
        "  return model\n",
        "model=build_model()"
      ],
      "execution_count": 47,
      "outputs": []
    },
    {
      "cell_type": "code",
      "metadata": {
        "colab": {
          "base_uri": "https://localhost:8080/"
        },
        "id": "lQFUTy697Q8V",
        "outputId": "6c031df1-1fdf-4b35-fb82-6dc5b6164edc"
      },
      "source": [
        "history=model.fit(train_data,train_labels, epochs =100, batch_size=512 )\n"
      ],
      "execution_count": 50,
      "outputs": [
        {
          "output_type": "stream",
          "text": [
            "Epoch 1/100\n",
            "6/6 [==============================] - 2s 229ms/step - loss: 0.4413 - accuracy: 0.8531\n",
            "Epoch 2/100\n",
            "6/6 [==============================] - 1s 207ms/step - loss: 0.4003 - accuracy: 0.8774\n",
            "Epoch 3/100\n",
            "6/6 [==============================] - 1s 211ms/step - loss: 0.4131 - accuracy: 0.8681\n",
            "Epoch 4/100\n",
            "6/6 [==============================] - 1s 208ms/step - loss: 0.4331 - accuracy: 0.8523\n",
            "Epoch 5/100\n",
            "6/6 [==============================] - 1s 208ms/step - loss: 0.4126 - accuracy: 0.8619\n",
            "Epoch 6/100\n",
            "6/6 [==============================] - 1s 206ms/step - loss: 0.3798 - accuracy: 0.8843\n",
            "Epoch 7/100\n",
            "6/6 [==============================] - 1s 208ms/step - loss: 0.3834 - accuracy: 0.8862\n",
            "Epoch 8/100\n",
            "6/6 [==============================] - 1s 209ms/step - loss: 0.4313 - accuracy: 0.8604\n",
            "Epoch 9/100\n",
            "6/6 [==============================] - 1s 206ms/step - loss: 0.6860 - accuracy: 0.7374\n",
            "Epoch 10/100\n",
            "6/6 [==============================] - 1s 209ms/step - loss: 0.6183 - accuracy: 0.7721\n",
            "Epoch 11/100\n",
            "6/6 [==============================] - 1s 211ms/step - loss: 0.9125 - accuracy: 0.6614\n",
            "Epoch 12/100\n",
            "6/6 [==============================] - 1s 212ms/step - loss: 0.9453 - accuracy: 0.6475\n",
            "Epoch 13/100\n",
            "6/6 [==============================] - 1s 212ms/step - loss: 0.6883 - accuracy: 0.7231\n",
            "Epoch 14/100\n",
            "6/6 [==============================] - 1s 207ms/step - loss: 0.6155 - accuracy: 0.7613\n",
            "Epoch 15/100\n",
            "6/6 [==============================] - 1s 208ms/step - loss: 0.4832 - accuracy: 0.8373\n",
            "Epoch 16/100\n",
            "6/6 [==============================] - 1s 208ms/step - loss: 0.4465 - accuracy: 0.8511\n",
            "Epoch 17/100\n",
            "6/6 [==============================] - 1s 208ms/step - loss: 0.4052 - accuracy: 0.8693\n",
            "Epoch 18/100\n",
            "6/6 [==============================] - 1s 208ms/step - loss: 0.4011 - accuracy: 0.8862\n",
            "Epoch 19/100\n",
            "6/6 [==============================] - 1s 208ms/step - loss: 0.3921 - accuracy: 0.8700\n",
            "Epoch 20/100\n",
            "6/6 [==============================] - 1s 211ms/step - loss: 0.4480 - accuracy: 0.8450\n",
            "Epoch 21/100\n",
            "6/6 [==============================] - 1s 208ms/step - loss: 0.4373 - accuracy: 0.8461\n",
            "Epoch 22/100\n",
            "6/6 [==============================] - 1s 210ms/step - loss: 0.5130 - accuracy: 0.8157\n",
            "Epoch 23/100\n",
            "6/6 [==============================] - 1s 207ms/step - loss: 0.4398 - accuracy: 0.8492\n",
            "Epoch 24/100\n",
            "6/6 [==============================] - 1s 207ms/step - loss: 0.3691 - accuracy: 0.8943\n",
            "Epoch 25/100\n",
            "6/6 [==============================] - 1s 207ms/step - loss: 0.3572 - accuracy: 0.8912\n",
            "Epoch 26/100\n",
            "6/6 [==============================] - 1s 206ms/step - loss: 0.5485 - accuracy: 0.7995\n",
            "Epoch 27/100\n",
            "6/6 [==============================] - 1s 207ms/step - loss: 0.4821 - accuracy: 0.8307\n",
            "Epoch 28/100\n",
            "6/6 [==============================] - 1s 215ms/step - loss: 0.4165 - accuracy: 0.8635\n",
            "Epoch 29/100\n",
            "6/6 [==============================] - 1s 205ms/step - loss: 0.4097 - accuracy: 0.8658\n",
            "Epoch 30/100\n",
            "6/6 [==============================] - 1s 209ms/step - loss: 0.4079 - accuracy: 0.8781\n",
            "Epoch 31/100\n",
            "6/6 [==============================] - 1s 207ms/step - loss: 0.3633 - accuracy: 0.8885\n",
            "Epoch 32/100\n",
            "6/6 [==============================] - 1s 207ms/step - loss: 0.3809 - accuracy: 0.8808\n",
            "Epoch 33/100\n",
            "6/6 [==============================] - 2s 279ms/step - loss: 0.3854 - accuracy: 0.8793\n",
            "Epoch 34/100\n",
            "6/6 [==============================] - 1s 208ms/step - loss: 0.3678 - accuracy: 0.8897\n",
            "Epoch 35/100\n",
            "6/6 [==============================] - 1s 207ms/step - loss: 0.3885 - accuracy: 0.8689\n",
            "Epoch 36/100\n",
            "6/6 [==============================] - 1s 209ms/step - loss: 0.3534 - accuracy: 0.8970\n",
            "Epoch 37/100\n",
            "6/6 [==============================] - 1s 209ms/step - loss: 0.3338 - accuracy: 0.9005\n",
            "Epoch 38/100\n",
            "6/6 [==============================] - 1s 209ms/step - loss: 0.3163 - accuracy: 0.9182\n",
            "Epoch 39/100\n",
            "6/6 [==============================] - 1s 209ms/step - loss: 0.4512 - accuracy: 0.8357\n",
            "Epoch 40/100\n",
            "6/6 [==============================] - 1s 208ms/step - loss: 0.3404 - accuracy: 0.9005\n",
            "Epoch 41/100\n",
            "6/6 [==============================] - 1s 207ms/step - loss: 0.3377 - accuracy: 0.9017\n",
            "Epoch 42/100\n",
            "6/6 [==============================] - 1s 210ms/step - loss: 0.3749 - accuracy: 0.8750\n",
            "Epoch 43/100\n",
            "6/6 [==============================] - 1s 208ms/step - loss: 0.3117 - accuracy: 0.9267\n",
            "Epoch 44/100\n",
            "6/6 [==============================] - 1s 211ms/step - loss: 0.3475 - accuracy: 0.8878\n",
            "Epoch 45/100\n",
            "6/6 [==============================] - 1s 210ms/step - loss: 0.3267 - accuracy: 0.9101\n",
            "Epoch 46/100\n",
            "6/6 [==============================] - 1s 207ms/step - loss: 0.3067 - accuracy: 0.9225\n",
            "Epoch 47/100\n",
            "6/6 [==============================] - 1s 207ms/step - loss: 0.2976 - accuracy: 0.9252\n",
            "Epoch 48/100\n",
            "6/6 [==============================] - 1s 207ms/step - loss: 0.3807 - accuracy: 0.8739\n",
            "Epoch 49/100\n",
            "6/6 [==============================] - 1s 208ms/step - loss: 0.3733 - accuracy: 0.8820\n",
            "Epoch 50/100\n",
            "6/6 [==============================] - 1s 207ms/step - loss: 0.4140 - accuracy: 0.8627\n",
            "Epoch 51/100\n",
            "6/6 [==============================] - 1s 213ms/step - loss: 0.5272 - accuracy: 0.7952\n",
            "Epoch 52/100\n",
            "6/6 [==============================] - 1s 213ms/step - loss: 0.5283 - accuracy: 0.8052\n",
            "Epoch 53/100\n",
            "6/6 [==============================] - 1s 210ms/step - loss: 0.4094 - accuracy: 0.8681\n",
            "Epoch 54/100\n",
            "6/6 [==============================] - 1s 207ms/step - loss: 0.4088 - accuracy: 0.8677\n",
            "Epoch 55/100\n",
            "6/6 [==============================] - 1s 207ms/step - loss: 0.4819 - accuracy: 0.8176\n",
            "Epoch 56/100\n",
            "6/6 [==============================] - 1s 210ms/step - loss: 0.3761 - accuracy: 0.8727\n",
            "Epoch 57/100\n",
            "6/6 [==============================] - 1s 209ms/step - loss: 0.4716 - accuracy: 0.8060\n",
            "Epoch 58/100\n",
            "6/6 [==============================] - 1s 207ms/step - loss: 0.3791 - accuracy: 0.8743\n",
            "Epoch 59/100\n",
            "6/6 [==============================] - 1s 208ms/step - loss: 0.4253 - accuracy: 0.8573\n",
            "Epoch 60/100\n",
            "6/6 [==============================] - 1s 213ms/step - loss: 0.4381 - accuracy: 0.8338\n",
            "Epoch 61/100\n",
            "6/6 [==============================] - 1s 207ms/step - loss: 0.3792 - accuracy: 0.8750\n",
            "Epoch 62/100\n",
            "6/6 [==============================] - 1s 208ms/step - loss: 0.4040 - accuracy: 0.8550\n",
            "Epoch 63/100\n",
            "6/6 [==============================] - 1s 207ms/step - loss: 0.3825 - accuracy: 0.8727\n",
            "Epoch 64/100\n",
            "6/6 [==============================] - 1s 208ms/step - loss: 0.3380 - accuracy: 0.8986\n",
            "Epoch 65/100\n",
            "6/6 [==============================] - 1s 207ms/step - loss: 0.2928 - accuracy: 0.9167\n",
            "Epoch 66/100\n",
            "6/6 [==============================] - 1s 208ms/step - loss: 0.4398 - accuracy: 0.8392\n",
            "Epoch 67/100\n",
            "6/6 [==============================] - 1s 211ms/step - loss: 0.4036 - accuracy: 0.8511\n",
            "Epoch 68/100\n",
            "6/6 [==============================] - 1s 214ms/step - loss: 0.3781 - accuracy: 0.8758\n",
            "Epoch 69/100\n",
            "6/6 [==============================] - 1s 209ms/step - loss: 0.2941 - accuracy: 0.9213\n",
            "Epoch 70/100\n",
            "6/6 [==============================] - 1s 206ms/step - loss: 0.2858 - accuracy: 0.9182\n",
            "Epoch 71/100\n",
            "6/6 [==============================] - 1s 209ms/step - loss: 0.5470 - accuracy: 0.7817\n",
            "Epoch 72/100\n",
            "6/6 [==============================] - 1s 208ms/step - loss: 0.4231 - accuracy: 0.8457\n",
            "Epoch 73/100\n",
            "6/6 [==============================] - 1s 206ms/step - loss: 0.5821 - accuracy: 0.7594\n",
            "Epoch 74/100\n",
            "6/6 [==============================] - 1s 211ms/step - loss: 0.4860 - accuracy: 0.8342\n",
            "Epoch 75/100\n",
            "6/6 [==============================] - 1s 208ms/step - loss: 0.4568 - accuracy: 0.8403\n",
            "Epoch 76/100\n",
            "6/6 [==============================] - 1s 212ms/step - loss: 0.3582 - accuracy: 0.8835\n",
            "Epoch 77/100\n",
            "6/6 [==============================] - 1s 209ms/step - loss: 0.3232 - accuracy: 0.9032\n",
            "Epoch 78/100\n",
            "6/6 [==============================] - 1s 209ms/step - loss: 0.3005 - accuracy: 0.9155\n",
            "Epoch 79/100\n",
            "6/6 [==============================] - 1s 209ms/step - loss: 0.2496 - accuracy: 0.9425\n",
            "Epoch 80/100\n",
            "6/6 [==============================] - 1s 205ms/step - loss: 0.2577 - accuracy: 0.9317\n",
            "Epoch 81/100\n",
            "6/6 [==============================] - 1s 205ms/step - loss: 0.2559 - accuracy: 0.9344\n",
            "Epoch 82/100\n",
            "6/6 [==============================] - 1s 208ms/step - loss: 0.3121 - accuracy: 0.9017\n",
            "Epoch 83/100\n",
            "6/6 [==============================] - 1s 213ms/step - loss: 0.2841 - accuracy: 0.9136\n",
            "Epoch 84/100\n",
            "6/6 [==============================] - 1s 211ms/step - loss: 0.2696 - accuracy: 0.9321\n",
            "Epoch 85/100\n",
            "6/6 [==============================] - 1s 210ms/step - loss: 0.2869 - accuracy: 0.9252\n",
            "Epoch 86/100\n",
            "6/6 [==============================] - 1s 207ms/step - loss: 0.3430 - accuracy: 0.8820\n",
            "Epoch 87/100\n",
            "6/6 [==============================] - 1s 207ms/step - loss: 0.3305 - accuracy: 0.8885\n",
            "Epoch 88/100\n",
            "6/6 [==============================] - 1s 205ms/step - loss: 0.3678 - accuracy: 0.8720\n",
            "Epoch 89/100\n",
            "6/6 [==============================] - 1s 207ms/step - loss: 0.2576 - accuracy: 0.9364\n",
            "Epoch 90/100\n",
            "6/6 [==============================] - 1s 207ms/step - loss: 0.2484 - accuracy: 0.9317\n",
            "Epoch 91/100\n",
            "6/6 [==============================] - 1s 207ms/step - loss: 0.2556 - accuracy: 0.9271\n",
            "Epoch 92/100\n",
            "6/6 [==============================] - 1s 210ms/step - loss: 0.2517 - accuracy: 0.9352\n",
            "Epoch 93/100\n",
            "6/6 [==============================] - 1s 207ms/step - loss: 0.2263 - accuracy: 0.9499\n",
            "Epoch 94/100\n",
            "6/6 [==============================] - 1s 207ms/step - loss: 0.2938 - accuracy: 0.9113\n",
            "Epoch 95/100\n",
            "6/6 [==============================] - 1s 212ms/step - loss: 0.2813 - accuracy: 0.9148\n",
            "Epoch 96/100\n",
            "6/6 [==============================] - 1s 207ms/step - loss: 0.3400 - accuracy: 0.8874\n",
            "Epoch 97/100\n",
            "6/6 [==============================] - 1s 210ms/step - loss: 0.2362 - accuracy: 0.9464\n",
            "Epoch 98/100\n",
            "6/6 [==============================] - 1s 205ms/step - loss: 0.2352 - accuracy: 0.9395\n",
            "Epoch 99/100\n",
            "6/6 [==============================] - 1s 207ms/step - loss: 0.2137 - accuracy: 0.9537\n",
            "Epoch 100/100\n",
            "6/6 [==============================] - 1s 204ms/step - loss: 0.2011 - accuracy: 0.9549\n"
          ],
          "name": "stdout"
        }
      ]
    },
    {
      "cell_type": "code",
      "metadata": {
        "colab": {
          "base_uri": "https://localhost:8080/"
        },
        "id": "64h9HzRH7o1u",
        "outputId": "4bac4f1b-15a6-4b38-a93b-0647318a5532"
      },
      "source": [
        "# evaluate the model\n",
        "scores = model.evaluate(train_data, train_labels)\n",
        "print(\"%s: %.2f%%\" % (model.metrics_names[1], scores[1]*100))\n"
      ],
      "execution_count": 51,
      "outputs": [
        {
          "output_type": "stream",
          "text": [
            "82/82 [==============================] - 1s 8ms/step - loss: 0.2233 - accuracy: 0.9433\n",
            "accuracy: 94.33%\n"
          ],
          "name": "stdout"
        }
      ]
    },
    {
      "cell_type": "code",
      "metadata": {
        "colab": {
          "base_uri": "https://localhost:8080/",
          "height": 295
        },
        "id": "xIU9TfPc7pJu",
        "outputId": "a24b8885-f5ad-42a3-ce78-2632bce031e8"
      },
      "source": [
        "#evaluation and prediction\n",
        "#Visualizing Training and Validation Loss\n",
        "loss_train = history.history['loss']\n",
        "epochs = range(1,101)\n",
        "plt.plot(epochs, loss_train, 'g', label='Training loss')\n",
        "plt.title('Training  loss')\n",
        "plt.xlabel('Epochs')\n",
        "plt.ylabel('Loss')\n",
        "plt.legend()\n",
        "plt.show()"
      ],
      "execution_count": 52,
      "outputs": [
        {
          "output_type": "display_data",
          "data": {
            "image/png": "[encoded data removed]",
            "text/plain": [
              "<Figure size 432x288 with 1 Axes>"
            ]
          },
          "metadata": {
            "tags": [],
            "needs_background": "light"
          }
        }
      ]
    },
    {
      "cell_type": "code",
      "metadata": {
        "id": "c-uUzT5FzMS3",
        "colab": {
          "base_uri": "https://localhost:8080/",
          "height": 295
        },
        "outputId": "f367e1f2-a299-4936-9545-2e2f02d4676d"
      },
      "source": [
        "#Visualizing Training and Validation Accuracy\n",
        "loss_train = history.history['accuracy']\n",
        "\n",
        "epochs = range(1,101)\n",
        "plt.plot(epochs, loss_train, 'g', label='Training accuracy')\n",
        "\n",
        "plt.title('Training  accuracy')\n",
        "plt.xlabel('Epochs')\n",
        "plt.ylabel('Accuracy')\n",
        "plt.legend()\n",
        "plt.show()"
      ],
      "execution_count": 53,
      "outputs": [
        {
          "output_type": "display_data",
          "data": {
            "image/png": "[encoded data removed]",
            "text/plain": [
              "<Figure size 432x288 with 1 Axes>"
            ]
          },
          "metadata": {
            "tags": [],
            "needs_background": "light"
          }
        }
      ]
    },
    {
      "cell_type": "code",
      "metadata": {
        "id": "vOd8mlE6zR27",
        "colab": {
          "base_uri": "https://localhost:8080/"
        },
        "outputId": "4941e674-5966-4c11-f906-9f5600a77d36"
      },
      "source": [
        "historyTest=model.fit(test_data,test_labels, epochs =100, batch_size=512)"
      ],
      "execution_count": 62,
      "outputs": [
        {
          "output_type": "stream",
          "text": [
            "Epoch 1/100\n",
            "4/4 [==============================] - 1s 205ms/step - loss: 0.8362 - accuracy: 0.6225\n",
            "Epoch 2/100\n",
            "4/4 [==============================] - 1s 213ms/step - loss: 0.8275 - accuracy: 0.6422\n",
            "Epoch 3/100\n",
            "4/4 [==============================] - 1s 205ms/step - loss: 0.7953 - accuracy: 0.6590\n",
            "Epoch 4/100\n",
            "4/4 [==============================] - 1s 201ms/step - loss: 0.7752 - accuracy: 0.6382\n",
            "Epoch 5/100\n",
            "4/4 [==============================] - 1s 207ms/step - loss: 0.7597 - accuracy: 0.6595\n",
            "Epoch 6/100\n",
            "4/4 [==============================] - 1s 205ms/step - loss: 0.7690 - accuracy: 0.6717\n",
            "Epoch 7/100\n",
            "4/4 [==============================] - 1s 202ms/step - loss: 0.7306 - accuracy: 0.6653\n",
            "Epoch 8/100\n",
            "4/4 [==============================] - 1s 205ms/step - loss: 0.7119 - accuracy: 0.6711\n",
            "Epoch 9/100\n",
            "4/4 [==============================] - 1s 207ms/step - loss: 0.7250 - accuracy: 0.6671\n",
            "Epoch 10/100\n",
            "4/4 [==============================] - 1s 208ms/step - loss: 0.7243 - accuracy: 0.6746\n",
            "Epoch 11/100\n",
            "4/4 [==============================] - 1s 205ms/step - loss: 0.7670 - accuracy: 0.6595\n",
            "Epoch 12/100\n",
            "4/4 [==============================] - 1s 201ms/step - loss: 0.9519 - accuracy: 0.5769\n",
            "Epoch 13/100\n",
            "4/4 [==============================] - 1s 203ms/step - loss: 0.9314 - accuracy: 0.6075\n",
            "Epoch 14/100\n",
            "4/4 [==============================] - 1s 208ms/step - loss: 0.8783 - accuracy: 0.6376\n",
            "Epoch 15/100\n",
            "4/4 [==============================] - 1s 207ms/step - loss: 0.9905 - accuracy: 0.5902\n",
            "Epoch 16/100\n",
            "4/4 [==============================] - 1s 204ms/step - loss: 1.2475 - accuracy: 0.4757\n",
            "Epoch 17/100\n",
            "4/4 [==============================] - 1s 205ms/step - loss: 1.0397 - accuracy: 0.5618\n",
            "Epoch 18/100\n",
            "4/4 [==============================] - 1s 205ms/step - loss: 0.9543 - accuracy: 0.5798\n",
            "Epoch 19/100\n",
            "4/4 [==============================] - 1s 202ms/step - loss: 0.8655 - accuracy: 0.6098\n",
            "Epoch 20/100\n",
            "4/4 [==============================] - 1s 201ms/step - loss: 0.8045 - accuracy: 0.6254\n",
            "Epoch 21/100\n",
            "4/4 [==============================] - 1s 205ms/step - loss: 0.7728 - accuracy: 0.6422\n",
            "Epoch 22/100\n",
            "4/4 [==============================] - 1s 204ms/step - loss: 0.7662 - accuracy: 0.6566\n",
            "Epoch 23/100\n",
            "4/4 [==============================] - 1s 210ms/step - loss: 0.8385 - accuracy: 0.6254\n",
            "Epoch 24/100\n",
            "4/4 [==============================] - 1s 201ms/step - loss: 0.9000 - accuracy: 0.5855\n",
            "Epoch 25/100\n",
            "4/4 [==============================] - 1s 203ms/step - loss: 1.0943 - accuracy: 0.5046\n",
            "Epoch 26/100\n",
            "4/4 [==============================] - 1s 205ms/step - loss: 1.4846 - accuracy: 0.3988\n",
            "Epoch 27/100\n",
            "4/4 [==============================] - 1s 200ms/step - loss: 1.5137 - accuracy: 0.3185\n",
            "Epoch 28/100\n",
            "4/4 [==============================] - 1s 205ms/step - loss: 1.2225 - accuracy: 0.4647\n",
            "Epoch 29/100\n",
            "4/4 [==============================] - 1s 208ms/step - loss: 1.0670 - accuracy: 0.5382\n",
            "Epoch 30/100\n",
            "4/4 [==============================] - 1s 205ms/step - loss: 1.0762 - accuracy: 0.5249\n",
            "Epoch 31/100\n",
            "4/4 [==============================] - 1s 204ms/step - loss: 0.9719 - accuracy: 0.5636\n",
            "Epoch 32/100\n",
            "4/4 [==============================] - 1s 200ms/step - loss: 0.9810 - accuracy: 0.5884\n",
            "Epoch 33/100\n",
            "4/4 [==============================] - 1s 204ms/step - loss: 0.8864 - accuracy: 0.5590\n",
            "Epoch 34/100\n",
            "4/4 [==============================] - 1s 199ms/step - loss: 0.8596 - accuracy: 0.6173\n",
            "Epoch 35/100\n",
            "4/4 [==============================] - 1s 207ms/step - loss: 0.8789 - accuracy: 0.5919\n",
            "Epoch 36/100\n",
            "4/4 [==============================] - 1s 206ms/step - loss: 0.8528 - accuracy: 0.6035\n",
            "Epoch 37/100\n",
            "4/4 [==============================] - 1s 206ms/step - loss: 0.8580 - accuracy: 0.6468\n",
            "Epoch 38/100\n",
            "4/4 [==============================] - 1s 203ms/step - loss: 0.8068 - accuracy: 0.6069\n",
            "Epoch 39/100\n",
            "4/4 [==============================] - 1s 204ms/step - loss: 0.8104 - accuracy: 0.6572\n",
            "Epoch 40/100\n",
            "4/4 [==============================] - 1s 205ms/step - loss: 0.7779 - accuracy: 0.6249\n",
            "Epoch 41/100\n",
            "4/4 [==============================] - 1s 210ms/step - loss: 0.7706 - accuracy: 0.6387\n",
            "Epoch 42/100\n",
            "4/4 [==============================] - 1s 211ms/step - loss: 0.8114 - accuracy: 0.6347\n",
            "Epoch 43/100\n",
            "4/4 [==============================] - 1s 207ms/step - loss: 0.9575 - accuracy: 0.5844\n",
            "Epoch 44/100\n",
            "4/4 [==============================] - 1s 208ms/step - loss: 1.0562 - accuracy: 0.5751\n",
            "Epoch 45/100\n",
            "4/4 [==============================] - 1s 213ms/step - loss: 1.1009 - accuracy: 0.5543\n",
            "Epoch 46/100\n",
            "4/4 [==============================] - 1s 206ms/step - loss: 1.0877 - accuracy: 0.5503\n",
            "Epoch 47/100\n",
            "4/4 [==============================] - 1s 205ms/step - loss: 1.0229 - accuracy: 0.5977\n",
            "Epoch 48/100\n",
            "4/4 [==============================] - 1s 200ms/step - loss: 0.9850 - accuracy: 0.6121\n",
            "Epoch 49/100\n",
            "4/4 [==============================] - 1s 208ms/step - loss: 0.8160 - accuracy: 0.6445\n",
            "Epoch 50/100\n",
            "4/4 [==============================] - 1s 205ms/step - loss: 0.7602 - accuracy: 0.6416\n",
            "Epoch 51/100\n",
            "4/4 [==============================] - 1s 204ms/step - loss: 0.9802 - accuracy: 0.5376\n",
            "Epoch 52/100\n",
            "4/4 [==============================] - 1s 202ms/step - loss: 1.0674 - accuracy: 0.5538\n",
            "Epoch 53/100\n",
            "4/4 [==============================] - 1s 205ms/step - loss: 1.3641 - accuracy: 0.3711\n",
            "Epoch 54/100\n",
            "4/4 [==============================] - 1s 204ms/step - loss: 1.0512 - accuracy: 0.5358\n",
            "Epoch 55/100\n",
            "4/4 [==============================] - 1s 204ms/step - loss: 1.0061 - accuracy: 0.5538\n",
            "Epoch 56/100\n",
            "4/4 [==============================] - 1s 205ms/step - loss: 1.0091 - accuracy: 0.5555\n",
            "Epoch 57/100\n",
            "4/4 [==============================] - 1s 209ms/step - loss: 0.9306 - accuracy: 0.5734\n",
            "Epoch 58/100\n",
            "4/4 [==============================] - 1s 209ms/step - loss: 0.8571 - accuracy: 0.6266\n",
            "Epoch 59/100\n",
            "4/4 [==============================] - 1s 204ms/step - loss: 0.7796 - accuracy: 0.6480\n",
            "Epoch 60/100\n",
            "4/4 [==============================] - 1s 199ms/step - loss: 0.7509 - accuracy: 0.6301\n",
            "Epoch 61/100\n",
            "4/4 [==============================] - 1s 201ms/step - loss: 0.7274 - accuracy: 0.6618\n",
            "Epoch 62/100\n",
            "4/4 [==============================] - 1s 206ms/step - loss: 0.7455 - accuracy: 0.6618\n",
            "Epoch 63/100\n",
            "4/4 [==============================] - 1s 205ms/step - loss: 0.7666 - accuracy: 0.6457\n",
            "Epoch 64/100\n",
            "4/4 [==============================] - 1s 203ms/step - loss: 0.7824 - accuracy: 0.6601\n",
            "Epoch 65/100\n",
            "4/4 [==============================] - 1s 204ms/step - loss: 0.8645 - accuracy: 0.6220\n",
            "Epoch 66/100\n",
            "4/4 [==============================] - 1s 205ms/step - loss: 1.0043 - accuracy: 0.5624\n",
            "Epoch 67/100\n",
            "4/4 [==============================] - 1s 205ms/step - loss: 1.2816 - accuracy: 0.4994\n",
            "Epoch 68/100\n",
            "4/4 [==============================] - 1s 201ms/step - loss: 1.4170 - accuracy: 0.3358\n",
            "Epoch 69/100\n",
            "4/4 [==============================] - 1s 216ms/step - loss: 1.4567 - accuracy: 0.3133\n",
            "Epoch 70/100\n",
            "4/4 [==============================] - 1s 209ms/step - loss: 1.3384 - accuracy: 0.3543\n",
            "Epoch 71/100\n",
            "4/4 [==============================] - 1s 213ms/step - loss: 1.2756 - accuracy: 0.3798\n",
            "Epoch 72/100\n",
            "4/4 [==============================] - 1s 205ms/step - loss: 1.1982 - accuracy: 0.4035\n",
            "Epoch 73/100\n",
            "4/4 [==============================] - 1s 201ms/step - loss: 1.1564 - accuracy: 0.4104\n",
            "Epoch 74/100\n",
            "4/4 [==============================] - 1s 207ms/step - loss: 1.0563 - accuracy: 0.5110\n",
            "Epoch 75/100\n",
            "4/4 [==============================] - 1s 208ms/step - loss: 0.9468 - accuracy: 0.6254\n",
            "Epoch 76/100\n",
            "4/4 [==============================] - 1s 200ms/step - loss: 0.8536 - accuracy: 0.6405\n",
            "Epoch 77/100\n",
            "4/4 [==============================] - 1s 207ms/step - loss: 0.7810 - accuracy: 0.6572\n",
            "Epoch 78/100\n",
            "4/4 [==============================] - 1s 212ms/step - loss: 0.7582 - accuracy: 0.6855\n",
            "Epoch 79/100\n",
            "4/4 [==============================] - 1s 209ms/step - loss: 0.7432 - accuracy: 0.6422\n",
            "Epoch 80/100\n",
            "4/4 [==============================] - 1s 198ms/step - loss: 0.7210 - accuracy: 0.6659\n",
            "Epoch 81/100\n",
            "4/4 [==============================] - 1s 209ms/step - loss: 0.6991 - accuracy: 0.7052\n",
            "Epoch 82/100\n",
            "4/4 [==============================] - 1s 202ms/step - loss: 0.7077 - accuracy: 0.6751\n",
            "Epoch 83/100\n",
            "4/4 [==============================] - 1s 205ms/step - loss: 0.7165 - accuracy: 0.7046\n",
            "Epoch 84/100\n",
            "4/4 [==============================] - 1s 211ms/step - loss: 0.6997 - accuracy: 0.7185\n",
            "Epoch 85/100\n",
            "4/4 [==============================] - 1s 207ms/step - loss: 0.7161 - accuracy: 0.6908\n",
            "Epoch 86/100\n",
            "4/4 [==============================] - 1s 203ms/step - loss: 0.6790 - accuracy: 0.6902\n",
            "Epoch 87/100\n",
            "4/4 [==============================] - 1s 203ms/step - loss: 0.6795 - accuracy: 0.7647\n",
            "Epoch 88/100\n",
            "4/4 [==============================] - 1s 207ms/step - loss: 0.6413 - accuracy: 0.7266\n",
            "Epoch 89/100\n",
            "4/4 [==============================] - 1s 207ms/step - loss: 0.6153 - accuracy: 0.7301\n",
            "Epoch 90/100\n",
            "4/4 [==============================] - 1s 207ms/step - loss: 0.6115 - accuracy: 0.7624\n",
            "Epoch 91/100\n",
            "4/4 [==============================] - 1s 205ms/step - loss: 0.6530 - accuracy: 0.7786\n",
            "Epoch 92/100\n",
            "4/4 [==============================] - 1s 205ms/step - loss: 0.6453 - accuracy: 0.7249\n",
            "Epoch 93/100\n",
            "4/4 [==============================] - 1s 213ms/step - loss: 0.6091 - accuracy: 0.7532\n",
            "Epoch 94/100\n",
            "4/4 [==============================] - 1s 206ms/step - loss: 0.6030 - accuracy: 0.7861\n",
            "Epoch 95/100\n",
            "4/4 [==============================] - 1s 204ms/step - loss: 0.5547 - accuracy: 0.7896\n",
            "Epoch 96/100\n",
            "4/4 [==============================] - 1s 198ms/step - loss: 0.5677 - accuracy: 0.7809\n",
            "Epoch 97/100\n",
            "4/4 [==============================] - 1s 207ms/step - loss: 0.6024 - accuracy: 0.7723\n",
            "Epoch 98/100\n",
            "4/4 [==============================] - 1s 203ms/step - loss: 0.6091 - accuracy: 0.7636\n",
            "Epoch 99/100\n",
            "4/4 [==============================] - 1s 205ms/step - loss: 0.5807 - accuracy: 0.7740\n",
            "Epoch 100/100\n",
            "4/4 [==============================] - 1s 180ms/step - loss: 0.5573 - accuracy: 0.7948\n"
          ],
          "name": "stdout"
        }
      ]
    },
    {
      "cell_type": "code",
      "metadata": {
        "colab": {
          "base_uri": "https://localhost:8080/"
        },
        "id": "9Vw-t7_Jew6D",
        "outputId": "03386195-5125-41d0-93a6-7d8eb561fe6b"
      },
      "source": [
        "# evaluate the model\n",
        "scores = model.evaluate(test_data, test_labels)\n",
        "print(\"%s: %.2f%%\" % (model.metrics_names[1], scores[1]*100))"
      ],
      "execution_count": 63,
      "outputs": [
        {
          "output_type": "stream",
          "text": [
            "55/55 [==============================] - 0s 8ms/step - loss: 0.5390 - accuracy: 0.8035\n",
            "accuracy: 80.35%\n"
          ],
          "name": "stdout"
        }
      ]
    },
    {
      "cell_type": "code",
      "metadata": {
        "id": "yFIVVXeLzZHo",
        "colab": {
          "base_uri": "https://localhost:8080/",
          "height": 295
        },
        "outputId": "1ba0a689-4bfa-4e00-cd97-37d316ede83b"
      },
      "source": [
        "#Visualizing Training and Validation Accuracy\n",
        "loss_test = historyTest.history['accuracy']\n",
        "\n",
        "epochs = range(1,101)\n",
        "plt.plot(epochs, loss_test, 'g', label='testing accuracy')\n",
        "\n",
        "plt.title('testing  accuracy')\n",
        "plt.xlabel('Epochs')\n",
        "plt.ylabel('Accuracy')\n",
        "plt.legend()\n",
        "plt.show()"
      ],
      "execution_count": 64,
      "outputs": [
        {
          "output_type": "display_data",
          "data": {
            "image/png": "[encoded data removed]",
            "text/plain": [
              "<Figure size 432x288 with 1 Axes>"
            ]
          },
          "metadata": {
            "tags": [],
            "needs_background": "light"
          }
        }
      ]
    },
    {
      "cell_type": "code",
      "metadata": {
        "id": "gMUy42Iq0GuA",
        "colab": {
          "base_uri": "https://localhost:8080/"
        },
        "outputId": "c71e1b99-6079-4a30-c0ff-26e8f8263c14"
      },
      "source": [
        "for i in range(200):\n",
        "    print(\"train\",train_data[i],\"test\",test_data[i])"
      ],
      "execution_count": 65,
      "outputs": [
        {
          "output_type": "stream",
          "text": [
            "train [0.4706259  0.5059165  0.5412071  ... 0.13609333 0.12181647 0.12484353] test [0.07900392 0.07759608 0.09025373 ... 0.13778551 0.11862667 0.13407569]\n",
            "train [0.30630666 0.30630666 0.3136353  ... 0.7633942  0.7765655  0.7765655 ] test [0.3690228  0.10126667 0.07451961 ... 0.99990004 0.99990004 0.99990004]\n",
            "train [0.6196851  0.6324518  0.63946664 ... 0.20794943 0.23147649 0.27848825] test [0.26271883 0.26664    0.25879765 ... 0.24703412 0.27840355 0.29408827]\n",
            "train [0.04313294 0.04705412 0.0509753  ... 0.16189805 0.15987411 0.15684707] test [0.15761568 0.16177255 0.1672706  ... 0.27854353 0.261342   0.26343256]\n",
            "train [0.7844106  0.8227282  0.838691   ... 0.49450082 0.49853098 0.4314173 ] test [0.19185962 0.19162393 0.18037412 ... 0.35985413 0.37553886 0.3833812 ]\n",
            "train [0.19697845 0.2544549  0.29017493 ... 0.09834314 0.3687255  0.40124276] test [0.36601138 0.25400117 0.20840862 ... 0.80521494 0.82980084 0.8508569 ]\n",
            "train [0.20004667 0.06325255 0.0554102  ... 0.94507027 0.9482663  0.8735283 ] test [0.81972194 0.8193173  0.81935966 ... 0.35271883 0.36495373 0.3441757 ]\n",
            "train [0.28109294 0.30144784 0.34164432 ... 0.46279728 0.548682   0.6162176 ] test [0.15028237 0.15028237 0.15028237 ... 0.20877255 0.20877255 0.20877255]\n",
            "train [0.16500472 0.16500472 0.13356863 ... 0.28616905 0.30260316 0.30260316] test [0.07761412 0.08545648 0.08545648 ... 0.09723295 0.09723295 0.08697961]\n",
            "train [0.3680102  0.35752785 0.35663372 ... 0.11825843 0.11753333 0.12202824] test [0.21077178 0.23907214 0.23907214 ... 0.05815921 0.05815921 0.04364667]\n",
            "train [0.2544059  0.31341687 0.35343844 ... 0.09748001 0.17337255 0.36555725] test [0.72990006 0.7264435  0.7103294  ... 0.09532275 0.01289333 0.07925098]\n",
            "train [0.23846197 0.3172965  0.32081336 ... 0.3651545  0.38422903 0.44270238] test [0.46316665 0.44671452 0.44317377 ... 0.26964197 0.3238196  0.36553293]\n",
            "train [0.02335843 0.02335843 0.02683255 ... 0.02557569 0.02764196 0.01172157] test [0.1818549  0.18577607 0.1818549  ... 0.20427059 0.23184548 0.2751055 ]\n",
            "train [0.03136941 0.02744824 0.02744824 ... 0.07084118 0.13603961 0.17972197] test [0.75667095 0.75667095 0.93711185 ... 0.11370274 0.15161568 0.15161568]\n",
            "train [0.4191961  0.4110267  0.4477251  ... 0.03030628 0.03422745 0.01615608] test [0.55222905 0.44264784 0.46216902 ... 0.7257455  0.7374667  0.7441369 ]\n",
            "train [0.49757805 0.49365687 0.4897357  ... 0.43441215 0.43833333 0.4422545 ] test [0.18712471 0.19888824 0.19888824 ... 0.6749102  0.6827526  0.69496316]\n",
            "train [0.20387724 0.18361294 0.1061502  ... 0.14535607 0.14147726 0.11083294] test [0.10042235 0.06992902 0.12109765 ... 0.09922589 0.09282196 0.10844   ]\n",
            "train [0.21468276 0.21500313 0.21108198 ... 0.30647644 0.31431884 0.32976785] test [0.04390667 0.04160471 0.04646235 ... 0.40559608 0.44253018 0.38786274]\n",
            "train [0.13701217 0.13701217 0.16838157 ... 0.11712823 0.1877094  0.1877094 ] test [0.39950117 0.25874433 0.6085553  ... 0.27476627 0.24954315 0.2196098 ]\n",
            "train [0.32612276 0.5340055  0.3606404  ... 0.43090707 0.42306474 0.41914353] test [0.38896352 0.38504237 0.37210667 ... 0.23975569 0.43957493 0.21198668]\n",
            "train [0.88276434 0.8866855  0.88276434 ... 0.35609725 0.24001412 0.16403726] test [0.32581767 0.32973883 0.33613098 ... 0.75337964 0.71478397 0.6982051 ]\n",
            "train [0.41120982 0.39944628 0.38516942 ... 0.17720863 0.12269922 0.32241923] test [0.54049647 0.54929966 0.54985565 ... 0.48540983 0.4774165  0.4600098 ]\n",
            "train [0.98903054 0.9830008  0.96733415 ... 0.30230078 0.2969718  0.23964   ] test [0.70608985 0.83408076 0.82231724 ... 0.47054118 0.4979894  0.39603883]\n",
            "train [0.06785647 0.06785647 0.0639353  ... 0.12255412 0.11471177 0.11677804] test [0.14475884 0.15652235 0.1634706  ... 0.26795805 0.27187923 0.29003492]\n",
            "train [0.32240903 0.35377842 0.35377842 ... 0.24249177 0.24249177 0.33304787] test [0.71377414 0.71377414 0.71287996 ... 0.36516705 0.3617286  0.29722393]\n",
            "train [0.51088274 0.5830408  0.5604079  ... 0.2486898  0.2677153  0.26961255] test [0.5955051  0.62295336 0.6190322  ... 0.6234004  0.62732154 0.6321369 ]\n",
            "train [0.         0.00683922 0.00468863 ... 0.00368549 0.01148549 0.        ] test [0.9567671  0.9567671  0.9567671  ... 0.10614432 0.12166001 0.10288157]\n",
            "train [0.9987279  0.99710864 0.9830008  ... 0.86264277 0.86745805 0.84597963] test [0.35977727 0.4086506  0.38458547 ... 0.01063373 0.00117216 0.10480863]\n",
            "train [0.39183924 0.3487063  0.38399684 ... 0.5321757  0.6009263  0.58758664] test [0.9072623  0.9072623  0.91118354 ... 0.8399196  0.8399196  0.8399196 ]\n",
            "train [0.1643098  0.16936079 0.18555921 ... 0.15685451 0.15713255 0.15572472] test [0.3215957  0.4276298  0.47841176 ... 0.03891647 0.05185216 0.0440098 ]\n",
            "train [0.02642706 0.04626863 0.0268498  ... 0.01479059 0.         0.00392118] test [0.07081686 0.06600157 0.06600157 ... 0.23962863 0.23962863 0.20819254]\n",
            "train [0.14663294 0.17261334 0.18844943 ... 0.3726741  0.3012298  0.2834545 ] test [0.43648395 0.42890158 0.42890158 ... 0.4298459  0.4298459  0.44301724]\n",
            "train [0.99990004 0.99990004 0.99990004 ... 0.99990004 0.99990004 0.99990004] test [0.09807333 0.12064668 0.18869177 ... 0.06022706 0.09684157 0.1135051 ]\n",
            "train [0.44728237 0.4433612  0.44308314 ... 0.15307724 0.15311961 0.15311961] test [0.9883479  0.9981118  0.9990059  ... 0.99990004 0.99990004 0.9959788 ]\n",
            "train [0.27840355 0.40780237 0.5175953  ... 0.5920977  0.6430729  0.42348704] test [0.18558942 0.18861647 0.18951058 ... 0.41289765 0.42301098 0.08299177]\n",
            "train [0.15452236 0.14090392 0.12163607 ... 0.03457176 0.03135137 0.01845804] test [0.11437922 0.10834941 0.09809609 ... 0.4228957  0.3017863  0.31354982]\n",
            "train [0.73718125 0.8744224  0.85873765 ... 0.86658    0.8783435  0.6156247 ] test [0.05438275 0.05438275 0.05579059 ... 0.05186941 0.05579059 0.06363294]\n",
            "train [0.25123334 0.25790355 0.26323256 ... 0.23162746 0.23134942 0.22629844] test [0.0794149  0.09767961 0.10458549 ... 0.19711098 0.20798041 0.22443256]\n",
            "train [0.34818625 0.25908667 0.5015204  ... 0.51349884 0.40724003 0.5464333 ] test [0.06048588 0.07442471 0.05922941 ... 0.06359765 0.06359765 0.06359765]\n",
            "train [0.20778705 0.20083883 0.18907529 ... 0.12448784 0.12561765 0.12651177] test [0.39168864 0.3681863  0.38101256 ... 0.42711765 0.38457057 0.6947718 ]\n",
            "train [0.19876549 0.23405607 0.14887765 ... 0.41267687 0.3008357  0.70898706] test [0.2548765  0.26271883 0.21958588 ... 0.17201804 0.21617843 0.2518494 ]\n",
            "train [0.23558587 0.2404012  0.2404012  ... 0.2091404  0.24381492 0.2708161 ] test [0.3321671  0.33608824 0.33608824 ... 0.46387294 0.45882198 0.46193376]\n",
            "train [0.52976316 0.525842   0.52976316 ... 0.03855333 0.03855333 0.03972549] test [0.05097647 0.04219765 0.31303257 ... 0.17749217 0.00468863 0.03657177]\n",
            "train [0.1147353  0.08106354 0.11297137 ... 0.02423412 0.06203804 0.05116863] test [0.9214895  0.92949414 0.94946903 ... 0.5056145  0.5028232  0.4902922 ]\n",
            "train [0.5444122  0.56835574 0.47726786 ... 0.05027451 0.04590628 0.09355883] test [0.34053454 0.32597962 0.30241022 ... 0.30241022 0.2776443  0.2593796 ]\n",
            "train [0.9256393  0.91046196 0.87410825 ... 0.1109804  0.09536235 0.06209607] test [0.94542754 0.9463216  0.9463216  ... 0.18210158 0.09442784 0.11448079]\n",
            "train [0.2829545  0.27777687 0.2753059  ... 0.14918117 0.15165216 0.1283851 ] test [0.57589924 0.57589924 0.5173353  ... 0.21249412 0.20001687 0.20001687]\n",
            "train [0.00694824 0.00694824 0.00694824 ... 0.03689216 0.03373843 0.03891647] test [0.61922556 0.6397255  0.6514891  ... 0.2716859  0.27560708 0.27560708]\n",
            "train [0.23933375 0.23933375 0.2550608  ... 0.08206745 0.08554157 0.08554157] test [0.56483376 0.56483376 0.5687549  ... 0.14375138 0.2501788  0.29723296]\n",
            "train [0.04735647 0.07026079 0.07418196 ... 0.6638934  0.6207604  0.62378746] test [0.34626707 0.3482059  0.33792236 ... 0.00441059 0.00230196 0.15333255]\n",
            "train [0.46642983 0.41238627 0.39128786 ... 0.18387294 0.16931216 0.20879883] test [0.04705412 0.04705412 0.04705412 ... 0.01960588 0.01960588 0.01960588]\n",
            "train [0.00117216 0.0040902  0.04298157 ... 0.11816236 0.11816236 0.10192157] test [0.00392118 0.00392118 0.00392118 ... 0.4468706  0.41935572 0.39469883]\n",
            "train [0.25180197 0.261729   0.25075686 ... 0.05487804 0.07126354 0.0040902 ] test [0.04313294 0.04343529 0.05539216 ... 0.03825726 0.03825726 0.0396651 ]\n",
            "train [0.3183259  0.3252741  0.33614352 ... 0.68684316 0.682922   0.682922  ] test [0.0823447  0.09321412 0.09434392 ... 0.09601843 0.10531098 0.11500823]\n",
            "train [0.9095616  0.9145702  0.9145702  ... 0.91878706 0.91878706 0.91878706] test [0.00178824 0.01657882 0.03226353 ... 0.04622667 0.02026431 0.06974079]\n",
            "train [0.35775217 0.41211727 0.36772746 ... 0.44640392 0.4541859  0.4313596 ] test [0.01871176 0.01960588 0.02073569 ... 0.35674235 0.3332153  0.3676118 ]\n",
            "train [0.47405884 0.43139726 0.4272647  ... 0.1825553  0.26256236 0.3641145 ] test [0.62443763 0.62443763 0.6283588  ... 0.36940864 0.21602902 0.19236824]\n",
            "train [0.0738502  0.06754275 0.16333649 ... 0.10080274 0.14151962 0.0623647 ] test [0.25961372 0.2552455  0.2425455  ... 0.10472392 0.10334039 0.10491726]\n",
            "train [0.2189702  0.2189702  0.21112786 ... 0.376882   0.37999374 0.37999374] test [0.30871648 0.2634506  0.2634506  ... 0.37781295 0.37781295 0.36370513]\n",
            "train [0.98717576 0.98080784 0.9981118  ... 0.99990004 0.99990004 0.99990004] test [0.9771824  0.9771824  0.97213143 ... 0.03022157 0.03947176 0.03951412]\n",
            "train [0.15620156 0.15219569 0.15607451 ... 0.10573334 0.10573334 0.10965452] test [0.12995647 0.12692942 0.12692942 ... 0.4309251  0.4309251  0.40801412]\n",
            "train [0.         0.         0.         ... 0.00117216 0.00279137 0.00117216] test [0.07391687 0.07436392 0.07044274 ... 0.27208588 0.27208588 0.26816472]\n",
            "train [0.8307757  0.84253925 0.8503816  ... 0.8200996  0.8083361  0.80837846] test [0.7732992  0.77722037 0.7732992  ... 0.22008392 0.55736905 0.6787941 ]\n",
            "train [0.12958705 0.15823178 0.15341647 ... 0.19303961 0.18423647 0.1502204 ] test [0.3271259  0.3271259  0.32623178 ... 0.14962785 0.14777294 0.14777294]\n",
            "train [0.285149   0.20132941 0.2197451  ... 0.07707059 0.02532157 0.07534274] test [0.76853454 0.74448115 0.7962487  ... 0.82662153 0.7906287  0.7613565 ]\n",
            "train [0.01875451 0.01875451 0.01875451 ... 0.05021451 0.04629333 0.04742314] test [0.40839568 0.40754396 0.38098982 ... 0.30107573 0.7730584  0.45234156]\n",
            "train [0.03130902 0.03130902 0.0352302  ... 0.53820825 0.5584482  0.5269165 ] test [0.42328745 0.42607334 0.43860358 ... 0.17180784 0.17958353 0.18711215]\n",
            "train [0.07027333 0.07027333 0.07027333 ... 0.1837047  0.18807295 0.17675649] test [0.05589922 0.06005608 0.05803216 ... 0.22728392 0.29790747 0.3494565 ]\n",
            "train [0.7325592  0.74044394 0.74044394 ... 0.91800904 0.91800904 0.5219702 ] test [0.98013175 0.9531906  0.9803674  ... 0.7716973  0.33366472 0.2853098 ]\n",
            "train [0.88675964 0.95734084 0.86922    ... 0.0115098  0.09013334 0.0831851 ] test [0.08923255 0.08531138 0.08644117 ... 0.4274659  0.43829295 0.4436643 ]\n",
            "train [0.7012773  0.62871575 0.4377059  ... 0.22289686 0.13317491 0.06608628] test [0.5328878  0.5525361  0.57913256 ... 0.32907137 0.33209845 0.3360196 ]\n",
            "train [0.7846416  0.7965745  0.71290666 ... 0.36885414 0.33399296 0.3484569 ] test [0.94410944 0.9259114  0.90630555 ... 0.90489763 0.91274    0.9245035 ]\n",
            "train [0.43532076 0.44316316 0.4470843  ... 0.06224902 0.05581451 0.05745804] test [0.33722118 0.3333     0.3333     ... 0.43132943 0.43132943 0.43132943]\n",
            "train [0.         0.         0.         ... 0.27406904 0.27515647 0.27496317] test [0.6430729  0.6430729  0.6430729  ... 0.7533377  0.75725883 0.76623106]\n",
            "train [0.58081293 0.5842871  0.58541685 ... 0.67800355 0.67800355 0.67448705] test [0.12506118 0.07195294 0.05234706 ... 0.09846471 0.10319529 0.15583177]\n",
            "train [0.13332    0.03128471 0.03128471 ... 0.90155023 0.90155023 0.8976714 ] test [0.4313114  0.52271295 0.56358624 ... 0.09920862 0.08991608 0.0744004 ]\n",
            "train [0.10610078 0.09454864 0.08596353 ... 0.18399294 0.17619295 0.1579102 ] test [0.4951616  0.40469608 0.431951   ... 0.2672294  0.27954862 0.3526851 ]\n",
            "train [0.30209255 0.3095302  0.30916783 ... 0.5211306  0.5250518  0.53289413] test [0.76880705 0.76368946 0.7853063  ... 0.0431149  0.03919373 0.03414275]\n",
            "train [0.06027412 0.05194236 0.05194236 ... 0.57635957 0.57635957 0.60749334] test [0.26232392 0.24373883 0.20430902 ... 0.15290785 0.09016903 0.05487843]\n",
            "train [0.01155216 0.01155216 0.01155216 ... 0.07689529 0.08190392 0.08190392] test [0.12262589 0.13658902 0.1419847  ... 0.11802197 0.00756431 0.02384745]\n",
            "train [0.00671255 0.00671255 0.00671255 ... 0.0275149  0.02655412 0.02655412] test [0.10138314 0.10954589 0.10198157 ... 0.0274302  0.02350902 0.02237922]\n",
            "train [0.9258341 0.9219129 0.9219129 ... 0.6663404 0.6663404 0.6652106] test [0.73662156 0.74834275 0.75731486 ... 0.36029923 0.42734474 0.20827766]\n",
            "train [0.05905373 0.06623765 0.06647334 ... 0.         0.         0.        ] test [0.3607075  0.3610098  0.34449765 ... 0.0823447  0.07752942 0.07752942]\n",
            "train [0.08957137 0.13954352 0.21097648 ... 0.7607083  0.75376    0.76411575] test [0.11221687 0.12607099 0.14450471 ... 0.35328785 0.36157727 0.36436865]\n",
            "train [0. 0. 0. ... 0. 0. 0.] test [0.55276155 0.58855253 0.6505906  ... 0.2509698  0.25913256 0.27008   ]\n",
            "train [0.3563216  0.40725452 0.44994038 ... 0.6229341  0.49708077 0.40251884] test [0.5058318  0.509753   0.509753   ... 0.2705612  0.23527059 0.18037412]\n",
            "train [0.3529059  0.37251177 0.3881965  ... 0.7058118  0.69796944 0.6783635 ] test [0.05816549 0.05424431 0.0592953  ... 0.234451   0.22426432 0.22426432]\n",
            "train [0.10271138 0.25079724 0.22731844 ... 0.44536784 0.6359102  0.53730047] test [0.7062067  0.6546353  0.63467765 ... 0.27094787 0.20722353 0.2591349 ]\n",
            "train [0.39982784 0.406329   0.40875804 ... 0.2664859  0.27817762 0.28649136] test [0.28121528 0.2772941  0.2749498  ... 0.27095532 0.26311296 0.30143058]\n",
            "train [0. 0. 0. ... 0. 0. 0.] test [0.5920977  0.22742824 0.5411224  ... 0.1646894  0.45877767 0.27840355]\n",
            "train [0.4189455  0.4222506  0.42067373 ... 0.4737969  0.46991804 0.4698757 ] test [0.4078871  0.41180825 0.3882812  ... 0.1931051  0.20428824 0.2203843 ]\n",
            "train [0.22431648 0.21255293 0.20863177 ... 0.18453726 0.12066863 0.16126391] test [0.7998396  0.7963232  0.78820276 ... 0.33988157 0.40017375 0.39688668]\n",
            "train [0.39653766 0.33295804 0.2733906  ... 0.33405682 0.32574314 0.31005844] test [0.46992943 0.45145336 0.41494823 ... 0.12967177 0.13293451 0.17169923]\n",
            "train [0.40271175 0.42417255 0.44000825 ... 0.13219765 0.08697373 0.09129961] test [0.68691534 0.6476192  0.70527613 ... 0.28202978 0.2829549  0.16908823]\n",
            "train [0.96825254 0.9643314  0.9643314  ... 0.7889443  0.7889443  0.7889443 ] test [0.05766981 0.05811686 0.05811686 ... 0.10236157 0.10325569 0.13822588]\n",
            "train [0.1030804  0.10218628 0.10129216 ... 0.24371725 0.27508667 0.20401609] test [0.8239188  0.8239188  0.8151824  ... 0.773264   0.78110635 0.78110635]\n",
            "train [0.16705842 0.16705842 0.16705842 ... 0.15374197 0.15374197 0.16942666] test [0.7617714  0.76132435 0.7652455  ... 0.30590707 0.26752275 0.22014824]\n",
            "train [0.823018   0.8234651  0.8234651  ... 0.31362078 0.31362078 0.28225136] test [0.47520083 0.48696432 0.48696432 ... 0.37253726 0.37253726 0.31284982]\n",
            "train [0.34582666 0.34885374 0.35580197 ... 0.4952969  0.5059306  0.5168    ] test [0.4589851  0.45069572 0.435289   ... 0.5880141  0.56813025 0.546011  ]\n",
            "train [0.28948158 0.30265293 0.28992864 ... 0.8150663  0.8153263  0.88253576] test [0.00351647 0.00430157 0.00549804 ... 0.00351647 0.00690588 0.00460392]\n",
            "train [0.03184118 0.02792    0.02792    ... 0.01208392 0.00816275 0.00816275] test [0.54520273 0.55809605 0.58797294 ... 0.20039882 0.23266236 0.2463898 ]\n",
            "train [0.32153645 0.3293788  0.30977294 ... 0.22742824 0.22350706 0.20782235] test [0.         0.00117216 0.00319608 ... 0.00677255 0.         0.        ]\n",
            "train [0.99990004 0.99990004 0.99990004 ... 0.30584666 0.27771568 0.23187608] test [0.43073806 0.43078038 0.4268592  ... 0.30220354 0.30915177 0.25817648]\n",
            "train [0.01568471 0.         0.00577608 ... 0.5100667  0.49740902 0.48172432] test [0.7059243  0.65929294 0.7373961  ... 0.05116863 0.01871176 0.0787502 ]\n",
            "train [0.06787451 0.5134455  0.89887494 ... 0.31414863 0.4004992  0.1404196 ] test [0.06913765 0.06944001 0.08216432 ... 0.0988698  0.09797569 0.0988698 ]\n",
            "train [0.15591764 0.161011   0.1570898  ... 0.35226038 0.34906435 0.3505145 ] test [0.52242154 0.52242154 0.991695   ... 0.43019962 0.39580315 0.39580315]\n",
            "train [0.35366747 0.3536251  0.35245296 ... 0.34829608 0.33766237 0.33369884] test [0.3010796  0.28686315 0.28686315 ... 0.58351415 0.58351415 0.6070659 ]\n",
            "train [0.00530471 0.01063373 0.01272431 ... 0.         0.         0.        ] test [0.15707804 0.16067883 0.16455765 ... 0.18311295 0.30993727 0.13226353]\n",
            "train [0.05336824 0.04944706 0.04552588 ... 0.06600784 0.06600784 0.06208667] test [0.3852541  0.3852541  0.63518596 ... 0.26011568 0.26363844 0.26363844]\n",
            "train [0.4993761  0.50216746 0.5060886  ... 0.02883804 0.01498392 0.01984157] test [0.5672718  0.5572965  0.43523723 ... 0.13039647 0.08681019 0.0794149 ]\n",
            "train [0.32436588 0.33431688 0.32930824 ... 0.20795727 0.19943215 0.1964051 ] test [0.46318865 0.48279452 0.5049804  ... 0.41705608 0.4131349  0.40529257]\n",
            "train [0.06672667 0.04319961 0.04756784 ... 0.1750043  0.13640863 0.11807725] test [0.51000905 0.5104561  0.5059788  ... 0.5758098  0.5914522  0.60826665]\n",
            "train [0.21054707 0.19149059 0.17686902 ... 0.21228352 0.19653217 0.15277646] test [0.3657796  0.33689332 0.36394355 ... 0.34114116 0.34502    0.35399216]\n",
            "train [0.99990004 0.99990004 0.99990004 ... 0.16136275 0.31842038 0.24430512] test [0.329409   0.31447375 0.31402668 ... 0.32151997 0.30242786 0.27807334]\n",
            "train [0.44790822 0.43889377 0.4319455  ... 0.68185574 0.70206004 0.70088786] test [0.6893255  0.74448866 0.7564145  ... 0.0864647  0.08254354 0.08622903]\n",
            "train [0.1682608  0.16410394 0.15557882 ... 0.38762274 0.3452992  0.47497606] test [0.58138233 0.59314585 0.6077008  ... 0.20297882 0.43165374 0.23551333]\n",
            "train [0.7956334  0.4500651  0.5717839  ... 0.49406824 0.47002745 0.46263218] test [0.42376    0.4856047  0.5396071  ... 0.01847608 0.01657882 0.01657882]\n",
            "train [0.08394628 0.08394628 0.08394628 ... 0.00392118 0.         0.00784235] test [0.561509   0.5497455  0.54582435 ... 0.01502628 0.01592039 0.01199922]\n",
            "train [0. 0. 0. ... 0. 0. 0.] test [0.33430627 0.33430627 0.3320043  ... 0.34144235 0.3375212  0.3336    ]\n",
            "train [0.6168902  0.61252195 0.6128     ... 0.14438275 0.14046156 0.13658275] test [0.34923258 0.3527067  0.35379416 ... 0.2187953  0.1836251  0.0969902 ]\n",
            "train [0.24382669 0.2544357  0.2544357  ... 0.5332863  0.5332863  0.54500747] test [0.5759902  0.5759902  0.57712    ... 0.05298745 0.10045294 0.04495176]\n",
            "train [0.62392473 0.0553498  0.2319557  ... 0.25105885 0.15696901 0.25481763] test [0.19603528 0.18485215 0.1958306  ... 0.49475726 0.467309   0.5143631 ]\n",
            "train [0.25817648 0.30518827 0.27763098 ... 0.15626158 0.21077766 0.19972157] test [0.5181447  0.5443753  0.5443753  ... 0.35265926 0.35265926 0.30222237]\n",
            "train [0.16034588 0.17097962 0.2125357  ... 0.11512785 0.11120667 0.10587765] test [0.0083251 0.0083251 0.0083251 ... 0.0083251 0.0083251 0.0083251]\n",
            "train [0.89378625 0.9028432  0.89779216 ... 0.6196898  0.6155753  0.579542  ] test [0.08607921 0.11242785 0.13964707 ... 0.74814636 0.5089545  0.65099293]\n",
            "train [0.26356432 0.26247686 0.271449   ... 0.5909679  0.59488904 0.5909679 ] test [0.78494275 0.8045486  0.8163122  ... 0.5523934  0.47789097 0.5210239 ]\n",
            "train [0.14615294 0.14960355 0.14960355 ... 0.26276666 0.26276666 0.23026745] test [0.27516627 0.29387805 0.27375844 ... 0.9920576  0.96853065 0.9959788 ]\n",
            "train [0.03862    0.03862    0.04254118 ... 0.03446314 0.03446314 0.03446314] test [0.28637022 0.32138982 0.31326944 ... 0.18331099 0.14844313 0.2111949 ]\n",
            "train [0.9842153  0.99990004 0.976373   ... 0.9931875  0.9853451  0.9987279 ] test [0.20048314 0.20743139 0.21527374 ... 0.01511098 0.01163686 0.00816275]\n",
            "train [0.22779255 0.23418511 0.2341004  ... 0.3406847  0.3398149  0.3368969 ] test [0.21982981 0.14063725 0.2399659  ... 0.11845765 0.12984078 0.04347765]\n",
            "train [0.32502863 0.332871   0.3421212  ... 0.2165059  0.2000298  0.18939608] test [0.7505635  0.82321095 0.87895924 ... 0.49827492 0.49507886 0.508782  ]\n",
            "train [0.30585843 0.07598314 0.07598314 ... 0.23247923 0.23247923 0.2271502 ] test [0.51849455 0.5603334  0.598898   ... 0.48206353 0.4829153  0.49742785]\n",
            "train [0.36420864 0.36902395 0.36902395 ... 0.02412549 0.02412549 0.01280902] test [0.48993018 0.50887764 0.52070785 ... 0.04269216 0.04269216 0.03921804]\n",
            "train [0.06905883 0.10290549 0.18053177 ... 0.47830787 0.49019843 0.48723176] test [0.25062156 0.37759605 0.39337137 ... 0.6102902  0.7099569  0.73239607]\n",
            "train [0.10198746 0.12468706 0.13854118 ... 0.11773883 0.11079059 0.11362432] test [0.00089412 0.00089412 0.00089412 ... 0.34020746 0.40330237 0.38815567]\n",
            "train [0.27154    0.27158237 0.27437374 ... 0.5643263  0.5730628  0.5730628 ] test [0.04934902 0.04934902 0.04934902 ... 0.31411803 0.20237452 0.46299335]\n",
            "train [0.0554102  0.06386863 0.03552628 ... 0.606891   0.29424787 0.27505177] test [0.28167373 0.46659178 0.52063644 ... 0.22327843 0.22059608 0.38480943]\n",
            "train [0.17592472 0.2235349  0.2861894  ... 0.23835528 0.23097177 0.24735726] test [0.02384745 0.0160051  0.01992627 ... 0.11930353 0.13106705 0.15067294]\n",
            "train [0.6702345  0.6663134  0.6623922  ... 0.46982586 0.46108943 0.46108943] test [0.35976866 0.35976866 0.36251765 ... 0.24645019 0.23820315 0.28127608]\n",
            "train [0.01086941 0.01176353 0.02352706 ... 0.13686001 0.13997178 0.12918706] test [0.3949055  0.4227408  0.4550647  ... 0.80733454 0.7924459  0.78789216]\n",
            "train [0.9332753  0.94947374 0.9583192  ... 0.60644823 0.6307424  0.6385847 ] test [0.7604793  0.7722428  0.77616394 ... 0.75745213 0.76921564 0.7652945 ]\n",
            "train [0.89357495 0.90141726 0.9131384  ... 0.22989295 0.23078705 0.23078705] test [0.38791254 0.3800702  0.37614903 ... 0.54613215 0.5452381  0.5542949 ]\n",
            "train [0.10631373 0.10631373 0.10631373 ... 0.05985098 0.05985098 0.06219529] test [0.41948548 0.41601136 0.41993254 ... 0.38894117 0.32524157 0.32275257]\n",
            "train [0. 0. 0. ... 0. 0. 0.] test [0.1776745  0.18894863 0.196791   ... 0.12462039 0.11767216 0.11654235]\n",
            "train [0.5770984  0.5770984  0.5770984  ... 0.4305114  0.4305114  0.43443257] test [0.42827412 0.42827412 0.42435294 ... 0.48272356 0.4940643  0.47837964]\n",
            "train [0.7758792  0.7526302  0.7374592  ... 0.40755412 0.45830077 0.48948315] test [0.37332314 0.37106353 0.36803645 ... 0.5613267  0.56087965 0.5648008 ]\n",
            "train [0.17760079 0.17760079 0.1932855  ... 0.0987549  0.09483373 0.09483373] test [0.3920906  0.39741963 0.44718707 ... 0.20375764 0.22756274 0.23964667]\n",
            "train [0.15545294 0.0859102  0.0736749  ... 0.23221491 0.24745256 0.2600435 ] test [0.7562733  0.76019454 0.7691667  ... 0.03422745 0.03175647 0.02783529]\n",
            "train [0.40389255 0.40316746 0.40316746 ... 0.5642628  0.5642628  0.56470984] test [0.6902848  0.8075828  0.8462804  ... 0.14562783 0.24609217 0.44708198]\n",
            "train [0.06570549 0.03433608 0.04750745 ... 0.14085451 0.1415796  0.13373725] test [0.18463491 0.1768349  0.18075609 ... 0.25012276 0.2434102  0.20415609]\n",
            "train [0.03851098 0.03806392 0.03806392 ... 0.12608197 0.12373764 0.12951373] test [0.12619688 0.1407094  0.17346275 ... 0.3680655  0.15963334 0.34221336]\n",
            "train [0.3219067  0.33313844 0.34914353 ... 0.4753949  0.48355767 0.49091062] test [0.         0.         0.00392118 ... 0.         0.         0.00784235]\n",
            "train [0.46312982 0.43058825 0.3925063  ... 0.34461135 0.32220665 0.25043255] test [0.53023726 0.50266236 0.48523176 ... 0.65489566 0.65008044 0.64615923]\n",
            "train [0.33247805 0.2560604  0.19634275 ... 0.05219647 0.07439961 0.05053451] test [0.17619452 0.17619452 0.17619452 ... 0.25435138 0.26700902 0.29882553]\n",
            "train [0.36755413 0.3326867  0.38097882 ... 0.02768392 0.21588196 0.21596001] test [0.15561333 0.15561333 0.15953451 ... 0.12597217 0.12298745 0.12275176]\n",
            "train [0.3490482  0.35207528 0.35599646 ... 0.6040898  0.58844745 0.56771183] test [0.01152784 0.02776863 0.09025373 ... 0.23968236 0.25536704 0.27978823]\n",
            "train [0.13697608 0.11274824 0.13736275 ... 0.31024    0.2817463  0.26839924] test [0.93324006 0.9592985  0.93308866 ... 0.9637153  0.9597941  0.9519518 ]\n",
            "train [0.16911139 0.1651902  0.17303254 ... 0.13690785 0.13690785 0.14285295] test [0.2866051  0.2824059  0.28600666 ... 0.06701059 0.06790471 0.06029804]\n",
            "train [0.7404765  0.74137056 0.74137056 ... 0.8666506  0.8705718  0.86967766] test [0.2935749  0.30925962 0.30925962 ... 0.14081216 0.14081216 0.1128502 ]\n",
            "train [0.3565263  0.3565263  0.3565263  ... 0.40310392 0.39918277 0.39918277] test [0.17197098 0.17774706 0.18558942 ... 0.27482194 0.27392784 0.28569135]\n",
            "train [0.27891725 0.68910587 0.68910587 ... 0.71376276 0.71376276 0.7059204 ] test [0.3176153  0.27840355 0.2823247  ... 0.27448237 0.2705612  0.3176153 ]\n",
            "train [0.03657177 0.04049294 0.04720549 ... 0.16113804 0.15968783 0.16866   ] test [0.8865942  0.8937471  0.8811137  ... 0.3014314  0.42764747 0.23626824]\n",
            "train [0.0093349  0.00937726 0.00937726 ... 0.         0.         0.00392118] test [0.9736663  0.976651   0.9754789  ... 0.2591914  0.24847335 0.26326394]\n",
            "train [0.00392118 0.00392118 0.00392118 ... 0.00392118 0.00392118 0.00392118] test [0.4309404  0.37290788 0.45945176 ... 0.00464627 0.00812039 0.00464627]\n",
            "train [0.3067345  0.31065568 0.31316903 ... 0.8753899  0.8784169  0.87057453] test [0.5324318  0.53635293 0.5402741  ... 0.8700851  0.9015816  0.89099026]\n",
            "train [0.48655766 0.4713686  0.4713686  ... 0.16168784 0.16168784 0.19552825] test [0.12518863 0.28616825 0.16066627 ... 0.7444035  0.76036626 0.80746275]\n",
            "train [0.32536277 0.39477178 0.4907349  ... 0.447109   0.45188197 0.45394823] test [0.16809253 0.17699803 0.17166902 ... 0.25961688 0.27617767 0.40127492]\n",
            "train [0.2549141  0.26149333 0.24759686 ... 0.1481957  0.15002626 0.13515097] test [0.5293941  0.453931   0.45571923 ... 0.28632548 0.22716314 0.21136941]\n",
            "train [0.43264273 0.43264273 0.42669767 ... 0.14435333 0.15902823 0.20876628] test [0.72796667 0.735809   0.73670316 ... 0.5057475  0.47533256 0.5013306 ]\n",
            "train [0.9640357  0.9640357  0.96904427 ... 0.9651231  0.96120197 0.9651231 ] test [0.81613725 0.78035724 0.6947804  ... 0.19123216 0.19685726 0.19685726]\n",
            "train [0.21223372 0.18510626 0.10571529 ... 0.21260117 0.1673243  0.13849255] test [0.5541349  0.5541349  0.5580561  ... 0.16040118 0.16460039 0.17333686]\n",
            "train [0.86298907 0.86185926 0.86190164 ... 0.5886087  0.59536356 0.60329056] test [0.0394051  0.03407608 0.0349702  ... 0.22681296 0.25213492 0.29387805]\n",
            "train [0.89026827 0.89026827 0.8932953  ... 0.29421255 0.29695332 0.24791726] test [0. 0. 0. ... 0. 0. 0.]\n",
            "train [0.46041882 0.58860314 0.71314436 ... 0.55583215 0.55598354 0.55428   ] test [0.4041761  0.36370745 0.27866903 ... 0.18062119 0.18364823 0.18345492]\n",
            "train [0.7247847 0.8044706 0.8044706 ... 0.2830149 0.2830149 0.2945851] test [0.9576612  0.96158236 0.96158236 ... 0.25539255 0.29648432 0.2839596 ]\n",
            "train [0.5606706  0.5606706  0.5567494  ... 0.5052357  0.51733726 0.5242188 ] test [0.24202393 0.59324473 0.8552377  ... 0.1095051  0.1098251  0.10671334]\n",
            "train [0.24681294 0.24551372 0.23933294 ... 0.18981294 0.16021374 0.15070981] test [0.99990004 0.99990004 0.99990004 ... 0.99990004 0.99990004 0.99990004]\n",
            "train [0.2130247  0.18557647 0.20910352 ... 0.07453255 0.0588902  0.10609529] test [0.05423804 0.06208039 0.06208039 ... 0.16763178 0.17688197 0.19648784]\n",
            "train [0.2559714  0.2559714  0.25411648 ... 0.8385263  0.85394436 0.85394436] test [0. 0. 0. ... 0. 0. 0.]\n",
            "train [0.45903766 0.4587596  0.45916435 ... 0.70608276 0.7089588  0.69856083] test [0.28621843 0.24391295 0.2309106  ... 0.17493767 0.17998864 0.17186823]\n",
            "train [0.08687647 0.8139859  0.7923075  ... 0.283431   0.2187106  0.2861561 ] test [0.530749   0.5448992  0.52833843 ... 0.         0.         0.        ]\n",
            "train [0.4757306  0.4827455  0.35300866 ... 0.46265218 0.35630313 0.49141768] test [0.70703375 0.7013243  0.5645055  ... 0.4128714  0.39669728 0.15633333]\n",
            "train [0.59567416 0.60347414 0.60347414 ... 0.08612745 0.08612745 0.07020707] test [0.07400157 0.0783698  0.0783698  ... 0.4778698  0.46610627 0.45826393]\n",
            "train [0.6114184  0.6114184  0.6114184  ... 0.13770157 0.15333726 0.08275607] test [0.909713   0.909713   0.909713   ... 0.10631373 0.10631373 0.08777098]\n",
            "train [0.2593365  0.2593365  0.24571805 ... 0.15263686 0.20894784 0.20894784] test [0. 0. 0. ... 0. 0. 0.]\n",
            "train [0.27137607 0.21992823 0.15579844 ... 0.10494354 0.10807882 0.03738196] test [0.6660451 0.6699663 0.6660451 ... 0.6315769 0.6315769 0.6315769]\n",
            "train [0.07134824 0.05958471 0.05958471 ... 0.80491066 0.80491066 0.7872863 ] test [0.09059137 0.09856157 0.08560745 ... 0.26553413 0.25769177 0.3047459 ]\n",
            "train [0.72958153 0.75658274 0.7408981  ... 0.3296714  0.32946    0.3324204 ] test [0.2669251  0.21236667 0.19090588 ... 0.0743698  0.07549962 0.0742851 ]\n",
            "train [0.08685725 0.13339764 0.1460553  ... 0.98903054 0.96853065 0.9179    ] test [0.68662155 0.69078434 0.60822237 ... 0.14951333 0.15611686 0.12517609]\n",
            "train [0.9853451  0.9945953  0.9775694  ... 0.99990004 0.99990004 0.99990004] test [0.39737922 0.3690612  0.3690612  ... 0.29973686 0.29973686 0.28695214]\n",
            "train [0.29259533 0.2593953  0.22740981 ... 0.07361452 0.15792315 0.2749063 ] test [0.82311964 0.8154887  0.7966498  ... 0.14786354 0.22031058 0.47799137]\n",
            "train [0.99990004 0.99990004 0.99990004 ... 0.99990004 0.99990004 0.99990004] test [0.0189051  0.0189051  0.02282627 ... 0.13420273 0.13420273 0.13420273]\n",
            "train [0.00392118 0.00392118 0.00392118 ... 0.00392118 0.00392118 0.00392118] test [0.3874957  0.3874957  0.42670745 ... 0.7929365  0.47078395 0.47078395]\n",
            "train [0.85438275 0.8394118  0.81987256 ... 0.2868345  0.31799254 0.35970002] test [0.74132395 0.74771607 0.77237296 ... 0.18787254 0.18780589 0.30722353]\n",
            "train [0.39082706 0.11721922 0.07870157 ... 0.06570549 0.05899294 0.05025647] test [0.01265765 0.00178824 0.00873647 ... 0.00460392 0.00690588 0.00850078]\n",
            "train [0.34599885 0.34992003 0.35776237 ... 0.20417842 0.20417842 0.20025726] test [0.38062313 0.3651318  0.3414353  ... 0.5207957  0.5573612  0.5484737 ]\n",
            "train [0.03235451 0.03235451 0.30124316 ... 0.43239257 0.4402349  0.4402349 ] test [0.99638355 0.97364825 0.9967706  ... 0.9975981  0.9952962  0.9975981 ]\n",
            "train [0.5766204  0.5726992  0.5844627  ... 0.6360914  0.49483138 0.4630396 ] test [0.7062303  0.67486084 0.6674655  ... 0.10903215 0.09726863 0.07514941]\n",
            "train [0.45534277 0.43550077 0.4494149  ... 0.19555804 0.18767333 0.17955294] test [0.         0.         0.         ... 0.03239686 0.0393451  0.07817647]\n",
            "train [0.9878161  0.9878161  0.98389494 ... 0.9878584  0.9878584  0.9917796 ] test [0.93330663 0.96075493 0.98820317 ... 0.77507645 0.7460757  0.81156355]\n"
          ],
          "name": "stdout"
        }
      ]
    }
  ]
}