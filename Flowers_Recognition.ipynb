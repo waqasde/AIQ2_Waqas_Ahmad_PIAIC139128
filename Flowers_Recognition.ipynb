{
  "nbformat": 4,
  "nbformat_minor": 0,
  "metadata": {
    "colab": {
      "name": "Flowers_Recognition.ipynb",
      "provenance": [],
      "collapsed_sections": []
    },
    "kernelspec": {
      "name": "python3",
      "display_name": "Python 3"
    }
  },
  "cells": [
    {
      "cell_type": "markdown",
      "metadata": {
        "id": "BXgJ6uT1NydQ"
      },
      "source": [
        "Assignment: Flowers Recognition <br>\n",
        "Dataset Description:<br>\n",
        "\n",
        "This dataset contains 4242 images of flowers.<br>\n",
        "The data collection is based on the data flicr, google images, yandex images.<br>\n",
        "You can use this datastet to recognize plants from the photo.<br>\n",
        "\n",
        "Attribute Information:<br>\n",
        "The pictures are divided into five classes: chamomile, tulip, rose, sunflower, dandelion.<br>\n",
        "For each class there are about 800 photos. Photos are not high resolution, about 320x240 pixels. <br>\n",
        "<b>Also explore how to resize images in tensorflow and then resize all the images to a same size. </b> <br>\n",
        "This is a Multiclass Classification Problem.<br>\n",
        "\n",
        "\n"
      ]
    },
    {
      "cell_type": "markdown",
      "metadata": {
        "id": "T7vy-ktuOKJH"
      },
      "source": [
        "WORKFLOW : <br>\n",
        "Load Data <br>\n",
        "Split into 60 and 40 ratio.<br>\n",
        "Encode labels.<br>\n",
        "Create Model<br>\n",
        "Compilation Step (Note : Its a Multiclass Classification problem , select loss , metrics according to it)<br>\n",
        "Train the Model.<br>\n",
        "If the model gets overfit tune your model by changing the units , No. of layers , epochs , add dropout layer or add Regularizer according to the need .<br>\n",
        "Prediction should be > 85%<br>\n",
        "Evaluation Step<br>\n",
        "Prediction<br>\n",
        "\n",
        "\n"
      ]
    },
    {
      "cell_type": "markdown",
      "metadata": {
        "id": "ri3Bg5qfPRic"
      },
      "source": [
        "Data : <br>\n",
        "https://drive.google.com/file/d/1-OX6wn5gA-bJpjPNfSyaYQLz-A-AB_uj/view?usp=sharing"
      ]
    },
    {
      "cell_type": "code",
      "metadata": {
        "id": "1Xy3AC8tyjfi"
      },
      "source": [
        "import os\n",
        "import zipfile\n",
        "from shutil import copyfile\n",
        "import numpy as np\n",
        "import random\n",
        "import zipfile\n",
        "import matplotlib.image as mpimg\n",
        "import matplotlib.pyplot as plt\n",
        "from keras.preprocessing import image\n",
        "import tensorflow as tf\n",
        "from google.colab import files\n",
        "import glob\n",
        "import pandas as pd\n",
        "from keras import models\n",
        "from keras import layers\n",
        "from keras import regularizers\n",
        "from sklearn.model_selection import train_test_split\n",
        "from tensorflow.keras.utils import to_categorical"
      ],
      "execution_count": 2,
      "outputs": []
    },
    {
      "cell_type": "code",
      "metadata": {
        "colab": {
          "base_uri": "https://localhost:8080/"
        },
        "id": "tTcD4zH8La9A",
        "outputId": "5857edd8-a42c-47c4-bf20-4125233edbd5"
      },
      "source": [
        "\n",
        "from google.colab import drive\n",
        "drive.mount(\"/content/drive\")"
      ],
      "execution_count": 22,
      "outputs": [
        {
          "output_type": "stream",
          "text": [
            "Mounted at /content/drive\n"
          ],
          "name": "stdout"
        }
      ]
    },
    {
      "cell_type": "code",
      "metadata": {
        "id": "awWI0RCCLbgY"
      },
      "source": [
        "local_zip = \"/content/drive/MyDrive/Colab Notebooks/archive.zip\"\n",
        "zip_ref = zipfile.ZipFile(local_zip, \"r\")\n",
        "zip_ref.extractall(\"/archive\")\n",
        "zip_ref.close()"
      ],
      "execution_count": 7,
      "outputs": []
    },
    {
      "cell_type": "code",
      "metadata": {
        "id": "UOA8mk9Gy3oZ"
      },
      "source": [
        "def convert_image(source, label):\n",
        "  fname = os.listdir(source)\n",
        "  images= None\n",
        "  \n",
        "  for i,value in enumerate(fname):\n",
        "    source_path = os.path.join(source, fname[i])\n",
        "    if os.path.getsize(source_path)==0:\n",
        "      print(\"file has zero size\")\n",
        "    else:\n",
        "      img=image.load_img(source_path, target_size=(200, 200)) # Load image\n",
        "      x=image.img_to_array(img)                               # Image ot array\n",
        "      x=tf.image.rgb_to_grayscale(x)                          # gray scale conversion\n",
        "      x=np.expand_dims(x, axis=0)\n",
        "      if images is None:\n",
        "        images = x\n",
        "      else:\n",
        "        images = np.vstack((images, x))\n",
        "  print(images.shape)\n",
        "  images=images.reshape(images.shape[0], 200*200*1)\n",
        "  print(images.shape)\n",
        "  label_in = np.ones((len(fname), 1))\n",
        "  label_in.fill(label)\n",
        "  print(label_in.shape)\n",
        "  images_new=np.hstack((images,label_in))\n",
        "  print(images_new.shape)\n",
        "  return images_new"
      ],
      "execution_count": 16,
      "outputs": []
    },
    {
      "cell_type": "code",
      "metadata": {
        "id": "cWbUUmZTyT5M"
      },
      "source": [
        "daisy_source_dir = \"/content/drive/MyDrive/Colab Notebooks/flowers/daisy\"\n",
        "\n",
        "dandelion_source_dir = \"/content/drive/MyDrive/Colab Notebooks/flowers/dandelion\"\n",
        "\n",
        "rose_source_dir = \"/content/drive/MyDrive/Colab Notebooks/flowers/rose\"\n",
        "\n",
        "sunflower_source_dir = \"/content/drive/MyDrive/Colab Notebooks/flowers/sunflower\"\n",
        "\n",
        "tulip_source_dir = \"/content/drive/MyDrive/Colab Notebooks/flowers/tulip\""
      ],
      "execution_count": 25,
      "outputs": []
    },
    {
      "cell_type": "code",
      "metadata": {
        "colab": {
          "base_uri": "https://localhost:8080/"
        },
        "id": "3PocoYEkyd78",
        "outputId": "5d3a6f3d-d7cc-467c-ac7b-40d2e729315c"
      },
      "source": [
        "daisy = convert_image(daisy_source_dir, 0)\n",
        "dandelion = convert_image(dandelion_source_dir, 1)\n",
        "rose = convert_image(rose_source_dir, 2)\n",
        "sunflower = convert_image(sunflower_source_dir, 3)\n",
        "tulip = convert_image(tulip_source_dir, 4)"
      ],
      "execution_count": 27,
      "outputs": [
        {
          "output_type": "stream",
          "text": [
            "(769, 200, 200, 1)\n",
            "(769, 40000)\n",
            "(769, 1)\n",
            "(769, 40001)\n",
            "(1052, 200, 200, 1)\n",
            "(1052, 40000)\n",
            "(1052, 1)\n",
            "(1052, 40001)\n",
            "(784, 200, 200, 1)\n",
            "(784, 40000)\n",
            "(784, 1)\n",
            "(784, 40001)\n",
            "(734, 200, 200, 1)\n",
            "(734, 40000)\n",
            "(734, 1)\n",
            "(734, 40001)\n",
            "(984, 200, 200, 1)\n",
            "(984, 40000)\n",
            "(984, 1)\n",
            "(984, 40001)\n"
          ],
          "name": "stdout"
        }
      ]
    },
    {
      "cell_type": "code",
      "metadata": {
        "colab": {
          "base_uri": "https://localhost:8080/"
        },
        "id": "I8eG5N-66F4-",
        "outputId": "8b1e6f4b-edcd-4c2b-e64e-fd1139d7f97c"
      },
      "source": [
        "data_array = np.vstack((daisy, dandelion, rose, sunflower, tulip))\n",
        "data_array.shape\n",
        "np.random.shuffle(data_array)\n",
        "data_array[:10,-1]"
      ],
      "execution_count": 28,
      "outputs": [
        {
          "output_type": "execute_result",
          "data": {
            "text/plain": [
              "array([1., 4., 4., 0., 1., 2., 2., 0., 0., 4.])"
            ]
          },
          "metadata": {
            "tags": []
          },
          "execution_count": 28
        }
      ]
    },
    {
      "cell_type": "code",
      "metadata": {
        "id": "FvKgOzZi6Oas"
      },
      "source": [
        "train_data, test_data, train_labels, test_labels=train_test_split(data_array[0:,:-1], data_array[:,-1])\n"
      ],
      "execution_count": 29,
      "outputs": []
    },
    {
      "cell_type": "code",
      "metadata": {
        "id": "0AFT9G826S-k"
      },
      "source": [
        "train_data.shape\n",
        "test_data.shape\n",
        "train_labels.shape\n",
        "test_labels.shape\n",
        "train_labels = to_categorical(train_labels)\n",
        "test_labels = to_categorical(test_labels)\n",
        "np.unique(test_labels)\n",
        "train_data=train_data.astype(\"float32\")/255\n",
        "test_data = test_data.astype(\"float32\")/255"
      ],
      "execution_count": 30,
      "outputs": []
    },
    {
      "cell_type": "code",
      "metadata": {
        "id": "W7Uu4jsx7M5d"
      },
      "source": [
        "def build_model():\n",
        "  model=models.Sequential()\n",
        "  model.add(layers.Dense(64, activation=\"relu\", input_shape=(40000,)))\n",
        "  model.add(layers.Dense(32, activation=\"relu\"))\n",
        "  model.add(layers.Dense(5, activation=\"softmax\"))\n",
        "  model.compile(optimizer=\"adam\", loss = \"categorical_crossentropy\", metrics=[\"accuracy\"])\n",
        "  return model\n",
        "model=build_model()"
      ],
      "execution_count": 47,
      "outputs": []
    },
    {
      "cell_type": "code",
      "metadata": {
        "colab": {
          "base_uri": "https://localhost:8080/"
        },
        "id": "lQFUTy697Q8V",
        "outputId": "f37108ea-0fbb-4869-cc52-3a84f703ab1d"
      },
      "source": [
        "history=model.fit(train_data,train_labels, epochs =100, batch_size=50)"
      ],
      "execution_count": 51,
      "outputs": [
        {
          "output_type": "stream",
          "text": [
            "Epoch 1/100\n",
            "65/65 [==============================] - 2s 27ms/step - loss: 0.1777 - accuracy: 0.9463\n",
            "Epoch 2/100\n",
            "65/65 [==============================] - 2s 27ms/step - loss: 0.3941 - accuracy: 0.8711\n",
            "Epoch 3/100\n",
            "65/65 [==============================] - 2s 27ms/step - loss: 0.1353 - accuracy: 0.9642\n",
            "Epoch 4/100\n",
            "65/65 [==============================] - 2s 26ms/step - loss: 0.2767 - accuracy: 0.9105\n",
            "Epoch 5/100\n",
            "65/65 [==============================] - 2s 27ms/step - loss: 0.2904 - accuracy: 0.9121\n",
            "Epoch 6/100\n",
            "65/65 [==============================] - 2s 27ms/step - loss: 0.1069 - accuracy: 0.9750\n",
            "Epoch 7/100\n",
            "65/65 [==============================] - 2s 27ms/step - loss: 0.1843 - accuracy: 0.9439\n",
            "Epoch 8/100\n",
            "65/65 [==============================] - 2s 27ms/step - loss: 0.3552 - accuracy: 0.8849\n",
            "Epoch 9/100\n",
            "65/65 [==============================] - 2s 27ms/step - loss: 0.3536 - accuracy: 0.8908\n",
            "Epoch 10/100\n",
            "65/65 [==============================] - 2s 27ms/step - loss: 0.1487 - accuracy: 0.9565\n",
            "Epoch 11/100\n",
            "65/65 [==============================] - 2s 27ms/step - loss: 0.2598 - accuracy: 0.9189\n",
            "Epoch 12/100\n",
            "65/65 [==============================] - 2s 27ms/step - loss: 0.1357 - accuracy: 0.9685\n",
            "Epoch 13/100\n",
            "65/65 [==============================] - 2s 27ms/step - loss: 0.2949 - accuracy: 0.9044\n",
            "Epoch 14/100\n",
            "65/65 [==============================] - 2s 27ms/step - loss: 0.5734 - accuracy: 0.8137\n",
            "Epoch 15/100\n",
            "65/65 [==============================] - 2s 27ms/step - loss: 0.1980 - accuracy: 0.9405\n",
            "Epoch 16/100\n",
            "65/65 [==============================] - 2s 27ms/step - loss: 0.1975 - accuracy: 0.9436\n",
            "Epoch 17/100\n",
            "65/65 [==============================] - 2s 27ms/step - loss: 0.2667 - accuracy: 0.9133\n",
            "Epoch 18/100\n",
            "65/65 [==============================] - 2s 27ms/step - loss: 0.1720 - accuracy: 0.9500\n",
            "Epoch 19/100\n",
            "65/65 [==============================] - 2s 27ms/step - loss: 0.2910 - accuracy: 0.9195\n",
            "Epoch 20/100\n",
            "65/65 [==============================] - 2s 27ms/step - loss: 0.2067 - accuracy: 0.9306\n",
            "Epoch 21/100\n",
            "65/65 [==============================] - 2s 27ms/step - loss: 0.3500 - accuracy: 0.8812\n",
            "Epoch 22/100\n",
            "65/65 [==============================] - 2s 27ms/step - loss: 0.2333 - accuracy: 0.9300\n",
            "Epoch 23/100\n",
            "65/65 [==============================] - 2s 27ms/step - loss: 0.1190 - accuracy: 0.9692\n",
            "Epoch 24/100\n",
            "65/65 [==============================] - 2s 27ms/step - loss: 0.2094 - accuracy: 0.9328\n",
            "Epoch 25/100\n",
            "65/65 [==============================] - 2s 27ms/step - loss: 0.1532 - accuracy: 0.9525\n",
            "Epoch 26/100\n",
            "65/65 [==============================] - 2s 27ms/step - loss: 0.3518 - accuracy: 0.9062\n",
            "Epoch 27/100\n",
            "65/65 [==============================] - 2s 27ms/step - loss: 0.2357 - accuracy: 0.9250\n",
            "Epoch 28/100\n",
            "65/65 [==============================] - 2s 27ms/step - loss: 0.1682 - accuracy: 0.9460\n",
            "Epoch 29/100\n",
            "65/65 [==============================] - 2s 27ms/step - loss: 0.4892 - accuracy: 0.8492\n",
            "Epoch 30/100\n",
            "65/65 [==============================] - 2s 27ms/step - loss: 0.1112 - accuracy: 0.9685\n",
            "Epoch 31/100\n",
            "65/65 [==============================] - 2s 27ms/step - loss: 0.1534 - accuracy: 0.9568\n",
            "Epoch 32/100\n",
            "65/65 [==============================] - 2s 27ms/step - loss: 0.1822 - accuracy: 0.9485\n",
            "Epoch 33/100\n",
            "65/65 [==============================] - 2s 27ms/step - loss: 0.0952 - accuracy: 0.9722\n",
            "Epoch 34/100\n",
            "65/65 [==============================] - 2s 27ms/step - loss: 0.3118 - accuracy: 0.9068\n",
            "Epoch 35/100\n",
            "65/65 [==============================] - 2s 28ms/step - loss: 0.4973 - accuracy: 0.8381\n",
            "Epoch 36/100\n",
            "65/65 [==============================] - 2s 27ms/step - loss: 0.2528 - accuracy: 0.9241\n",
            "Epoch 37/100\n",
            "65/65 [==============================] - 2s 27ms/step - loss: 0.3597 - accuracy: 0.8917\n",
            "Epoch 38/100\n",
            "65/65 [==============================] - 2s 27ms/step - loss: 0.1006 - accuracy: 0.9695\n",
            "Epoch 39/100\n",
            "65/65 [==============================] - 2s 27ms/step - loss: 0.1797 - accuracy: 0.9479\n",
            "Epoch 40/100\n",
            "65/65 [==============================] - 2s 27ms/step - loss: 0.0770 - accuracy: 0.9784\n",
            "Epoch 41/100\n",
            "65/65 [==============================] - 2s 27ms/step - loss: 0.0851 - accuracy: 0.9796\n",
            "Epoch 42/100\n",
            "65/65 [==============================] - 2s 27ms/step - loss: 0.4123 - accuracy: 0.8856\n",
            "Epoch 43/100\n",
            "65/65 [==============================] - 2s 28ms/step - loss: 0.5116 - accuracy: 0.8390\n",
            "Epoch 44/100\n",
            "65/65 [==============================] - 2s 27ms/step - loss: 0.3049 - accuracy: 0.9124\n",
            "Epoch 45/100\n",
            "65/65 [==============================] - 2s 27ms/step - loss: 0.0817 - accuracy: 0.9772\n",
            "Epoch 46/100\n",
            "65/65 [==============================] - 2s 27ms/step - loss: 0.1403 - accuracy: 0.9540\n",
            "Epoch 47/100\n",
            "65/65 [==============================] - 2s 27ms/step - loss: 0.1309 - accuracy: 0.9596\n",
            "Epoch 48/100\n",
            "65/65 [==============================] - 2s 27ms/step - loss: 0.2132 - accuracy: 0.9380\n",
            "Epoch 49/100\n",
            "65/65 [==============================] - 2s 27ms/step - loss: 0.3020 - accuracy: 0.9016\n",
            "Epoch 50/100\n",
            "65/65 [==============================] - 2s 27ms/step - loss: 0.0811 - accuracy: 0.9796\n",
            "Epoch 51/100\n",
            "65/65 [==============================] - 2s 27ms/step - loss: 0.1052 - accuracy: 0.9695\n",
            "Epoch 52/100\n",
            "65/65 [==============================] - 2s 27ms/step - loss: 0.1358 - accuracy: 0.9559\n",
            "Epoch 53/100\n",
            "65/65 [==============================] - 2s 27ms/step - loss: 0.4844 - accuracy: 0.8541\n",
            "Epoch 54/100\n",
            "65/65 [==============================] - 2s 27ms/step - loss: 0.2271 - accuracy: 0.9272\n",
            "Epoch 55/100\n",
            "65/65 [==============================] - 2s 27ms/step - loss: 0.0624 - accuracy: 0.9830\n",
            "Epoch 56/100\n",
            "65/65 [==============================] - 2s 27ms/step - loss: 0.0680 - accuracy: 0.9812\n",
            "Epoch 57/100\n",
            "65/65 [==============================] - 2s 27ms/step - loss: 0.1048 - accuracy: 0.9710\n",
            "Epoch 58/100\n",
            "65/65 [==============================] - 2s 27ms/step - loss: 0.3349 - accuracy: 0.9044\n",
            "Epoch 59/100\n",
            "65/65 [==============================] - 2s 28ms/step - loss: 0.4314 - accuracy: 0.8871\n",
            "Epoch 60/100\n",
            "65/65 [==============================] - 2s 27ms/step - loss: 0.3528 - accuracy: 0.8843\n",
            "Epoch 61/100\n",
            "65/65 [==============================] - 2s 27ms/step - loss: 0.0909 - accuracy: 0.9744\n",
            "Epoch 62/100\n",
            "65/65 [==============================] - 2s 27ms/step - loss: 0.0475 - accuracy: 0.9907\n",
            "Epoch 63/100\n",
            "65/65 [==============================] - 2s 27ms/step - loss: 0.2002 - accuracy: 0.9355\n",
            "Epoch 64/100\n",
            "65/65 [==============================] - 2s 27ms/step - loss: 0.0707 - accuracy: 0.9824\n",
            "Epoch 65/100\n",
            "65/65 [==============================] - 2s 27ms/step - loss: 0.0795 - accuracy: 0.9750\n",
            "Epoch 66/100\n",
            "65/65 [==============================] - 2s 27ms/step - loss: 0.3817 - accuracy: 0.9109\n",
            "Epoch 67/100\n",
            "65/65 [==============================] - 2s 27ms/step - loss: 0.7075 - accuracy: 0.7684\n",
            "Epoch 68/100\n",
            "65/65 [==============================] - 2s 28ms/step - loss: 0.2327 - accuracy: 0.9374\n",
            "Epoch 69/100\n",
            "65/65 [==============================] - 2s 28ms/step - loss: 0.1524 - accuracy: 0.9673\n",
            "Epoch 70/100\n",
            "65/65 [==============================] - 2s 27ms/step - loss: 0.0888 - accuracy: 0.9855\n",
            "Epoch 71/100\n",
            "65/65 [==============================] - 2s 27ms/step - loss: 0.1880 - accuracy: 0.9479\n",
            "Epoch 72/100\n",
            "65/65 [==============================] - 2s 27ms/step - loss: 0.1057 - accuracy: 0.9762\n",
            "Epoch 73/100\n",
            "65/65 [==============================] - 2s 27ms/step - loss: 0.0708 - accuracy: 0.9846\n",
            "Epoch 74/100\n",
            "65/65 [==============================] - 2s 27ms/step - loss: 0.3752 - accuracy: 0.8828\n",
            "Epoch 75/100\n",
            "65/65 [==============================] - 2s 27ms/step - loss: 0.4116 - accuracy: 0.8748\n",
            "Epoch 76/100\n",
            "65/65 [==============================] - 2s 27ms/step - loss: 0.1465 - accuracy: 0.9608\n",
            "Epoch 77/100\n",
            "65/65 [==============================] - 2s 28ms/step - loss: 0.0586 - accuracy: 0.9898\n",
            "Epoch 78/100\n",
            "65/65 [==============================] - 2s 28ms/step - loss: 0.0880 - accuracy: 0.9775\n",
            "Epoch 79/100\n",
            "65/65 [==============================] - 2s 28ms/step - loss: 0.0826 - accuracy: 0.9790\n",
            "Epoch 80/100\n",
            "65/65 [==============================] - 2s 27ms/step - loss: 0.7874 - accuracy: 0.8097\n",
            "Epoch 81/100\n",
            "65/65 [==============================] - 2s 27ms/step - loss: 0.1819 - accuracy: 0.9571\n",
            "Epoch 82/100\n",
            "65/65 [==============================] - 2s 27ms/step - loss: 0.1470 - accuracy: 0.9636\n",
            "Epoch 83/100\n",
            "65/65 [==============================] - 2s 27ms/step - loss: 0.0972 - accuracy: 0.9824\n",
            "Epoch 84/100\n",
            "65/65 [==============================] - 2s 27ms/step - loss: 0.0731 - accuracy: 0.9861\n",
            "Epoch 85/100\n",
            "65/65 [==============================] - 2s 27ms/step - loss: 0.0767 - accuracy: 0.9852\n",
            "Epoch 86/100\n",
            "65/65 [==============================] - 2s 28ms/step - loss: 0.2534 - accuracy: 0.9278\n",
            "Epoch 87/100\n",
            "65/65 [==============================] - 2s 28ms/step - loss: 0.4033 - accuracy: 0.8957\n",
            "Epoch 88/100\n",
            "65/65 [==============================] - 2s 27ms/step - loss: 0.1696 - accuracy: 0.9534\n",
            "Epoch 89/100\n",
            "65/65 [==============================] - 2s 27ms/step - loss: 0.2848 - accuracy: 0.9059\n",
            "Epoch 90/100\n",
            "65/65 [==============================] - 2s 28ms/step - loss: 0.0847 - accuracy: 0.9824\n",
            "Epoch 91/100\n",
            "65/65 [==============================] - 2s 27ms/step - loss: 0.2550 - accuracy: 0.9463\n",
            "Epoch 92/100\n",
            "65/65 [==============================] - 2s 27ms/step - loss: 0.6166 - accuracy: 0.8251\n",
            "Epoch 93/100\n",
            "65/65 [==============================] - 2s 28ms/step - loss: 0.2079 - accuracy: 0.9414\n",
            "Epoch 94/100\n",
            "65/65 [==============================] - 2s 27ms/step - loss: 0.1290 - accuracy: 0.9670\n",
            "Epoch 95/100\n",
            "65/65 [==============================] - 2s 27ms/step - loss: 0.1556 - accuracy: 0.9537\n",
            "Epoch 96/100\n",
            "65/65 [==============================] - 2s 27ms/step - loss: 0.1099 - accuracy: 0.9719\n",
            "Epoch 97/100\n",
            "65/65 [==============================] - 2s 27ms/step - loss: 0.3435 - accuracy: 0.8840\n",
            "Epoch 98/100\n",
            "65/65 [==============================] - 2s 27ms/step - loss: 0.1490 - accuracy: 0.9568\n",
            "Epoch 99/100\n",
            "65/65 [==============================] - 2s 27ms/step - loss: 0.0773 - accuracy: 0.9809\n",
            "Epoch 100/100\n",
            "65/65 [==============================] - 2s 27ms/step - loss: 0.1937 - accuracy: 0.9405\n"
          ],
          "name": "stdout"
        }
      ]
    },
    {
      "cell_type": "code",
      "metadata": {
        "colab": {
          "base_uri": "https://localhost:8080/"
        },
        "id": "64h9HzRH7o1u",
        "outputId": "bb85b4c0-59b4-4b51-d33c-878e78afeb4f"
      },
      "source": [
        "# evaluate the model\n",
        "scores = model.evaluate(train_data, train_labels)\n",
        "print(\"%s: %.2f%%\" % (model.metrics_names[1], scores[1]*100))\n"
      ],
      "execution_count": 52,
      "outputs": [
        {
          "output_type": "stream",
          "text": [
            "102/102 [==============================] - 1s 7ms/step - loss: 0.0507 - accuracy: 0.9938\n",
            "accuracy: 99.38%\n"
          ],
          "name": "stdout"
        }
      ]
    },
    {
      "cell_type": "code",
      "metadata": {
        "colab": {
          "base_uri": "https://localhost:8080/",
          "height": 295
        },
        "id": "xIU9TfPc7pJu",
        "outputId": "335eaef0-85c1-47a4-d264-37842505d6f8"
      },
      "source": [
        "#evaluation and prediction\n",
        "#Visualizing Training and Validation Loss\n",
        "loss_train = history.history['loss']\n",
        "epochs = range(1,101)\n",
        "plt.plot(epochs, loss_train, 'g', label='Training loss')\n",
        "plt.title('Training  loss')\n",
        "plt.xlabel('Epochs')\n",
        "plt.ylabel('Loss')\n",
        "plt.legend()\n",
        "plt.show()"
      ],
      "execution_count": 55,
      "outputs": [
        {
          "output_type": "display_data",
          "data": {
            "image/png": "[encoded data removed]",
            "text/plain": [
              "<Figure size 432x288 with 1 Axes>"
            ]
          },
          "metadata": {
            "tags": [],
            "needs_background": "light"
          }
        }
      ]
    },
    {
      "cell_type": "code",
      "metadata": {
        "id": "c-uUzT5FzMS3",
        "colab": {
          "base_uri": "https://localhost:8080/",
          "height": 295
        },
        "outputId": "87f371a3-824c-4a61-87e4-7a9b5526de93"
      },
      "source": [
        "#Visualizing Training and Validation Accuracy\n",
        "loss_train = history.history['accuracy']\n",
        "\n",
        "epochs = range(1,101)\n",
        "plt.plot(epochs, loss_train, 'g', label='Training accuracy')\n",
        "\n",
        "plt.title('Training  accuracy')\n",
        "plt.xlabel('Epochs')\n",
        "plt.ylabel('Accuracy')\n",
        "plt.legend()\n",
        "plt.show()"
      ],
      "execution_count": 56,
      "outputs": [
        {
          "output_type": "display_data",
          "data": {
            "image/png": "[encoded data removed]",
            "text/plain": [
              "<Figure size 432x288 with 1 Axes>"
            ]
          },
          "metadata": {
            "tags": [],
            "needs_background": "light"
          }
        }
      ]
    },
    {
      "cell_type": "code",
      "metadata": {
        "id": "vOd8mlE6zR27"
      },
      "source": [
        ""
      ],
      "execution_count": null,
      "outputs": []
    },
    {
      "cell_type": "code",
      "metadata": {
        "id": "yFIVVXeLzZHo"
      },
      "source": [
        ""
      ],
      "execution_count": null,
      "outputs": []
    },
    {
      "cell_type": "code",
      "metadata": {
        "id": "gMUy42Iq0GuA"
      },
      "source": [
        "for i in range(200):\n",
        "    print(\"actual\",y_test[i],\"predicted\",y_test_pred[i])"
      ],
      "execution_count": null,
      "outputs": []
    }
  ]
}