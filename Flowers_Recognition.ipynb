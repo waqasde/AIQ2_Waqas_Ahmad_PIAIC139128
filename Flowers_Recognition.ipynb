{
  "nbformat": 4,
  "nbformat_minor": 0,
  "metadata": {
    "colab": {
      "name": "Flowers_Recognition.ipynb",
      "provenance": [],
      "collapsed_sections": []
    },
    "kernelspec": {
      "name": "python3",
      "display_name": "Python 3"
    }
  },
  "cells": [
    {
      "cell_type": "markdown",
      "metadata": {
        "id": "BXgJ6uT1NydQ"
      },
      "source": [
        "Assignment: Flowers Recognition <br>\n",
        "Dataset Description:<br>\n",
        "\n",
        "This dataset contains 4242 images of flowers.<br>\n",
        "The data collection is based on the data flicr, google images, yandex images.<br>\n",
        "You can use this datastet to recognize plants from the photo.<br>\n",
        "\n",
        "Attribute Information:<br>\n",
        "The pictures are divided into five classes: chamomile, tulip, rose, sunflower, dandelion.<br>\n",
        "For each class there are about 800 photos. Photos are not high resolution, about 320x240 pixels. <br>\n",
        "<b>Also explore how to resize images in tensorflow and then resize all the images to a same size. </b> <br>\n",
        "This is a Multiclass Classification Problem.<br>\n",
        "\n",
        "\n"
      ]
    },
    {
      "cell_type": "markdown",
      "metadata": {
        "id": "T7vy-ktuOKJH"
      },
      "source": [
        "WORKFLOW : <br>\n",
        "Load Data <br>\n",
        "Split into 60 and 40 ratio.<br>\n",
        "Encode labels.<br>\n",
        "Create Model<br>\n",
        "Compilation Step (Note : Its a Multiclass Classification problem , select loss , metrics according to it)<br>\n",
        "Train the Model.<br>\n",
        "If the model gets overfit tune your model by changing the units , No. of layers , epochs , add dropout layer or add Regularizer according to the need .<br>\n",
        "Prediction should be > 85%<br>\n",
        "Evaluation Step<br>\n",
        "Prediction<br>\n",
        "\n",
        "\n"
      ]
    },
    {
      "cell_type": "markdown",
      "metadata": {
        "id": "ri3Bg5qfPRic"
      },
      "source": [
        "Data : <br>\n",
        "https://drive.google.com/file/d/1-OX6wn5gA-bJpjPNfSyaYQLz-A-AB_uj/view?usp=sharing"
      ]
    },
    {
      "cell_type": "code",
      "metadata": {
        "id": "1Xy3AC8tyjfi"
      },
      "source": [
        "import glob\n",
        "import pandas as pd\n",
        "from keras import models\n",
        "from keras import layers\n",
        "from keras import regularizers\n",
        "import numpy as np\n",
        "import random\n",
        "import zipfile\n",
        "import matplotlib.image as mpimg\n",
        "import matplotlib.pyplot as plt\n",
        "from sklearn.model_selection import train_test_split\n",
        "from tensorflow.keras.utils import to_categorical\n",
        "import os\n",
        "import zipfile\n",
        "from shutil import copyfile\n",
        "from keras.preprocessing import image\n",
        "import tensorflow as tf\n",
        "from google.colab import files\n"
      ],
      "execution_count": 1,
      "outputs": []
    },
    {
      "cell_type": "code",
      "metadata": {
        "colab": {
          "base_uri": "https://localhost:8080/"
        },
        "id": "tTcD4zH8La9A",
        "outputId": "c9bc62ef-0b10-44a5-fa01-631be309a9ca"
      },
      "source": [
        "\n",
        "from google.colab import drive\n",
        "drive.mount(\"/content/drive\")"
      ],
      "execution_count": 2,
      "outputs": [
        {
          "output_type": "stream",
          "text": [
            "Mounted at /content/drive\n"
          ],
          "name": "stdout"
        }
      ]
    },
    {
      "cell_type": "code",
      "metadata": {
        "id": "UOA8mk9Gy3oZ"
      },
      "source": [
        "def UpdateImage(source, label):\n",
        "  fname = os.listdir(source)\n",
        "  images= None\n",
        "  \n",
        "  for i,value in enumerate(fname):\n",
        "    source_path = os.path.join(source, fname[i])\n",
        "    if os.path.getsize(source_path)==0:\n",
        "      print(\"file has zero size\")\n",
        "    else:\n",
        "      img=image.load_img(source_path, target_size=(200, 200)) # Load image\n",
        "      x=image.img_to_array(img)                               # Image ot array\n",
        "      x=tf.image.rgb_to_grayscale(x)                          # gray scale conversion\n",
        "      x=np.expand_dims(x, axis=0)\n",
        "      if images is None:\n",
        "        images = x\n",
        "      else:\n",
        "        images = np.vstack((images, x))\n",
        "  print(images.shape)\n",
        "  images=images.reshape(images.shape[0], 200*200*1)\n",
        "  print(images.shape)\n",
        "  label_in = np.ones((len(fname), 1))\n",
        "  label_in.fill(label)\n",
        "  print(label_in.shape)\n",
        "  images_new=np.hstack((images,label_in))\n",
        "  print(images_new.shape)\n",
        "  return images_new"
      ],
      "execution_count": 7,
      "outputs": []
    },
    {
      "cell_type": "code",
      "metadata": {
        "colab": {
          "base_uri": "https://localhost:8080/"
        },
        "id": "3PocoYEkyd78",
        "outputId": "513a6dac-ab8a-41b3-a6ed-0c4addf287d2"
      },
      "source": [
        "daisy = UpdateImage(\"/content/drive/MyDrive/Colab Notebooks/flowers/daisy\", 0)\n",
        "dandelion = UpdateImage(\"/content/drive/MyDrive/Colab Notebooks/flowers/dandelion\", 1)\n",
        "rose = UpdateImage(\"/content/drive/MyDrive/Colab Notebooks/flowers/rose\", 2)\n",
        "sunflower = UpdateImage(\"/content/drive/MyDrive/Colab Notebooks/flowers/sunflower\", 3)\n",
        "tulip = UpdateImage(\"/content/drive/MyDrive/Colab Notebooks/flowers/tulip\", 4)"
      ],
      "execution_count": 8,
      "outputs": [
        {
          "output_type": "stream",
          "text": [
            "(769, 200, 200, 1)\n",
            "(769, 40000)\n",
            "(769, 1)\n",
            "(769, 40001)\n",
            "(1052, 200, 200, 1)\n",
            "(1052, 40000)\n",
            "(1052, 1)\n",
            "(1052, 40001)\n",
            "(784, 200, 200, 1)\n",
            "(784, 40000)\n",
            "(784, 1)\n",
            "(784, 40001)\n",
            "(734, 200, 200, 1)\n",
            "(734, 40000)\n",
            "(734, 1)\n",
            "(734, 40001)\n",
            "(984, 200, 200, 1)\n",
            "(984, 40000)\n",
            "(984, 1)\n",
            "(984, 40001)\n"
          ],
          "name": "stdout"
        }
      ]
    },
    {
      "cell_type": "code",
      "metadata": {
        "id": "I8eG5N-66F4-"
      },
      "source": [
        "data_array = np.vstack((daisy, dandelion, rose, sunflower, tulip))\n",
        "np.random.shuffle(data_array)"
      ],
      "execution_count": 9,
      "outputs": []
    },
    {
      "cell_type": "code",
      "metadata": {
        "id": "FvKgOzZi6Oas"
      },
      "source": [
        "train_data, test_data, train_labels, test_labels=train_test_split(data_array[0:,:-1], data_array[:,-1])\n"
      ],
      "execution_count": 10,
      "outputs": []
    },
    {
      "cell_type": "code",
      "metadata": {
        "id": "0AFT9G826S-k"
      },
      "source": [
        "train_labels = to_categorical(train_labels)\n",
        "test_labels = to_categorical(test_labels)\n",
        "np.unique(test_labels)\n",
        "train_data=train_data.astype(\"float32\")/255\n",
        "test_data = test_data.astype(\"float32\")/255"
      ],
      "execution_count": 11,
      "outputs": []
    },
    {
      "cell_type": "code",
      "metadata": {
        "id": "W7Uu4jsx7M5d"
      },
      "source": [
        "def build_model():\n",
        "  model=models.Sequential()\n",
        "  model.add(layers.Dense(64, activation=\"relu\", input_shape=(40000,)))\n",
        "  model.add(layers.Dense(32, activation=\"relu\"))\n",
        "  model.add(layers.Dense(16, activation=\"relu\"))\n",
        "  model.add(layers.Dense(5, activation=\"softmax\"))\n",
        "  model.compile(optimizer=\"adam\", loss = \"categorical_crossentropy\", metrics=[\"accuracy\"])\n",
        "  return model\n",
        "model=build_model()"
      ],
      "execution_count": 14,
      "outputs": []
    },
    {
      "cell_type": "code",
      "metadata": {
        "colab": {
          "base_uri": "https://localhost:8080/"
        },
        "id": "lQFUTy697Q8V",
        "outputId": "4be8aacd-0a0f-4a13-c6dd-378691c954ee"
      },
      "source": [
        "history=model.fit(train_data,train_labels, epochs =100, batch_size=25)\n"
      ],
      "execution_count": 19,
      "outputs": [
        {
          "output_type": "stream",
          "text": [
            "Epoch 1/100\n",
            "130/130 [==============================] - 2s 18ms/step - loss: 1.2793 - accuracy: 0.5065\n",
            "Epoch 2/100\n",
            "130/130 [==============================] - 2s 18ms/step - loss: 1.0599 - accuracy: 0.5728\n",
            "Epoch 3/100\n",
            "130/130 [==============================] - 2s 18ms/step - loss: 1.0001 - accuracy: 0.6055\n",
            "Epoch 4/100\n",
            "130/130 [==============================] - 2s 18ms/step - loss: 0.9252 - accuracy: 0.6271\n",
            "Epoch 5/100\n",
            "130/130 [==============================] - 2s 18ms/step - loss: 0.9634 - accuracy: 0.6157\n",
            "Epoch 6/100\n",
            "130/130 [==============================] - 2s 18ms/step - loss: 0.9055 - accuracy: 0.6379\n",
            "Epoch 7/100\n",
            "130/130 [==============================] - 2s 18ms/step - loss: 0.8126 - accuracy: 0.6690\n",
            "Epoch 8/100\n",
            "130/130 [==============================] - 2s 18ms/step - loss: 0.7285 - accuracy: 0.7094\n",
            "Epoch 9/100\n",
            "130/130 [==============================] - 2s 18ms/step - loss: 0.8425 - accuracy: 0.6851\n",
            "Epoch 10/100\n",
            "130/130 [==============================] - 2s 18ms/step - loss: 0.7262 - accuracy: 0.7156\n",
            "Epoch 11/100\n",
            "130/130 [==============================] - 2s 18ms/step - loss: 0.6367 - accuracy: 0.7461\n",
            "Epoch 12/100\n",
            "130/130 [==============================] - 2s 18ms/step - loss: 0.9625 - accuracy: 0.6477\n",
            "Epoch 13/100\n",
            "130/130 [==============================] - 2s 18ms/step - loss: 0.6471 - accuracy: 0.7566\n",
            "Epoch 14/100\n",
            "130/130 [==============================] - 2s 19ms/step - loss: 0.6681 - accuracy: 0.7394\n",
            "Epoch 15/100\n",
            "130/130 [==============================] - 2s 18ms/step - loss: 0.6987 - accuracy: 0.7292\n",
            "Epoch 16/100\n",
            "130/130 [==============================] - 2s 18ms/step - loss: 0.6693 - accuracy: 0.7341\n",
            "Epoch 17/100\n",
            "130/130 [==============================] - 2s 18ms/step - loss: 0.6316 - accuracy: 0.7458\n",
            "Epoch 18/100\n",
            "130/130 [==============================] - 2s 18ms/step - loss: 0.6149 - accuracy: 0.7721\n",
            "Epoch 19/100\n",
            "130/130 [==============================] - 2s 19ms/step - loss: 0.6695 - accuracy: 0.7323\n",
            "Epoch 20/100\n",
            "130/130 [==============================] - 2s 18ms/step - loss: 0.5919 - accuracy: 0.7791\n",
            "Epoch 21/100\n",
            "130/130 [==============================] - 2s 18ms/step - loss: 0.5709 - accuracy: 0.7764\n",
            "Epoch 22/100\n",
            "130/130 [==============================] - 2s 18ms/step - loss: 0.8155 - accuracy: 0.7218\n",
            "Epoch 23/100\n",
            "130/130 [==============================] - 2s 18ms/step - loss: 0.5785 - accuracy: 0.7973\n",
            "Epoch 24/100\n",
            "130/130 [==============================] - 2s 18ms/step - loss: 0.4941 - accuracy: 0.8165\n",
            "Epoch 25/100\n",
            "130/130 [==============================] - 2s 18ms/step - loss: 0.4993 - accuracy: 0.8085\n",
            "Epoch 26/100\n",
            "130/130 [==============================] - 2s 18ms/step - loss: 0.4888 - accuracy: 0.8155\n",
            "Epoch 27/100\n",
            "130/130 [==============================] - 2s 18ms/step - loss: 0.4821 - accuracy: 0.8254\n",
            "Epoch 28/100\n",
            "130/130 [==============================] - 2s 19ms/step - loss: 0.5110 - accuracy: 0.8125\n",
            "Epoch 29/100\n",
            "130/130 [==============================] - 2s 18ms/step - loss: 0.4585 - accuracy: 0.8307\n",
            "Epoch 30/100\n",
            "130/130 [==============================] - 2s 18ms/step - loss: 0.5302 - accuracy: 0.8060\n",
            "Epoch 31/100\n",
            "130/130 [==============================] - 2s 18ms/step - loss: 0.6364 - accuracy: 0.7915\n",
            "Epoch 32/100\n",
            "130/130 [==============================] - 2s 18ms/step - loss: 0.4421 - accuracy: 0.8452\n",
            "Epoch 33/100\n",
            "130/130 [==============================] - 2s 18ms/step - loss: 0.4472 - accuracy: 0.8378\n",
            "Epoch 34/100\n",
            "130/130 [==============================] - 2s 18ms/step - loss: 0.4534 - accuracy: 0.8362\n",
            "Epoch 35/100\n",
            "130/130 [==============================] - 2s 18ms/step - loss: 0.5354 - accuracy: 0.8051\n",
            "Epoch 36/100\n",
            "130/130 [==============================] - 2s 18ms/step - loss: 0.4053 - accuracy: 0.8535\n",
            "Epoch 37/100\n",
            "130/130 [==============================] - 2s 19ms/step - loss: 0.3894 - accuracy: 0.8597\n",
            "Epoch 38/100\n",
            "130/130 [==============================] - 2s 19ms/step - loss: 0.4409 - accuracy: 0.8384\n",
            "Epoch 39/100\n",
            "130/130 [==============================] - 2s 18ms/step - loss: 0.4002 - accuracy: 0.8606\n",
            "Epoch 40/100\n",
            "130/130 [==============================] - 2s 18ms/step - loss: 0.3784 - accuracy: 0.8630\n",
            "Epoch 41/100\n",
            "130/130 [==============================] - 2s 18ms/step - loss: 0.5004 - accuracy: 0.8223\n",
            "Epoch 42/100\n",
            "130/130 [==============================] - 2s 18ms/step - loss: 0.4344 - accuracy: 0.8374\n",
            "Epoch 43/100\n",
            "130/130 [==============================] - 2s 18ms/step - loss: 0.2936 - accuracy: 0.8957\n",
            "Epoch 44/100\n",
            "130/130 [==============================] - 2s 18ms/step - loss: 0.3682 - accuracy: 0.8698\n",
            "Epoch 45/100\n",
            "130/130 [==============================] - 2s 18ms/step - loss: 0.5807 - accuracy: 0.7973\n",
            "Epoch 46/100\n",
            "130/130 [==============================] - 2s 18ms/step - loss: 0.3930 - accuracy: 0.8609\n",
            "Epoch 47/100\n",
            "130/130 [==============================] - 2s 18ms/step - loss: 0.5322 - accuracy: 0.8122\n",
            "Epoch 48/100\n",
            "130/130 [==============================] - 2s 19ms/step - loss: 0.3911 - accuracy: 0.8674\n",
            "Epoch 49/100\n",
            "130/130 [==============================] - 2s 18ms/step - loss: 0.2739 - accuracy: 0.9090\n",
            "Epoch 50/100\n",
            "130/130 [==============================] - 2s 18ms/step - loss: 0.4770 - accuracy: 0.8325\n",
            "Epoch 51/100\n",
            "130/130 [==============================] - 2s 18ms/step - loss: 0.2662 - accuracy: 0.9112\n",
            "Epoch 52/100\n",
            "130/130 [==============================] - 2s 18ms/step - loss: 0.3252 - accuracy: 0.8874\n",
            "Epoch 53/100\n",
            "130/130 [==============================] - 2s 19ms/step - loss: 0.5676 - accuracy: 0.8233\n",
            "Epoch 54/100\n",
            "130/130 [==============================] - 2s 19ms/step - loss: 0.2992 - accuracy: 0.8982\n",
            "Epoch 55/100\n",
            "130/130 [==============================] - 2s 18ms/step - loss: 0.3191 - accuracy: 0.8924\n",
            "Epoch 56/100\n",
            "130/130 [==============================] - 2s 18ms/step - loss: 0.5722 - accuracy: 0.8260\n",
            "Epoch 57/100\n",
            "130/130 [==============================] - 2s 18ms/step - loss: 0.2625 - accuracy: 0.9139\n",
            "Epoch 58/100\n",
            "130/130 [==============================] - 2s 19ms/step - loss: 0.3663 - accuracy: 0.8729\n",
            "Epoch 59/100\n",
            "130/130 [==============================] - 2s 18ms/step - loss: 0.2639 - accuracy: 0.9195\n",
            "Epoch 60/100\n",
            "130/130 [==============================] - 2s 18ms/step - loss: 0.3253 - accuracy: 0.8825\n",
            "Epoch 61/100\n",
            "130/130 [==============================] - 2s 18ms/step - loss: 0.4527 - accuracy: 0.8424\n",
            "Epoch 62/100\n",
            "130/130 [==============================] - 2s 19ms/step - loss: 0.2638 - accuracy: 0.9127\n",
            "Epoch 63/100\n",
            "130/130 [==============================] - 2s 19ms/step - loss: 0.3487 - accuracy: 0.8822\n",
            "Epoch 64/100\n",
            "130/130 [==============================] - 2s 19ms/step - loss: 0.5167 - accuracy: 0.8421\n",
            "Epoch 65/100\n",
            "130/130 [==============================] - 2s 19ms/step - loss: 0.2682 - accuracy: 0.9164\n",
            "Epoch 66/100\n",
            "130/130 [==============================] - 2s 19ms/step - loss: 0.2035 - accuracy: 0.9368\n",
            "Epoch 67/100\n",
            "130/130 [==============================] - 2s 19ms/step - loss: 0.3012 - accuracy: 0.8985\n",
            "Epoch 68/100\n",
            "130/130 [==============================] - 2s 19ms/step - loss: 0.4882 - accuracy: 0.8245\n",
            "Epoch 69/100\n",
            "130/130 [==============================] - 2s 18ms/step - loss: 0.3767 - accuracy: 0.8667\n",
            "Epoch 70/100\n",
            "130/130 [==============================] - 2s 19ms/step - loss: 0.3011 - accuracy: 0.8998\n",
            "Epoch 71/100\n",
            "130/130 [==============================] - 2s 18ms/step - loss: 0.2271 - accuracy: 0.9272\n",
            "Epoch 72/100\n",
            "130/130 [==============================] - 2s 18ms/step - loss: 0.2804 - accuracy: 0.9041\n",
            "Epoch 73/100\n",
            "130/130 [==============================] - 2s 19ms/step - loss: 0.7297 - accuracy: 0.7690\n",
            "Epoch 74/100\n",
            "130/130 [==============================] - 2s 19ms/step - loss: 0.2147 - accuracy: 0.9368\n",
            "Epoch 75/100\n",
            "130/130 [==============================] - 2s 19ms/step - loss: 0.3581 - accuracy: 0.8705\n",
            "Epoch 76/100\n",
            "130/130 [==============================] - 2s 18ms/step - loss: 0.2848 - accuracy: 0.9062\n",
            "Epoch 77/100\n",
            "130/130 [==============================] - 2s 19ms/step - loss: 0.2937 - accuracy: 0.8939\n",
            "Epoch 78/100\n",
            "130/130 [==============================] - 2s 19ms/step - loss: 0.3618 - accuracy: 0.8803\n",
            "Epoch 79/100\n",
            "130/130 [==============================] - 2s 19ms/step - loss: 0.4432 - accuracy: 0.8587\n",
            "Epoch 80/100\n",
            "130/130 [==============================] - 2s 19ms/step - loss: 0.2699 - accuracy: 0.9161\n",
            "Epoch 81/100\n",
            "130/130 [==============================] - 2s 19ms/step - loss: 0.2647 - accuracy: 0.9090\n",
            "Epoch 82/100\n",
            "130/130 [==============================] - 2s 19ms/step - loss: 0.2080 - accuracy: 0.9284\n",
            "Epoch 83/100\n",
            "130/130 [==============================] - 2s 18ms/step - loss: 0.2042 - accuracy: 0.9287\n",
            "Epoch 84/100\n",
            "130/130 [==============================] - 2s 19ms/step - loss: 0.2681 - accuracy: 0.9068\n",
            "Epoch 85/100\n",
            "130/130 [==============================] - 2s 19ms/step - loss: 0.1974 - accuracy: 0.9321\n",
            "Epoch 86/100\n",
            "130/130 [==============================] - 2s 19ms/step - loss: 0.3209 - accuracy: 0.8967\n",
            "Epoch 87/100\n",
            "130/130 [==============================] - 2s 19ms/step - loss: 0.2360 - accuracy: 0.9195\n",
            "Epoch 88/100\n",
            "130/130 [==============================] - 2s 19ms/step - loss: 0.2948 - accuracy: 0.8942\n",
            "Epoch 89/100\n",
            "130/130 [==============================] - 2s 19ms/step - loss: 0.4234 - accuracy: 0.8711\n",
            "Epoch 90/100\n",
            "130/130 [==============================] - 2s 18ms/step - loss: 0.2753 - accuracy: 0.9065\n",
            "Epoch 91/100\n",
            "130/130 [==============================] - 2s 19ms/step - loss: 0.1470 - accuracy: 0.9556\n",
            "Epoch 92/100\n",
            "130/130 [==============================] - 2s 19ms/step - loss: 0.2320 - accuracy: 0.9217\n",
            "Epoch 93/100\n",
            "130/130 [==============================] - 2s 19ms/step - loss: 0.1538 - accuracy: 0.9540\n",
            "Epoch 94/100\n",
            "130/130 [==============================] - 2s 18ms/step - loss: 0.6585 - accuracy: 0.7841\n",
            "Epoch 95/100\n",
            "130/130 [==============================] - 2s 19ms/step - loss: 0.2145 - accuracy: 0.9321\n",
            "Epoch 96/100\n",
            "130/130 [==============================] - 2s 19ms/step - loss: 0.3843 - accuracy: 0.8766\n",
            "Epoch 97/100\n",
            "130/130 [==============================] - 2s 19ms/step - loss: 0.2590 - accuracy: 0.9121\n",
            "Epoch 98/100\n",
            "130/130 [==============================] - 2s 19ms/step - loss: 0.2885 - accuracy: 0.9072\n",
            "Epoch 99/100\n",
            "130/130 [==============================] - 2s 19ms/step - loss: 0.2292 - accuracy: 0.9303\n",
            "Epoch 100/100\n",
            "130/130 [==============================] - 2s 19ms/step - loss: 0.3823 - accuracy: 0.8683\n"
          ],
          "name": "stdout"
        }
      ]
    },
    {
      "cell_type": "code",
      "metadata": {
        "colab": {
          "base_uri": "https://localhost:8080/"
        },
        "id": "64h9HzRH7o1u",
        "outputId": "027ef5b8-0419-47f5-d0bc-628bbe5ce5de"
      },
      "source": [
        "# evaluate the model\n",
        "scores = model.evaluate(train_data, train_labels)\n",
        "print(\"%s: %.2f%%\" % (model.metrics_names[1], scores[1]*100))\n"
      ],
      "execution_count": 20,
      "outputs": [
        {
          "output_type": "stream",
          "text": [
            "102/102 [==============================] - 1s 7ms/step - loss: 0.1483 - accuracy: 0.9577\n",
            "accuracy: 95.77%\n"
          ],
          "name": "stdout"
        }
      ]
    },
    {
      "cell_type": "code",
      "metadata": {
        "colab": {
          "base_uri": "https://localhost:8080/",
          "height": 295
        },
        "id": "xIU9TfPc7pJu",
        "outputId": "99ef0973-907e-4f6c-d6d4-2690269cf025"
      },
      "source": [
        "#evaluation and prediction\n",
        "#Visualizing Training and Validation Loss\n",
        "loss_train = history.history['loss']\n",
        "epochs = range(1,101)\n",
        "plt.plot(epochs, loss_train, 'g', label='Training loss')\n",
        "plt.title('Training  loss')\n",
        "plt.xlabel('Epochs')\n",
        "plt.ylabel('Loss')\n",
        "plt.legend()\n",
        "plt.show()"
      ],
      "execution_count": 21,
      "outputs": [
        {
          "output_type": "display_data",
          "data": {
            "image/png": "[encoded data removed]",
            "text/plain": [
              "<Figure size 432x288 with 1 Axes>"
            ]
          },
          "metadata": {
            "tags": [],
            "needs_background": "light"
          }
        }
      ]
    },
    {
      "cell_type": "code",
      "metadata": {
        "id": "c-uUzT5FzMS3",
        "colab": {
          "base_uri": "https://localhost:8080/",
          "height": 295
        },
        "outputId": "16fd9cde-c92d-40dd-9b61-2a6a7e5b7d41"
      },
      "source": [
        "#Visualizing Training and Validation Accuracy\n",
        "loss_train = history.history['accuracy']\n",
        "\n",
        "epochs = range(1,101)\n",
        "plt.plot(epochs, loss_train, 'g', label='Training accuracy')\n",
        "\n",
        "plt.title('Training  accuracy')\n",
        "plt.xlabel('Epochs')\n",
        "plt.ylabel('Accuracy')\n",
        "plt.legend()\n",
        "plt.show()"
      ],
      "execution_count": 22,
      "outputs": [
        {
          "output_type": "display_data",
          "data": {
            "image/png": "[encoded data removed]",
            "text/plain": [
              "<Figure size 432x288 with 1 Axes>"
            ]
          },
          "metadata": {
            "tags": [],
            "needs_background": "light"
          }
        }
      ]
    },
    {
      "cell_type": "code",
      "metadata": {
        "id": "vOd8mlE6zR27",
        "colab": {
          "base_uri": "https://localhost:8080/"
        },
        "outputId": "b7b85571-967c-456e-af7e-3c6de50329db"
      },
      "source": [
        "historyTest=model.fit(test_data,test_labels, epochs =100, batch_size=25)"
      ],
      "execution_count": 23,
      "outputs": [
        {
          "output_type": "stream",
          "text": [
            "Epoch 1/100\n",
            "44/44 [==============================] - 1s 18ms/step - loss: 2.0684 - accuracy: 0.3737\n",
            "Epoch 2/100\n",
            "44/44 [==============================] - 1s 18ms/step - loss: 1.2273 - accuracy: 0.5467\n",
            "Epoch 3/100\n",
            "44/44 [==============================] - 1s 19ms/step - loss: 1.1149 - accuracy: 0.5606\n",
            "Epoch 4/100\n",
            "44/44 [==============================] - 1s 19ms/step - loss: 1.0260 - accuracy: 0.6022\n",
            "Epoch 5/100\n",
            "44/44 [==============================] - 1s 19ms/step - loss: 0.9853 - accuracy: 0.6115\n",
            "Epoch 6/100\n",
            "44/44 [==============================] - 1s 18ms/step - loss: 0.9832 - accuracy: 0.6216\n",
            "Epoch 7/100\n",
            "44/44 [==============================] - 1s 18ms/step - loss: 0.9770 - accuracy: 0.6198\n",
            "Epoch 8/100\n",
            "44/44 [==============================] - 1s 19ms/step - loss: 0.8860 - accuracy: 0.6448\n",
            "Epoch 9/100\n",
            "44/44 [==============================] - 1s 19ms/step - loss: 0.8882 - accuracy: 0.6670\n",
            "Epoch 10/100\n",
            "44/44 [==============================] - 1s 18ms/step - loss: 0.7696 - accuracy: 0.7077\n",
            "Epoch 11/100\n",
            "44/44 [==============================] - 1s 18ms/step - loss: 0.7323 - accuracy: 0.7271\n",
            "Epoch 12/100\n",
            "44/44 [==============================] - 1s 18ms/step - loss: 0.8457 - accuracy: 0.6873\n",
            "Epoch 13/100\n",
            "44/44 [==============================] - 1s 18ms/step - loss: 0.7009 - accuracy: 0.7345\n",
            "Epoch 14/100\n",
            "44/44 [==============================] - 1s 19ms/step - loss: 0.6708 - accuracy: 0.7447\n",
            "Epoch 15/100\n",
            "44/44 [==============================] - 1s 18ms/step - loss: 0.6472 - accuracy: 0.7576\n",
            "Epoch 16/100\n",
            "44/44 [==============================] - 1s 19ms/step - loss: 0.5906 - accuracy: 0.7706\n",
            "Epoch 17/100\n",
            "44/44 [==============================] - 1s 18ms/step - loss: 0.5861 - accuracy: 0.7724\n",
            "Epoch 18/100\n",
            "44/44 [==============================] - 1s 19ms/step - loss: 0.6415 - accuracy: 0.7549\n",
            "Epoch 19/100\n",
            "44/44 [==============================] - 1s 18ms/step - loss: 0.5723 - accuracy: 0.7863\n",
            "Epoch 20/100\n",
            "44/44 [==============================] - 1s 18ms/step - loss: 0.6192 - accuracy: 0.7780\n",
            "Epoch 21/100\n",
            "44/44 [==============================] - 1s 19ms/step - loss: 0.8227 - accuracy: 0.6846\n",
            "Epoch 22/100\n",
            "44/44 [==============================] - 1s 18ms/step - loss: 0.6878 - accuracy: 0.7327\n",
            "Epoch 23/100\n",
            "44/44 [==============================] - 1s 18ms/step - loss: 0.5922 - accuracy: 0.7845\n",
            "Epoch 24/100\n",
            "44/44 [==============================] - 1s 18ms/step - loss: 0.4603 - accuracy: 0.8400\n",
            "Epoch 25/100\n",
            "44/44 [==============================] - 1s 19ms/step - loss: 0.5413 - accuracy: 0.7956\n",
            "Epoch 26/100\n",
            "44/44 [==============================] - 1s 19ms/step - loss: 0.5632 - accuracy: 0.7993\n",
            "Epoch 27/100\n",
            "44/44 [==============================] - 1s 18ms/step - loss: 0.4525 - accuracy: 0.8390\n",
            "Epoch 28/100\n",
            "44/44 [==============================] - 1s 18ms/step - loss: 0.4044 - accuracy: 0.8612\n",
            "Epoch 29/100\n",
            "44/44 [==============================] - 1s 18ms/step - loss: 0.4149 - accuracy: 0.8538\n",
            "Epoch 30/100\n",
            "44/44 [==============================] - 1s 19ms/step - loss: 0.3876 - accuracy: 0.8649\n",
            "Epoch 31/100\n",
            "44/44 [==============================] - 1s 18ms/step - loss: 0.4782 - accuracy: 0.8215\n",
            "Epoch 32/100\n",
            "44/44 [==============================] - 1s 18ms/step - loss: 0.3550 - accuracy: 0.8723\n",
            "Epoch 33/100\n",
            "44/44 [==============================] - 1s 19ms/step - loss: 0.3223 - accuracy: 0.8797\n",
            "Epoch 34/100\n",
            "44/44 [==============================] - 1s 18ms/step - loss: 0.4840 - accuracy: 0.8187\n",
            "Epoch 35/100\n",
            "44/44 [==============================] - 1s 19ms/step - loss: 0.4093 - accuracy: 0.8538\n",
            "Epoch 36/100\n",
            "44/44 [==============================] - 1s 19ms/step - loss: 0.4592 - accuracy: 0.8252\n",
            "Epoch 37/100\n",
            "44/44 [==============================] - 1s 18ms/step - loss: 0.4824 - accuracy: 0.8483\n",
            "Epoch 38/100\n",
            "44/44 [==============================] - 1s 18ms/step - loss: 0.8779 - accuracy: 0.7262\n",
            "Epoch 39/100\n",
            "44/44 [==============================] - 1s 18ms/step - loss: 0.4681 - accuracy: 0.8270\n",
            "Epoch 40/100\n",
            "44/44 [==============================] - 1s 19ms/step - loss: 0.3027 - accuracy: 0.9158\n",
            "Epoch 41/100\n",
            "44/44 [==============================] - 1s 19ms/step - loss: 0.2943 - accuracy: 0.8927\n",
            "Epoch 42/100\n",
            "44/44 [==============================] - 1s 18ms/step - loss: 0.3100 - accuracy: 0.8918\n",
            "Epoch 43/100\n",
            "44/44 [==============================] - 1s 18ms/step - loss: 0.2623 - accuracy: 0.9130\n",
            "Epoch 44/100\n",
            "44/44 [==============================] - 1s 18ms/step - loss: 0.3080 - accuracy: 0.8816\n",
            "Epoch 45/100\n",
            "44/44 [==============================] - 1s 18ms/step - loss: 0.4249 - accuracy: 0.8363\n",
            "Epoch 46/100\n",
            "44/44 [==============================] - 1s 19ms/step - loss: 0.3723 - accuracy: 0.8557\n",
            "Epoch 47/100\n",
            "44/44 [==============================] - 1s 18ms/step - loss: 0.3104 - accuracy: 0.8927\n",
            "Epoch 48/100\n",
            "44/44 [==============================] - 1s 18ms/step - loss: 0.4582 - accuracy: 0.8298\n",
            "Epoch 49/100\n",
            "44/44 [==============================] - 1s 18ms/step - loss: 0.3132 - accuracy: 0.8918\n",
            "Epoch 50/100\n",
            "44/44 [==============================] - 1s 18ms/step - loss: 0.2589 - accuracy: 0.9056\n",
            "Epoch 51/100\n",
            "44/44 [==============================] - 1s 19ms/step - loss: 0.1821 - accuracy: 0.9500\n",
            "Epoch 52/100\n",
            "44/44 [==============================] - 1s 18ms/step - loss: 0.2024 - accuracy: 0.9278\n",
            "Epoch 53/100\n",
            "44/44 [==============================] - 1s 18ms/step - loss: 0.1626 - accuracy: 0.9528\n",
            "Epoch 54/100\n",
            "44/44 [==============================] - 1s 19ms/step - loss: 0.1568 - accuracy: 0.9574\n",
            "Epoch 55/100\n",
            "44/44 [==============================] - 1s 19ms/step - loss: 0.1998 - accuracy: 0.9325\n",
            "Epoch 56/100\n",
            "44/44 [==============================] - 1s 19ms/step - loss: 0.6219 - accuracy: 0.7835\n",
            "Epoch 57/100\n",
            "44/44 [==============================] - 1s 19ms/step - loss: 0.4281 - accuracy: 0.8326\n",
            "Epoch 58/100\n",
            "44/44 [==============================] - 1s 18ms/step - loss: 1.1852 - accuracy: 0.6670\n",
            "Epoch 59/100\n",
            "44/44 [==============================] - 1s 19ms/step - loss: 0.2500 - accuracy: 0.9269\n",
            "Epoch 60/100\n",
            "44/44 [==============================] - 1s 18ms/step - loss: 0.2112 - accuracy: 0.9445\n",
            "Epoch 61/100\n",
            "44/44 [==============================] - 1s 19ms/step - loss: 0.1760 - accuracy: 0.9510\n",
            "Epoch 62/100\n",
            "44/44 [==============================] - 1s 19ms/step - loss: 0.1806 - accuracy: 0.9482\n",
            "Epoch 63/100\n",
            "44/44 [==============================] - 1s 19ms/step - loss: 0.1456 - accuracy: 0.9639\n",
            "Epoch 64/100\n",
            "44/44 [==============================] - 1s 19ms/step - loss: 0.3025 - accuracy: 0.8927\n",
            "Epoch 65/100\n",
            "44/44 [==============================] - 1s 19ms/step - loss: 0.2342 - accuracy: 0.9251\n",
            "Epoch 66/100\n",
            "44/44 [==============================] - 1s 19ms/step - loss: 0.1439 - accuracy: 0.9602\n",
            "Epoch 67/100\n",
            "44/44 [==============================] - 1s 18ms/step - loss: 0.1619 - accuracy: 0.9547\n",
            "Epoch 68/100\n",
            "44/44 [==============================] - 1s 18ms/step - loss: 0.2020 - accuracy: 0.9288\n",
            "Epoch 69/100\n",
            "44/44 [==============================] - 1s 19ms/step - loss: 0.1577 - accuracy: 0.9482\n",
            "Epoch 70/100\n",
            "44/44 [==============================] - 1s 19ms/step - loss: 0.1478 - accuracy: 0.9537\n",
            "Epoch 71/100\n",
            "44/44 [==============================] - 1s 18ms/step - loss: 0.1362 - accuracy: 0.9593\n",
            "Epoch 72/100\n",
            "44/44 [==============================] - 1s 19ms/step - loss: 0.0992 - accuracy: 0.9732\n",
            "Epoch 73/100\n",
            "44/44 [==============================] - 1s 18ms/step - loss: 0.0743 - accuracy: 0.9861\n",
            "Epoch 74/100\n",
            "44/44 [==============================] - 1s 18ms/step - loss: 0.0914 - accuracy: 0.9796\n",
            "Epoch 75/100\n",
            "44/44 [==============================] - 1s 18ms/step - loss: 0.1246 - accuracy: 0.9584\n",
            "Epoch 76/100\n",
            "44/44 [==============================] - 1s 19ms/step - loss: 0.5624 - accuracy: 0.8178\n",
            "Epoch 77/100\n",
            "44/44 [==============================] - 1s 19ms/step - loss: 0.2888 - accuracy: 0.8945\n",
            "Epoch 78/100\n",
            "44/44 [==============================] - 1s 19ms/step - loss: 0.2191 - accuracy: 0.9093\n",
            "Epoch 79/100\n",
            "44/44 [==============================] - 1s 19ms/step - loss: 0.2660 - accuracy: 0.9019\n",
            "Epoch 80/100\n",
            "44/44 [==============================] - 1s 19ms/step - loss: 0.1999 - accuracy: 0.9343\n",
            "Epoch 81/100\n",
            "44/44 [==============================] - 1s 19ms/step - loss: 0.2793 - accuracy: 0.8890\n",
            "Epoch 82/100\n",
            "44/44 [==============================] - 1s 19ms/step - loss: 0.2312 - accuracy: 0.9167\n",
            "Epoch 83/100\n",
            "44/44 [==============================] - 1s 19ms/step - loss: 0.2103 - accuracy: 0.9204\n",
            "Epoch 84/100\n",
            "44/44 [==============================] - 1s 18ms/step - loss: 0.1555 - accuracy: 0.9445\n",
            "Epoch 85/100\n",
            "44/44 [==============================] - 1s 19ms/step - loss: 0.1897 - accuracy: 0.9352\n",
            "Epoch 86/100\n",
            "44/44 [==============================] - 1s 19ms/step - loss: 0.5062 - accuracy: 0.8418\n",
            "Epoch 87/100\n",
            "44/44 [==============================] - 1s 18ms/step - loss: 0.2949 - accuracy: 0.9093\n",
            "Epoch 88/100\n",
            "44/44 [==============================] - 1s 18ms/step - loss: 0.0933 - accuracy: 0.9815\n",
            "Epoch 89/100\n",
            "44/44 [==============================] - 1s 18ms/step - loss: 0.2119 - accuracy: 0.9214\n",
            "Epoch 90/100\n",
            "44/44 [==============================] - 1s 18ms/step - loss: 0.0891 - accuracy: 0.9843\n",
            "Epoch 91/100\n",
            "44/44 [==============================] - 1s 19ms/step - loss: 0.1204 - accuracy: 0.9611\n",
            "Epoch 92/100\n",
            "44/44 [==============================] - 1s 19ms/step - loss: 0.7929 - accuracy: 0.7678\n",
            "Epoch 93/100\n",
            "44/44 [==============================] - 1s 18ms/step - loss: 0.2258 - accuracy: 0.9167\n",
            "Epoch 94/100\n",
            "44/44 [==============================] - 1s 18ms/step - loss: 0.0712 - accuracy: 0.9861\n",
            "Epoch 95/100\n",
            "44/44 [==============================] - 1s 19ms/step - loss: 0.0884 - accuracy: 0.9759\n",
            "Epoch 96/100\n",
            "44/44 [==============================] - 1s 19ms/step - loss: 0.0465 - accuracy: 0.9972\n",
            "Epoch 97/100\n",
            "44/44 [==============================] - 1s 19ms/step - loss: 0.0396 - accuracy: 0.9972\n",
            "Epoch 98/100\n",
            "44/44 [==============================] - 1s 19ms/step - loss: 0.0422 - accuracy: 0.9917\n",
            "Epoch 99/100\n",
            "44/44 [==============================] - 1s 19ms/step - loss: 0.1006 - accuracy: 0.9722\n",
            "Epoch 100/100\n",
            "44/44 [==============================] - 1s 19ms/step - loss: 0.0885 - accuracy: 0.9732\n"
          ],
          "name": "stdout"
        }
      ]
    },
    {
      "cell_type": "code",
      "metadata": {
        "colab": {
          "base_uri": "https://localhost:8080/"
        },
        "id": "9Vw-t7_Jew6D",
        "outputId": "a18dcf79-6a18-477b-81e9-6884277c6282"
      },
      "source": [
        "# evaluate the model\n",
        "scores = model.evaluate(test_data, test_labels)\n",
        "print(\"%s: %.2f%%\" % (model.metrics_names[1], scores[1]*100))"
      ],
      "execution_count": 24,
      "outputs": [
        {
          "output_type": "stream",
          "text": [
            "34/34 [==============================] - 0s 7ms/step - loss: 0.3944 - accuracy: 0.8363\n",
            "accuracy: 83.63%\n"
          ],
          "name": "stdout"
        }
      ]
    },
    {
      "cell_type": "code",
      "metadata": {
        "id": "yFIVVXeLzZHo",
        "colab": {
          "base_uri": "https://localhost:8080/",
          "height": 295
        },
        "outputId": "88e00774-7642-43d5-8387-d2eb11f233bf"
      },
      "source": [
        "#Visualizing Training and Validation Accuracy\n",
        "loss_test = historyTest.history['accuracy']\n",
        "\n",
        "epochs = range(1,101)\n",
        "plt.plot(epochs, loss_test, 'g', label='Training accuracy')\n",
        "\n",
        "plt.title('Training  accuracy')\n",
        "plt.xlabel('Epochs')\n",
        "plt.ylabel('Accuracy')\n",
        "plt.legend()\n",
        "plt.show()"
      ],
      "execution_count": 25,
      "outputs": [
        {
          "output_type": "display_data",
          "data": {
            "image/png": "[encoded data removed]",
            "text/plain": [
              "<Figure size 432x288 with 1 Axes>"
            ]
          },
          "metadata": {
            "tags": [],
            "needs_background": "light"
          }
        }
      ]
    },
    {
      "cell_type": "code",
      "metadata": {
        "id": "gMUy42Iq0GuA"
      },
      "source": [
        "for i in range(200):\n",
        "    print(\"actual\",y_test[i],\"predicted\",y_test_pred[i])"
      ],
      "execution_count": null,
      "outputs": []
    }
  ]
}