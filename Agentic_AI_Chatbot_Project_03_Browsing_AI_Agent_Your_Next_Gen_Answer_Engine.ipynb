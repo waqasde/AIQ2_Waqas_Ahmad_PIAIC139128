{
  "nbformat": 4,
  "nbformat_minor": 0,
  "metadata": {
    "colab": {
      "provenance": [],
      "authorship_tag": "ABX9TyO6bPHMCVqrBknu32yzEOKW",
      "include_colab_link": true
    },
    "kernelspec": {
      "name": "python3",
      "display_name": "Python 3"
    },
    "language_info": {
      "name": "python"
    }
  },
  "cells": [
    {
      "cell_type": "markdown",
      "metadata": {
        "id": "view-in-github",
        "colab_type": "text"
      },
      "source": [
        "<a href=\"https://colab.research.google.com/github/waqasde/AIQ2_Waqas_Ahmad_PIAIC139128/blob/main/Agentic_AI_Chatbot_Project_03_Browsing_AI_Agent_Your_Next_Gen_Answer_Engine.ipynb\" target=\"_parent\"><img src=\"https://colab.research.google.com/assets/colab-badge.svg\" alt=\"Open In Colab\"/></a>"
      ]
    },
    {
      "cell_type": "code",
      "source": [
        "%%capture --no-stderr\n",
        "%pip install -U langgraph langsmith langchain_anthropic"
      ],
      "metadata": {
        "id": "XzflTqYfC5ye"
      },
      "execution_count": 1,
      "outputs": []
    },
    {
      "cell_type": "code",
      "execution_count": 2,
      "metadata": {
        "id": "705d4020-6ee8-44cc-b1a5-8c34e7172fc7"
      },
      "outputs": [],
      "source": [
        "import os\n",
        "from google.colab import userdata\n",
        "\n",
        "os.environ[\"LANGCHAIN_API_KEY\"] = userdata.get('LANGCHAIN_API_KEY')\n",
        "os.environ[\"LANGCHAIN_TRACING_V2\"] = \"true\"\n",
        "os.environ[\"LANGCHAIN_PROJECT\"] = \"Agentic AI Chatbot Prototype 1\"\n",
        "\n",
        "gemini_api_key = userdata.get('GEMINI_API_KEY')"
      ]
    },
    {
      "cell_type": "code",
      "source": [
        "%%capture --no-stderr\n",
        "%pip install -U langgraph langsmith langchain_google_genai"
      ],
      "metadata": {
        "id": "Ua2VE6xkT2dc"
      },
      "execution_count": 3,
      "outputs": []
    },
    {
      "cell_type": "code",
      "source": [
        "from langchain_google_genai import ChatGoogleGenerativeAI\n",
        "\n",
        "llm = ChatGoogleGenerativeAI(\n",
        "    model=\"gemini-1.5-flash\",\n",
        "    max_retries=2,\n",
        "    api_key=gemini_api_key\n",
        ")"
      ],
      "metadata": {
        "id": "_V9OAvp8TpBe"
      },
      "execution_count": 4,
      "outputs": []
    },
    {
      "cell_type": "code",
      "execution_count": 5,
      "metadata": {
        "id": "7451151f-41fc-4af0-9359-024ae51b7225"
      },
      "outputs": [],
      "source": [
        "%%capture --no-stderr\n",
        "%pip install -U tavily-python langchain_community"
      ]
    },
    {
      "cell_type": "code",
      "execution_count": 6,
      "metadata": {
        "id": "0c52923c-5665-4f8c-a1ba-9799e369c49e"
      },
      "outputs": [],
      "source": [
        "os.environ[\"TAVILY_API_KEY\"] = userdata.get(\"TAVILY_API_KEY\")"
      ]
    },
    {
      "cell_type": "code",
      "source": [
        "from typing import Annotated, Literal\n",
        "from langchain_community.tools.tavily_search import TavilySearchResults\n",
        "from langchain_core.messages import AIMessage, ToolMessage, SystemMessage\n",
        "from pydantic import BaseModel\n",
        "from typing_extensions import TypedDict\n",
        "from concurrent.futures import ThreadPoolExecutor\n",
        "from langgraph.checkpoint.memory import MemorySaver\n",
        "from langgraph.graph import StateGraph, START, END\n",
        "from langgraph.graph.message import add_messages\n",
        "from langgraph.prebuilt import ToolNode, tools_condition\n",
        "\n",
        "class State(TypedDict):\n",
        "    messages: Annotated[list, add_messages]\n",
        "    ask_human: bool\n",
        "    ask_user: bool\n",
        "    long_term_memory: dict  # To personalize answers based on prior interactions\n",
        "\n",
        "class RequestAssistance(BaseModel):\n",
        "    \"\"\"Escalate the conversation to an expert.\"\"\"\n",
        "    request: str\n",
        "\n",
        "# Define the system message to enforce browsing assistant context\n",
        "system_prompt = SystemMessage(\n",
        "    content=(\n",
        "        \"You are a browsing AI assistant. Your job is to help users break down complex queries, search online for \\\n",
        "        relevant information, and synthesize results into concise, actionable answers. If a query cannot be addressed, \\\n",
        "        politely respond and guide the user on how they can refine their question.\"\n",
        "    )\n",
        ")\n",
        "\n",
        "# Initialize tools\n",
        "tool = TavilySearchResults(max_results=5)\n",
        "tools = [tool]\n",
        "\n",
        "def decompose_query(query: str):\n",
        "    \"\"\"Break down a complex query into smaller, actionable sub-queries.\"\"\"\n",
        "    # Example logic for query decomposition (can be customized further)\n",
        "    if \" and \" in query.lower():\n",
        "        return [sub.strip() for sub in query.split(\" and \")]\n",
        "    return [query]\n",
        "\n",
        "def execute_sub_queries(tool, sub_tasks):\n",
        "    \"\"\"Execute sub-tasks in parallel.\"\"\"\n",
        "    results = []\n",
        "    with ThreadPoolExecutor() as executor:\n",
        "        future_to_task = {executor.submit(tool.invoke, task): task for task in sub_tasks}\n",
        "        for future in future_to_task:\n",
        "            try:\n",
        "                results.append(future.result())\n",
        "            except Exception as e:\n",
        "                results.append(f\"Error fetching results for {future_to_task[future]}: {e}\")\n",
        "    return results\n",
        "\n",
        "def synthesize_results(sub_tasks, results):\n",
        "    \"\"\"Combine results into a concise and clear answer.\"\"\"\n",
        "    synthesized_response = \"\\n\".join(\n",
        "        [f\"For '{task}', I found: {result}\" for task, result in zip(sub_tasks, results)]\n",
        "    )\n",
        "    return synthesized_response\n",
        "\n",
        "def chatbot(state: State):\n",
        "    # Inject the system prompt if it's not already included\n",
        "    if not any(isinstance(msg, SystemMessage) for msg in state[\"messages\"]):\n",
        "        state[\"messages\"].insert(0, system_prompt)\n",
        "\n",
        "    user_message = state[\"messages\"][-1].content if state[\"messages\"] else \"\"\n",
        "\n",
        "    # Decompose query\n",
        "    sub_tasks = decompose_query(user_message)\n",
        "\n",
        "    # Inform user of progress\n",
        "    progress_messages = [\n",
        "        AIMessage(content=f\"Decomposing query into tasks: {', '.join(sub_tasks)}\"),\n",
        "        AIMessage(content=\"Executing searches in parallel. Please wait...\")\n",
        "    ]\n",
        "    state[\"messages\"].extend(progress_messages)\n",
        "\n",
        "    # Execute sub-queries\n",
        "    results = execute_sub_queries(tool, sub_tasks)\n",
        "\n",
        "    # Synthesize results\n",
        "    final_response = synthesize_results(sub_tasks, results)\n",
        "\n",
        "    # Add synthesized response to messages\n",
        "    return {\n",
        "        \"messages\": state[\"messages\"] + [AIMessage(content=final_response)],\n",
        "        \"ask_human\": False,\n",
        "        \"ask_user\": False,\n",
        "    }\n",
        "\n",
        "# Build the state graph\n",
        "graph_builder = StateGraph(State)\n",
        "graph_builder.add_node(\"chatbot\", chatbot)\n",
        "graph_builder.add_node(\"tools\", ToolNode(tools=[tool]))\n",
        "\n",
        "def human_node(state: State):\n",
        "    return {\n",
        "        \"messages\": [\n",
        "            AIMessage(content=\"A human assistant has been notified and will assist you shortly.\")\n",
        "        ],\n",
        "        \"ask_human\": False,\n",
        "    }\n",
        "\n",
        "def user_interaction_node(state: State):\n",
        "    return {\n",
        "        \"messages\": [\n",
        "            AIMessage(content=\"Thanks for the clarification. Let me continue assisting you.\"),\n",
        "        ],\n",
        "        \"ask_user\": False,\n",
        "    }\n",
        "\n",
        "graph_builder.add_node(\"human\", human_node)\n",
        "graph_builder.add_node(\"user_interaction\", user_interaction_node)\n",
        "\n",
        "def select_next_node(state: State):\n",
        "    if state[\"ask_human\"]:\n",
        "        return \"human\"\n",
        "    if state[\"ask_user\"]:\n",
        "        return \"user_interaction\"\n",
        "    return tools_condition(state)\n",
        "\n",
        "graph_builder.add_conditional_edges(\n",
        "    \"chatbot\",\n",
        "    select_next_node,\n",
        "    {\"human\": \"human\", \"user_interaction\": \"user_interaction\", \"tools\": \"tools\", END: END},\n",
        ")\n",
        "graph_builder.add_edge(\"tools\", \"chatbot\")\n",
        "graph_builder.add_edge(\"human\", \"chatbot\")\n",
        "graph_builder.add_edge(\"user_interaction\", \"chatbot\")\n",
        "graph_builder.add_edge(START, \"chatbot\")\n",
        "\n",
        "memory = MemorySaver()\n",
        "graph = graph_builder.compile(\n",
        "    checkpointer=memory,\n",
        "    interrupt_before=[\"human\", \"user_interaction\"],\n",
        ")\n",
        "\n",
        "def stream_graph_updates(user_input: str):\n",
        "    \"\"\"\n",
        "    Streams updates from the chatbot graph based on user input.\n",
        "\n",
        "    Args:\n",
        "        user_input (str): The input provided by the user.\n",
        "    \"\"\"\n",
        "    # Initialize state with default values\n",
        "    state = {\n",
        "        \"messages\": [(\"user\", user_input)],\n",
        "        \"ask_human\": False,\n",
        "        \"ask_user\": False,\n",
        "        \"long_term_memory\": {},  # Initialize long-term memory\n",
        "    }\n",
        "\n",
        "    # Configuration for graph streaming\n",
        "    config = {\"configurable\": {\"thread_id\": \"1\"}}\n",
        "\n",
        "    # Validate user input before processing\n",
        "    if not user_input.strip():\n",
        "        print(\"Assistant: It seems you didn't enter anything. Please ask a detailed question.\")\n",
        "        return\n",
        "\n",
        "    try:\n",
        "        # Stream responses from the graph\n",
        "        for event in graph.stream(state, config):\n",
        "            for value in event.values():\n",
        "                print(\"Assistant:\", value[\"messages\"][-1].content)\n",
        "    except KeyError as e:\n",
        "        print(f\"KeyError: {e} - Ensure all required keys are initialized in the state.\")\n",
        "    except Exception as e:\n",
        "        print(f\"An error occurred: {e}\")\n",
        "\n",
        "def main():\n",
        "    \"\"\"\n",
        "    Main function to run the interactive browsing AI chatbot.\n",
        "    \"\"\"\n",
        "    print(\"Welcome to the Browsing AI Chatbot! Ask me complex questions, and I'll find the best answers for you.\")\n",
        "    print(\"Type 'quit', 'exit', or 'q' to end the conversation.\")\n",
        "\n",
        "    while True:\n",
        "        try:\n",
        "            # Get user input\n",
        "            user_input = input(\"You: \").strip()\n",
        "\n",
        "            # Exit condition\n",
        "            if user_input.lower() in [\"quit\", \"exit\", \"q\"]:\n",
        "                print(\"Goodbye! Hope I could assist you well.\")\n",
        "                break\n",
        "\n",
        "            # Stream graph updates with user input\n",
        "            stream_graph_updates(user_input)\n",
        "        except KeyboardInterrupt:\n",
        "            # Graceful exit on Ctrl+C\n",
        "            print(\"\\nGoodbye! Stay curious and informed.\")\n",
        "            break\n",
        "        except Exception as e:\n",
        "            # Handle unexpected errors\n",
        "            print(f\"An unexpected error occurred: {e}\")\n",
        "            break\n",
        "\n",
        "if __name__ == \"__main__\":\n",
        "    main()\n"
      ],
      "metadata": {
        "id": "UPaySC9SR4lS",
        "colab": {
          "base_uri": "https://localhost:8080/"
        },
        "outputId": "570eb019-4cbb-4f70-ddc6-173047a84816"
      },
      "execution_count": null,
      "outputs": [
        {
          "output_type": "stream",
          "name": "stdout",
          "text": [
            "Welcome to the Browsing AI Chatbot! Ask me complex questions, and I'll find the best answers for you.\n",
            "Type 'quit', 'exit', or 'q' to end the conversation.\n",
            "You: tell me near by best doctors\n",
            "Assistant: For 'tell me near by best doctors', I found: [{'url': 'https://doctor.webmd.com/', 'content': 'Find Doctors Near You: Top Physician Directory Find Providers by Specialty Find Doctors and Dentists Near You Find Doctors and Dentists Near You You can also search by physician, practice, or hospital name Choose the healthcare that is right for you The WebMD Choice Awards is the only hospital recognition program based on the opinion of patients and health care providers. View all specialties ADD/ADHD Testing Find Doctors and Dentists Near You Find Doctors and Dentists Near You You can also search by physician, practice, or hospital name Find Doctors •Pain Medicine Doctors •Primary Care Doctors Find Providers by Specialty New York City doctors Los Angeles doctors Chicago doctors Policies About WebMD WebMD App WebMD does not provide medical advice, diagnosis or treatment.'}, {'url': 'https://www.medifind.com/specialty/primary-care/US/KY', 'content': 'Looking for the best primary care doctor, family doctor, or general practitioner in Kentucky, US? Find top primary care doctors near you in Kentucky, US and take the best care of your health. Primary care doctors treat a wide range of conditions and are typically the first doctor that an individual with an undiagnosed condition would see.'}, {'url': 'https://www.healthgrades.com/', 'content': 'An account allows you to manage family doctors and insurance, book appointments, receive exclusive discounts on prescription medicine, compare doctors, get appointment reminders, and more...\\nFind the right care, doctor, and hospital right at your fingertips\\nHealthgrades gives you the tools and information you need to:\\nSearch by a specific need\\nFind more than a good doctor. Find top hospitals close to you\\nWe evaluate hospital quality based solely on performance and clinical outcomes\\nReach more patients\\nDoctors who claim their free Healthgrades profile connect with the right patients 2x more\\nYour future patients are ready to connect. Feel better about finding healthcare\\nFind the care you need\\nPopular Searches on Healthgrades\\nHalf of all Americans who see doctors each year use Healthgrades to find the right care.\\n Your health A to Z\\nEasy–to–understand health information to help you be ready for your appointment.\\n From major surgery to routine procedures, find out what to expect and\\nhow to prepare for a successful outcome.\\n'}, {'url': 'https://doctor.webmd.com/providers/specialty/primary-care/kentucky/frankfort', 'content': \"Find the Best Primary Care Physician near you in Frankfort, KY . Frankfort, KY has 1987 Primary Care Physician results with an average of 24 years of experience and a total of 7188 reviews. Need help deciding? Explore feedback from real patients, what awards they've won, and much more to help you choose.\"}, {'url': 'https://doctor.webmd.com/providers/specialty', 'content': 'Find Top Specialists in your state. See reviews, availability, and insurances accepted.'}]\n",
            "You: What are the top 3 hiking destinations in Asia and the best travel options?\n",
            "Assistant: For 'What are the top 3 hiking destinations in Asia', I found: [{'url': 'https://www.mountainiq.com/10-best-hikes-in-asia/', 'content': 'Top 10 Best Hiking Trails In Asia 10. Chadar Trek In India. Lovers of the unique and extra special will most definitely fall for the Chadar Trek across a frozen river in India. Although not many people can say they have trekked across ice in Southern Asia, this hike has been highly publicised by both the Discovery and National Geographic TV'}, {'url': 'https://outoftownblog.com/best-hiking-destinations-in-asia/', 'content': 'Hiking the Batad Rice Terraces in the Philippines offers a unique and unforgettable experience, combining breathtaking natural beauty with rich cultural heritage. As Japan’s highest peak and an iconic symbol, Mount Fuji offers stunning panoramic views, especially at sunrise, which is locally known as “Goraiko.” The hike is accessible to a wide range of adventurers due to its well-maintained trails and facilities, including mountain huts for rest and refreshment. Hiking Jiuzhaigou National Park in China offers an extraordinary blend of natural beauty, cultural richness, and serene tranquility, making it a premier hiking destination. This combination of breathtaking scenery, cultural immersion, and accessible hiking paths makes Jiuzhaigou National Park an essential destination for nature lovers and adventurers alike.'}, {'url': 'https://lifeofdoing.com/best-asia-hikes/', 'content': 'Map of Hiking Trails in Asia Top Hiking Trails in South Asia The first day of the hike is a village trail through the Drung Valley. Best Time to Visit: Hallasan hiking trails are open year-round but the best season to hike is the spring or fall when the weather is not too hot (summer) and there is no snow on the trail (winter) The best trail to hike Mt. Hallasan is the most gradual – about 10 kilometers (6.2 miles) up and 9 kilometers (5.6 miles) down – so expect it to take the full day. You can hike here at any time of the day as the trail is open for 24 hours.'}, {'url': 'https://www.tripsavvy.com/best-hiking-destinations-in-asia-5207948', 'content': 'This is one of the most exciting and accessible year-round hiking places in Asia. Sweeping views aside, you will also enjoy waterfalls, temples, and shrines. To get there, take the bus from Seoul to Sockcho, which has plenty of places to stay, and then take the bus to Seroksan National Park.'}, {'url': 'https://www.thegonegoat.com/inspiration-and-tips/best-hikes-in-asia', 'content': 'You get a combination of mountains and unique culture infused with local customs that can sometimes make hiking the best thing to do in Asia. Here are some of the best treks and hikes in Asia as told by other travellers from different parts of the world. Also Read: 18 Best Hikes in Europe: Wild, Offbeat and Trail-worthy. 20 Best Underrated'}]\n",
            "For 'the best travel options?', I found: [{'url': 'https://viatravelers.com/best-travel-sites-for-packages/', 'content': \"1. Expedia Expedia / Expedia Expedia is a popular choice for finding the best deals on travel. It's reliable and has an incredibly expansive variety of options. Through Expedia, you can book a flight and hotel combo or find a package combining further features like car rentals and maybe even the opportunity to book cruises.. The site is user-friendly and can cater to your travel needs with\"}, {'url': 'https://www.top10.com/travel-sites', 'content': 'Our Top 10 Best Travel Sites in 2024: Google Flights - Best travel site overall; Kayak - Best for quick and easy flight and hotel searches; Priceline - Best for saving up to 60% on travel bookings; Airfair Watchdog - Best for curated flight and hotel options; Hotels.com - Best for discounted hotel rates; Expedia - Best for comprehensive travel bookings and rewards'}, {'url': 'https://www.insidethetravellab.com/the-50-best-travel-websites/', 'content': \"The 50 best travel websites for 2024 according to travel experts. Search for travel deals, find exclusive offers and hidden gems. ... with guest houses and self-catering options as well. Top tips for finding the best travel deals. Look for off peak options whenever you can. Don't just stick to the big booking websites. Check out the smaller\"}, {'url': 'https://www.businessinsider.com/guides/travel/expedia-tripadvisor-priceline-travel-booking-site-comparison?op=1', 'content': \"Best for:\\nLacking or not the best for:\\nBook a trip with Booking.com\\nExpedia\\nExpedia offers booking for\\xa0flights, hotels, vacation rentals, rental cars, cruises, and things to do.\\nHighlights:\\nYou can bundle flight, hotel, and car deals so you don't have to go through the headache of looking separately and trying to coordinate all the deals.\\n Best for:\\nLacking or not the best for:\\nBook a trip with Expedia\\nTripAdvisor\\nTripAdvisor offers booking for flights,\\xa0hotels, vacation rentals, restaurants, and things to do.\\nHighlights:\\nIt's well-known for its user-generated reviews, so as you're booking, you get the added benefit of reading reviews all in the same place. Best for:\\nLacking or not the best for:\\nBook a trip with Hotwire\\nTravelocity\\nTravelocity offers booking for\\xa0flights, hotels, vacation rentals, rental cars, cruises and things to do.\\xa0 Best for:\\nLacking or not the best for:\\nBook a trip with Travelocity\\nPriceline\\nPriceline offers booking for\\xa0flights, hotels, rental cars,\\xa0and cruises.\\n Best for:\\nLacking or not the best for:\\nBook a trip with CheapOair\\nHotwire\\nHotwire offers booking for\\xa0flights, hotels, and rental cars.\\n\"}, {'url': 'https://simplycodes.com/blog/best-travel-websites', 'content': 'As the name suggests, CheapTickets specializes in finding budget-friendly travel options, particularly for flights. \"Smart Value\" feature highlighting best price-quality options. Price alert notifications for tracked flight routes. Rewards program offering savings on future bookings. Vacation package deals for additional savings'}]\n",
            "You: Find the best gaming laptops under $1,500 and where to buy them?\n",
            "Assistant: For 'Find the best gaming laptops under $1,500', I found: [{'url': 'https://www.videogamer.com/tech/gaming-laptop/best-under-1500/', 'content': \"For well under $1000, the Gigabyte G5 KF excels as the best budget gaming laptop under $1500. That's because it's running the very capable RTX 4060 GPU for the best performance possible in 1080p.\"}, {'url': 'https://www.wepc.com/gaming-laptop/guide/best-gaming-laptop-under-1500/', 'content': 'The close second contender for the best gaming laptop under $1,500 is the Gigabyte AORUS 15. Gigabyte do a great range of affordable models, that are often the cheapest you can buy with any given GPU compared to the competing offerings from different brands. The main caveat is that their GPUs are rarely as powerful - with lower TGPs than'}, {'url': 'https://gamerant.com/best-gaming-laptops-under-1500/', 'content': \"The Dell G16 7630 Gaming Laptop is Game Rant's candidate for the best overall gaming laptop under $1500 even as it pushes slightly above the $1500 mark currently for its Core i9 trim at retailers.\"}, {'url': 'https://www.pcguide.com/laptop/guide/best-gaming-under-1500/', 'content': 'If you want a 17-inch gaming laptop under $1500, then you should check out the Acer Nitro 17, which we think is one of the best Acer gaming laptops. The laptop has a 17.3-inch screen with 1440p resolution, which, like some of the best 17-inch laptops, should give you detailed visuals on a comparatively larger screen. Plus, it is an IPS display'}, {'url': 'https://www.tomshardware.com/best-picks/best-gaming-laptops-under-1500', 'content': 'RAM: Expect to find 16GB of DDR4 or DDR5 RAM, which is more than adequate for most, in the best gaming laptops under $1,500. As you drop down to less than $1,000, you will see some models selling'}]\n",
            "For 'where to buy them?', I found: [{'url': 'https://www.pinterest.com/ideas/outfits-and-where-to-buy-them/957637137954/', 'content': 'Find and save ideas about outfits and where to buy them on Pinterest.'}, {'url': 'https://www.lowes.com/', 'content': \"Buy online or through our mobile app and pick up at your local Lowe's. Save time and money with free shipping on orders of $45 or more. Get same-day delivery for eligible in-stock items when you order by 2 p.m.* If you find a qualifying lower price on an exact item, we'll match it. Chat with our team for help.\"}, {'url': 'https://skims.com/pages/store-locator', 'content': 'THE WINTER SHOP. Go-to layers, soft sweats, and more cozy staples for chilly days'}, {'url': 'https://www.nordstrom.com/', 'content': 'Shop online for shoes, clothing, jewelry, dresses, makeup and more from top brands. Free shipping. Free returns. Exclusions apply.'}, {'url': 'https://www.yelp.com/biz/absolutely-uniforms-san-jose-2', 'content': \"Specialties: Welcome to Absolutely Uniforms, Northern California's No 1 uniform store. For over 35 years, we have been proudly serving the greater Bay Area with medical uniforms, scrubs, footwear and accessories. We offer a wide range of high-quality uniforms, footwear and accessory options. We have been proudly supporting and honoring our customers and our strong community made up of doctors\"}]\n"
          ]
        }
      ]
    },
    {
      "cell_type": "code",
      "source": [],
      "metadata": {
        "id": "ePsjvHfwSPkc"
      },
      "execution_count": null,
      "outputs": []
    }
  ]
}