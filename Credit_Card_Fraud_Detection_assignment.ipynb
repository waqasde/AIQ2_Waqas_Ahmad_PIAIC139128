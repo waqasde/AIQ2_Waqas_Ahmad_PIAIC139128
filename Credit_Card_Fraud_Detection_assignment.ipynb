{
  "nbformat": 4,
  "nbformat_minor": 0,
  "metadata": {
    "kernelspec": {
      "display_name": "Python 3",
      "language": "python",
      "name": "python3"
    },
    "language_info": {
      "codemirror_mode": {
        "name": "ipython",
        "version": 3
      },
      "file_extension": ".py",
      "mimetype": "text/x-python",
      "name": "python",
      "nbconvert_exporter": "python",
      "pygments_lexer": "ipython3",
      "version": "3.7.3"
    },
    "colab": {
      "name": "Credit Card Fraud Detection assignment.ipynb",
      "provenance": [],
      "toc_visible": true
    }
  },
  "cells": [
    {
      "cell_type": "markdown",
      "metadata": {
        "id": "1xQjBrSjMX93"
      },
      "source": [
        "# Credit Card Fraud Detection::"
      ]
    },
    {
      "cell_type": "markdown",
      "metadata": {
        "id": "_Z8NPvZ3MX99"
      },
      "source": [
        "Download dataset from this link:\n",
        "\n",
        "https://www.kaggle.com/mlg-ulb/creditcardfraud"
      ]
    },
    {
      "cell_type": "markdown",
      "metadata": {
        "id": "uT1ZNr5wMX9-"
      },
      "source": [
        "# Description about dataset::"
      ]
    },
    {
      "cell_type": "markdown",
      "metadata": {
        "id": "WZmxkQv8MX9-"
      },
      "source": [
        "The datasets contains transactions made by credit cards in September 2013 by european cardholders.\n",
        "This dataset presents transactions that occurred in two days, where we have 492 frauds out of 284,807 transactions. The dataset is highly unbalanced, the positive class (frauds) account for 0.172% of all transactions.\n",
        "\n",
        "It contains only numerical input variables which are the result of a PCA transformation. Unfortunately, due to confidentiality issues, we cannot provide the original features and more background information about the data. Features V1, V2, … V28 are the principal components obtained with PCA, the only features which have not been transformed with PCA are 'Time' and 'Amount'. Feature 'Time' contains the seconds elapsed between each transaction and the first transaction in the dataset. The feature 'Amount' is the transaction Amount, this feature can be used for example-dependant cost-senstive learning. \n",
        "\n",
        "\n",
        "### Feature 'Class' is the response variable and it takes value 1 in case of fraud and 0 otherwise."
      ]
    },
    {
      "cell_type": "markdown",
      "metadata": {
        "id": "ObbF4vRmMX9_"
      },
      "source": [
        "# WORKFLOW :"
      ]
    },
    {
      "cell_type": "markdown",
      "metadata": {
        "id": "dKBaj_3jMX9_"
      },
      "source": [
        "1.Load Data\n",
        "\n",
        "2.Check Missing Values ( If Exist ; Fill each record with mean of its feature )\n",
        "\n",
        "3.Standardized the Input Variables. \n",
        "\n",
        "4.Split into 50% Training(Samples,Labels) , 30% Test(Samples,Labels) and 20% Validation Data(Samples,Labels).\n",
        "\n",
        "5.Model : input Layer (No. of features ), 3 hidden layers including 10,8,6 unit & Output Layer with activation function relu/tanh (check by experiment).\n",
        "\n",
        "6.Compilation Step (Note : Its a Binary problem , select loss , metrics according to it)\n",
        "\n",
        "7.Train the Model with Epochs (100).\n",
        "\n",
        "8.If the model gets overfit tune your model by changing the units , No. of layers , epochs , add dropout layer or add Regularizer according to the need .\n",
        "\n",
        "9.Prediction should be > 92%\n",
        "10.Evaluation Step\n",
        "11Prediction\n"
      ]
    },
    {
      "cell_type": "markdown",
      "metadata": {
        "id": "WPRTzVQoMX-A"
      },
      "source": [
        "# Task::"
      ]
    },
    {
      "cell_type": "markdown",
      "metadata": {
        "id": "9kgMRDssMX-A"
      },
      "source": [
        "## Identify fraudulent credit card transactions."
      ]
    },
    {
      "cell_type": "code",
      "metadata": {
        "colab": {
          "resources": {
            "http://localhost:8080/nbextensions/google.colab/files.js": {
              "data": "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",
              "ok": true,
              "headers": [
                [
                  "content-type",
                  "application/javascript"
                ]
              ],
              "status": 200,
              "status_text": ""
            }
          },
          "base_uri": "https://localhost:8080/",
          "height": 73
        },
        "id": "ImODJZ_nMX-A",
        "outputId": "34f72873-2f10-45d7-d1cd-8615177ecd4e"
      },
      "source": [
        "import pandas as pd\n",
        "import numpy as np\n",
        "# Make numpy values easier to read.\n",
        "np.set_printoptions(precision=3, suppress=True)\n",
        "import seaborn as sns\n",
        "import matplotlib.pyplot as plt\n",
        "import seaborn as sns\n",
        "import matplotlib.pyplot as plt\n",
        "from tensorflow.keras.models import Sequential\n",
        "from tensorflow.keras.layers import Dense \n",
        "from tensorflow.keras.optimizers import Adam, SGD\n",
        "import tensorflow as tf\n",
        "from tensorflow.keras import layers\n",
        "from tensorflow.keras.layers.experimental import preprocessing\n",
        "import io\n",
        "#i tried my best but am only able to make upload file work all other ways were not working on google colab\n",
        "from google.colab import files\n",
        "uploaded = files.upload()"
      ],
      "execution_count": 2,
      "outputs": [
        {
          "output_type": "display_data",
          "data": {
            "text/html": [
              "\n",
              "     <input type=\"file\" id=\"files-75d5cd20-6938-4332-8659-35b443822a2f\" name=\"files[]\" multiple disabled\n",
              "        style=\"border:none\" />\n",
              "     <output id=\"result-75d5cd20-6938-4332-8659-35b443822a2f\">\n",
              "      Upload widget is only available when the cell has been executed in the\n",
              "      current browser session. Please rerun this cell to enable.\n",
              "      </output>\n",
              "      <script src=\"/nbextensions/google.colab/files.js\"></script> "
            ],
            "text/plain": [
              "<IPython.core.display.HTML object>"
            ]
          },
          "metadata": {
            "tags": []
          }
        },
        {
          "output_type": "stream",
          "text": [
            "Saving creditcard.csv to creditcard.csv\n"
          ],
          "name": "stdout"
        }
      ]
    },
    {
      "cell_type": "code",
      "metadata": {
        "id": "vP-F-u9xMX-B",
        "colab": {
          "base_uri": "https://localhost:8080/",
          "height": 215
        },
        "outputId": "da2eb6af-b23d-43ef-df5e-9b73dbf12fad"
      },
      "source": [
        "data_to_train = pd.read_csv(io.BytesIO(uploaded['creditcard.csv']))\n",
        "\n",
        "data_to_train.head()"
      ],
      "execution_count": 63,
      "outputs": [
        {
          "output_type": "execute_result",
          "data": {
            "text/html": [
              "<div>\n",
              "<style scoped>\n",
              "    .dataframe tbody tr th:only-of-type {\n",
              "        vertical-align: middle;\n",
              "    }\n",
              "\n",
              "    .dataframe tbody tr th {\n",
              "        vertical-align: top;\n",
              "    }\n",
              "\n",
              "    .dataframe thead th {\n",
              "        text-align: right;\n",
              "    }\n",
              "</style>\n",
              "<table border=\"1\" class=\"dataframe\">\n",
              "  <thead>\n",
              "    <tr style=\"text-align: right;\">\n",
              "      <th></th>\n",
              "      <th>Time</th>\n",
              "      <th>V1</th>\n",
              "      <th>V2</th>\n",
              "      <th>V3</th>\n",
              "      <th>V4</th>\n",
              "      <th>V5</th>\n",
              "      <th>V6</th>\n",
              "      <th>V7</th>\n",
              "      <th>V8</th>\n",
              "      <th>V9</th>\n",
              "      <th>V10</th>\n",
              "      <th>V11</th>\n",
              "      <th>V12</th>\n",
              "      <th>V13</th>\n",
              "      <th>V14</th>\n",
              "      <th>V15</th>\n",
              "      <th>V16</th>\n",
              "      <th>V17</th>\n",
              "      <th>V18</th>\n",
              "      <th>V19</th>\n",
              "      <th>V20</th>\n",
              "      <th>V21</th>\n",
              "      <th>V22</th>\n",
              "      <th>V23</th>\n",
              "      <th>V24</th>\n",
              "      <th>V25</th>\n",
              "      <th>V26</th>\n",
              "      <th>V27</th>\n",
              "      <th>V28</th>\n",
              "      <th>Amount</th>\n",
              "      <th>Class</th>\n",
              "    </tr>\n",
              "  </thead>\n",
              "  <tbody>\n",
              "    <tr>\n",
              "      <th>0</th>\n",
              "      <td>0.0</td>\n",
              "      <td>-1.359807</td>\n",
              "      <td>-0.072781</td>\n",
              "      <td>2.536347</td>\n",
              "      <td>1.378155</td>\n",
              "      <td>-0.338321</td>\n",
              "      <td>0.462388</td>\n",
              "      <td>0.239599</td>\n",
              "      <td>0.098698</td>\n",
              "      <td>0.363787</td>\n",
              "      <td>0.090794</td>\n",
              "      <td>-0.551600</td>\n",
              "      <td>-0.617801</td>\n",
              "      <td>-0.991390</td>\n",
              "      <td>-0.311169</td>\n",
              "      <td>1.468177</td>\n",
              "      <td>-0.470401</td>\n",
              "      <td>0.207971</td>\n",
              "      <td>0.025791</td>\n",
              "      <td>0.403993</td>\n",
              "      <td>0.251412</td>\n",
              "      <td>-0.018307</td>\n",
              "      <td>0.277838</td>\n",
              "      <td>-0.110474</td>\n",
              "      <td>0.066928</td>\n",
              "      <td>0.128539</td>\n",
              "      <td>-0.189115</td>\n",
              "      <td>0.133558</td>\n",
              "      <td>-0.021053</td>\n",
              "      <td>149.62</td>\n",
              "      <td>0</td>\n",
              "    </tr>\n",
              "    <tr>\n",
              "      <th>1</th>\n",
              "      <td>0.0</td>\n",
              "      <td>1.191857</td>\n",
              "      <td>0.266151</td>\n",
              "      <td>0.166480</td>\n",
              "      <td>0.448154</td>\n",
              "      <td>0.060018</td>\n",
              "      <td>-0.082361</td>\n",
              "      <td>-0.078803</td>\n",
              "      <td>0.085102</td>\n",
              "      <td>-0.255425</td>\n",
              "      <td>-0.166974</td>\n",
              "      <td>1.612727</td>\n",
              "      <td>1.065235</td>\n",
              "      <td>0.489095</td>\n",
              "      <td>-0.143772</td>\n",
              "      <td>0.635558</td>\n",
              "      <td>0.463917</td>\n",
              "      <td>-0.114805</td>\n",
              "      <td>-0.183361</td>\n",
              "      <td>-0.145783</td>\n",
              "      <td>-0.069083</td>\n",
              "      <td>-0.225775</td>\n",
              "      <td>-0.638672</td>\n",
              "      <td>0.101288</td>\n",
              "      <td>-0.339846</td>\n",
              "      <td>0.167170</td>\n",
              "      <td>0.125895</td>\n",
              "      <td>-0.008983</td>\n",
              "      <td>0.014724</td>\n",
              "      <td>2.69</td>\n",
              "      <td>0</td>\n",
              "    </tr>\n",
              "    <tr>\n",
              "      <th>2</th>\n",
              "      <td>1.0</td>\n",
              "      <td>-1.358354</td>\n",
              "      <td>-1.340163</td>\n",
              "      <td>1.773209</td>\n",
              "      <td>0.379780</td>\n",
              "      <td>-0.503198</td>\n",
              "      <td>1.800499</td>\n",
              "      <td>0.791461</td>\n",
              "      <td>0.247676</td>\n",
              "      <td>-1.514654</td>\n",
              "      <td>0.207643</td>\n",
              "      <td>0.624501</td>\n",
              "      <td>0.066084</td>\n",
              "      <td>0.717293</td>\n",
              "      <td>-0.165946</td>\n",
              "      <td>2.345865</td>\n",
              "      <td>-2.890083</td>\n",
              "      <td>1.109969</td>\n",
              "      <td>-0.121359</td>\n",
              "      <td>-2.261857</td>\n",
              "      <td>0.524980</td>\n",
              "      <td>0.247998</td>\n",
              "      <td>0.771679</td>\n",
              "      <td>0.909412</td>\n",
              "      <td>-0.689281</td>\n",
              "      <td>-0.327642</td>\n",
              "      <td>-0.139097</td>\n",
              "      <td>-0.055353</td>\n",
              "      <td>-0.059752</td>\n",
              "      <td>378.66</td>\n",
              "      <td>0</td>\n",
              "    </tr>\n",
              "    <tr>\n",
              "      <th>3</th>\n",
              "      <td>1.0</td>\n",
              "      <td>-0.966272</td>\n",
              "      <td>-0.185226</td>\n",
              "      <td>1.792993</td>\n",
              "      <td>-0.863291</td>\n",
              "      <td>-0.010309</td>\n",
              "      <td>1.247203</td>\n",
              "      <td>0.237609</td>\n",
              "      <td>0.377436</td>\n",
              "      <td>-1.387024</td>\n",
              "      <td>-0.054952</td>\n",
              "      <td>-0.226487</td>\n",
              "      <td>0.178228</td>\n",
              "      <td>0.507757</td>\n",
              "      <td>-0.287924</td>\n",
              "      <td>-0.631418</td>\n",
              "      <td>-1.059647</td>\n",
              "      <td>-0.684093</td>\n",
              "      <td>1.965775</td>\n",
              "      <td>-1.232622</td>\n",
              "      <td>-0.208038</td>\n",
              "      <td>-0.108300</td>\n",
              "      <td>0.005274</td>\n",
              "      <td>-0.190321</td>\n",
              "      <td>-1.175575</td>\n",
              "      <td>0.647376</td>\n",
              "      <td>-0.221929</td>\n",
              "      <td>0.062723</td>\n",
              "      <td>0.061458</td>\n",
              "      <td>123.50</td>\n",
              "      <td>0</td>\n",
              "    </tr>\n",
              "    <tr>\n",
              "      <th>4</th>\n",
              "      <td>2.0</td>\n",
              "      <td>-1.158233</td>\n",
              "      <td>0.877737</td>\n",
              "      <td>1.548718</td>\n",
              "      <td>0.403034</td>\n",
              "      <td>-0.407193</td>\n",
              "      <td>0.095921</td>\n",
              "      <td>0.592941</td>\n",
              "      <td>-0.270533</td>\n",
              "      <td>0.817739</td>\n",
              "      <td>0.753074</td>\n",
              "      <td>-0.822843</td>\n",
              "      <td>0.538196</td>\n",
              "      <td>1.345852</td>\n",
              "      <td>-1.119670</td>\n",
              "      <td>0.175121</td>\n",
              "      <td>-0.451449</td>\n",
              "      <td>-0.237033</td>\n",
              "      <td>-0.038195</td>\n",
              "      <td>0.803487</td>\n",
              "      <td>0.408542</td>\n",
              "      <td>-0.009431</td>\n",
              "      <td>0.798278</td>\n",
              "      <td>-0.137458</td>\n",
              "      <td>0.141267</td>\n",
              "      <td>-0.206010</td>\n",
              "      <td>0.502292</td>\n",
              "      <td>0.219422</td>\n",
              "      <td>0.215153</td>\n",
              "      <td>69.99</td>\n",
              "      <td>0</td>\n",
              "    </tr>\n",
              "  </tbody>\n",
              "</table>\n",
              "</div>"
            ],
            "text/plain": [
              "   Time        V1        V2        V3  ...       V27       V28  Amount  Class\n",
              "0   0.0 -1.359807 -0.072781  2.536347  ...  0.133558 -0.021053  149.62      0\n",
              "1   0.0  1.191857  0.266151  0.166480  ... -0.008983  0.014724    2.69      0\n",
              "2   1.0 -1.358354 -1.340163  1.773209  ... -0.055353 -0.059752  378.66      0\n",
              "3   1.0 -0.966272 -0.185226  1.792993  ...  0.062723  0.061458  123.50      0\n",
              "4   2.0 -1.158233  0.877737  1.548718  ...  0.219422  0.215153   69.99      0\n",
              "\n",
              "[5 rows x 31 columns]"
            ]
          },
          "metadata": {
            "tags": []
          },
          "execution_count": 63
        }
      ]
    },
    {
      "cell_type": "code",
      "metadata": {
        "id": "xvyTGAzBMX-B",
        "colab": {
          "base_uri": "https://localhost:8080/"
        },
        "outputId": "5aef668c-013a-497b-88aa-bedff689456c"
      },
      "source": [
        "data_to_train.isnull().sum()\n",
        "#no Missing value so we are not filling anything"
      ],
      "execution_count": 64,
      "outputs": [
        {
          "output_type": "execute_result",
          "data": {
            "text/plain": [
              "Time      0\n",
              "V1        0\n",
              "V2        0\n",
              "V3        0\n",
              "V4        0\n",
              "V5        0\n",
              "V6        0\n",
              "V7        0\n",
              "V8        0\n",
              "V9        0\n",
              "V10       0\n",
              "V11       0\n",
              "V12       0\n",
              "V13       0\n",
              "V14       0\n",
              "V15       0\n",
              "V16       0\n",
              "V17       0\n",
              "V18       0\n",
              "V19       0\n",
              "V20       0\n",
              "V21       0\n",
              "V22       0\n",
              "V23       0\n",
              "V24       0\n",
              "V25       0\n",
              "V26       0\n",
              "V27       0\n",
              "V28       0\n",
              "Amount    0\n",
              "Class     0\n",
              "dtype: int64"
            ]
          },
          "metadata": {
            "tags": []
          },
          "execution_count": 64
        }
      ]
    },
    {
      "cell_type": "code",
      "metadata": {
        "colab": {
          "base_uri": "https://localhost:8080/"
        },
        "id": "x9he_8LcHffp",
        "outputId": "22068947-e760-4366-dec3-c079f10f786c"
      },
      "source": [
        "data_to_train.shape"
      ],
      "execution_count": 65,
      "outputs": [
        {
          "output_type": "execute_result",
          "data": {
            "text/plain": [
              "(284807, 31)"
            ]
          },
          "metadata": {
            "tags": []
          },
          "execution_count": 65
        }
      ]
    },
    {
      "cell_type": "code",
      "metadata": {
        "id": "mi5Ed4bpMX-B",
        "colab": {
          "base_uri": "https://localhost:8080/"
        },
        "outputId": "2beaf56b-930e-4321-a959-91f45e00898d"
      },
      "source": [
        "data_to_train.shape\n",
        "\n",
        "x = (data_to_train.iloc[:, :-1].values)\n",
        "y = (data_to_train.iloc[:, -1].values)\n",
        "train_ratio = 0.5\n",
        "validation_ratio = 0.20\n",
        "test_ratio = 0.30\n",
        "from sklearn.model_selection import train_test_split\n",
        "# train is now 50% of the entire data set\n",
        "# the _junk suffix means that we drop that variable completely\n",
        "x_train, x_test, y_train, y_test = train_test_split(x, y, test_size=1 - train_ratio)\n",
        "\n",
        "x_val, x_test, y_val, y_test = train_test_split(x_test, y_test, test_size=test_ratio/(test_ratio + validation_ratio))\n",
        "\n",
        "print(\"train\")\n",
        "print(x_train)\n",
        "print(\"test\")\n",
        "print(x_test)\n",
        "print(\"validation\")\n",
        "print( x_val )"
      ],
      "execution_count": 66,
      "outputs": [
        {
          "output_type": "stream",
          "text": [
            "train\n",
            "[[154757.         0.311     -0.43  ...      0.261      0.287     25.   ]\n",
            " [ 46295.         1.568     -1.067 ...      0.028     -0.002     24.   ]\n",
            " [126549.         2.064     -0.972 ...     -0.074     -0.058    102.   ]\n",
            " ...\n",
            " [ 71564.        -1.601      0.364 ...     -0.081     -0.114     52.81 ]\n",
            " [ 53632.        -0.708      2.824 ...     -0.048     -0.039      1.   ]\n",
            " [150730.        -0.189      0.784 ...     -0.605     -0.486      1.   ]]\n",
            "test\n",
            "[[141606.        -7.772      7.14  ...      2.911      1.786      0.77 ]\n",
            " [  1508.         1.27       0.192 ...     -0.011     -0.006      1.98 ]\n",
            " [ 71884.         1.144      0.246 ...     -0.005      0.021     23.43 ]\n",
            " ...\n",
            " [128749.        -0.218      0.913 ...      0.355      0.138     13.99 ]\n",
            " [ 63424.        -0.768      0.213 ...      0.305      0.222      8.96 ]\n",
            " [120530.         2.011      0.161 ...     -0.006     -0.025     26.9  ]]\n",
            "validation\n",
            "[[  7595.         1.189      0.33  ...      0.004      0.027     36.   ]\n",
            " [143622.        -0.157      0.922 ...      0.033      0.056      0.76 ]\n",
            " [ 78988.         1.451     -1.013 ...      0.044      0.021     15.   ]\n",
            " ...\n",
            " [ 48952.        -0.852     -0.417 ...      0.273      0.118     10.   ]\n",
            " [ 68035.         0.057     -2.45  ...     -0.067      0.127    624.14 ]\n",
            " [160761.         2.056      0.148 ...     -0.063     -0.028      7.99 ]]\n"
          ],
          "name": "stdout"
        }
      ]
    },
    {
      "cell_type": "code",
      "metadata": {
        "colab": {
          "base_uri": "https://localhost:8080/"
        },
        "id": "p8uF8NQnKyCG",
        "outputId": "4208ca06-1207-4c09-8d4f-17277a4eb695"
      },
      "source": [
        "print(x_train.shape)\n",
        "print(x_test.shape)\n",
        "print(x_val.shape)"
      ],
      "execution_count": 67,
      "outputs": [
        {
          "output_type": "stream",
          "text": [
            "(142403, 30)\n",
            "(85443, 30)\n",
            "(56961, 30)\n"
          ],
          "name": "stdout"
        }
      ]
    },
    {
      "cell_type": "code",
      "metadata": {
        "id": "qFFKTyonMX-B"
      },
      "source": [
        "# Normalizing the data\n",
        "\n",
        "mean = x_train.mean(axis=0)\n",
        "x_train -= mean\n",
        "\n",
        "std = x_train.std(axis=0)\n",
        "\n",
        "x_train /= std\n",
        "x_test -= mean\n",
        "x_test /= std"
      ],
      "execution_count": 68,
      "outputs": []
    },
    {
      "cell_type": "code",
      "metadata": {
        "id": "dtCmY1qWMX-C"
      },
      "source": [
        "from tensorflow.keras import models\n",
        "from tensorflow.keras import layers\n",
        "\n",
        "def build_model():\n",
        "    model = models.Sequential()\n",
        "    model.add(layers.Dense(10, activation='relu',\n",
        "                          input_shape =(30,)))\n",
        "    model.add(layers.Dense(8, activation='relu'))\n",
        "    model.add(layers.Dense(6, activation='relu'))\n",
        "    model.add(layers.Dense(1,activation='sigmoid'))\n",
        "    model.compile(optimizer= 'adam', loss= 'binary_crossentropy', metrics= ['accuracy'])\n",
        "    return model\n",
        "model=build_model()    "
      ],
      "execution_count": 69,
      "outputs": []
    },
    {
      "cell_type": "code",
      "metadata": {
        "id": "DruJ3fPHMX-C",
        "colab": {
          "base_uri": "https://localhost:8080/"
        },
        "outputId": "6ad8a861-7d6e-46e4-f1bd-1f4469ea47c4"
      },
      "source": [
        "history=model.fit(x_train,y_train,epochs=100,validation_data=(x_val, y_val),batch_size=100)"
      ],
      "execution_count": 78,
      "outputs": [
        {
          "output_type": "stream",
          "text": [
            "Epoch 1/100\n",
            "1425/1425 [==============================] - 2s 2ms/step - loss: 8.2855e-04 - accuracy: 0.9997 - val_loss: 579.8110 - val_accuracy: 0.9981\n",
            "Epoch 2/100\n",
            "1425/1425 [==============================] - 2s 1ms/step - loss: 5.6765e-04 - accuracy: 0.9997 - val_loss: 568.7776 - val_accuracy: 0.9981\n",
            "Epoch 3/100\n",
            "1425/1425 [==============================] - 2s 1ms/step - loss: 5.6301e-04 - accuracy: 0.9997 - val_loss: 667.2758 - val_accuracy: 0.9981\n",
            "Epoch 4/100\n",
            "1425/1425 [==============================] - 2s 1ms/step - loss: 6.4045e-04 - accuracy: 0.9997 - val_loss: 613.5262 - val_accuracy: 0.9981\n",
            "Epoch 5/100\n",
            "1425/1425 [==============================] - 2s 1ms/step - loss: 6.1447e-04 - accuracy: 0.9997 - val_loss: 607.7067 - val_accuracy: 0.9981\n",
            "Epoch 6/100\n",
            "1425/1425 [==============================] - 2s 1ms/step - loss: 5.3131e-04 - accuracy: 0.9997 - val_loss: 582.5870 - val_accuracy: 0.9981\n",
            "Epoch 7/100\n",
            "1425/1425 [==============================] - 2s 1ms/step - loss: 5.1907e-04 - accuracy: 0.9997 - val_loss: 594.7671 - val_accuracy: 0.9981\n",
            "Epoch 8/100\n",
            "1425/1425 [==============================] - 2s 1ms/step - loss: 5.6522e-04 - accuracy: 0.9997 - val_loss: 581.4150 - val_accuracy: 0.9981\n",
            "Epoch 9/100\n",
            "1425/1425 [==============================] - 2s 1ms/step - loss: 6.4657e-04 - accuracy: 0.9997 - val_loss: 574.8301 - val_accuracy: 0.9981\n",
            "Epoch 10/100\n",
            "1425/1425 [==============================] - 2s 1ms/step - loss: 5.9628e-04 - accuracy: 0.9997 - val_loss: 567.5322 - val_accuracy: 0.9981\n",
            "Epoch 11/100\n",
            "1425/1425 [==============================] - 2s 1ms/step - loss: 5.0178e-04 - accuracy: 0.9997 - val_loss: 555.7487 - val_accuracy: 0.9981\n",
            "Epoch 12/100\n",
            "1425/1425 [==============================] - 2s 1ms/step - loss: 5.9314e-04 - accuracy: 0.9997 - val_loss: 670.0497 - val_accuracy: 0.9981\n",
            "Epoch 13/100\n",
            "1425/1425 [==============================] - 2s 1ms/step - loss: 6.1318e-04 - accuracy: 0.9997 - val_loss: 705.6613 - val_accuracy: 0.9981\n",
            "Epoch 14/100\n",
            "1425/1425 [==============================] - 2s 2ms/step - loss: 4.8421e-04 - accuracy: 0.9997 - val_loss: 637.2534 - val_accuracy: 0.9981\n",
            "Epoch 15/100\n",
            "1425/1425 [==============================] - 2s 1ms/step - loss: 4.9927e-04 - accuracy: 0.9997 - val_loss: 834.2979 - val_accuracy: 0.9981\n",
            "Epoch 16/100\n",
            "1425/1425 [==============================] - 2s 1ms/step - loss: 6.7412e-04 - accuracy: 0.9997 - val_loss: 938.0363 - val_accuracy: 0.9981\n",
            "Epoch 17/100\n",
            "1425/1425 [==============================] - 2s 1ms/step - loss: 5.3498e-04 - accuracy: 0.9997 - val_loss: 858.4485 - val_accuracy: 0.9981\n",
            "Epoch 18/100\n",
            "1425/1425 [==============================] - 2s 1ms/step - loss: 4.3859e-04 - accuracy: 0.9998 - val_loss: 866.3309 - val_accuracy: 0.9981\n",
            "Epoch 19/100\n",
            "1425/1425 [==============================] - 2s 1ms/step - loss: 4.2675e-04 - accuracy: 0.9998 - val_loss: 883.0870 - val_accuracy: 0.9981\n",
            "Epoch 20/100\n",
            "1425/1425 [==============================] - 2s 1ms/step - loss: 5.2795e-04 - accuracy: 0.9998 - val_loss: 764.6931 - val_accuracy: 0.9981\n",
            "Epoch 21/100\n",
            "1425/1425 [==============================] - 2s 1ms/step - loss: 5.1377e-04 - accuracy: 0.9998 - val_loss: 991.5237 - val_accuracy: 0.9981\n",
            "Epoch 22/100\n",
            "1425/1425 [==============================] - 2s 1ms/step - loss: 6.3032e-04 - accuracy: 0.9997 - val_loss: 835.4370 - val_accuracy: 0.9981\n",
            "Epoch 23/100\n",
            "1425/1425 [==============================] - 2s 2ms/step - loss: 4.3466e-04 - accuracy: 0.9998 - val_loss: 922.5540 - val_accuracy: 0.9981\n",
            "Epoch 24/100\n",
            "1425/1425 [==============================] - 2s 1ms/step - loss: 4.4426e-04 - accuracy: 0.9998 - val_loss: 843.6994 - val_accuracy: 0.9981\n",
            "Epoch 25/100\n",
            "1425/1425 [==============================] - 2s 1ms/step - loss: 4.6860e-04 - accuracy: 0.9998 - val_loss: 804.4442 - val_accuracy: 0.9981\n",
            "Epoch 26/100\n",
            "1425/1425 [==============================] - 2s 1ms/step - loss: 5.4424e-04 - accuracy: 0.9997 - val_loss: 808.8552 - val_accuracy: 0.9981\n",
            "Epoch 27/100\n",
            "1425/1425 [==============================] - 2s 1ms/step - loss: 5.3410e-04 - accuracy: 0.9997 - val_loss: 815.3927 - val_accuracy: 0.9981\n",
            "Epoch 28/100\n",
            "1425/1425 [==============================] - 2s 1ms/step - loss: 4.5379e-04 - accuracy: 0.9998 - val_loss: 859.4741 - val_accuracy: 0.9981\n",
            "Epoch 29/100\n",
            "1425/1425 [==============================] - 2s 2ms/step - loss: 4.4415e-04 - accuracy: 0.9998 - val_loss: 918.7786 - val_accuracy: 0.9981\n",
            "Epoch 30/100\n",
            "1425/1425 [==============================] - 2s 1ms/step - loss: 4.7307e-04 - accuracy: 0.9998 - val_loss: 1021.6534 - val_accuracy: 0.9981\n",
            "Epoch 31/100\n",
            "1425/1425 [==============================] - 2s 2ms/step - loss: 6.0217e-04 - accuracy: 0.9997 - val_loss: 1061.1807 - val_accuracy: 0.9981\n",
            "Epoch 32/100\n",
            "1425/1425 [==============================] - 2s 2ms/step - loss: 4.2530e-04 - accuracy: 0.9998 - val_loss: 883.7103 - val_accuracy: 0.9981\n",
            "Epoch 33/100\n",
            "1425/1425 [==============================] - 2s 2ms/step - loss: 4.4975e-04 - accuracy: 0.9998 - val_loss: 1142.8062 - val_accuracy: 0.9981\n",
            "Epoch 34/100\n",
            "1425/1425 [==============================] - 2s 2ms/step - loss: 5.7357e-04 - accuracy: 0.9997 - val_loss: 944.1617 - val_accuracy: 0.9981\n",
            "Epoch 35/100\n",
            "1425/1425 [==============================] - 2s 2ms/step - loss: 7.8102e-04 - accuracy: 0.9997 - val_loss: 905.4219 - val_accuracy: 0.9981\n",
            "Epoch 36/100\n",
            "1425/1425 [==============================] - 2s 2ms/step - loss: 4.4737e-04 - accuracy: 0.9998 - val_loss: 919.9888 - val_accuracy: 0.9981\n",
            "Epoch 37/100\n",
            "1425/1425 [==============================] - 2s 2ms/step - loss: 3.9628e-04 - accuracy: 0.9998 - val_loss: 895.0665 - val_accuracy: 0.9981\n",
            "Epoch 38/100\n",
            "1425/1425 [==============================] - 2s 2ms/step - loss: 7.0046e-04 - accuracy: 0.9998 - val_loss: 1186.7803 - val_accuracy: 0.9981\n",
            "Epoch 39/100\n",
            "1425/1425 [==============================] - 2s 2ms/step - loss: 4.3764e-04 - accuracy: 0.9998 - val_loss: 1074.1564 - val_accuracy: 0.9981\n",
            "Epoch 40/100\n",
            "1425/1425 [==============================] - 2s 2ms/step - loss: 3.6134e-04 - accuracy: 0.9998 - val_loss: 1251.0607 - val_accuracy: 0.9981\n",
            "Epoch 41/100\n",
            "1425/1425 [==============================] - 2s 2ms/step - loss: 6.4954e-04 - accuracy: 0.9998 - val_loss: 1201.9551 - val_accuracy: 0.9981\n",
            "Epoch 42/100\n",
            "1425/1425 [==============================] - 2s 2ms/step - loss: 4.8978e-04 - accuracy: 0.9998 - val_loss: 1005.3807 - val_accuracy: 0.9981\n",
            "Epoch 43/100\n",
            "1425/1425 [==============================] - 2s 1ms/step - loss: 3.7979e-04 - accuracy: 0.9998 - val_loss: 868.4361 - val_accuracy: 0.9981\n",
            "Epoch 44/100\n",
            "1425/1425 [==============================] - 2s 2ms/step - loss: 3.8152e-04 - accuracy: 0.9998 - val_loss: 1029.6769 - val_accuracy: 0.9981\n",
            "Epoch 45/100\n",
            "1425/1425 [==============================] - 2s 2ms/step - loss: 4.3144e-04 - accuracy: 0.9998 - val_loss: 1116.6675 - val_accuracy: 0.9981\n",
            "Epoch 46/100\n",
            "1425/1425 [==============================] - 2s 2ms/step - loss: 4.3802e-04 - accuracy: 0.9998 - val_loss: 777.1908 - val_accuracy: 0.9981\n",
            "Epoch 47/100\n",
            "1425/1425 [==============================] - 2s 2ms/step - loss: 6.4140e-04 - accuracy: 0.9997 - val_loss: 908.1752 - val_accuracy: 0.9981\n",
            "Epoch 48/100\n",
            "1425/1425 [==============================] - 2s 2ms/step - loss: 5.6055e-04 - accuracy: 0.9998 - val_loss: 978.0491 - val_accuracy: 0.9981\n",
            "Epoch 49/100\n",
            "1425/1425 [==============================] - 2s 1ms/step - loss: 3.8583e-04 - accuracy: 0.9998 - val_loss: 977.3217 - val_accuracy: 0.9981\n",
            "Epoch 50/100\n",
            "1425/1425 [==============================] - 2s 1ms/step - loss: 3.6692e-04 - accuracy: 0.9998 - val_loss: 865.2043 - val_accuracy: 0.9981\n",
            "Epoch 51/100\n",
            "1425/1425 [==============================] - 2s 2ms/step - loss: 3.8394e-04 - accuracy: 0.9998 - val_loss: 1129.7751 - val_accuracy: 0.9981\n",
            "Epoch 52/100\n",
            "1425/1425 [==============================] - 2s 2ms/step - loss: 7.0770e-04 - accuracy: 0.9998 - val_loss: 917.5483 - val_accuracy: 0.9981\n",
            "Epoch 53/100\n",
            "1425/1425 [==============================] - 2s 1ms/step - loss: 3.7549e-04 - accuracy: 0.9998 - val_loss: 1046.7827 - val_accuracy: 0.9981\n",
            "Epoch 54/100\n",
            "1425/1425 [==============================] - 2s 2ms/step - loss: 4.0954e-04 - accuracy: 0.9998 - val_loss: 1003.9084 - val_accuracy: 0.9981\n",
            "Epoch 55/100\n",
            "1425/1425 [==============================] - 2s 2ms/step - loss: 6.6401e-04 - accuracy: 0.9997 - val_loss: 1296.6702 - val_accuracy: 0.9981\n",
            "Epoch 56/100\n",
            "1425/1425 [==============================] - 2s 1ms/step - loss: 5.8603e-04 - accuracy: 0.9997 - val_loss: 1131.9945 - val_accuracy: 0.9981\n",
            "Epoch 57/100\n",
            "1425/1425 [==============================] - 2s 1ms/step - loss: 3.7685e-04 - accuracy: 0.9998 - val_loss: 1039.2013 - val_accuracy: 0.9981\n",
            "Epoch 58/100\n",
            "1425/1425 [==============================] - 2s 2ms/step - loss: 3.5679e-04 - accuracy: 0.9998 - val_loss: 1167.1353 - val_accuracy: 0.9981\n",
            "Epoch 59/100\n",
            "1425/1425 [==============================] - 2s 2ms/step - loss: 5.2947e-04 - accuracy: 0.9997 - val_loss: 1119.1765 - val_accuracy: 0.9981\n",
            "Epoch 60/100\n",
            "1425/1425 [==============================] - 2s 2ms/step - loss: 4.2128e-04 - accuracy: 0.9998 - val_loss: 1076.5912 - val_accuracy: 0.9981\n",
            "Epoch 61/100\n",
            "1425/1425 [==============================] - 2s 2ms/step - loss: 3.9481e-04 - accuracy: 0.9998 - val_loss: 1108.7069 - val_accuracy: 0.9981\n",
            "Epoch 62/100\n",
            "1425/1425 [==============================] - 2s 2ms/step - loss: 5.4214e-04 - accuracy: 0.9998 - val_loss: 754.9475 - val_accuracy: 0.9981\n",
            "Epoch 63/100\n",
            "1425/1425 [==============================] - 2s 2ms/step - loss: 5.1701e-04 - accuracy: 0.9998 - val_loss: 1034.2250 - val_accuracy: 0.9981\n",
            "Epoch 64/100\n",
            "1425/1425 [==============================] - 2s 2ms/step - loss: 3.8183e-04 - accuracy: 0.9998 - val_loss: 981.0767 - val_accuracy: 0.9981\n",
            "Epoch 65/100\n",
            "1425/1425 [==============================] - 2s 2ms/step - loss: 3.5816e-04 - accuracy: 0.9998 - val_loss: 1230.4657 - val_accuracy: 0.9981\n",
            "Epoch 66/100\n",
            "1425/1425 [==============================] - 2s 2ms/step - loss: 4.5762e-04 - accuracy: 0.9998 - val_loss: 1449.8386 - val_accuracy: 0.9981\n",
            "Epoch 67/100\n",
            "1425/1425 [==============================] - 2s 2ms/step - loss: 4.0743e-04 - accuracy: 0.9998 - val_loss: 1120.3192 - val_accuracy: 0.9981\n",
            "Epoch 68/100\n",
            "1425/1425 [==============================] - 2s 2ms/step - loss: 4.1421e-04 - accuracy: 0.9998 - val_loss: 1195.3293 - val_accuracy: 0.9981\n",
            "Epoch 69/100\n",
            "1425/1425 [==============================] - 2s 2ms/step - loss: 4.4561e-04 - accuracy: 0.9998 - val_loss: 1260.5609 - val_accuracy: 0.9981\n",
            "Epoch 70/100\n",
            "1425/1425 [==============================] - 2s 2ms/step - loss: 3.7182e-04 - accuracy: 0.9998 - val_loss: 1174.5153 - val_accuracy: 0.9981\n",
            "Epoch 71/100\n",
            "1425/1425 [==============================] - 2s 2ms/step - loss: 4.8989e-04 - accuracy: 0.9998 - val_loss: 1204.5713 - val_accuracy: 0.9981\n",
            "Epoch 72/100\n",
            "1425/1425 [==============================] - 2s 2ms/step - loss: 7.0380e-04 - accuracy: 0.9997 - val_loss: 707.4254 - val_accuracy: 0.9981\n",
            "Epoch 73/100\n",
            "1425/1425 [==============================] - 2s 2ms/step - loss: 4.0264e-04 - accuracy: 0.9998 - val_loss: 957.3371 - val_accuracy: 0.9981\n",
            "Epoch 74/100\n",
            "1425/1425 [==============================] - 2s 2ms/step - loss: 3.6211e-04 - accuracy: 0.9998 - val_loss: 1076.8184 - val_accuracy: 0.9981\n",
            "Epoch 75/100\n",
            "1425/1425 [==============================] - 2s 1ms/step - loss: 3.6429e-04 - accuracy: 0.9998 - val_loss: 1061.4968 - val_accuracy: 0.9981\n",
            "Epoch 76/100\n",
            "1425/1425 [==============================] - 2s 2ms/step - loss: 4.2427e-04 - accuracy: 0.9998 - val_loss: 1105.9213 - val_accuracy: 0.9981\n",
            "Epoch 77/100\n",
            "1425/1425 [==============================] - 2s 2ms/step - loss: 8.7578e-04 - accuracy: 0.9998 - val_loss: 1382.0311 - val_accuracy: 0.9981\n",
            "Epoch 78/100\n",
            "1425/1425 [==============================] - 2s 2ms/step - loss: 3.8131e-04 - accuracy: 0.9998 - val_loss: 1119.7987 - val_accuracy: 0.9981\n",
            "Epoch 79/100\n",
            "1425/1425 [==============================] - 2s 2ms/step - loss: 3.6755e-04 - accuracy: 0.9998 - val_loss: 1034.5116 - val_accuracy: 0.9981\n",
            "Epoch 80/100\n",
            "1425/1425 [==============================] - 2s 2ms/step - loss: 3.4672e-04 - accuracy: 0.9998 - val_loss: 1212.9717 - val_accuracy: 0.9981\n",
            "Epoch 81/100\n",
            "1425/1425 [==============================] - 2s 2ms/step - loss: 3.7462e-04 - accuracy: 0.9998 - val_loss: 1294.0109 - val_accuracy: 0.9981\n",
            "Epoch 82/100\n",
            "1425/1425 [==============================] - 2s 2ms/step - loss: 8.3775e-04 - accuracy: 0.9997 - val_loss: 981.0394 - val_accuracy: 0.9981\n",
            "Epoch 83/100\n",
            "1425/1425 [==============================] - 2s 2ms/step - loss: 4.9924e-04 - accuracy: 0.9998 - val_loss: 829.7256 - val_accuracy: 0.9981\n",
            "Epoch 84/100\n",
            "1425/1425 [==============================] - 2s 2ms/step - loss: 3.2354e-04 - accuracy: 0.9998 - val_loss: 865.7512 - val_accuracy: 0.9981\n",
            "Epoch 85/100\n",
            "1425/1425 [==============================] - 2s 2ms/step - loss: 3.5086e-04 - accuracy: 0.9998 - val_loss: 864.0414 - val_accuracy: 0.9981\n",
            "Epoch 86/100\n",
            "1425/1425 [==============================] - 2s 2ms/step - loss: 4.2613e-04 - accuracy: 0.9998 - val_loss: 956.2844 - val_accuracy: 0.9981\n",
            "Epoch 87/100\n",
            "1425/1425 [==============================] - 2s 2ms/step - loss: 3.7423e-04 - accuracy: 0.9998 - val_loss: 942.0552 - val_accuracy: 0.9981\n",
            "Epoch 88/100\n",
            "1425/1425 [==============================] - 2s 2ms/step - loss: 7.0057e-04 - accuracy: 0.9998 - val_loss: 905.4344 - val_accuracy: 0.9981\n",
            "Epoch 89/100\n",
            "1425/1425 [==============================] - 2s 2ms/step - loss: 5.5437e-04 - accuracy: 0.9998 - val_loss: 814.5295 - val_accuracy: 0.9981\n",
            "Epoch 90/100\n",
            "1425/1425 [==============================] - 2s 2ms/step - loss: 3.2905e-04 - accuracy: 0.9998 - val_loss: 914.9566 - val_accuracy: 0.9981\n",
            "Epoch 91/100\n",
            "1425/1425 [==============================] - 2s 2ms/step - loss: 3.9357e-04 - accuracy: 0.9998 - val_loss: 1086.7123 - val_accuracy: 0.9981\n",
            "Epoch 92/100\n",
            "1425/1425 [==============================] - 2s 1ms/step - loss: 3.8874e-04 - accuracy: 0.9998 - val_loss: 1064.9592 - val_accuracy: 0.9981\n",
            "Epoch 93/100\n",
            "1425/1425 [==============================] - 2s 1ms/step - loss: 4.6965e-04 - accuracy: 0.9998 - val_loss: 965.4744 - val_accuracy: 0.9981\n",
            "Epoch 94/100\n",
            "1425/1425 [==============================] - 2s 1ms/step - loss: 3.5909e-04 - accuracy: 0.9998 - val_loss: 1225.0632 - val_accuracy: 0.9981\n",
            "Epoch 95/100\n",
            "1425/1425 [==============================] - 2s 1ms/step - loss: 3.6580e-04 - accuracy: 0.9998 - val_loss: 1176.4192 - val_accuracy: 0.9981\n",
            "Epoch 96/100\n",
            "1425/1425 [==============================] - 2s 2ms/step - loss: 5.5462e-04 - accuracy: 0.9997 - val_loss: 1340.9817 - val_accuracy: 0.9981\n",
            "Epoch 97/100\n",
            "1425/1425 [==============================] - 2s 2ms/step - loss: 6.0081e-04 - accuracy: 0.9998 - val_loss: 1250.8411 - val_accuracy: 0.9981\n",
            "Epoch 98/100\n",
            "1425/1425 [==============================] - 2s 2ms/step - loss: 5.1109e-04 - accuracy: 0.9998 - val_loss: 1217.1698 - val_accuracy: 0.9981\n",
            "Epoch 99/100\n",
            "1425/1425 [==============================] - 2s 2ms/step - loss: 3.5050e-04 - accuracy: 0.9998 - val_loss: 1444.5133 - val_accuracy: 0.9981\n",
            "Epoch 100/100\n",
            "1425/1425 [==============================] - 2s 2ms/step - loss: 3.4726e-04 - accuracy: 0.9998 - val_loss: 1359.8010 - val_accuracy: 0.9981\n"
          ],
          "name": "stdout"
        }
      ]
    },
    {
      "cell_type": "code",
      "metadata": {
        "id": "iEmu_6twMX-C",
        "colab": {
          "base_uri": "https://localhost:8080/",
          "height": 295
        },
        "outputId": "19790fb1-84ab-4e5d-c06d-6bb39dfd9169"
      },
      "source": [
        "#evaluation and prediction\n",
        "#Visualizing Training and Validation Loss\n",
        "loss_train = history.history['loss']\n",
        "loss_val = history.history['val_loss']\n",
        "epochs = range(1,101)\n",
        "plt.plot(epochs, loss_train, 'g', label='Training loss')\n",
        "plt.plot(epochs, loss_val, 'b', label='validation loss')\n",
        "plt.title('Training and Validation loss')\n",
        "plt.xlabel('Epochs')\n",
        "plt.ylabel('Loss')\n",
        "plt.legend()\n",
        "plt.show()"
      ],
      "execution_count": 71,
      "outputs": [
        {
          "output_type": "display_data",
          "data": {
            "image/png": "[encoded data removed]",
            "text/plain": [
              "<Figure size 432x288 with 1 Axes>"
            ]
          },
          "metadata": {
            "tags": [],
            "needs_background": "light"
          }
        }
      ]
    },
    {
      "cell_type": "code",
      "metadata": {
        "colab": {
          "base_uri": "https://localhost:8080/",
          "height": 295
        },
        "id": "rr6JZrg1QTeT",
        "outputId": "25e61946-a105-473e-d3c0-0e70b1cc4f21"
      },
      "source": [
        "#Visualizing Training and Validation Accuracy\n",
        "loss_train = history.history['accuracy']\n",
        "loss_val = history.history['val_accuracy']\n",
        "epochs = range(1,101)\n",
        "plt.plot(epochs, loss_train, 'g', label='Training accuracy')\n",
        "plt.plot(epochs, loss_val, 'b', label='validation accuracy')\n",
        "plt.title('Training and Validation accuracy')\n",
        "plt.xlabel('Epochs')\n",
        "plt.ylabel('Accuracy')\n",
        "plt.legend()\n",
        "plt.show()"
      ],
      "execution_count": 74,
      "outputs": [
        {
          "output_type": "display_data",
          "data": {
            "image/png": "[encoded data removed]",
            "text/plain": [
              "<Figure size 432x288 with 1 Axes>"
            ]
          },
          "metadata": {
            "tags": [],
            "needs_background": "light"
          }
        }
      ]
    },
    {
      "cell_type": "code",
      "metadata": {
        "colab": {
          "base_uri": "https://localhost:8080/"
        },
        "id": "KINUOSZ8rzrx",
        "outputId": "aad0b8fc-e6be-4ebf-86c8-9e9dd7d6f55d"
      },
      "source": [
        "# evaluate the model\n",
        "scores = model.evaluate(x_train, y_train)\n",
        "print(\"%s: %.2f%%\" % (model.metrics_names[1], scores[1]*100))\n",
        "# evaluate the model\n",
        "scores = model.evaluate(x_test, y_test)\n",
        "print(\"%s: %.2f%%\" % (model.metrics_names[1], scores[1]*100))"
      ],
      "execution_count": 79,
      "outputs": [
        {
          "output_type": "stream",
          "text": [
            "4451/4451 [==============================] - 4s 864us/step - loss: 2.9975e-04 - accuracy: 0.9999\n",
            "accuracy: 99.99%\n",
            "2671/2671 [==============================] - 2s 863us/step - loss: 0.0355 - accuracy: 0.9990\n",
            "accuracy: 99.90%\n"
          ],
          "name": "stdout"
        }
      ]
    },
    {
      "cell_type": "code",
      "metadata": {
        "id": "XoU6LNtgMX-C",
        "colab": {
          "base_uri": "https://localhost:8080/"
        },
        "outputId": "46c05305-9419-471e-ded8-81a394202634"
      },
      "source": [
        "#perdiction\n",
        "from sklearn.metrics import confusion_matrix, accuracy_score, ConfusionMatrixDisplay\n",
        "y_pred = model.predict(x_test)\n",
        "y_pred = (y_pred > 0.5) \n",
        "cm = confusion_matrix(y_test, y_pred)\n",
        "print(cm)\n",
        "print(\"accuracy score\")\n",
        "print(accuracy_score(y_test, y_pred))\n",
        "#[[85234    43]\n",
        " #[   39   127]]\n",
        "#accuracy score 99% with adam optimizer\n",
        "#0.9990402958697612"
      ],
      "execution_count": 77,
      "outputs": [
        {
          "output_type": "stream",
          "text": [
            "[[85234    43]\n",
            " [   39   127]]\n",
            "accuracy score\n",
            "0.9990402958697612\n"
          ],
          "name": "stdout"
        }
      ]
    },
    {
      "cell_type": "code",
      "metadata": {
        "id": "zxq5RmfmMX-D"
      },
      "source": [
        ""
      ],
      "execution_count": null,
      "outputs": []
    },
    {
      "cell_type": "code",
      "metadata": {
        "id": "EuAf6wGEMX-D"
      },
      "source": [
        ""
      ],
      "execution_count": null,
      "outputs": []
    },
    {
      "cell_type": "code",
      "metadata": {
        "id": "GAl_KFRVMX-D"
      },
      "source": [
        ""
      ],
      "execution_count": null,
      "outputs": []
    },
    {
      "cell_type": "code",
      "metadata": {
        "id": "ez5_xjPhMX-D"
      },
      "source": [
        ""
      ],
      "execution_count": null,
      "outputs": []
    },
    {
      "cell_type": "code",
      "metadata": {
        "id": "EZ729lEvMX-D"
      },
      "source": [
        ""
      ],
      "execution_count": null,
      "outputs": []
    },
    {
      "cell_type": "code",
      "metadata": {
        "id": "HP2dQE__MX-E"
      },
      "source": [
        ""
      ],
      "execution_count": null,
      "outputs": []
    }
  ]
}