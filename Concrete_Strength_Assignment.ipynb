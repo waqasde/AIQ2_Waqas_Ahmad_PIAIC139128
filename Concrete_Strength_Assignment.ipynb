{
  "nbformat": 4,
  "nbformat_minor": 0,
  "metadata": {
    "kernelspec": {
      "display_name": "Python 3",
      "language": "python",
      "name": "python3"
    },
    "language_info": {
      "codemirror_mode": {
        "name": "ipython",
        "version": 3
      },
      "file_extension": ".py",
      "mimetype": "text/x-python",
      "name": "python",
      "nbconvert_exporter": "python",
      "pygments_lexer": "ipython3",
      "version": "3.7.3"
    },
    "colab": {
      "name": "Concrete Strength Assignment.ipynb",
      "provenance": [],
      "collapsed_sections": [],
      "toc_visible": true
    }
  },
  "cells": [
    {
      "cell_type": "markdown",
      "metadata": {
        "id": "izkCLZuOmW55"
      },
      "source": [
        "# Assignment: Compresive Strength Concrete Problem\n",
        "\n",
        "\n",
        "### Abstract: \n",
        "\n",
        "Concrete is the most important material in civil engineering. The concrete compressive strength (concrete strength to bear the load) is a highly nonlinear function of age and ingredients.  <br><br>\n",
        "\n",
        "<table border=\"1\"  cellpadding=\"6\" bordercolor=\"red\">\n",
        "\t<tbody>\n",
        "        <tr>\n",
        "\t\t<td bgcolor=\"#DDEEFF\"><p class=\"normal\"><b>Data Set Characteristics:&nbsp;&nbsp;</b></p></td>\n",
        "\t\t<td><p class=\"normal\">Multivariate</p></td>\n",
        "\t\t<td bgcolor=\"#DDEEFF\"><p class=\"normal\"><b>Number of Instances:</b></p></td>\n",
        "\t\t<td><p class=\"normal\">1030</p></td>\n",
        "\t\t<td bgcolor=\"#DDEEFF\"><p class=\"normal\"><b>Area:</b></p></td>\n",
        "\t\t<td><p class=\"normal\">Physical</p></td>\n",
        "        </tr>\n",
        "     </tbody>\n",
        "    </table>\n",
        "<table border=\"1\" cellpadding=\"6\">\n",
        "    <tbody>\n",
        "        <tr>\n",
        "            <td bgcolor=\"#DDEEFF\"><p class=\"normal\"><b>Attribute Characteristics:</b></p></td>\n",
        "            <td><p class=\"normal\">Real</p></td>\n",
        "            <td bgcolor=\"#DDEEFF\"><p class=\"normal\"><b>Number of Attributes:</b></p></td>\n",
        "            <td><p class=\"normal\">9</p></td>\n",
        "            <td bgcolor=\"#DDEEFF\"><p class=\"normal\"><b>Date Donated</b></p></td>\n",
        "            <td><p class=\"normal\">2007-08-03</p></td>\n",
        "        </tr>\n",
        "     </tbody>\n",
        "    </table>\n",
        "<table border=\"1\" cellpadding=\"6\">\t\n",
        "    <tbody>\n",
        "    <tr>\n",
        "\t\t<td bgcolor=\"#DDEEFF\"><p class=\"normal\"><b>Associated Tasks:</b></p></td>\n",
        "\t\t<td><p class=\"normal\">Regression</p></td>\n",
        "\t\t<td bgcolor=\"#DDEEFF\"><p class=\"normal\"><b>Missing Values?</b></p></td>\n",
        "\t\t<td><p class=\"normal\">N/A</p></td>\n",
        "\t\t<td bgcolor=\"#DDEEFF\"><p class=\"normal\"><b>Number of Web Hits:</b></p></td>\n",
        "\t\t<td><p class=\"normal\">231464</p></td>\n",
        "\t</tr>\n",
        "    </tbody>\n",
        "    </table>"
      ]
    },
    {
      "cell_type": "markdown",
      "metadata": {
        "id": "y_u8GcsBmW5_"
      },
      "source": [
        "###  Description:\n",
        "| Features Name | Data Type | Measurement | Description |\n",
        "| -- | -- | -- | -- |\n",
        "Cement (component 1) | quantitative | kg in a m3 mixture | Input Variable\n",
        "Blast Furnace Slag (component 2) | quantitative | kg in a m3 mixture | Input Variable\n",
        "Fly Ash (component 3) | quantitative | kg in a m3 mixture | Input Variable\n",
        "Water (component 4) | quantitative | kg in a m3 mixture | Input Variable\n",
        "Superplasticizer (component 5) | quantitative | kg in a m3 mixture | Input Variable\n",
        "Coarse Aggregate (component 6) | quantitative | kg in a m3 mixture | Input Variable\n",
        "Fine Aggregate (component 7) | quantitative | kg in a m3 mixture | Input Variable\n",
        "Age | quantitative | Day (1~365) | Input Variable\n",
        "Concrete compressive strength | quantitative | MPa | Output Variable\n",
        "\n",
        "### WORKFLOW :\n",
        "- Load Data\n",
        "- Check Missing Values ( If Exist ; Fill each record with mean of its feature )\n",
        "- Standardized the Input Variables. **Hint**: Centeralized the data\n",
        "- Split into 50% Training(Samples,Labels) , 30% Test(Samples,Labels) and 20% Validation Data(Samples,Labels).\n",
        "- Model : input Layer (No. of features ), 3 hidden layers including 10,8,6 unit & Output Layer with activation function relu/tanh (check by experiment).\n",
        "- Compilation Step (Note : Its a Regression problem , select loss , metrics according to it)\n",
        "- Train the Model with Epochs (100) and validate it\n",
        "- If the model gets overfit tune your model by changing the units , No. of layers , activation function , epochs , add dropout layer or add Regularizer according to the need .\n",
        "- Evaluation Step\n",
        "- Prediction\n"
      ]
    },
    {
      "cell_type": "markdown",
      "metadata": {
        "id": "42m9opKjmW5_"
      },
      "source": [
        "# Load Data:\n",
        "[Click Here to Download DataSet](https://github.com/ramsha275/ML_Datasets/blob/main/compresive_strength_concrete.csv)"
      ]
    },
    {
      "cell_type": "code",
      "metadata": {
        "colab": {
          "resources": {
            "http://localhost:8080/nbextensions/google.colab/files.js": {
              "data": "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",
              "ok": true,
              "headers": [
                [
                  "content-type",
                  "application/javascript"
                ]
              ],
              "status": 200,
              "status_text": ""
            }
          },
          "base_uri": "https://localhost:8080/",
          "height": 73
        },
        "id": "5L7osltxmW6A",
        "outputId": "4f2ac938-4e41-45d3-adbb-38265b761d3f"
      },
      "source": [
        "import pandas as pd\n",
        "import numpy as np\n",
        "# Make numpy values easier to read.\n",
        "np.set_printoptions(precision=3, suppress=True)\n",
        "import seaborn as sns\n",
        "import matplotlib.pyplot as plt\n",
        "import seaborn as sns\n",
        "import matplotlib.pyplot as plt\n",
        "from tensorflow.keras.models import Sequential\n",
        "from tensorflow.keras.layers import Dense \n",
        "from tensorflow.keras.optimizers import Adam, SGD\n",
        "import tensorflow as tf\n",
        "from tensorflow.keras import layers\n",
        "from tensorflow.keras.layers.experimental import preprocessing\n",
        "import io\n",
        "from google.colab import files\n",
        "#i tried my best but am only able to make upload file work all other ways were not working on google colab\n",
        "uploaded = files.upload()"
      ],
      "execution_count": 1,
      "outputs": [
        {
          "output_type": "display_data",
          "data": {
            "text/html": [
              "\n",
              "     <input type=\"file\" id=\"files-a71236be-8702-45ec-ba04-91d50dbef7c4\" name=\"files[]\" multiple disabled\n",
              "        style=\"border:none\" />\n",
              "     <output id=\"result-a71236be-8702-45ec-ba04-91d50dbef7c4\">\n",
              "      Upload widget is only available when the cell has been executed in the\n",
              "      current browser session. Please rerun this cell to enable.\n",
              "      </output>\n",
              "      <script src=\"/nbextensions/google.colab/files.js\"></script> "
            ],
            "text/plain": [
              "<IPython.core.display.HTML object>"
            ]
          },
          "metadata": {
            "tags": []
          }
        },
        {
          "output_type": "stream",
          "text": [
            "Saving compresive_strength_concrete.csv to compresive_strength_concrete.csv\n"
          ],
          "name": "stdout"
        }
      ]
    },
    {
      "cell_type": "code",
      "metadata": {
        "colab": {
          "base_uri": "https://localhost:8080/",
          "height": 452
        },
        "id": "TukGMdxEnVbE",
        "outputId": "6921d16f-6ed4-41b6-b268-f559eaa4fbba"
      },
      "source": [
        "data_to_train = pd.read_csv(io.BytesIO(uploaded['compresive_strength_concrete.csv']))\n",
        "\n",
        "data_to_train"
      ],
      "execution_count": 2,
      "outputs": [
        {
          "output_type": "execute_result",
          "data": {
            "text/html": [
              "<div>\n",
              "<style scoped>\n",
              "    .dataframe tbody tr th:only-of-type {\n",
              "        vertical-align: middle;\n",
              "    }\n",
              "\n",
              "    .dataframe tbody tr th {\n",
              "        vertical-align: top;\n",
              "    }\n",
              "\n",
              "    .dataframe thead th {\n",
              "        text-align: right;\n",
              "    }\n",
              "</style>\n",
              "<table border=\"1\" class=\"dataframe\">\n",
              "  <thead>\n",
              "    <tr style=\"text-align: right;\">\n",
              "      <th></th>\n",
              "      <th>Cement (component 1)(kg in a m^3 mixture)</th>\n",
              "      <th>Blast Furnace Slag (component 2)(kg in a m^3 mixture)</th>\n",
              "      <th>Fly Ash (component 3)(kg in a m^3 mixture)</th>\n",
              "      <th>Water  (component 4)(kg in a m^3 mixture)</th>\n",
              "      <th>Superplasticizer (component 5)(kg in a m^3 mixture)</th>\n",
              "      <th>Coarse Aggregate  (component 6)(kg in a m^3 mixture)</th>\n",
              "      <th>Fine Aggregate (component 7)(kg in a m^3 mixture)</th>\n",
              "      <th>Age (day)</th>\n",
              "      <th>Concrete compressive strength(MPa, megapascals)</th>\n",
              "    </tr>\n",
              "  </thead>\n",
              "  <tbody>\n",
              "    <tr>\n",
              "      <th>0</th>\n",
              "      <td>540.0</td>\n",
              "      <td>0.0</td>\n",
              "      <td>0.0</td>\n",
              "      <td>162.0</td>\n",
              "      <td>2.5</td>\n",
              "      <td>1040.0</td>\n",
              "      <td>676.0</td>\n",
              "      <td>28</td>\n",
              "      <td>79.99</td>\n",
              "    </tr>\n",
              "    <tr>\n",
              "      <th>1</th>\n",
              "      <td>540.0</td>\n",
              "      <td>0.0</td>\n",
              "      <td>0.0</td>\n",
              "      <td>162.0</td>\n",
              "      <td>2.5</td>\n",
              "      <td>1055.0</td>\n",
              "      <td>676.0</td>\n",
              "      <td>28</td>\n",
              "      <td>61.89</td>\n",
              "    </tr>\n",
              "    <tr>\n",
              "      <th>2</th>\n",
              "      <td>332.5</td>\n",
              "      <td>142.5</td>\n",
              "      <td>0.0</td>\n",
              "      <td>228.0</td>\n",
              "      <td>0.0</td>\n",
              "      <td>932.0</td>\n",
              "      <td>594.0</td>\n",
              "      <td>270</td>\n",
              "      <td>40.27</td>\n",
              "    </tr>\n",
              "    <tr>\n",
              "      <th>3</th>\n",
              "      <td>332.5</td>\n",
              "      <td>142.5</td>\n",
              "      <td>0.0</td>\n",
              "      <td>228.0</td>\n",
              "      <td>0.0</td>\n",
              "      <td>932.0</td>\n",
              "      <td>594.0</td>\n",
              "      <td>365</td>\n",
              "      <td>41.05</td>\n",
              "    </tr>\n",
              "    <tr>\n",
              "      <th>4</th>\n",
              "      <td>198.6</td>\n",
              "      <td>132.4</td>\n",
              "      <td>0.0</td>\n",
              "      <td>192.0</td>\n",
              "      <td>0.0</td>\n",
              "      <td>978.4</td>\n",
              "      <td>825.5</td>\n",
              "      <td>360</td>\n",
              "      <td>44.30</td>\n",
              "    </tr>\n",
              "    <tr>\n",
              "      <th>...</th>\n",
              "      <td>...</td>\n",
              "      <td>...</td>\n",
              "      <td>...</td>\n",
              "      <td>...</td>\n",
              "      <td>...</td>\n",
              "      <td>...</td>\n",
              "      <td>...</td>\n",
              "      <td>...</td>\n",
              "      <td>...</td>\n",
              "    </tr>\n",
              "    <tr>\n",
              "      <th>1025</th>\n",
              "      <td>276.4</td>\n",
              "      <td>116.0</td>\n",
              "      <td>90.3</td>\n",
              "      <td>179.6</td>\n",
              "      <td>8.9</td>\n",
              "      <td>870.1</td>\n",
              "      <td>768.3</td>\n",
              "      <td>28</td>\n",
              "      <td>44.28</td>\n",
              "    </tr>\n",
              "    <tr>\n",
              "      <th>1026</th>\n",
              "      <td>322.2</td>\n",
              "      <td>0.0</td>\n",
              "      <td>115.6</td>\n",
              "      <td>196.0</td>\n",
              "      <td>10.4</td>\n",
              "      <td>817.9</td>\n",
              "      <td>813.4</td>\n",
              "      <td>28</td>\n",
              "      <td>31.18</td>\n",
              "    </tr>\n",
              "    <tr>\n",
              "      <th>1027</th>\n",
              "      <td>148.5</td>\n",
              "      <td>139.4</td>\n",
              "      <td>108.6</td>\n",
              "      <td>192.7</td>\n",
              "      <td>6.1</td>\n",
              "      <td>892.4</td>\n",
              "      <td>780.0</td>\n",
              "      <td>28</td>\n",
              "      <td>23.70</td>\n",
              "    </tr>\n",
              "    <tr>\n",
              "      <th>1028</th>\n",
              "      <td>159.1</td>\n",
              "      <td>186.7</td>\n",
              "      <td>0.0</td>\n",
              "      <td>175.6</td>\n",
              "      <td>11.3</td>\n",
              "      <td>989.6</td>\n",
              "      <td>788.9</td>\n",
              "      <td>28</td>\n",
              "      <td>32.77</td>\n",
              "    </tr>\n",
              "    <tr>\n",
              "      <th>1029</th>\n",
              "      <td>260.9</td>\n",
              "      <td>100.5</td>\n",
              "      <td>78.3</td>\n",
              "      <td>200.6</td>\n",
              "      <td>8.6</td>\n",
              "      <td>864.5</td>\n",
              "      <td>761.5</td>\n",
              "      <td>28</td>\n",
              "      <td>32.40</td>\n",
              "    </tr>\n",
              "  </tbody>\n",
              "</table>\n",
              "<p>1030 rows × 9 columns</p>\n",
              "</div>"
            ],
            "text/plain": [
              "      Cement (component 1)(kg in a m^3 mixture)  ...  Concrete compressive strength(MPa, megapascals) \n",
              "0                                         540.0  ...                                             79.99\n",
              "1                                         540.0  ...                                             61.89\n",
              "2                                         332.5  ...                                             40.27\n",
              "3                                         332.5  ...                                             41.05\n",
              "4                                         198.6  ...                                             44.30\n",
              "...                                         ...  ...                                               ...\n",
              "1025                                      276.4  ...                                             44.28\n",
              "1026                                      322.2  ...                                             31.18\n",
              "1027                                      148.5  ...                                             23.70\n",
              "1028                                      159.1  ...                                             32.77\n",
              "1029                                      260.9  ...                                             32.40\n",
              "\n",
              "[1030 rows x 9 columns]"
            ]
          },
          "metadata": {
            "tags": []
          },
          "execution_count": 2
        }
      ]
    },
    {
      "cell_type": "code",
      "metadata": {
        "colab": {
          "base_uri": "https://localhost:8080/"
        },
        "id": "MopEJfVTp4Um",
        "outputId": "f78ba6fe-edb6-4c10-a312-61cd73e429c6"
      },
      "source": [
        "data_to_train.isnull().sum()\n",
        "#no Missing value so we are not filling anything"
      ],
      "execution_count": 3,
      "outputs": [
        {
          "output_type": "execute_result",
          "data": {
            "text/plain": [
              "Cement (component 1)(kg in a m^3 mixture)                0\n",
              "Blast Furnace Slag (component 2)(kg in a m^3 mixture)    0\n",
              "Fly Ash (component 3)(kg in a m^3 mixture)               0\n",
              "Water  (component 4)(kg in a m^3 mixture)                0\n",
              "Superplasticizer (component 5)(kg in a m^3 mixture)      0\n",
              "Coarse Aggregate  (component 6)(kg in a m^3 mixture)     0\n",
              "Fine Aggregate (component 7)(kg in a m^3 mixture)        0\n",
              "Age (day)                                                0\n",
              "Concrete compressive strength(MPa, megapascals)          0\n",
              "dtype: int64"
            ]
          },
          "metadata": {
            "tags": []
          },
          "execution_count": 3
        }
      ]
    },
    {
      "cell_type": "code",
      "metadata": {
        "colab": {
          "base_uri": "https://localhost:8080/"
        },
        "id": "irLPTARzTnPj",
        "outputId": "e02e2c65-43ea-4ba6-98fc-fa2277162b51"
      },
      "source": [
        "data_to_train.columns"
      ],
      "execution_count": 4,
      "outputs": [
        {
          "output_type": "execute_result",
          "data": {
            "text/plain": [
              "Index(['Cement (component 1)(kg in a m^3 mixture)',\n",
              "       'Blast Furnace Slag (component 2)(kg in a m^3 mixture)',\n",
              "       'Fly Ash (component 3)(kg in a m^3 mixture)',\n",
              "       'Water  (component 4)(kg in a m^3 mixture)',\n",
              "       'Superplasticizer (component 5)(kg in a m^3 mixture)',\n",
              "       'Coarse Aggregate  (component 6)(kg in a m^3 mixture)',\n",
              "       'Fine Aggregate (component 7)(kg in a m^3 mixture)', 'Age (day)',\n",
              "       'Concrete compressive strength(MPa, megapascals) '],\n",
              "      dtype='object')"
            ]
          },
          "metadata": {
            "tags": []
          },
          "execution_count": 4
        }
      ]
    },
    {
      "cell_type": "code",
      "metadata": {
        "colab": {
          "base_uri": "https://localhost:8080/"
        },
        "id": "5co4z61Oqk2s",
        "outputId": "98d34c2e-73b9-4a85-b119-41a6c58ab6dc"
      },
      "source": [
        "data_to_train.shape\n",
        "\n",
        "x = (data_to_train.loc[:, data_to_train.columns != 'Concrete compressive strength(MPa, megapascals) '])\n",
        "y = (data_to_train.loc[:, data_to_train.columns == 'Concrete compressive strength(MPa, megapascals) '])\n",
        "train_ratio = 0.5\n",
        "validation_ratio = 0.20\n",
        "test_ratio = 0.30\n",
        "from sklearn.model_selection import train_test_split\n",
        "# train is now 50% of the entire data set\n",
        "# the _junk suffix means that we drop that variable completely\n",
        "x_train, x_test, y_train, y_test = train_test_split(x, y, test_size=1 - train_ratio)\n",
        "\n",
        "x_val, x_test, y_val, y_test = train_test_split(x_test, y_test, test_size=test_ratio/(test_ratio + validation_ratio))\n",
        "print(\"train\")\n",
        "print(x_train)\n",
        "print(\"test\")\n",
        "print(x_test)\n",
        "print(\"validation\")\n",
        "print( x_val )\n"
      ],
      "execution_count": 5,
      "outputs": [
        {
          "output_type": "stream",
          "text": [
            "train\n",
            "     Cement (component 1)(kg in a m^3 mixture)  ...  Age (day)\n",
            "793                                      302.0  ...         14\n",
            "251                                      250.0  ...         28\n",
            "33                                       475.0  ...        270\n",
            "910                                      144.0  ...         28\n",
            "263                                      212.6  ...        100\n",
            "..                                         ...  ...        ...\n",
            "881                                      153.0  ...         28\n",
            "964                                      143.7  ...         28\n",
            "13                                       190.0  ...         90\n",
            "284                                      181.4  ...          3\n",
            "447                                      178.0  ...         56\n",
            "\n",
            "[515 rows x 8 columns]\n",
            "test\n",
            "     Cement (component 1)(kg in a m^3 mixture)  ...  Age (day)\n",
            "973                                      143.8  ...         28\n",
            "970                                      314.0  ...         28\n",
            "529                                      359.0  ...         56\n",
            "803                                      393.0  ...          3\n",
            "524                                      359.0  ...         28\n",
            "..                                         ...  ...        ...\n",
            "181                                      389.9  ...         91\n",
            "708                                      116.0  ...          3\n",
            "188                                      222.4  ...        100\n",
            "294                                      168.9  ...          3\n",
            "991                                      309.9  ...         28\n",
            "\n",
            "[309 rows x 8 columns]\n",
            "validation\n",
            "     Cement (component 1)(kg in a m^3 mixture)  ...  Age (day)\n",
            "76                                       469.0  ...          3\n",
            "229                                      213.7  ...          3\n",
            "709                                      173.0  ...         90\n",
            "857                                      132.0  ...         28\n",
            "86                                       362.6  ...          3\n",
            "..                                         ...  ...        ...\n",
            "117                                      313.3  ...         28\n",
            "306                                      277.1  ...         28\n",
            "534                                      393.0  ...          3\n",
            "688                                      108.3  ...          3\n",
            "150                                      318.8  ...         56\n",
            "\n",
            "[206 rows x 8 columns]\n"
          ],
          "name": "stdout"
        }
      ]
    },
    {
      "cell_type": "code",
      "metadata": {
        "id": "UjzBqToYUO2r"
      },
      "source": [
        "# Normalizing the data\n",
        "\n",
        "mean = x_train.mean(axis=0)\n",
        "x_train -= mean\n",
        "\n",
        "std = x_train.std(axis=0)\n",
        "\n",
        "x_train /= std\n",
        "x_test -= mean\n",
        "x_test /= std"
      ],
      "execution_count": 6,
      "outputs": []
    },
    {
      "cell_type": "code",
      "metadata": {
        "colab": {
          "base_uri": "https://localhost:8080/"
        },
        "id": "1lNz52oBU17t",
        "outputId": "d9a73f0f-16cd-4a46-9777-0e7bce0fde4b"
      },
      "source": [
        "x_train.values"
      ],
      "execution_count": 7,
      "outputs": [
        {
          "output_type": "execute_result",
          "data": {
            "text/plain": [
              "array([[ 0.172, -0.846, -0.81 , ...,  0.028,  0.539, -0.531],\n",
              "       [-0.332, -0.846,  0.737, ..., -0.191,  1.101, -0.324],\n",
              "       [ 1.851, -0.846, -0.81 , ..., -0.51 , -2.295,  3.252],\n",
              "       ...,\n",
              "       [-0.914,  1.345, -0.81 , ..., -0.51 , -1.329,  0.592],\n",
              "       [-0.998, -0.846,  1.89 , ...,  1.073,  0.041, -0.694],\n",
              "       [-1.031,  0.65 ,  1.108, ...,  0.454, -0.353,  0.09 ]])"
            ]
          },
          "metadata": {
            "tags": []
          },
          "execution_count": 7
        }
      ]
    },
    {
      "cell_type": "code",
      "metadata": {
        "id": "fISkDqAjU9y6"
      },
      "source": [
        "from tensorflow.keras import models\n",
        "from tensorflow.keras import layers\n",
        "\n",
        "def build_model():\n",
        "    model = models.Sequential()\n",
        "    model.add(layers.Dense(10, activation='relu',\n",
        "                          input_shape =(8,)))\n",
        "    model.add(layers.Dense(8, activation='relu'))\n",
        "    model.add(layers.Dense(6, activation='relu'))\n",
        "    model.add(layers.Dense(1))\n",
        "    model.compile(optimizer='rmsprop', loss='mse', metrics=['mae'])\n",
        "    return model"
      ],
      "execution_count": 8,
      "outputs": []
    },
    {
      "cell_type": "code",
      "metadata": {
        "id": "wtNXKY_4VkNT"
      },
      "source": [
        "model=build_model()"
      ],
      "execution_count": 9,
      "outputs": []
    },
    {
      "cell_type": "code",
      "metadata": {
        "colab": {
          "base_uri": "https://localhost:8080/"
        },
        "id": "vAAGA1VUVuCK",
        "outputId": "2706b621-62bd-4fd4-c0a6-234fe8e04bbe"
      },
      "source": [
        "history=model.fit(x_train,y_train,epochs=100,validation_data=(x_val, y_val))"
      ],
      "execution_count": 10,
      "outputs": [
        {
          "output_type": "stream",
          "text": [
            "Epoch 1/100\n",
            "17/17 [==============================] - 1s 33ms/step - loss: 1580.3261 - mae: 36.3807 - val_loss: 17991.3691 - val_mae: 128.7047\n",
            "Epoch 2/100\n",
            "17/17 [==============================] - 0s 4ms/step - loss: 1669.2354 - mae: 37.2757 - val_loss: 7246.9492 - val_mae: 77.0115\n",
            "Epoch 3/100\n",
            "17/17 [==============================] - 0s 4ms/step - loss: 1578.8635 - mae: 36.2080 - val_loss: 1542.7155 - val_mae: 30.0335\n",
            "Epoch 4/100\n",
            "17/17 [==============================] - 0s 4ms/step - loss: 1631.1916 - mae: 37.1570 - val_loss: 3894.7773 - val_mae: 54.9962\n",
            "Epoch 5/100\n",
            "17/17 [==============================] - 0s 4ms/step - loss: 1557.8305 - mae: 35.6055 - val_loss: 19461.4414 - val_mae: 131.0437\n",
            "Epoch 6/100\n",
            "17/17 [==============================] - 0s 4ms/step - loss: 1531.5427 - mae: 35.7254 - val_loss: 64628.9531 - val_mae: 246.1280\n",
            "Epoch 7/100\n",
            "17/17 [==============================] - 0s 4ms/step - loss: 1494.4653 - mae: 35.2916 - val_loss: 159028.8594 - val_mae: 389.6335\n",
            "Epoch 8/100\n",
            "17/17 [==============================] - 0s 4ms/step - loss: 1428.5959 - mae: 34.2713 - val_loss: 316181.3125 - val_mae: 553.3737\n",
            "Epoch 9/100\n",
            "17/17 [==============================] - 0s 4ms/step - loss: 1410.8359 - mae: 33.5701 - val_loss: 558211.3750 - val_mae: 738.0404\n",
            "Epoch 10/100\n",
            "17/17 [==============================] - 0s 4ms/step - loss: 1452.0469 - mae: 34.0846 - val_loss: 907281.2500 - val_mae: 943.0757\n",
            "Epoch 11/100\n",
            "17/17 [==============================] - 0s 4ms/step - loss: 1332.4216 - mae: 32.5009 - val_loss: 1406264.3750 - val_mae: 1175.8899\n",
            "Epoch 12/100\n",
            "17/17 [==============================] - 0s 4ms/step - loss: 1292.0773 - mae: 31.9811 - val_loss: 2060286.2500 - val_mae: 1424.7651\n",
            "Epoch 13/100\n",
            "17/17 [==============================] - 0s 5ms/step - loss: 1210.9490 - mae: 30.7191 - val_loss: 2929410.2500 - val_mae: 1700.2852\n",
            "Epoch 14/100\n",
            "17/17 [==============================] - 0s 4ms/step - loss: 1222.8081 - mae: 30.4532 - val_loss: 4097129.7500 - val_mae: 2012.0752\n",
            "Epoch 15/100\n",
            "17/17 [==============================] - 0s 4ms/step - loss: 1160.6158 - mae: 29.5221 - val_loss: 5625164.0000 - val_mae: 2358.9736\n",
            "Epoch 16/100\n",
            "17/17 [==============================] - 0s 4ms/step - loss: 1050.9289 - mae: 27.5254 - val_loss: 7567511.5000 - val_mae: 2737.4297\n",
            "Epoch 17/100\n",
            "17/17 [==============================] - 0s 4ms/step - loss: 966.0704 - mae: 26.3896 - val_loss: 9910837.0000 - val_mae: 3134.1799\n",
            "Epoch 18/100\n",
            "17/17 [==============================] - 0s 4ms/step - loss: 921.7962 - mae: 25.1947 - val_loss: 13049194.0000 - val_mae: 3598.1147\n",
            "Epoch 19/100\n",
            "17/17 [==============================] - 0s 4ms/step - loss: 873.1306 - mae: 24.3448 - val_loss: 16810372.0000 - val_mae: 4085.8525\n",
            "Epoch 20/100\n",
            "17/17 [==============================] - 0s 4ms/step - loss: 731.9434 - mae: 21.6518 - val_loss: 21046274.0000 - val_mae: 4573.2993\n",
            "Epoch 21/100\n",
            "17/17 [==============================] - 0s 5ms/step - loss: 648.8384 - mae: 20.1190 - val_loss: 26543266.0000 - val_mae: 5137.5703\n",
            "Epoch 22/100\n",
            "17/17 [==============================] - 0s 4ms/step - loss: 579.7668 - mae: 18.7818 - val_loss: 31873824.0000 - val_mae: 5631.0625\n",
            "Epoch 23/100\n",
            "17/17 [==============================] - 0s 4ms/step - loss: 509.5889 - mae: 17.3462 - val_loss: 38153252.0000 - val_mae: 6162.3433\n",
            "Epoch 24/100\n",
            "17/17 [==============================] - 0s 4ms/step - loss: 454.5537 - mae: 16.3992 - val_loss: 45118820.0000 - val_mae: 6703.1177\n",
            "Epoch 25/100\n",
            "17/17 [==============================] - 0s 4ms/step - loss: 385.0550 - mae: 15.3592 - val_loss: 53325604.0000 - val_mae: 7288.8872\n",
            "Epoch 26/100\n",
            "17/17 [==============================] - 0s 4ms/step - loss: 355.5840 - mae: 14.7991 - val_loss: 59007552.0000 - val_mae: 7668.4824\n",
            "Epoch 27/100\n",
            "17/17 [==============================] - 0s 4ms/step - loss: 330.9651 - mae: 14.3554 - val_loss: 63909288.0000 - val_mae: 7981.3184\n",
            "Epoch 28/100\n",
            "17/17 [==============================] - 0s 4ms/step - loss: 326.0353 - mae: 14.1586 - val_loss: 70198224.0000 - val_mae: 8365.3359\n",
            "Epoch 29/100\n",
            "17/17 [==============================] - 0s 4ms/step - loss: 294.6982 - mae: 13.6201 - val_loss: 72849784.0000 - val_mae: 8522.1592\n",
            "Epoch 30/100\n",
            "17/17 [==============================] - 0s 4ms/step - loss: 295.2389 - mae: 13.6827 - val_loss: 76241280.0000 - val_mae: 8717.8057\n",
            "Epoch 31/100\n",
            "17/17 [==============================] - 0s 5ms/step - loss: 257.2501 - mae: 13.0556 - val_loss: 76349168.0000 - val_mae: 8723.3398\n",
            "Epoch 32/100\n",
            "17/17 [==============================] - 0s 4ms/step - loss: 255.3139 - mae: 12.7764 - val_loss: 75574936.0000 - val_mae: 8678.0020\n",
            "Epoch 33/100\n",
            "17/17 [==============================] - 0s 4ms/step - loss: 238.4748 - mae: 12.1430 - val_loss: 76906416.0000 - val_mae: 8752.5156\n",
            "Epoch 34/100\n",
            "17/17 [==============================] - 0s 4ms/step - loss: 232.0779 - mae: 12.2781 - val_loss: 76942408.0000 - val_mae: 8752.7168\n",
            "Epoch 35/100\n",
            "17/17 [==============================] - 0s 4ms/step - loss: 220.5076 - mae: 11.9843 - val_loss: 73357320.0000 - val_mae: 8544.7588\n",
            "Epoch 36/100\n",
            "17/17 [==============================] - 0s 4ms/step - loss: 200.4185 - mae: 11.2151 - val_loss: 72907216.0000 - val_mae: 8517.4561\n",
            "Epoch 37/100\n",
            "17/17 [==============================] - 0s 5ms/step - loss: 204.3788 - mae: 11.4591 - val_loss: 75357920.0000 - val_mae: 8657.9639\n",
            "Epoch 38/100\n",
            "17/17 [==============================] - 0s 4ms/step - loss: 188.7896 - mae: 10.9945 - val_loss: 74228792.0000 - val_mae: 8591.4219\n",
            "Epoch 39/100\n",
            "17/17 [==============================] - 0s 4ms/step - loss: 177.8793 - mae: 10.7826 - val_loss: 72676976.0000 - val_mae: 8498.8672\n",
            "Epoch 40/100\n",
            "17/17 [==============================] - 0s 5ms/step - loss: 184.6399 - mae: 10.9317 - val_loss: 72490720.0000 - val_mae: 8486.7051\n",
            "Epoch 41/100\n",
            "17/17 [==============================] - 0s 4ms/step - loss: 189.1638 - mae: 11.2493 - val_loss: 70749976.0000 - val_mae: 8381.9443\n",
            "Epoch 42/100\n",
            "17/17 [==============================] - 0s 4ms/step - loss: 175.2741 - mae: 10.8454 - val_loss: 71853496.0000 - val_mae: 8446.0381\n",
            "Epoch 43/100\n",
            "17/17 [==============================] - 0s 5ms/step - loss: 157.8965 - mae: 10.2064 - val_loss: 71397208.0000 - val_mae: 8418.6855\n",
            "Epoch 44/100\n",
            "17/17 [==============================] - 0s 4ms/step - loss: 175.2152 - mae: 10.9190 - val_loss: 72466488.0000 - val_mae: 8480.0586\n",
            "Epoch 45/100\n",
            "17/17 [==============================] - 0s 5ms/step - loss: 174.2365 - mae: 10.8823 - val_loss: 71769040.0000 - val_mae: 8438.1406\n",
            "Epoch 46/100\n",
            "17/17 [==============================] - 0s 4ms/step - loss: 163.6707 - mae: 10.5095 - val_loss: 71039032.0000 - val_mae: 8394.3438\n",
            "Epoch 47/100\n",
            "17/17 [==============================] - 0s 4ms/step - loss: 154.0612 - mae: 10.2037 - val_loss: 73675536.0000 - val_mae: 8547.6572\n",
            "Epoch 48/100\n",
            "17/17 [==============================] - 0s 4ms/step - loss: 148.2764 - mae: 10.0404 - val_loss: 73119432.0000 - val_mae: 8514.6787\n",
            "Epoch 49/100\n",
            "17/17 [==============================] - 0s 5ms/step - loss: 143.5371 - mae: 9.8131 - val_loss: 75474080.0000 - val_mae: 8650.4580\n",
            "Epoch 50/100\n",
            "17/17 [==============================] - 0s 5ms/step - loss: 143.7546 - mae: 9.9707 - val_loss: 73909096.0000 - val_mae: 8559.3594\n",
            "Epoch 51/100\n",
            "17/17 [==============================] - 0s 4ms/step - loss: 153.7741 - mae: 10.2075 - val_loss: 71919776.0000 - val_mae: 8441.6660\n",
            "Epoch 52/100\n",
            "17/17 [==============================] - 0s 5ms/step - loss: 141.4271 - mae: 9.8636 - val_loss: 76101320.0000 - val_mae: 8682.0918\n",
            "Epoch 53/100\n",
            "17/17 [==============================] - 0s 5ms/step - loss: 127.9421 - mae: 9.3634 - val_loss: 73799472.0000 - val_mae: 8549.9160\n",
            "Epoch 54/100\n",
            "17/17 [==============================] - 0s 4ms/step - loss: 148.8090 - mae: 10.1269 - val_loss: 74186096.0000 - val_mae: 8571.0088\n",
            "Epoch 55/100\n",
            "17/17 [==============================] - 0s 4ms/step - loss: 139.8375 - mae: 9.7768 - val_loss: 75925376.0000 - val_mae: 8670.7930\n",
            "Epoch 56/100\n",
            "17/17 [==============================] - 0s 4ms/step - loss: 138.5225 - mae: 9.7386 - val_loss: 74960184.0000 - val_mae: 8615.2656\n",
            "Epoch 57/100\n",
            "17/17 [==============================] - 0s 4ms/step - loss: 136.5161 - mae: 9.8055 - val_loss: 75558200.0000 - val_mae: 8648.9590\n",
            "Epoch 58/100\n",
            "17/17 [==============================] - 0s 4ms/step - loss: 121.9719 - mae: 9.1698 - val_loss: 77037848.0000 - val_mae: 8733.7520\n",
            "Epoch 59/100\n",
            "17/17 [==============================] - 0s 4ms/step - loss: 128.9740 - mae: 9.3793 - val_loss: 78912976.0000 - val_mae: 8839.0547\n",
            "Epoch 60/100\n",
            "17/17 [==============================] - 0s 4ms/step - loss: 129.9725 - mae: 9.3860 - val_loss: 77062784.0000 - val_mae: 8734.1816\n",
            "Epoch 61/100\n",
            "17/17 [==============================] - 0s 4ms/step - loss: 119.6105 - mae: 9.1458 - val_loss: 74880152.0000 - val_mae: 8608.0293\n",
            "Epoch 62/100\n",
            "17/17 [==============================] - 0s 4ms/step - loss: 124.1369 - mae: 9.1847 - val_loss: 75372440.0000 - val_mae: 8636.2061\n",
            "Epoch 63/100\n",
            "17/17 [==============================] - 0s 5ms/step - loss: 118.4443 - mae: 9.0314 - val_loss: 77984080.0000 - val_mae: 8784.5752\n",
            "Epoch 64/100\n",
            "17/17 [==============================] - 0s 5ms/step - loss: 118.8510 - mae: 9.1549 - val_loss: 81007288.0000 - val_mae: 8953.0908\n",
            "Epoch 65/100\n",
            "17/17 [==============================] - 0s 4ms/step - loss: 114.4891 - mae: 8.7837 - val_loss: 80293680.0000 - val_mae: 8913.3799\n",
            "Epoch 66/100\n",
            "17/17 [==============================] - 0s 5ms/step - loss: 105.5550 - mae: 8.4644 - val_loss: 81099136.0000 - val_mae: 8958.7803\n",
            "Epoch 67/100\n",
            "17/17 [==============================] - 0s 4ms/step - loss: 114.1831 - mae: 8.8790 - val_loss: 84122080.0000 - val_mae: 9123.9570\n",
            "Epoch 68/100\n",
            "17/17 [==============================] - 0s 5ms/step - loss: 115.1570 - mae: 8.9611 - val_loss: 83870104.0000 - val_mae: 9109.9922\n",
            "Epoch 69/100\n",
            "17/17 [==============================] - 0s 4ms/step - loss: 116.9576 - mae: 8.9560 - val_loss: 82990376.0000 - val_mae: 9061.5283\n",
            "Epoch 70/100\n",
            "17/17 [==============================] - 0s 4ms/step - loss: 115.3008 - mae: 9.0533 - val_loss: 81029376.0000 - val_mae: 8952.9707\n",
            "Epoch 71/100\n",
            "17/17 [==============================] - 0s 4ms/step - loss: 104.4321 - mae: 8.5606 - val_loss: 84936488.0000 - val_mae: 9166.4131\n",
            "Epoch 72/100\n",
            "17/17 [==============================] - 0s 4ms/step - loss: 109.2450 - mae: 8.6048 - val_loss: 82167128.0000 - val_mae: 9015.1016\n",
            "Epoch 73/100\n",
            "17/17 [==============================] - 0s 4ms/step - loss: 100.7907 - mae: 8.1883 - val_loss: 85529768.0000 - val_mae: 9196.2285\n",
            "Epoch 74/100\n",
            "17/17 [==============================] - 0s 5ms/step - loss: 106.3799 - mae: 8.5491 - val_loss: 85646048.0000 - val_mae: 9203.6807\n",
            "Epoch 75/100\n",
            "17/17 [==============================] - 0s 5ms/step - loss: 104.4837 - mae: 8.5261 - val_loss: 86958600.0000 - val_mae: 9274.5088\n",
            "Epoch 76/100\n",
            "17/17 [==============================] - 0s 4ms/step - loss: 98.8984 - mae: 8.2424 - val_loss: 88246024.0000 - val_mae: 9342.3691\n",
            "Epoch 77/100\n",
            "17/17 [==============================] - 0s 4ms/step - loss: 106.3789 - mae: 8.5094 - val_loss: 92057312.0000 - val_mae: 9540.9883\n",
            "Epoch 78/100\n",
            "17/17 [==============================] - 0s 4ms/step - loss: 92.4380 - mae: 7.8957 - val_loss: 91502320.0000 - val_mae: 9511.1465\n",
            "Epoch 79/100\n",
            "17/17 [==============================] - 0s 4ms/step - loss: 100.6575 - mae: 8.2284 - val_loss: 92471816.0000 - val_mae: 9561.7217\n",
            "Epoch 80/100\n",
            "17/17 [==============================] - 0s 4ms/step - loss: 94.7608 - mae: 8.1563 - val_loss: 92045512.0000 - val_mae: 9539.9121\n",
            "Epoch 81/100\n",
            "17/17 [==============================] - 0s 4ms/step - loss: 95.7051 - mae: 7.9949 - val_loss: 92668544.0000 - val_mae: 9571.3184\n",
            "Epoch 82/100\n",
            "17/17 [==============================] - 0s 4ms/step - loss: 99.7716 - mae: 8.0953 - val_loss: 94678664.0000 - val_mae: 9673.5000\n",
            "Epoch 83/100\n",
            "17/17 [==============================] - 0s 4ms/step - loss: 98.3032 - mae: 8.0918 - val_loss: 95405768.0000 - val_mae: 9710.4404\n",
            "Epoch 84/100\n",
            "17/17 [==============================] - 0s 4ms/step - loss: 94.6710 - mae: 7.9351 - val_loss: 97533568.0000 - val_mae: 9818.5684\n",
            "Epoch 85/100\n",
            "17/17 [==============================] - 0s 4ms/step - loss: 88.2327 - mae: 7.7841 - val_loss: 96819200.0000 - val_mae: 9784.3711\n",
            "Epoch 86/100\n",
            "17/17 [==============================] - 0s 5ms/step - loss: 96.5054 - mae: 8.0105 - val_loss: 100103696.0000 - val_mae: 9948.1719\n",
            "Epoch 87/100\n",
            "17/17 [==============================] - 0s 4ms/step - loss: 93.0385 - mae: 7.8897 - val_loss: 98053608.0000 - val_mae: 9845.2861\n",
            "Epoch 88/100\n",
            "17/17 [==============================] - 0s 4ms/step - loss: 92.3972 - mae: 7.7888 - val_loss: 99569704.0000 - val_mae: 9919.3994\n",
            "Epoch 89/100\n",
            "17/17 [==============================] - 0s 4ms/step - loss: 90.7610 - mae: 7.9056 - val_loss: 102506256.0000 - val_mae: 10065.3682\n",
            "Epoch 90/100\n",
            "17/17 [==============================] - 0s 4ms/step - loss: 83.3435 - mae: 7.4416 - val_loss: 101513376.0000 - val_mae: 10015.0732\n",
            "Epoch 91/100\n",
            "17/17 [==============================] - 0s 4ms/step - loss: 89.5020 - mae: 7.7197 - val_loss: 103565192.0000 - val_mae: 10116.0684\n",
            "Epoch 92/100\n",
            "17/17 [==============================] - 0s 4ms/step - loss: 89.5498 - mae: 7.6831 - val_loss: 102618064.0000 - val_mae: 10070.1719\n",
            "Epoch 93/100\n",
            "17/17 [==============================] - 0s 4ms/step - loss: 84.9120 - mae: 7.5129 - val_loss: 102976520.0000 - val_mae: 10088.3936\n",
            "Epoch 94/100\n",
            "17/17 [==============================] - 0s 4ms/step - loss: 88.8058 - mae: 7.5912 - val_loss: 104118192.0000 - val_mae: 10144.1943\n",
            "Epoch 95/100\n",
            "17/17 [==============================] - 0s 4ms/step - loss: 85.0067 - mae: 7.4420 - val_loss: 107424312.0000 - val_mae: 10304.3115\n",
            "Epoch 96/100\n",
            "17/17 [==============================] - 0s 4ms/step - loss: 86.5740 - mae: 7.6113 - val_loss: 108417840.0000 - val_mae: 10351.4043\n",
            "Epoch 97/100\n",
            "17/17 [==============================] - 0s 4ms/step - loss: 88.3813 - mae: 7.7115 - val_loss: 107756752.0000 - val_mae: 10318.8135\n",
            "Epoch 98/100\n",
            "17/17 [==============================] - 0s 4ms/step - loss: 85.8988 - mae: 7.5545 - val_loss: 105575136.0000 - val_mae: 10214.5107\n",
            "Epoch 99/100\n",
            "17/17 [==============================] - 0s 4ms/step - loss: 87.4471 - mae: 7.6216 - val_loss: 109729328.0000 - val_mae: 10413.9258\n",
            "Epoch 100/100\n",
            "17/17 [==============================] - 0s 4ms/step - loss: 81.3295 - mae: 7.4151 - val_loss: 109768896.0000 - val_mae: 10416.8711\n"
          ],
          "name": "stdout"
        }
      ]
    },
    {
      "cell_type": "code",
      "metadata": {
        "colab": {
          "base_uri": "https://localhost:8080/"
        },
        "id": "iTNxVyue3suO",
        "outputId": "8612d378-0165-4b49-f429-2fa7452f8501"
      },
      "source": [
        "historyTest=model.fit(x_test,y_test,epochs=100,validation_data=(x_val, y_val))"
      ],
      "execution_count": 11,
      "outputs": [
        {
          "output_type": "stream",
          "text": [
            "Epoch 1/100\n",
            "10/10 [==============================] - 0s 15ms/step - loss: 96.2144 - mae: 7.8321 - val_loss: 109817784.0000 - val_mae: 10417.9717\n",
            "Epoch 2/100\n",
            "10/10 [==============================] - 0s 6ms/step - loss: 95.5287 - mae: 7.8161 - val_loss: 108687000.0000 - val_mae: 10363.4102\n",
            "Epoch 3/100\n",
            "10/10 [==============================] - 0s 6ms/step - loss: 93.8692 - mae: 7.7175 - val_loss: 109530040.0000 - val_mae: 10402.8955\n",
            "Epoch 4/100\n",
            "10/10 [==============================] - 0s 6ms/step - loss: 92.6771 - mae: 7.6658 - val_loss: 107802096.0000 - val_mae: 10319.8770\n",
            "Epoch 5/100\n",
            "10/10 [==============================] - 0s 7ms/step - loss: 91.4140 - mae: 7.5944 - val_loss: 107828544.0000 - val_mae: 10320.6436\n",
            "Epoch 6/100\n",
            "10/10 [==============================] - 0s 7ms/step - loss: 90.3246 - mae: 7.5550 - val_loss: 107710088.0000 - val_mae: 10314.9443\n",
            "Epoch 7/100\n",
            "10/10 [==============================] - 0s 7ms/step - loss: 89.7409 - mae: 7.5205 - val_loss: 110865736.0000 - val_mae: 10464.6494\n",
            "Epoch 8/100\n",
            "10/10 [==============================] - 0s 7ms/step - loss: 88.6450 - mae: 7.4681 - val_loss: 110634584.0000 - val_mae: 10454.2441\n",
            "Epoch 9/100\n",
            "10/10 [==============================] - 0s 7ms/step - loss: 87.7617 - mae: 7.4225 - val_loss: 111075128.0000 - val_mae: 10474.7939\n",
            "Epoch 10/100\n",
            "10/10 [==============================] - 0s 6ms/step - loss: 87.4590 - mae: 7.4268 - val_loss: 110690792.0000 - val_mae: 10456.0156\n",
            "Epoch 11/100\n",
            "10/10 [==============================] - 0s 7ms/step - loss: 86.6829 - mae: 7.3703 - val_loss: 111123032.0000 - val_mae: 10476.1836\n",
            "Epoch 12/100\n",
            "10/10 [==============================] - 0s 7ms/step - loss: 85.7343 - mae: 7.3378 - val_loss: 112480424.0000 - val_mae: 10539.7754\n",
            "Epoch 13/100\n",
            "10/10 [==============================] - 0s 7ms/step - loss: 85.2876 - mae: 7.2960 - val_loss: 112566288.0000 - val_mae: 10544.0332\n",
            "Epoch 14/100\n",
            "10/10 [==============================] - 0s 7ms/step - loss: 84.6159 - mae: 7.2722 - val_loss: 111606056.0000 - val_mae: 10499.0039\n",
            "Epoch 15/100\n",
            "10/10 [==============================] - 0s 7ms/step - loss: 84.1472 - mae: 7.2550 - val_loss: 111599056.0000 - val_mae: 10498.8203\n",
            "Epoch 16/100\n",
            "10/10 [==============================] - 0s 7ms/step - loss: 83.6535 - mae: 7.2399 - val_loss: 111691648.0000 - val_mae: 10503.0830\n",
            "Epoch 17/100\n",
            "10/10 [==============================] - 0s 6ms/step - loss: 83.1280 - mae: 7.2190 - val_loss: 111587976.0000 - val_mae: 10498.1465\n",
            "Epoch 18/100\n",
            "10/10 [==============================] - 0s 7ms/step - loss: 82.4780 - mae: 7.1862 - val_loss: 109783848.0000 - val_mae: 10412.9541\n",
            "Epoch 19/100\n",
            "10/10 [==============================] - 0s 6ms/step - loss: 81.9485 - mae: 7.1838 - val_loss: 112339688.0000 - val_mae: 10533.4834\n",
            "Epoch 20/100\n",
            "10/10 [==============================] - 0s 6ms/step - loss: 81.9996 - mae: 7.1373 - val_loss: 112871672.0000 - val_mae: 10559.2705\n",
            "Epoch 21/100\n",
            "10/10 [==============================] - 0s 7ms/step - loss: 81.2242 - mae: 7.1329 - val_loss: 115069384.0000 - val_mae: 10662.1006\n",
            "Epoch 22/100\n",
            "10/10 [==============================] - 0s 6ms/step - loss: 80.7463 - mae: 7.0927 - val_loss: 113439280.0000 - val_mae: 10586.5381\n",
            "Epoch 23/100\n",
            "10/10 [==============================] - 0s 7ms/step - loss: 80.3987 - mae: 7.1050 - val_loss: 116457256.0000 - val_mae: 10726.3945\n",
            "Epoch 24/100\n",
            "10/10 [==============================] - 0s 7ms/step - loss: 80.1285 - mae: 7.0712 - val_loss: 116099272.0000 - val_mae: 10710.0039\n",
            "Epoch 25/100\n",
            "10/10 [==============================] - 0s 8ms/step - loss: 79.7399 - mae: 7.0686 - val_loss: 116252728.0000 - val_mae: 10716.9795\n",
            "Epoch 26/100\n",
            "10/10 [==============================] - 0s 7ms/step - loss: 79.0656 - mae: 7.0359 - val_loss: 115407704.0000 - val_mae: 10678.1357\n",
            "Epoch 27/100\n",
            "10/10 [==============================] - 0s 6ms/step - loss: 78.4184 - mae: 7.0089 - val_loss: 118169592.0000 - val_mae: 10805.1768\n",
            "Epoch 28/100\n",
            "10/10 [==============================] - 0s 6ms/step - loss: 78.7806 - mae: 6.9960 - val_loss: 116414272.0000 - val_mae: 10724.8662\n",
            "Epoch 29/100\n",
            "10/10 [==============================] - 0s 7ms/step - loss: 77.8899 - mae: 6.9904 - val_loss: 118049656.0000 - val_mae: 10799.3857\n",
            "Epoch 30/100\n",
            "10/10 [==============================] - 0s 7ms/step - loss: 77.6805 - mae: 6.9663 - val_loss: 118537304.0000 - val_mae: 10821.9004\n",
            "Epoch 31/100\n",
            "10/10 [==============================] - 0s 6ms/step - loss: 77.3548 - mae: 6.9591 - val_loss: 116138424.0000 - val_mae: 10711.9453\n",
            "Epoch 32/100\n",
            "10/10 [==============================] - 0s 6ms/step - loss: 76.9995 - mae: 6.9410 - val_loss: 116972304.0000 - val_mae: 10750.8066\n",
            "Epoch 33/100\n",
            "10/10 [==============================] - 0s 7ms/step - loss: 76.5272 - mae: 6.9177 - val_loss: 119672016.0000 - val_mae: 10874.1309\n",
            "Epoch 34/100\n",
            "10/10 [==============================] - 0s 7ms/step - loss: 76.5046 - mae: 6.9175 - val_loss: 119579144.0000 - val_mae: 10870.1406\n",
            "Epoch 35/100\n",
            "10/10 [==============================] - 0s 7ms/step - loss: 76.0824 - mae: 6.9000 - val_loss: 120252576.0000 - val_mae: 10901.1113\n",
            "Epoch 36/100\n",
            "10/10 [==============================] - 0s 8ms/step - loss: 76.1869 - mae: 6.8906 - val_loss: 118275264.0000 - val_mae: 10811.5205\n",
            "Epoch 37/100\n",
            "10/10 [==============================] - 0s 7ms/step - loss: 75.5107 - mae: 6.8856 - val_loss: 118442632.0000 - val_mae: 10819.8682\n",
            "Epoch 38/100\n",
            "10/10 [==============================] - 0s 7ms/step - loss: 75.4274 - mae: 6.8782 - val_loss: 119553464.0000 - val_mae: 10870.4160\n",
            "Epoch 39/100\n",
            "10/10 [==============================] - 0s 7ms/step - loss: 74.8962 - mae: 6.8690 - val_loss: 119695248.0000 - val_mae: 10876.5020\n",
            "Epoch 40/100\n",
            "10/10 [==============================] - 0s 6ms/step - loss: 74.6584 - mae: 6.8325 - val_loss: 121308064.0000 - val_mae: 10949.8818\n",
            "Epoch 41/100\n",
            "10/10 [==============================] - 0s 7ms/step - loss: 74.5214 - mae: 6.8297 - val_loss: 120792544.0000 - val_mae: 10926.2305\n",
            "Epoch 42/100\n",
            "10/10 [==============================] - 0s 6ms/step - loss: 74.0519 - mae: 6.8200 - val_loss: 119812912.0000 - val_mae: 10882.1396\n",
            "Epoch 43/100\n",
            "10/10 [==============================] - 0s 7ms/step - loss: 73.9369 - mae: 6.8109 - val_loss: 119212552.0000 - val_mae: 10854.8701\n",
            "Epoch 44/100\n",
            "10/10 [==============================] - 0s 6ms/step - loss: 73.7864 - mae: 6.8054 - val_loss: 121776536.0000 - val_mae: 10971.3330\n",
            "Epoch 45/100\n",
            "10/10 [==============================] - 0s 7ms/step - loss: 73.2988 - mae: 6.7800 - val_loss: 120290128.0000 - val_mae: 10904.2891\n",
            "Epoch 46/100\n",
            "10/10 [==============================] - 0s 6ms/step - loss: 73.4765 - mae: 6.7925 - val_loss: 122063184.0000 - val_mae: 10984.5791\n",
            "Epoch 47/100\n",
            "10/10 [==============================] - 0s 7ms/step - loss: 73.1319 - mae: 6.7737 - val_loss: 121466624.0000 - val_mae: 10957.9004\n",
            "Epoch 48/100\n",
            "10/10 [==============================] - 0s 6ms/step - loss: 72.8902 - mae: 6.7887 - val_loss: 123296888.0000 - val_mae: 11039.9785\n",
            "Epoch 49/100\n",
            "10/10 [==============================] - 0s 7ms/step - loss: 72.5569 - mae: 6.7621 - val_loss: 120808728.0000 - val_mae: 10928.0098\n",
            "Epoch 50/100\n",
            "10/10 [==============================] - 0s 7ms/step - loss: 72.4692 - mae: 6.7275 - val_loss: 120550728.0000 - val_mae: 10916.7490\n",
            "Epoch 51/100\n",
            "10/10 [==============================] - 0s 7ms/step - loss: 72.1151 - mae: 6.7383 - val_loss: 122017760.0000 - val_mae: 10983.0312\n",
            "Epoch 52/100\n",
            "10/10 [==============================] - 0s 7ms/step - loss: 71.8453 - mae: 6.7184 - val_loss: 122199216.0000 - val_mae: 10991.1602\n",
            "Epoch 53/100\n",
            "10/10 [==============================] - 0s 7ms/step - loss: 71.7065 - mae: 6.7257 - val_loss: 121826088.0000 - val_mae: 10974.3398\n",
            "Epoch 54/100\n",
            "10/10 [==============================] - 0s 7ms/step - loss: 71.5270 - mae: 6.7356 - val_loss: 120894664.0000 - val_mae: 10932.8848\n",
            "Epoch 55/100\n",
            "10/10 [==============================] - 0s 7ms/step - loss: 71.2242 - mae: 6.6935 - val_loss: 123735752.0000 - val_mae: 11061.0791\n",
            "Epoch 56/100\n",
            "10/10 [==============================] - 0s 8ms/step - loss: 71.0530 - mae: 6.6843 - val_loss: 123351136.0000 - val_mae: 11043.8154\n",
            "Epoch 57/100\n",
            "10/10 [==============================] - 0s 7ms/step - loss: 71.1591 - mae: 6.6943 - val_loss: 123943800.0000 - val_mae: 11070.3535\n",
            "Epoch 58/100\n",
            "10/10 [==============================] - 0s 7ms/step - loss: 70.8729 - mae: 6.6861 - val_loss: 124155936.0000 - val_mae: 11079.8691\n",
            "Epoch 59/100\n",
            "10/10 [==============================] - 0s 7ms/step - loss: 70.4735 - mae: 6.6589 - val_loss: 124775840.0000 - val_mae: 11107.5957\n",
            "Epoch 60/100\n",
            "10/10 [==============================] - 0s 7ms/step - loss: 70.3729 - mae: 6.6541 - val_loss: 121384168.0000 - val_mae: 10955.6016\n",
            "Epoch 61/100\n",
            "10/10 [==============================] - 0s 7ms/step - loss: 70.4326 - mae: 6.6586 - val_loss: 122899384.0000 - val_mae: 11023.5840\n",
            "Epoch 62/100\n",
            "10/10 [==============================] - 0s 7ms/step - loss: 70.3175 - mae: 6.6649 - val_loss: 121592912.0000 - val_mae: 10964.6260\n",
            "Epoch 63/100\n",
            "10/10 [==============================] - 0s 7ms/step - loss: 70.0098 - mae: 6.6600 - val_loss: 122442912.0000 - val_mae: 11003.6035\n",
            "Epoch 64/100\n",
            "10/10 [==============================] - 0s 8ms/step - loss: 69.8251 - mae: 6.6350 - val_loss: 122430152.0000 - val_mae: 11002.7588\n",
            "Epoch 65/100\n",
            "10/10 [==============================] - 0s 7ms/step - loss: 69.4197 - mae: 6.6194 - val_loss: 122395720.0000 - val_mae: 11001.2559\n",
            "Epoch 66/100\n",
            "10/10 [==============================] - 0s 6ms/step - loss: 69.5107 - mae: 6.6364 - val_loss: 123260968.0000 - val_mae: 11040.3906\n",
            "Epoch 67/100\n",
            "10/10 [==============================] - 0s 7ms/step - loss: 69.6163 - mae: 6.6263 - val_loss: 125322920.0000 - val_mae: 11132.1807\n",
            "Epoch 68/100\n",
            "10/10 [==============================] - 0s 7ms/step - loss: 68.9579 - mae: 6.5780 - val_loss: 122315824.0000 - val_mae: 10998.3193\n",
            "Epoch 69/100\n",
            "10/10 [==============================] - 0s 7ms/step - loss: 69.2730 - mae: 6.6142 - val_loss: 123682456.0000 - val_mae: 11059.8896\n",
            "Epoch 70/100\n",
            "10/10 [==============================] - 0s 6ms/step - loss: 68.9959 - mae: 6.5937 - val_loss: 125001968.0000 - val_mae: 11118.8867\n",
            "Epoch 71/100\n",
            "10/10 [==============================] - 0s 7ms/step - loss: 69.0686 - mae: 6.6087 - val_loss: 125099336.0000 - val_mae: 11122.9980\n",
            "Epoch 72/100\n",
            "10/10 [==============================] - 0s 7ms/step - loss: 68.7034 - mae: 6.5723 - val_loss: 124965720.0000 - val_mae: 11116.6768\n",
            "Epoch 73/100\n",
            "10/10 [==============================] - 0s 8ms/step - loss: 68.7959 - mae: 6.5864 - val_loss: 125476456.0000 - val_mae: 11139.4414\n",
            "Epoch 74/100\n",
            "10/10 [==============================] - 0s 7ms/step - loss: 68.4877 - mae: 6.5591 - val_loss: 122391512.0000 - val_mae: 11001.7988\n",
            "Epoch 75/100\n",
            "10/10 [==============================] - 0s 6ms/step - loss: 68.3848 - mae: 6.5760 - val_loss: 123788816.0000 - val_mae: 11064.3594\n",
            "Epoch 76/100\n",
            "10/10 [==============================] - 0s 6ms/step - loss: 68.6205 - mae: 6.5836 - val_loss: 124292432.0000 - val_mae: 11086.5039\n",
            "Epoch 77/100\n",
            "10/10 [==============================] - 0s 6ms/step - loss: 68.0606 - mae: 6.5667 - val_loss: 123172976.0000 - val_mae: 11036.6748\n",
            "Epoch 78/100\n",
            "10/10 [==============================] - 0s 7ms/step - loss: 68.1326 - mae: 6.5576 - val_loss: 121351096.0000 - val_mae: 10954.9541\n",
            "Epoch 79/100\n",
            "10/10 [==============================] - 0s 8ms/step - loss: 68.2652 - mae: 6.5733 - val_loss: 123042728.0000 - val_mae: 11030.7539\n",
            "Epoch 80/100\n",
            "10/10 [==============================] - 0s 7ms/step - loss: 67.9676 - mae: 6.5515 - val_loss: 123256872.0000 - val_mae: 11040.1533\n",
            "Epoch 81/100\n",
            "10/10 [==============================] - 0s 7ms/step - loss: 67.7442 - mae: 6.5416 - val_loss: 122934400.0000 - val_mae: 11026.2217\n",
            "Epoch 82/100\n",
            "10/10 [==============================] - 0s 6ms/step - loss: 67.6626 - mae: 6.5553 - val_loss: 123557104.0000 - val_mae: 11053.8613\n",
            "Epoch 83/100\n",
            "10/10 [==============================] - 0s 7ms/step - loss: 67.5286 - mae: 6.5344 - val_loss: 124276992.0000 - val_mae: 11086.0596\n",
            "Epoch 84/100\n",
            "10/10 [==============================] - 0s 7ms/step - loss: 67.7634 - mae: 6.5523 - val_loss: 123680200.0000 - val_mae: 11059.6592\n",
            "Epoch 85/100\n",
            "10/10 [==============================] - 0s 7ms/step - loss: 67.4627 - mae: 6.5299 - val_loss: 124681984.0000 - val_mae: 11104.7412\n",
            "Epoch 86/100\n",
            "10/10 [==============================] - 0s 7ms/step - loss: 67.3031 - mae: 6.5300 - val_loss: 125743504.0000 - val_mae: 11152.1855\n",
            "Epoch 87/100\n",
            "10/10 [==============================] - 0s 7ms/step - loss: 67.1780 - mae: 6.5095 - val_loss: 126572088.0000 - val_mae: 11188.9141\n",
            "Epoch 88/100\n",
            "10/10 [==============================] - 0s 8ms/step - loss: 67.1845 - mae: 6.5148 - val_loss: 127006016.0000 - val_mae: 11207.9736\n",
            "Epoch 89/100\n",
            "10/10 [==============================] - 0s 8ms/step - loss: 67.0113 - mae: 6.5192 - val_loss: 125484608.0000 - val_mae: 11141.2754\n",
            "Epoch 90/100\n",
            "10/10 [==============================] - 0s 6ms/step - loss: 67.0125 - mae: 6.5170 - val_loss: 127933736.0000 - val_mae: 11249.5137\n",
            "Epoch 91/100\n",
            "10/10 [==============================] - 0s 6ms/step - loss: 66.6771 - mae: 6.4894 - val_loss: 126445800.0000 - val_mae: 11184.0645\n",
            "Epoch 92/100\n",
            "10/10 [==============================] - 0s 6ms/step - loss: 66.5501 - mae: 6.4841 - val_loss: 128026016.0000 - val_mae: 11254.1689\n",
            "Epoch 93/100\n",
            "10/10 [==============================] - 0s 8ms/step - loss: 66.6351 - mae: 6.4893 - val_loss: 126998352.0000 - val_mae: 11208.9961\n",
            "Epoch 94/100\n",
            "10/10 [==============================] - 0s 7ms/step - loss: 66.6726 - mae: 6.4889 - val_loss: 127719832.0000 - val_mae: 11241.0420\n",
            "Epoch 95/100\n",
            "10/10 [==============================] - 0s 7ms/step - loss: 66.7040 - mae: 6.5284 - val_loss: 129150112.0000 - val_mae: 11303.9756\n",
            "Epoch 96/100\n",
            "10/10 [==============================] - 0s 7ms/step - loss: 66.2084 - mae: 6.4740 - val_loss: 128680376.0000 - val_mae: 11283.1895\n",
            "Epoch 97/100\n",
            "10/10 [==============================] - 0s 8ms/step - loss: 66.1819 - mae: 6.4659 - val_loss: 128443472.0000 - val_mae: 11273.7432\n",
            "Epoch 98/100\n",
            "10/10 [==============================] - 0s 7ms/step - loss: 66.0565 - mae: 6.4626 - val_loss: 127516984.0000 - val_mae: 11233.0850\n",
            "Epoch 99/100\n",
            "10/10 [==============================] - 0s 6ms/step - loss: 66.0640 - mae: 6.4626 - val_loss: 127551240.0000 - val_mae: 11234.6484\n",
            "Epoch 100/100\n",
            "10/10 [==============================] - 0s 6ms/step - loss: 65.9587 - mae: 6.4730 - val_loss: 131366232.0000 - val_mae: 11401.3682\n"
          ],
          "name": "stdout"
        }
      ]
    },
    {
      "cell_type": "code",
      "metadata": {
        "id": "NsYxJcE_V1q0"
      },
      "source": [
        "y_pred = model.predict(x_test)\n"
      ],
      "execution_count": 12,
      "outputs": []
    },
    {
      "cell_type": "code",
      "metadata": {
        "colab": {
          "base_uri": "https://localhost:8080/"
        },
        "id": "biCXMg_qsuDQ",
        "outputId": "8e4f4259-e1d2-4aaa-ae9d-96b94a331573"
      },
      "source": [
        "# evaluate the model\n",
        "scores = model.evaluate(x_train, y_train)\n",
        "print(\"%s: %.2f%%\" % (model.metrics_names[1], scores[1]))\n",
        "# evaluate the model\n",
        "scores = model.evaluate(x_test, y_test)\n",
        "print(\"%s: %.2f%%\" % (model.metrics_names[1], scores[1]))"
      ],
      "execution_count": 13,
      "outputs": [
        {
          "output_type": "stream",
          "text": [
            "17/17 [==============================] - 0s 1ms/step - loss: 78.8843 - mae: 7.0875\n",
            "mae: 7.09%\n",
            "10/10 [==============================] - 0s 2ms/step - loss: 65.3349 - mae: 6.4292\n",
            "mae: 6.43%\n"
          ],
          "name": "stdout"
        }
      ]
    },
    {
      "cell_type": "code",
      "metadata": {
        "colab": {
          "base_uri": "https://localhost:8080/",
          "height": 573
        },
        "id": "VuUlRz-3ceRa",
        "outputId": "45fffd4e-b171-40e6-edb8-9283c2638450"
      },
      "source": [
        "#Plotting the training and validation loss\n",
        "import matplotlib.pyplot as plt\n",
        "loss = history.history['loss']\n",
        "val_loss = history.history['val_loss']\n",
        "epochs = range(1, len(loss) + 1)\n",
        "plt.plot(epochs, loss, 'bo', label='Training loss')\n",
        "plt.plot(epochs, val_loss, 'b', label='Validation loss')\n",
        "plt.title('Training and validation loss')\n",
        "plt.xlabel('Epochs')\n",
        "plt.ylabel('Loss')\n",
        "plt.legend()\n",
        "plt.show()\n",
        "#Plotting the Testing and validation loss\n",
        "import matplotlib.pyplot as plt\n",
        "loss = historyTest.history['loss']\n",
        "val_loss = historyTest.history['val_loss']\n",
        "epochs = range(1, len(loss) + 1)\n",
        "plt.plot(epochs, loss, 'bo', label='Testing loss')\n",
        "plt.plot(epochs, val_loss, 'b', label='Validation loss')\n",
        "plt.title('Testing and validation loss')\n",
        "plt.xlabel('Epochs')\n",
        "plt.ylabel('Loss')\n",
        "plt.legend()\n",
        "plt.show()"
      ],
      "execution_count": 14,
      "outputs": [
        {
          "output_type": "display_data",
          "data": {
            "image/png": "[encoded data removed]",
            "text/plain": [
              "<Figure size 432x288 with 1 Axes>"
            ]
          },
          "metadata": {
            "tags": [],
            "needs_background": "light"
          }
        },
        {
          "output_type": "display_data",
          "data": {
            "image/png": "[encoded data removed]",
            "text/plain": [
              "<Figure size 432x288 with 1 Axes>"
            ]
          },
          "metadata": {
            "tags": [],
            "needs_background": "light"
          }
        }
      ]
    },
    {
      "cell_type": "code",
      "metadata": {
        "colab": {
          "base_uri": "https://localhost:8080/",
          "height": 573
        },
        "id": "RHP5ijJ8huz7",
        "outputId": "87fde46c-b401-4c8d-86cf-9b77a9ea6531"
      },
      "source": [
        "#Plotting the training and validation accuracy\n",
        "plt.clf()\n",
        "acc = history.history['mae']\n",
        "val_acc = history.history['val_mae']\n",
        "plt.plot(epochs, acc, 'bo', label='Training acc')\n",
        "plt.plot(epochs, val_acc, 'b', label='Validation acc')\n",
        "plt.title('Training and validation accuracy')\n",
        "plt.xlabel('Epochs')\n",
        "plt.ylabel('Loss')\n",
        "plt.legend()\n",
        "plt.show()\n",
        "#Plotting the Testing and validation accuracy\n",
        "plt.clf()\n",
        "acc = historyTest.history['mae']\n",
        "val_acc = historyTest.history['val_mae']\n",
        "plt.plot(epochs, acc, 'bo', label='Testing acc')\n",
        "plt.plot(epochs, val_acc, 'b', label='Validation acc')\n",
        "plt.title('Testing and validation accuracy')\n",
        "plt.xlabel('Epochs')\n",
        "plt.ylabel('Loss')\n",
        "plt.legend()\n",
        "plt.show()"
      ],
      "execution_count": 15,
      "outputs": [
        {
          "output_type": "display_data",
          "data": {
            "image/png": "[encoded data removed]",
            "text/plain": [
              "<Figure size 432x288 with 1 Axes>"
            ]
          },
          "metadata": {
            "tags": [],
            "needs_background": "light"
          }
        },
        {
          "output_type": "display_data",
          "data": {
            "image/png": "[encoded data removed]",
            "text/plain": [
              "<Figure size 432x288 with 1 Axes>"
            ]
          },
          "metadata": {
            "tags": [],
            "needs_background": "light"
          }
        }
      ]
    }
  ]
}