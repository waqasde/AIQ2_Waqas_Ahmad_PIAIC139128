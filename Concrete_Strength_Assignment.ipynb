{
  "nbformat": 4,
  "nbformat_minor": 0,
  "metadata": {
    "kernelspec": {
      "display_name": "Python 3",
      "language": "python",
      "name": "python3"
    },
    "language_info": {
      "codemirror_mode": {
        "name": "ipython",
        "version": 3
      },
      "file_extension": ".py",
      "mimetype": "text/x-python",
      "name": "python",
      "nbconvert_exporter": "python",
      "pygments_lexer": "ipython3",
      "version": "3.7.3"
    },
    "colab": {
      "name": "Concrete Strength Assignment.ipynb",
      "provenance": [],
      "collapsed_sections": [],
      "toc_visible": true
    }
  },
  "cells": [
    {
      "cell_type": "markdown",
      "metadata": {
        "id": "izkCLZuOmW55"
      },
      "source": [
        "# Assignment: Compresive Strength Concrete Problem\n",
        "\n",
        "\n",
        "### Abstract: \n",
        "\n",
        "Concrete is the most important material in civil engineering. The concrete compressive strength (concrete strength to bear the load) is a highly nonlinear function of age and ingredients.  <br><br>\n",
        "\n",
        "<table border=\"1\"  cellpadding=\"6\" bordercolor=\"red\">\n",
        "\t<tbody>\n",
        "        <tr>\n",
        "\t\t<td bgcolor=\"#DDEEFF\"><p class=\"normal\"><b>Data Set Characteristics:&nbsp;&nbsp;</b></p></td>\n",
        "\t\t<td><p class=\"normal\">Multivariate</p></td>\n",
        "\t\t<td bgcolor=\"#DDEEFF\"><p class=\"normal\"><b>Number of Instances:</b></p></td>\n",
        "\t\t<td><p class=\"normal\">1030</p></td>\n",
        "\t\t<td bgcolor=\"#DDEEFF\"><p class=\"normal\"><b>Area:</b></p></td>\n",
        "\t\t<td><p class=\"normal\">Physical</p></td>\n",
        "        </tr>\n",
        "     </tbody>\n",
        "    </table>\n",
        "<table border=\"1\" cellpadding=\"6\">\n",
        "    <tbody>\n",
        "        <tr>\n",
        "            <td bgcolor=\"#DDEEFF\"><p class=\"normal\"><b>Attribute Characteristics:</b></p></td>\n",
        "            <td><p class=\"normal\">Real</p></td>\n",
        "            <td bgcolor=\"#DDEEFF\"><p class=\"normal\"><b>Number of Attributes:</b></p></td>\n",
        "            <td><p class=\"normal\">9</p></td>\n",
        "            <td bgcolor=\"#DDEEFF\"><p class=\"normal\"><b>Date Donated</b></p></td>\n",
        "            <td><p class=\"normal\">2007-08-03</p></td>\n",
        "        </tr>\n",
        "     </tbody>\n",
        "    </table>\n",
        "<table border=\"1\" cellpadding=\"6\">\t\n",
        "    <tbody>\n",
        "    <tr>\n",
        "\t\t<td bgcolor=\"#DDEEFF\"><p class=\"normal\"><b>Associated Tasks:</b></p></td>\n",
        "\t\t<td><p class=\"normal\">Regression</p></td>\n",
        "\t\t<td bgcolor=\"#DDEEFF\"><p class=\"normal\"><b>Missing Values?</b></p></td>\n",
        "\t\t<td><p class=\"normal\">N/A</p></td>\n",
        "\t\t<td bgcolor=\"#DDEEFF\"><p class=\"normal\"><b>Number of Web Hits:</b></p></td>\n",
        "\t\t<td><p class=\"normal\">231464</p></td>\n",
        "\t</tr>\n",
        "    </tbody>\n",
        "    </table>"
      ]
    },
    {
      "cell_type": "markdown",
      "metadata": {
        "id": "y_u8GcsBmW5_"
      },
      "source": [
        "###  Description:\n",
        "| Features Name | Data Type | Measurement | Description |\n",
        "| -- | -- | -- | -- |\n",
        "Cement (component 1) | quantitative | kg in a m3 mixture | Input Variable\n",
        "Blast Furnace Slag (component 2) | quantitative | kg in a m3 mixture | Input Variable\n",
        "Fly Ash (component 3) | quantitative | kg in a m3 mixture | Input Variable\n",
        "Water (component 4) | quantitative | kg in a m3 mixture | Input Variable\n",
        "Superplasticizer (component 5) | quantitative | kg in a m3 mixture | Input Variable\n",
        "Coarse Aggregate (component 6) | quantitative | kg in a m3 mixture | Input Variable\n",
        "Fine Aggregate (component 7) | quantitative | kg in a m3 mixture | Input Variable\n",
        "Age | quantitative | Day (1~365) | Input Variable\n",
        "Concrete compressive strength | quantitative | MPa | Output Variable\n",
        "\n",
        "### WORKFLOW :\n",
        "- Load Data\n",
        "- Check Missing Values ( If Exist ; Fill each record with mean of its feature )\n",
        "- Standardized the Input Variables. **Hint**: Centeralized the data\n",
        "- Split into 50% Training(Samples,Labels) , 30% Test(Samples,Labels) and 20% Validation Data(Samples,Labels).\n",
        "- Model : input Layer (No. of features ), 3 hidden layers including 10,8,6 unit & Output Layer with activation function relu/tanh (check by experiment).\n",
        "- Compilation Step (Note : Its a Regression problem , select loss , metrics according to it)\n",
        "- Train the Model with Epochs (100) and validate it\n",
        "- If the model gets overfit tune your model by changing the units , No. of layers , activation function , epochs , add dropout layer or add Regularizer according to the need .\n",
        "- Evaluation Step\n",
        "- Prediction\n"
      ]
    },
    {
      "cell_type": "markdown",
      "metadata": {
        "id": "42m9opKjmW5_"
      },
      "source": [
        "# Load Data:\n",
        "[Click Here to Download DataSet](https://github.com/ramsha275/ML_Datasets/blob/main/compresive_strength_concrete.csv)"
      ]
    },
    {
      "cell_type": "code",
      "metadata": {
        "colab": {
          "resources": {
            "http://localhost:8080/nbextensions/google.colab/files.js": {
              "data": "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",
              "ok": true,
              "headers": [
                [
                  "content-type",
                  "application/javascript"
                ]
              ],
              "status": 200,
              "status_text": ""
            }
          },
          "base_uri": "https://localhost:8080/",
          "height": 73
        },
        "id": "5L7osltxmW6A",
        "outputId": "c0fe802e-225c-49b8-a666-fb83e40b6638"
      },
      "source": [
        "import pandas as pd\n",
        "import numpy as np\n",
        "# Make numpy values easier to read.\n",
        "np.set_printoptions(precision=3, suppress=True)\n",
        "import seaborn as sns\n",
        "import matplotlib.pyplot as plt\n",
        "import seaborn as sns\n",
        "import matplotlib.pyplot as plt\n",
        "from tensorflow.keras.models import Sequential\n",
        "from tensorflow.keras.layers import Dense \n",
        "from tensorflow.keras.optimizers import Adam, SGD\n",
        "import tensorflow as tf\n",
        "from tensorflow.keras import layers\n",
        "from tensorflow.keras.layers.experimental import preprocessing\n",
        "import io\n",
        "from google.colab import files\n",
        "#i tried my best but am only able to make upload file work all other ways were not working on google colab\n",
        "uploaded = files.upload()"
      ],
      "execution_count": null,
      "outputs": [
        {
          "output_type": "display_data",
          "data": {
            "text/html": [
              "\n",
              "     <input type=\"file\" id=\"files-95df2620-fc6f-445b-854a-e3262ece6909\" name=\"files[]\" multiple disabled\n",
              "        style=\"border:none\" />\n",
              "     <output id=\"result-95df2620-fc6f-445b-854a-e3262ece6909\">\n",
              "      Upload widget is only available when the cell has been executed in the\n",
              "      current browser session. Please rerun this cell to enable.\n",
              "      </output>\n",
              "      <script src=\"/nbextensions/google.colab/files.js\"></script> "
            ],
            "text/plain": [
              "<IPython.core.display.HTML object>"
            ]
          },
          "metadata": {
            "tags": []
          }
        },
        {
          "output_type": "stream",
          "text": [
            "Saving compresive_strength_concrete.csv to compresive_strength_concrete (2).csv\n"
          ],
          "name": "stdout"
        }
      ]
    },
    {
      "cell_type": "code",
      "metadata": {
        "colab": {
          "base_uri": "https://localhost:8080/",
          "height": 452
        },
        "id": "TukGMdxEnVbE",
        "outputId": "ea6bf2b4-0d85-49bb-abee-b7236312591e"
      },
      "source": [
        "data_to_train = pd.read_csv(io.BytesIO(uploaded['compresive_strength_concrete.csv']))\n",
        "\n",
        "data_to_train"
      ],
      "execution_count": null,
      "outputs": [
        {
          "output_type": "execute_result",
          "data": {
            "text/html": [
              "<div>\n",
              "<style scoped>\n",
              "    .dataframe tbody tr th:only-of-type {\n",
              "        vertical-align: middle;\n",
              "    }\n",
              "\n",
              "    .dataframe tbody tr th {\n",
              "        vertical-align: top;\n",
              "    }\n",
              "\n",
              "    .dataframe thead th {\n",
              "        text-align: right;\n",
              "    }\n",
              "</style>\n",
              "<table border=\"1\" class=\"dataframe\">\n",
              "  <thead>\n",
              "    <tr style=\"text-align: right;\">\n",
              "      <th></th>\n",
              "      <th>Cement (component 1)(kg in a m^3 mixture)</th>\n",
              "      <th>Blast Furnace Slag (component 2)(kg in a m^3 mixture)</th>\n",
              "      <th>Fly Ash (component 3)(kg in a m^3 mixture)</th>\n",
              "      <th>Water  (component 4)(kg in a m^3 mixture)</th>\n",
              "      <th>Superplasticizer (component 5)(kg in a m^3 mixture)</th>\n",
              "      <th>Coarse Aggregate  (component 6)(kg in a m^3 mixture)</th>\n",
              "      <th>Fine Aggregate (component 7)(kg in a m^3 mixture)</th>\n",
              "      <th>Age (day)</th>\n",
              "      <th>Concrete compressive strength(MPa, megapascals)</th>\n",
              "    </tr>\n",
              "  </thead>\n",
              "  <tbody>\n",
              "    <tr>\n",
              "      <th>0</th>\n",
              "      <td>540.0</td>\n",
              "      <td>0.0</td>\n",
              "      <td>0.0</td>\n",
              "      <td>162.0</td>\n",
              "      <td>2.5</td>\n",
              "      <td>1040.0</td>\n",
              "      <td>676.0</td>\n",
              "      <td>28</td>\n",
              "      <td>79.99</td>\n",
              "    </tr>\n",
              "    <tr>\n",
              "      <th>1</th>\n",
              "      <td>540.0</td>\n",
              "      <td>0.0</td>\n",
              "      <td>0.0</td>\n",
              "      <td>162.0</td>\n",
              "      <td>2.5</td>\n",
              "      <td>1055.0</td>\n",
              "      <td>676.0</td>\n",
              "      <td>28</td>\n",
              "      <td>61.89</td>\n",
              "    </tr>\n",
              "    <tr>\n",
              "      <th>2</th>\n",
              "      <td>332.5</td>\n",
              "      <td>142.5</td>\n",
              "      <td>0.0</td>\n",
              "      <td>228.0</td>\n",
              "      <td>0.0</td>\n",
              "      <td>932.0</td>\n",
              "      <td>594.0</td>\n",
              "      <td>270</td>\n",
              "      <td>40.27</td>\n",
              "    </tr>\n",
              "    <tr>\n",
              "      <th>3</th>\n",
              "      <td>332.5</td>\n",
              "      <td>142.5</td>\n",
              "      <td>0.0</td>\n",
              "      <td>228.0</td>\n",
              "      <td>0.0</td>\n",
              "      <td>932.0</td>\n",
              "      <td>594.0</td>\n",
              "      <td>365</td>\n",
              "      <td>41.05</td>\n",
              "    </tr>\n",
              "    <tr>\n",
              "      <th>4</th>\n",
              "      <td>198.6</td>\n",
              "      <td>132.4</td>\n",
              "      <td>0.0</td>\n",
              "      <td>192.0</td>\n",
              "      <td>0.0</td>\n",
              "      <td>978.4</td>\n",
              "      <td>825.5</td>\n",
              "      <td>360</td>\n",
              "      <td>44.30</td>\n",
              "    </tr>\n",
              "    <tr>\n",
              "      <th>...</th>\n",
              "      <td>...</td>\n",
              "      <td>...</td>\n",
              "      <td>...</td>\n",
              "      <td>...</td>\n",
              "      <td>...</td>\n",
              "      <td>...</td>\n",
              "      <td>...</td>\n",
              "      <td>...</td>\n",
              "      <td>...</td>\n",
              "    </tr>\n",
              "    <tr>\n",
              "      <th>1025</th>\n",
              "      <td>276.4</td>\n",
              "      <td>116.0</td>\n",
              "      <td>90.3</td>\n",
              "      <td>179.6</td>\n",
              "      <td>8.9</td>\n",
              "      <td>870.1</td>\n",
              "      <td>768.3</td>\n",
              "      <td>28</td>\n",
              "      <td>44.28</td>\n",
              "    </tr>\n",
              "    <tr>\n",
              "      <th>1026</th>\n",
              "      <td>322.2</td>\n",
              "      <td>0.0</td>\n",
              "      <td>115.6</td>\n",
              "      <td>196.0</td>\n",
              "      <td>10.4</td>\n",
              "      <td>817.9</td>\n",
              "      <td>813.4</td>\n",
              "      <td>28</td>\n",
              "      <td>31.18</td>\n",
              "    </tr>\n",
              "    <tr>\n",
              "      <th>1027</th>\n",
              "      <td>148.5</td>\n",
              "      <td>139.4</td>\n",
              "      <td>108.6</td>\n",
              "      <td>192.7</td>\n",
              "      <td>6.1</td>\n",
              "      <td>892.4</td>\n",
              "      <td>780.0</td>\n",
              "      <td>28</td>\n",
              "      <td>23.70</td>\n",
              "    </tr>\n",
              "    <tr>\n",
              "      <th>1028</th>\n",
              "      <td>159.1</td>\n",
              "      <td>186.7</td>\n",
              "      <td>0.0</td>\n",
              "      <td>175.6</td>\n",
              "      <td>11.3</td>\n",
              "      <td>989.6</td>\n",
              "      <td>788.9</td>\n",
              "      <td>28</td>\n",
              "      <td>32.77</td>\n",
              "    </tr>\n",
              "    <tr>\n",
              "      <th>1029</th>\n",
              "      <td>260.9</td>\n",
              "      <td>100.5</td>\n",
              "      <td>78.3</td>\n",
              "      <td>200.6</td>\n",
              "      <td>8.6</td>\n",
              "      <td>864.5</td>\n",
              "      <td>761.5</td>\n",
              "      <td>28</td>\n",
              "      <td>32.40</td>\n",
              "    </tr>\n",
              "  </tbody>\n",
              "</table>\n",
              "<p>1030 rows × 9 columns</p>\n",
              "</div>"
            ],
            "text/plain": [
              "      Cement (component 1)(kg in a m^3 mixture)  ...  Concrete compressive strength(MPa, megapascals) \n",
              "0                                         540.0  ...                                             79.99\n",
              "1                                         540.0  ...                                             61.89\n",
              "2                                         332.5  ...                                             40.27\n",
              "3                                         332.5  ...                                             41.05\n",
              "4                                         198.6  ...                                             44.30\n",
              "...                                         ...  ...                                               ...\n",
              "1025                                      276.4  ...                                             44.28\n",
              "1026                                      322.2  ...                                             31.18\n",
              "1027                                      148.5  ...                                             23.70\n",
              "1028                                      159.1  ...                                             32.77\n",
              "1029                                      260.9  ...                                             32.40\n",
              "\n",
              "[1030 rows x 9 columns]"
            ]
          },
          "metadata": {
            "tags": []
          },
          "execution_count": 78
        }
      ]
    },
    {
      "cell_type": "code",
      "metadata": {
        "colab": {
          "base_uri": "https://localhost:8080/"
        },
        "id": "MopEJfVTp4Um",
        "outputId": "37cf1f4c-b730-43b3-fc1f-0ff5d4a57cfa"
      },
      "source": [
        "data_to_train.isnull().sum()\n",
        "#no Missing value so we are not filling anything"
      ],
      "execution_count": null,
      "outputs": [
        {
          "output_type": "execute_result",
          "data": {
            "text/plain": [
              "Cement (component 1)(kg in a m^3 mixture)                0\n",
              "Blast Furnace Slag (component 2)(kg in a m^3 mixture)    0\n",
              "Fly Ash (component 3)(kg in a m^3 mixture)               0\n",
              "Water  (component 4)(kg in a m^3 mixture)                0\n",
              "Superplasticizer (component 5)(kg in a m^3 mixture)      0\n",
              "Coarse Aggregate  (component 6)(kg in a m^3 mixture)     0\n",
              "Fine Aggregate (component 7)(kg in a m^3 mixture)        0\n",
              "Age (day)                                                0\n",
              "Concrete compressive strength(MPa, megapascals)          0\n",
              "dtype: int64"
            ]
          },
          "metadata": {
            "tags": []
          },
          "execution_count": 79
        }
      ]
    },
    {
      "cell_type": "code",
      "metadata": {
        "colab": {
          "base_uri": "https://localhost:8080/"
        },
        "id": "irLPTARzTnPj",
        "outputId": "ef547634-9645-4601-83e5-9301a3ab5729"
      },
      "source": [
        "data_to_train.columns"
      ],
      "execution_count": null,
      "outputs": [
        {
          "output_type": "execute_result",
          "data": {
            "text/plain": [
              "Index(['Cement (component 1)(kg in a m^3 mixture)',\n",
              "       'Blast Furnace Slag (component 2)(kg in a m^3 mixture)',\n",
              "       'Fly Ash (component 3)(kg in a m^3 mixture)',\n",
              "       'Water  (component 4)(kg in a m^3 mixture)',\n",
              "       'Superplasticizer (component 5)(kg in a m^3 mixture)',\n",
              "       'Coarse Aggregate  (component 6)(kg in a m^3 mixture)',\n",
              "       'Fine Aggregate (component 7)(kg in a m^3 mixture)', 'Age (day)',\n",
              "       'Concrete compressive strength(MPa, megapascals) '],\n",
              "      dtype='object')"
            ]
          },
          "metadata": {
            "tags": []
          },
          "execution_count": 80
        }
      ]
    },
    {
      "cell_type": "code",
      "metadata": {
        "colab": {
          "base_uri": "https://localhost:8080/"
        },
        "id": "5co4z61Oqk2s",
        "outputId": "c1216402-c5f9-49f0-928b-5047fc17c052"
      },
      "source": [
        "data_to_train.shape\n",
        "\n",
        "x = (data_to_train.loc[:, data_to_train.columns != 'Concrete compressive strength(MPa, megapascals) '])\n",
        "y = (data_to_train.loc[:, data_to_train.columns == 'Concrete compressive strength(MPa, megapascals) '])\n",
        "train_ratio = 0.5\n",
        "validation_ratio = 0.20\n",
        "test_ratio = 0.30\n",
        "from sklearn.model_selection import train_test_split\n",
        "# train is now 50% of the entire data set\n",
        "# the _junk suffix means that we drop that variable completely\n",
        "x_train, x_test, y_train, y_test = train_test_split(x, y, test_size=1 - train_ratio)\n",
        "\n",
        "x_val, x_test, y_val, y_test = train_test_split(x_test, y_test, test_size=test_ratio/(test_ratio + validation_ratio))\n",
        "print(\"train\")\n",
        "print(x_train)\n",
        "print(\"test\")\n",
        "print(x_test)\n",
        "print(\"validation\")\n",
        "print( x_val )\n"
      ],
      "execution_count": null,
      "outputs": [
        {
          "output_type": "stream",
          "text": [
            "train\n",
            "     Cement (component 1)(kg in a m^3 mixture)  ...  Age (day)\n",
            "405                                      500.0  ...         28\n",
            "593                                      252.5  ...          7\n",
            "207                                      212.1  ...         56\n",
            "727                                      331.0  ...          7\n",
            "822                                      322.0  ...         28\n",
            "..                                         ...  ...        ...\n",
            "42                                       237.5  ...        365\n",
            "989                                      146.5  ...         28\n",
            "891                                      151.0  ...         28\n",
            "333                                      246.8  ...        100\n",
            "916                                      289.0  ...         28\n",
            "\n",
            "[515 rows x 8 columns]\n",
            "test\n",
            "      Cement (component 1)(kg in a m^3 mixture)  ...  Age (day)\n",
            "367                                       214.9  ...         56\n",
            "808                                       252.0  ...          7\n",
            "268                                       212.0  ...        100\n",
            "713                                       157.0  ...          3\n",
            "1013                                      355.9  ...         28\n",
            "...                                         ...  ...        ...\n",
            "121                                       475.0  ...         28\n",
            "735                                       349.0  ...        120\n",
            "115                                       337.9  ...          7\n",
            "387                                       520.0  ...         28\n",
            "154                                       379.5  ...         56\n",
            "\n",
            "[309 rows x 8 columns]\n",
            "validation\n",
            "      Cement (component 1)(kg in a m^3 mixture)  ...  Age (day)\n",
            "854                                       287.0  ...         28\n",
            "341                                       297.2  ...         28\n",
            "374                                       376.0  ...          3\n",
            "104                                       318.8  ...          7\n",
            "736                                       238.0  ...          7\n",
            "...                                         ...  ...        ...\n",
            "590                                       238.1  ...          7\n",
            "964                                       143.7  ...         28\n",
            "1027                                      148.5  ...         28\n",
            "263                                       212.6  ...        100\n",
            "932                                       154.0  ...         28\n",
            "\n",
            "[206 rows x 8 columns]\n"
          ],
          "name": "stdout"
        }
      ]
    },
    {
      "cell_type": "code",
      "metadata": {
        "id": "UjzBqToYUO2r"
      },
      "source": [
        "# Normalizing the data\n",
        "\n",
        "mean = x_train.mean(axis=0)\n",
        "x_train -= mean\n",
        "\n",
        "std = x_train.std(axis=0)\n",
        "\n",
        "x_train /= std\n",
        "x_test -= mean\n",
        "x_test /= std"
      ],
      "execution_count": null,
      "outputs": []
    },
    {
      "cell_type": "code",
      "metadata": {
        "colab": {
          "base_uri": "https://localhost:8080/"
        },
        "id": "1lNz52oBU17t",
        "outputId": "030b077e-c70d-4ef2-e0ed-4a0885101161"
      },
      "source": [
        "x_train.values"
      ],
      "execution_count": null,
      "outputs": [
        {
          "output_type": "execute_result",
          "data": {
            "text/plain": [
              "array([[-0.4  ,  1.981, -0.881, ..., -0.524, -2.256,  0.74 ],\n",
              "       [ 2.001, -0.547,  0.993, ..., -1.907, -0.926, -0.283],\n",
              "       [ 2.465, -0.858, -0.881, ...,  1.902, -2.015,  2.224],\n",
              "       ...,\n",
              "       [ 0.561, -0.858, -0.881, ..., -0.072,  0.112,  0.74 ],\n",
              "       [ 0.5  ,  0.846, -0.881, ..., -0.524, -2.256,  2.224],\n",
              "       [-0.4  ,  1.981, -0.881, ..., -0.524, -2.256,  2.224]])"
            ]
          },
          "metadata": {
            "tags": []
          },
          "execution_count": 37
        }
      ]
    },
    {
      "cell_type": "code",
      "metadata": {
        "id": "fISkDqAjU9y6"
      },
      "source": [
        "from tensorflow.keras import models\n",
        "from tensorflow.keras import layers\n",
        "\n",
        "def build_model():\n",
        "    model = models.Sequential()\n",
        "    model.add(layers.Dense(10, activation='relu',\n",
        "                          input_shape =(8,)))\n",
        "    model.add(layers.Dense(8, activation='relu'))\n",
        "    model.add(layers.Dense(6, activation='relu'))\n",
        "    model.add(layers.Dense(1))\n",
        "    model.compile(optimizer='rmsprop', loss='mse', metrics=['mae'])\n",
        "    return model"
      ],
      "execution_count": null,
      "outputs": []
    },
    {
      "cell_type": "code",
      "metadata": {
        "id": "wtNXKY_4VkNT"
      },
      "source": [
        "model=build_model()"
      ],
      "execution_count": null,
      "outputs": []
    },
    {
      "cell_type": "code",
      "metadata": {
        "colab": {
          "base_uri": "https://localhost:8080/"
        },
        "id": "vAAGA1VUVuCK",
        "outputId": "ee538f20-125f-4e7b-e405-6fb17974f9ec"
      },
      "source": [
        "history=model.fit(x_train,y_train,epochs=100,validation_data=(x_val, y_val))"
      ],
      "execution_count": null,
      "outputs": [
        {
          "output_type": "stream",
          "text": [
            "Epoch 1/100\n",
            "17/17 [==============================] - 1s 13ms/step - loss: 1549.9157 - mae: 35.2369 - val_loss: 13514.7490 - val_mae: 112.8901\n",
            "Epoch 2/100\n",
            "17/17 [==============================] - 0s 4ms/step - loss: 1553.0776 - mae: 35.2238 - val_loss: 37434.4961 - val_mae: 190.7587\n",
            "Epoch 3/100\n",
            "17/17 [==============================] - 0s 4ms/step - loss: 1560.4196 - mae: 35.5907 - val_loss: 73088.7109 - val_mae: 267.8338\n",
            "Epoch 4/100\n",
            "17/17 [==============================] - 0s 4ms/step - loss: 1573.2562 - mae: 35.5912 - val_loss: 124416.6641 - val_mae: 350.1696\n",
            "Epoch 5/100\n",
            "17/17 [==============================] - 0s 4ms/step - loss: 1582.3279 - mae: 35.6261 - val_loss: 196153.6875 - val_mae: 440.2794\n",
            "Epoch 6/100\n",
            "17/17 [==============================] - 0s 4ms/step - loss: 1579.1375 - mae: 35.6994 - val_loss: 289597.4375 - val_mae: 535.3549\n",
            "Epoch 7/100\n",
            "17/17 [==============================] - 0s 5ms/step - loss: 1535.0884 - mae: 34.8265 - val_loss: 415909.5000 - val_mae: 641.9929\n",
            "Epoch 8/100\n",
            "17/17 [==============================] - 0s 4ms/step - loss: 1631.9815 - mae: 35.9711 - val_loss: 574176.6250 - val_mae: 754.5677\n",
            "Epoch 9/100\n",
            "17/17 [==============================] - 0s 4ms/step - loss: 1449.0275 - mae: 33.6710 - val_loss: 776619.1875 - val_mae: 877.7834\n",
            "Epoch 10/100\n",
            "17/17 [==============================] - 0s 4ms/step - loss: 1456.5665 - mae: 33.7627 - val_loss: 1042256.1250 - val_mae: 1017.0518\n",
            "Epoch 11/100\n",
            "17/17 [==============================] - 0s 4ms/step - loss: 1400.7510 - mae: 33.1598 - val_loss: 1344721.3750 - val_mae: 1155.4468\n",
            "Epoch 12/100\n",
            "17/17 [==============================] - 0s 4ms/step - loss: 1484.2132 - mae: 34.0281 - val_loss: 1730373.0000 - val_mae: 1311.0389\n",
            "Epoch 13/100\n",
            "17/17 [==============================] - 0s 4ms/step - loss: 1300.6602 - mae: 31.4807 - val_loss: 2250880.0000 - val_mae: 1496.1693\n",
            "Epoch 14/100\n",
            "17/17 [==============================] - 0s 4ms/step - loss: 1236.4651 - mae: 30.7205 - val_loss: 2968390.2500 - val_mae: 1718.9514\n",
            "Epoch 15/100\n",
            "17/17 [==============================] - 0s 4ms/step - loss: 1218.4831 - mae: 30.3179 - val_loss: 4057064.5000 - val_mae: 2009.6368\n",
            "Epoch 16/100\n",
            "17/17 [==============================] - 0s 4ms/step - loss: 1134.2821 - mae: 28.9426 - val_loss: 5378644.5000 - val_mae: 2313.9441\n",
            "Epoch 17/100\n",
            "17/17 [==============================] - 0s 5ms/step - loss: 1020.5446 - mae: 27.1909 - val_loss: 7227264.5000 - val_mae: 2681.7778\n",
            "Epoch 18/100\n",
            "17/17 [==============================] - 0s 4ms/step - loss: 1003.4622 - mae: 26.6918 - val_loss: 9259551.0000 - val_mae: 3034.9478\n",
            "Epoch 19/100\n",
            "17/17 [==============================] - 0s 4ms/step - loss: 980.5595 - mae: 26.0302 - val_loss: 11776096.0000 - val_mae: 3421.7090\n",
            "Epoch 20/100\n",
            "17/17 [==============================] - 0s 4ms/step - loss: 925.8701 - mae: 24.8512 - val_loss: 15011417.0000 - val_mae: 3862.1445\n",
            "Epoch 21/100\n",
            "17/17 [==============================] - 0s 4ms/step - loss: 722.8009 - mae: 21.8860 - val_loss: 19142372.0000 - val_mae: 4359.8906\n",
            "Epoch 22/100\n",
            "17/17 [==============================] - 0s 4ms/step - loss: 658.8458 - mae: 20.6555 - val_loss: 23820910.0000 - val_mae: 4861.4072\n",
            "Epoch 23/100\n",
            "17/17 [==============================] - 0s 4ms/step - loss: 595.0119 - mae: 19.1637 - val_loss: 29033090.0000 - val_mae: 5364.7534\n",
            "Epoch 24/100\n",
            "17/17 [==============================] - 0s 4ms/step - loss: 517.6489 - mae: 17.6350 - val_loss: 34835840.0000 - val_mae: 5874.2441\n",
            "Epoch 25/100\n",
            "17/17 [==============================] - 0s 4ms/step - loss: 411.8575 - mae: 15.6228 - val_loss: 40733832.0000 - val_mae: 6349.0630\n",
            "Epoch 26/100\n",
            "17/17 [==============================] - 0s 4ms/step - loss: 343.6098 - mae: 14.2825 - val_loss: 48314044.0000 - val_mae: 6911.6626\n",
            "Epoch 27/100\n",
            "17/17 [==============================] - 0s 4ms/step - loss: 278.5733 - mae: 12.8592 - val_loss: 54791788.0000 - val_mae: 7358.5498\n",
            "Epoch 28/100\n",
            "17/17 [==============================] - 0s 4ms/step - loss: 270.4506 - mae: 13.1227 - val_loss: 58862352.0000 - val_mae: 7623.6572\n",
            "Epoch 29/100\n",
            "17/17 [==============================] - 0s 4ms/step - loss: 248.7365 - mae: 12.5813 - val_loss: 63824876.0000 - val_mae: 7932.6123\n",
            "Epoch 30/100\n",
            "17/17 [==============================] - 0s 4ms/step - loss: 264.2767 - mae: 12.9718 - val_loss: 63921600.0000 - val_mae: 7934.4668\n",
            "Epoch 31/100\n",
            "17/17 [==============================] - 0s 4ms/step - loss: 219.9703 - mae: 12.0117 - val_loss: 66302636.0000 - val_mae: 8074.9072\n",
            "Epoch 32/100\n",
            "17/17 [==============================] - 0s 4ms/step - loss: 236.9233 - mae: 12.8084 - val_loss: 66241336.0000 - val_mae: 8066.1396\n",
            "Epoch 33/100\n",
            "17/17 [==============================] - 0s 4ms/step - loss: 217.9699 - mae: 12.0970 - val_loss: 67408856.0000 - val_mae: 8132.3120\n",
            "Epoch 34/100\n",
            "17/17 [==============================] - 0s 4ms/step - loss: 212.2436 - mae: 11.9080 - val_loss: 65591568.0000 - val_mae: 8016.3179\n",
            "Epoch 35/100\n",
            "17/17 [==============================] - 0s 4ms/step - loss: 215.0246 - mae: 11.9304 - val_loss: 65872172.0000 - val_mae: 8028.2471\n",
            "Epoch 36/100\n",
            "17/17 [==============================] - 0s 4ms/step - loss: 201.4522 - mae: 11.6168 - val_loss: 64502332.0000 - val_mae: 7941.3721\n",
            "Epoch 37/100\n",
            "17/17 [==============================] - 0s 4ms/step - loss: 190.6672 - mae: 11.3242 - val_loss: 61776468.0000 - val_mae: 7770.5049\n",
            "Epoch 38/100\n",
            "17/17 [==============================] - 0s 4ms/step - loss: 188.5962 - mae: 11.3717 - val_loss: 60187992.0000 - val_mae: 7667.7749\n",
            "Epoch 39/100\n",
            "17/17 [==============================] - 0s 4ms/step - loss: 186.6187 - mae: 11.2602 - val_loss: 61531652.0000 - val_mae: 7749.4409\n",
            "Epoch 40/100\n",
            "17/17 [==============================] - 0s 4ms/step - loss: 186.2330 - mae: 11.2146 - val_loss: 61016452.0000 - val_mae: 7714.7642\n",
            "Epoch 41/100\n",
            "17/17 [==============================] - 0s 4ms/step - loss: 170.7466 - mae: 10.8134 - val_loss: 59824012.0000 - val_mae: 7637.1543\n",
            "Epoch 42/100\n",
            "17/17 [==============================] - 0s 3ms/step - loss: 182.7014 - mae: 11.1613 - val_loss: 58760640.0000 - val_mae: 7565.7432\n",
            "Epoch 43/100\n",
            "17/17 [==============================] - 0s 4ms/step - loss: 172.1071 - mae: 10.7891 - val_loss: 55712220.0000 - val_mae: 7366.3472\n",
            "Epoch 44/100\n",
            "17/17 [==============================] - 0s 4ms/step - loss: 171.5978 - mae: 10.8293 - val_loss: 56484964.0000 - val_mae: 7416.4873\n",
            "Epoch 45/100\n",
            "17/17 [==============================] - 0s 4ms/step - loss: 182.0729 - mae: 11.1220 - val_loss: 54544736.0000 - val_mae: 7286.7109\n",
            "Epoch 46/100\n",
            "17/17 [==============================] - 0s 4ms/step - loss: 168.4776 - mae: 10.7483 - val_loss: 54629148.0000 - val_mae: 7292.0908\n",
            "Epoch 47/100\n",
            "17/17 [==============================] - 0s 4ms/step - loss: 159.8057 - mae: 10.4652 - val_loss: 54493628.0000 - val_mae: 7281.7832\n",
            "Epoch 48/100\n",
            "17/17 [==============================] - 0s 4ms/step - loss: 170.2088 - mae: 10.7975 - val_loss: 52368320.0000 - val_mae: 7138.4028\n",
            "Epoch 49/100\n",
            "17/17 [==============================] - 0s 4ms/step - loss: 169.1859 - mae: 10.7234 - val_loss: 53901988.0000 - val_mae: 7240.5776\n",
            "Epoch 50/100\n",
            "17/17 [==============================] - 0s 4ms/step - loss: 164.6999 - mae: 10.6199 - val_loss: 51513392.0000 - val_mae: 7078.2979\n",
            "Epoch 51/100\n",
            "17/17 [==============================] - 0s 4ms/step - loss: 156.9589 - mae: 10.5312 - val_loss: 49640388.0000 - val_mae: 6948.1768\n",
            "Epoch 52/100\n",
            "17/17 [==============================] - 0s 4ms/step - loss: 151.4973 - mae: 10.1929 - val_loss: 50146004.0000 - val_mae: 6985.8447\n",
            "Epoch 53/100\n",
            "17/17 [==============================] - 0s 4ms/step - loss: 149.2176 - mae: 10.1543 - val_loss: 47860812.0000 - val_mae: 6824.3540\n",
            "Epoch 54/100\n",
            "17/17 [==============================] - 0s 4ms/step - loss: 150.5256 - mae: 10.2158 - val_loss: 48552904.0000 - val_mae: 6873.2998\n",
            "Epoch 55/100\n",
            "17/17 [==============================] - 0s 4ms/step - loss: 152.7381 - mae: 10.1194 - val_loss: 49295756.0000 - val_mae: 6926.7568\n",
            "Epoch 56/100\n",
            "17/17 [==============================] - 0s 4ms/step - loss: 151.1855 - mae: 10.1578 - val_loss: 47250044.0000 - val_mae: 6782.6030\n",
            "Epoch 57/100\n",
            "17/17 [==============================] - 0s 4ms/step - loss: 151.0790 - mae: 10.2419 - val_loss: 48584864.0000 - val_mae: 6879.4229\n",
            "Epoch 58/100\n",
            "17/17 [==============================] - 0s 4ms/step - loss: 144.2646 - mae: 9.9090 - val_loss: 46534064.0000 - val_mae: 6733.3755\n",
            "Epoch 59/100\n",
            "17/17 [==============================] - 0s 4ms/step - loss: 143.6490 - mae: 9.7917 - val_loss: 47837568.0000 - val_mae: 6827.2905\n",
            "Epoch 60/100\n",
            "17/17 [==============================] - 0s 4ms/step - loss: 139.6229 - mae: 9.7658 - val_loss: 48569284.0000 - val_mae: 6880.6006\n",
            "Epoch 61/100\n",
            "17/17 [==============================] - 0s 4ms/step - loss: 145.9860 - mae: 10.0056 - val_loss: 46120024.0000 - val_mae: 6705.8853\n",
            "Epoch 62/100\n",
            "17/17 [==============================] - 0s 4ms/step - loss: 131.8503 - mae: 9.4391 - val_loss: 46463116.0000 - val_mae: 6732.0474\n",
            "Epoch 63/100\n",
            "17/17 [==============================] - 0s 4ms/step - loss: 148.2682 - mae: 10.1040 - val_loss: 45746916.0000 - val_mae: 6680.3828\n",
            "Epoch 64/100\n",
            "17/17 [==============================] - 0s 4ms/step - loss: 153.2678 - mae: 10.1341 - val_loss: 45898900.0000 - val_mae: 6694.3354\n",
            "Epoch 65/100\n",
            "17/17 [==============================] - 0s 4ms/step - loss: 147.3821 - mae: 10.2379 - val_loss: 46657352.0000 - val_mae: 6750.8901\n",
            "Epoch 66/100\n",
            "17/17 [==============================] - 0s 4ms/step - loss: 145.2908 - mae: 10.0107 - val_loss: 45431304.0000 - val_mae: 6661.6045\n",
            "Epoch 67/100\n",
            "17/17 [==============================] - 0s 4ms/step - loss: 133.3696 - mae: 9.5107 - val_loss: 45275532.0000 - val_mae: 6650.7354\n",
            "Epoch 68/100\n",
            "17/17 [==============================] - 0s 4ms/step - loss: 129.8764 - mae: 9.4170 - val_loss: 43167096.0000 - val_mae: 6493.6704\n",
            "Epoch 69/100\n",
            "17/17 [==============================] - 0s 4ms/step - loss: 140.0016 - mae: 9.9853 - val_loss: 43927752.0000 - val_mae: 6551.9951\n",
            "Epoch 70/100\n",
            "17/17 [==============================] - 0s 4ms/step - loss: 134.0517 - mae: 9.5554 - val_loss: 45036992.0000 - val_mae: 6636.4668\n",
            "Epoch 71/100\n",
            "17/17 [==============================] - 0s 4ms/step - loss: 129.6164 - mae: 9.3233 - val_loss: 43148628.0000 - val_mae: 6497.7109\n",
            "Epoch 72/100\n",
            "17/17 [==============================] - 0s 4ms/step - loss: 140.6018 - mae: 9.7803 - val_loss: 44114048.0000 - val_mae: 6571.2217\n",
            "Epoch 73/100\n",
            "17/17 [==============================] - 0s 4ms/step - loss: 127.8755 - mae: 9.3746 - val_loss: 42903388.0000 - val_mae: 6481.3550\n",
            "Epoch 74/100\n",
            "17/17 [==============================] - 0s 4ms/step - loss: 128.1977 - mae: 9.4666 - val_loss: 42868936.0000 - val_mae: 6480.6221\n",
            "Epoch 75/100\n",
            "17/17 [==============================] - 0s 4ms/step - loss: 137.8940 - mae: 9.7179 - val_loss: 44384420.0000 - val_mae: 6595.1357\n",
            "Epoch 76/100\n",
            "17/17 [==============================] - 0s 4ms/step - loss: 131.7686 - mae: 9.4121 - val_loss: 45188420.0000 - val_mae: 6654.4370\n",
            "Epoch 77/100\n",
            "17/17 [==============================] - 0s 4ms/step - loss: 124.9487 - mae: 9.2324 - val_loss: 44482404.0000 - val_mae: 6603.4448\n",
            "Epoch 78/100\n",
            "17/17 [==============================] - 0s 4ms/step - loss: 129.2302 - mae: 9.2732 - val_loss: 42805496.0000 - val_mae: 6478.5527\n",
            "Epoch 79/100\n",
            "17/17 [==============================] - 0s 4ms/step - loss: 125.3884 - mae: 9.2322 - val_loss: 42987068.0000 - val_mae: 6492.3730\n",
            "Epoch 80/100\n",
            "17/17 [==============================] - 0s 4ms/step - loss: 129.3531 - mae: 9.4880 - val_loss: 44422116.0000 - val_mae: 6600.7480\n",
            "Epoch 81/100\n",
            "17/17 [==============================] - 0s 4ms/step - loss: 128.4582 - mae: 9.2791 - val_loss: 44844264.0000 - val_mae: 6632.4272\n",
            "Epoch 82/100\n",
            "17/17 [==============================] - 0s 5ms/step - loss: 124.4477 - mae: 9.2895 - val_loss: 43563008.0000 - val_mae: 6537.2451\n",
            "Epoch 83/100\n",
            "17/17 [==============================] - 0s 4ms/step - loss: 142.0088 - mae: 9.8605 - val_loss: 41884368.0000 - val_mae: 6410.2310\n",
            "Epoch 84/100\n",
            "17/17 [==============================] - 0s 4ms/step - loss: 132.3233 - mae: 9.4486 - val_loss: 40901352.0000 - val_mae: 6334.1606\n",
            "Epoch 85/100\n",
            "17/17 [==============================] - 0s 4ms/step - loss: 128.0531 - mae: 9.3503 - val_loss: 41694604.0000 - val_mae: 6396.4497\n",
            "Epoch 86/100\n",
            "17/17 [==============================] - 0s 4ms/step - loss: 128.9442 - mae: 9.2922 - val_loss: 41413524.0000 - val_mae: 6375.0132\n",
            "Epoch 87/100\n",
            "17/17 [==============================] - 0s 4ms/step - loss: 117.6546 - mae: 9.0242 - val_loss: 41654496.0000 - val_mae: 6395.1831\n",
            "Epoch 88/100\n",
            "17/17 [==============================] - 0s 5ms/step - loss: 126.8344 - mae: 9.2701 - val_loss: 42704796.0000 - val_mae: 6476.0020\n",
            "Epoch 89/100\n",
            "17/17 [==============================] - 0s 4ms/step - loss: 121.2575 - mae: 9.1057 - val_loss: 43747896.0000 - val_mae: 6555.7109\n",
            "Epoch 90/100\n",
            "17/17 [==============================] - 0s 4ms/step - loss: 131.5482 - mae: 9.4416 - val_loss: 43446604.0000 - val_mae: 6533.7134\n",
            "Epoch 91/100\n",
            "17/17 [==============================] - 0s 4ms/step - loss: 119.7440 - mae: 9.0655 - val_loss: 42481600.0000 - val_mae: 6462.1904\n",
            "Epoch 92/100\n",
            "17/17 [==============================] - 0s 4ms/step - loss: 120.4468 - mae: 9.0904 - val_loss: 42895052.0000 - val_mae: 6494.3716\n",
            "Epoch 93/100\n",
            "17/17 [==============================] - 0s 4ms/step - loss: 118.3764 - mae: 8.8734 - val_loss: 43426672.0000 - val_mae: 6536.9644\n",
            "Epoch 94/100\n",
            "17/17 [==============================] - 0s 4ms/step - loss: 128.4831 - mae: 9.3833 - val_loss: 44855712.0000 - val_mae: 6644.5273\n",
            "Epoch 95/100\n",
            "17/17 [==============================] - 0s 4ms/step - loss: 127.7963 - mae: 9.4074 - val_loss: 44173412.0000 - val_mae: 6595.2568\n",
            "Epoch 96/100\n",
            "17/17 [==============================] - 0s 4ms/step - loss: 128.8923 - mae: 9.3713 - val_loss: 44530948.0000 - val_mae: 6622.0405\n",
            "Epoch 97/100\n",
            "17/17 [==============================] - 0s 4ms/step - loss: 124.7948 - mae: 9.1841 - val_loss: 43330912.0000 - val_mae: 6532.4990\n",
            "Epoch 98/100\n",
            "17/17 [==============================] - 0s 4ms/step - loss: 131.3146 - mae: 9.5102 - val_loss: 43886456.0000 - val_mae: 6575.0981\n",
            "Epoch 99/100\n",
            "17/17 [==============================] - 0s 4ms/step - loss: 125.3355 - mae: 9.2362 - val_loss: 44950964.0000 - val_mae: 6653.7158\n",
            "Epoch 100/100\n",
            "17/17 [==============================] - 0s 4ms/step - loss: 121.3028 - mae: 9.0988 - val_loss: 45864116.0000 - val_mae: 6721.0684\n"
          ],
          "name": "stdout"
        }
      ]
    },
    {
      "cell_type": "code",
      "metadata": {
        "id": "NsYxJcE_V1q0"
      },
      "source": [
        "y_pred = model.predict(x_test)\n"
      ],
      "execution_count": null,
      "outputs": []
    },
    {
      "cell_type": "code",
      "metadata": {
        "id": "biCXMg_qsuDQ"
      },
      "source": [
        "# evaluate the model\n",
        "scores = model.evaluate(x_train, y_train)\n",
        "print(\"%s: %.2f%%\" % (model.metrics_names[1], scores[1]))\n",
        "# evaluate the model\n",
        "scores = model.evaluate(x_test, y_test)\n",
        "print(\"%s: %.2f%%\" % (model.metrics_names[1], scores[1]))"
      ],
      "execution_count": null,
      "outputs": []
    },
    {
      "cell_type": "code",
      "metadata": {
        "colab": {
          "base_uri": "https://localhost:8080/",
          "height": 295
        },
        "id": "VuUlRz-3ceRa",
        "outputId": "9730163b-e797-4255-a4d8-886cf35ec08c"
      },
      "source": [
        "#Plotting the training and validation loss\n",
        "import matplotlib.pyplot as plt\n",
        "loss = history.history['loss']\n",
        "val_loss = history.history['val_loss']\n",
        "epochs = range(1, len(loss) + 1)\n",
        "plt.plot(epochs, loss, 'bo', label='Training loss')\n",
        "plt.plot(epochs, val_loss, 'b', label='Validation loss')\n",
        "plt.title('Training and validation loss')\n",
        "plt.xlabel('Epochs')\n",
        "plt.ylabel('Loss')\n",
        "plt.legend()\n",
        "plt.show()"
      ],
      "execution_count": null,
      "outputs": [
        {
          "output_type": "display_data",
          "data": {
            "image/png": "[encoded data removed]",
            "text/plain": [
              "<Figure size 432x288 with 1 Axes>"
            ]
          },
          "metadata": {
            "tags": [],
            "needs_background": "light"
          }
        }
      ]
    },
    {
      "cell_type": "code",
      "metadata": {
        "colab": {
          "base_uri": "https://localhost:8080/",
          "height": 295
        },
        "id": "RHP5ijJ8huz7",
        "outputId": "62ba52a4-748d-4722-fbed-06069a47ddde"
      },
      "source": [
        "#Plotting the training and validation accuracy\n",
        "plt.clf()\n",
        "acc = history.history['mae']\n",
        "val_acc = history.history['val_mae']\n",
        "plt.plot(epochs, acc, 'bo', label='Training acc')\n",
        "plt.plot(epochs, val_acc, 'b', label='Validation acc')\n",
        "plt.title('Training and validation accuracy')\n",
        "plt.xlabel('Epochs')\n",
        "plt.ylabel('Loss')\n",
        "plt.legend()\n",
        "plt.show()"
      ],
      "execution_count": null,
      "outputs": [
        {
          "output_type": "display_data",
          "data": {
            "image/png": "[encoded data removed]",
            "text/plain": [
              "<Figure size 432x288 with 1 Axes>"
            ]
          },
          "metadata": {
            "tags": [],
            "needs_background": "light"
          }
        }
      ]
    }
  ]
}